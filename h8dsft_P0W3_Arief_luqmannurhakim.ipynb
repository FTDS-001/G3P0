{
  "nbformat": 4,
  "nbformat_minor": 0,
  "metadata": {
    "colab": {
      "name": "h8dsft_P0W3_Arief_luqmannurhakim.ipynb",
      "provenance": [],
      "collapsed_sections": [
        "uDpBLvrslEXO",
        "8s3hrjYtlI3m"
      ]
    },
    "kernelspec": {
      "name": "python3",
      "display_name": "Python 3"
    },
    "language_info": {
      "name": "python"
    }
  },
  "cells": [
    {
      "cell_type": "markdown",
      "metadata": {
        "id": "QrAKlJZmk4hu"
      },
      "source": [
        "# Graded Challenge 3\n",
        "---\n",
        "> Arief Luqmannurhakim\n",
        ">\n",
        "> Batch 001 -- FTDS"
      ]
    },
    {
      "cell_type": "markdown",
      "metadata": {
        "id": "uDpBLvrslEXO"
      },
      "source": [
        "# Download Datasets\n",
        "---"
      ]
    },
    {
      "cell_type": "code",
      "metadata": {
        "id": "mYr8vhILhkVW"
      },
      "source": [
        "! pip install -q kaggle"
      ],
      "execution_count": 1,
      "outputs": []
    },
    {
      "cell_type": "code",
      "metadata": {
        "colab": {
          "resources": {
            "http://localhost:8080/nbextensions/google.colab/files.js": {
              "data": "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",
              "ok": true,
              "headers": [
                [
                  "content-type",
                  "application/javascript"
                ]
              ],
              "status": 200,
              "status_text": ""
            }
          },
          "base_uri": "https://localhost:8080/",
          "height": 91
        },
        "id": "9DWLboBTimPX",
        "outputId": "e3239124-0f41-4ed8-da2b-330a2bdef870"
      },
      "source": [
        "from google.colab import files\n",
        "files.upload()"
      ],
      "execution_count": 2,
      "outputs": [
        {
          "output_type": "display_data",
          "data": {
            "text/html": [
              "\n",
              "     <input type=\"file\" id=\"files-263f75b1-c3cb-4f19-ad80-efad7ac7f69d\" name=\"files[]\" multiple disabled\n",
              "        style=\"border:none\" />\n",
              "     <output id=\"result-263f75b1-c3cb-4f19-ad80-efad7ac7f69d\">\n",
              "      Upload widget is only available when the cell has been executed in the\n",
              "      current browser session. Please rerun this cell to enable.\n",
              "      </output>\n",
              "      <script src=\"/nbextensions/google.colab/files.js\"></script> "
            ],
            "text/plain": [
              "<IPython.core.display.HTML object>"
            ]
          },
          "metadata": {
            "tags": []
          }
        },
        {
          "output_type": "stream",
          "text": [
            "Saving kaggle.json to kaggle.json\n"
          ],
          "name": "stdout"
        },
        {
          "output_type": "execute_result",
          "data": {
            "text/plain": [
              "{'kaggle.json': b'{\"username\":\"nelrickeine\",\"key\":\"0f603eceb6345956a665633e2947a56f\"}'}"
            ]
          },
          "metadata": {
            "tags": []
          },
          "execution_count": 2
        }
      ]
    },
    {
      "cell_type": "code",
      "metadata": {
        "colab": {
          "base_uri": "https://localhost:8080/"
        },
        "id": "vCBkLarVioQD",
        "outputId": "6bb1da4a-ef72-4417-d998-f15475100ad2"
      },
      "source": [
        "! mkdir ~/.kaggle\n",
        "! cp kaggle.json ~/.kaggle/\n",
        "! chmod 600 ~/.kaggle/kaggle.json\n",
        "! kaggle datasets list"
      ],
      "execution_count": 3,
      "outputs": [
        {
          "output_type": "stream",
          "text": [
            "Warning: Looks like you're using an outdated API Version, please consider updating (server 1.5.12 / client 1.5.4)\n",
            "ref                                                         title                                              size  lastUpdated          downloadCount  \n",
            "----------------------------------------------------------  ------------------------------------------------  -----  -------------------  -------------  \n",
            "gpreda/reddit-vaccine-myths                                 Reddit Vaccine Myths                              234KB  2021-07-20 07:51:04           9618  \n",
            "crowww/a-large-scale-fish-dataset                           A Large Scale Fish Dataset                          3GB  2021-04-28 17:03:01           5858  \n",
            "imsparsh/musicnet-dataset                                   MusicNet Dataset                                   22GB  2021-02-18 14:12:19           2171  \n",
            "dhruvildave/wikibooks-dataset                               Wikibooks Dataset                                   2GB  2021-07-03 18:37:20           2466  \n",
            "promptcloud/careerbuilder-job-listing-2020                  Careerbuilder Job Listing 2020                     42MB  2021-03-05 06:59:52           1415  \n",
            "fatiimaezzahra/famous-iconic-women                          Famous Iconic Women                               838MB  2021-02-28 14:56:00            983  \n",
            "nickuzmenkov/nih-chest-xrays-tfrecords                      NIH Chest X-rays TFRecords                         11GB  2021-03-09 04:49:23            794  \n",
            "alsgroup/end-als                                            End ALS Kaggle Challenge                           12GB  2021-04-08 12:16:37            796  \n",
            "coloradokb/dandelionimages                                  DandelionImages                                     4GB  2021-02-19 20:03:47            693  \n",
            "mathurinache/twitter-edge-nodes                             Twitter Edge Nodes                                342MB  2021-03-08 06:43:04            651  \n",
            "simiotic/github-code-snippets                               GitHub Code Snippets                                7GB  2021-03-03 11:34:39            230  \n",
            "mathurinache/the-lj-speech-dataset                          The LJ Speech Dataset                               3GB  2021-02-15 09:19:54            244  \n",
            "stuartjames/lights                                          LightS: Light Specularity Dataset                  18GB  2021-02-18 14:32:26             95  \n",
            "landrykezebou/lvzhdr-tone-mapping-benchmark-dataset-tmonet  LVZ-HDR Tone Mapping Benchmark Dataset (TMO-Net)   24GB  2021-03-01 05:03:40            162  \n",
            "nickuzmenkov/ranzcr-clip-kfold-tfrecords                    RANZCR CLiP KFold TFRecords                         2GB  2021-02-21 13:29:51            106  \n",
            "imsparsh/accentdb-core-extended                             AccentDB - Core & Extended                          6GB  2021-02-17 14:22:54             96  \n",
            "datasnaek/youtube-new                                       Trending YouTube Video Statistics                 201MB  2019-06-03 00:56:47         145047  \n",
            "zynicide/wine-reviews                                       Wine Reviews                                       51MB  2017-11-27 17:08:04         140562  \n",
            "residentmario/ramen-ratings                                 Ramen Ratings                                      40KB  2018-01-11 16:04:39          25092  \n",
            "datasnaek/chess                                             Chess Game Dataset (Lichess)                        3MB  2017-09-04 03:09:09          20093  \n"
          ],
          "name": "stdout"
        }
      ]
    },
    {
      "cell_type": "code",
      "metadata": {
        "colab": {
          "base_uri": "https://localhost:8080/"
        },
        "id": "cKN18sWHivWZ",
        "outputId": "a83a85cd-6cfb-4977-9f16-c39b7fe00c64"
      },
      "source": [
        "!kaggle datasets download -d kemical/kickstarter-projects"
      ],
      "execution_count": 5,
      "outputs": [
        {
          "output_type": "stream",
          "text": [
            "Downloading kickstarter-projects.zip to /content\n",
            " 65% 24.0M/36.8M [00:00<00:00, 107MB/s] \n",
            "100% 36.8M/36.8M [00:00<00:00, 123MB/s]\n"
          ],
          "name": "stdout"
        }
      ]
    },
    {
      "cell_type": "markdown",
      "metadata": {
        "id": "8s3hrjYtlI3m"
      },
      "source": [
        "# Import Libraries\n",
        "---"
      ]
    },
    {
      "cell_type": "code",
      "metadata": {
        "id": "GUe2kZxXktHo"
      },
      "source": [
        "import pandas as pd\n",
        "import numpy as np\n",
        "import matplotlib.pyplot as plt\n",
        "import seaborn as sns\n",
        "from scipy import stats\n",
        "import math"
      ],
      "execution_count": 270,
      "outputs": []
    },
    {
      "cell_type": "markdown",
      "metadata": {
        "id": "IlxCWh9BlPQW"
      },
      "source": [
        "# Read dataset\n",
        "---\n",
        "> Check columns information first"
      ]
    },
    {
      "cell_type": "code",
      "metadata": {
        "colab": {
          "base_uri": "https://localhost:8080/",
          "height": 901
        },
        "id": "lGxYwii-lR5w",
        "outputId": "665765b2-cf7f-4a06-f20b-bcc880cff211"
      },
      "source": [
        "df = pd.read_csv('ks-projects-201801.csv', nrows=10)\n",
        "df"
      ],
      "execution_count": 59,
      "outputs": [
        {
          "output_type": "execute_result",
          "data": {
            "text/html": [
              "<div>\n",
              "<style scoped>\n",
              "    .dataframe tbody tr th:only-of-type {\n",
              "        vertical-align: middle;\n",
              "    }\n",
              "\n",
              "    .dataframe tbody tr th {\n",
              "        vertical-align: top;\n",
              "    }\n",
              "\n",
              "    .dataframe thead th {\n",
              "        text-align: right;\n",
              "    }\n",
              "</style>\n",
              "<table border=\"1\" class=\"dataframe\">\n",
              "  <thead>\n",
              "    <tr style=\"text-align: right;\">\n",
              "      <th></th>\n",
              "      <th>ID</th>\n",
              "      <th>name</th>\n",
              "      <th>category</th>\n",
              "      <th>main_category</th>\n",
              "      <th>currency</th>\n",
              "      <th>deadline</th>\n",
              "      <th>goal</th>\n",
              "      <th>launched</th>\n",
              "      <th>pledged</th>\n",
              "      <th>state</th>\n",
              "      <th>backers</th>\n",
              "      <th>country</th>\n",
              "      <th>usd pledged</th>\n",
              "      <th>usd_pledged_real</th>\n",
              "      <th>usd_goal_real</th>\n",
              "    </tr>\n",
              "  </thead>\n",
              "  <tbody>\n",
              "    <tr>\n",
              "      <th>0</th>\n",
              "      <td>1000002330</td>\n",
              "      <td>The Songs of Adelaide &amp; Abullah</td>\n",
              "      <td>Poetry</td>\n",
              "      <td>Publishing</td>\n",
              "      <td>GBP</td>\n",
              "      <td>2015-10-09</td>\n",
              "      <td>1000.0</td>\n",
              "      <td>2015-08-11 12:12:28</td>\n",
              "      <td>0.00</td>\n",
              "      <td>failed</td>\n",
              "      <td>0</td>\n",
              "      <td>GB</td>\n",
              "      <td>0.00</td>\n",
              "      <td>0.00</td>\n",
              "      <td>1533.95</td>\n",
              "    </tr>\n",
              "    <tr>\n",
              "      <th>1</th>\n",
              "      <td>1000003930</td>\n",
              "      <td>Greeting From Earth: ZGAC Arts Capsule For ET</td>\n",
              "      <td>Narrative Film</td>\n",
              "      <td>Film &amp; Video</td>\n",
              "      <td>USD</td>\n",
              "      <td>2017-11-01</td>\n",
              "      <td>30000.0</td>\n",
              "      <td>2017-09-02 04:43:57</td>\n",
              "      <td>2421.00</td>\n",
              "      <td>failed</td>\n",
              "      <td>15</td>\n",
              "      <td>US</td>\n",
              "      <td>100.00</td>\n",
              "      <td>2421.00</td>\n",
              "      <td>30000.00</td>\n",
              "    </tr>\n",
              "    <tr>\n",
              "      <th>2</th>\n",
              "      <td>1000004038</td>\n",
              "      <td>Where is Hank?</td>\n",
              "      <td>Narrative Film</td>\n",
              "      <td>Film &amp; Video</td>\n",
              "      <td>USD</td>\n",
              "      <td>2013-02-26</td>\n",
              "      <td>45000.0</td>\n",
              "      <td>2013-01-12 00:20:50</td>\n",
              "      <td>220.00</td>\n",
              "      <td>failed</td>\n",
              "      <td>3</td>\n",
              "      <td>US</td>\n",
              "      <td>220.00</td>\n",
              "      <td>220.00</td>\n",
              "      <td>45000.00</td>\n",
              "    </tr>\n",
              "    <tr>\n",
              "      <th>3</th>\n",
              "      <td>1000007540</td>\n",
              "      <td>ToshiCapital Rekordz Needs Help to Complete Album</td>\n",
              "      <td>Music</td>\n",
              "      <td>Music</td>\n",
              "      <td>USD</td>\n",
              "      <td>2012-04-16</td>\n",
              "      <td>5000.0</td>\n",
              "      <td>2012-03-17 03:24:11</td>\n",
              "      <td>1.00</td>\n",
              "      <td>failed</td>\n",
              "      <td>1</td>\n",
              "      <td>US</td>\n",
              "      <td>1.00</td>\n",
              "      <td>1.00</td>\n",
              "      <td>5000.00</td>\n",
              "    </tr>\n",
              "    <tr>\n",
              "      <th>4</th>\n",
              "      <td>1000011046</td>\n",
              "      <td>Community Film Project: The Art of Neighborhoo...</td>\n",
              "      <td>Film &amp; Video</td>\n",
              "      <td>Film &amp; Video</td>\n",
              "      <td>USD</td>\n",
              "      <td>2015-08-29</td>\n",
              "      <td>19500.0</td>\n",
              "      <td>2015-07-04 08:35:03</td>\n",
              "      <td>1283.00</td>\n",
              "      <td>canceled</td>\n",
              "      <td>14</td>\n",
              "      <td>US</td>\n",
              "      <td>1283.00</td>\n",
              "      <td>1283.00</td>\n",
              "      <td>19500.00</td>\n",
              "    </tr>\n",
              "    <tr>\n",
              "      <th>5</th>\n",
              "      <td>1000014025</td>\n",
              "      <td>Monarch Espresso Bar</td>\n",
              "      <td>Restaurants</td>\n",
              "      <td>Food</td>\n",
              "      <td>USD</td>\n",
              "      <td>2016-04-01</td>\n",
              "      <td>50000.0</td>\n",
              "      <td>2016-02-26 13:38:27</td>\n",
              "      <td>52375.00</td>\n",
              "      <td>successful</td>\n",
              "      <td>224</td>\n",
              "      <td>US</td>\n",
              "      <td>52375.00</td>\n",
              "      <td>52375.00</td>\n",
              "      <td>50000.00</td>\n",
              "    </tr>\n",
              "    <tr>\n",
              "      <th>6</th>\n",
              "      <td>1000023410</td>\n",
              "      <td>Support Solar Roasted Coffee &amp; Green Energy!  ...</td>\n",
              "      <td>Food</td>\n",
              "      <td>Food</td>\n",
              "      <td>USD</td>\n",
              "      <td>2014-12-21</td>\n",
              "      <td>1000.0</td>\n",
              "      <td>2014-12-01 18:30:44</td>\n",
              "      <td>1205.00</td>\n",
              "      <td>successful</td>\n",
              "      <td>16</td>\n",
              "      <td>US</td>\n",
              "      <td>1205.00</td>\n",
              "      <td>1205.00</td>\n",
              "      <td>1000.00</td>\n",
              "    </tr>\n",
              "    <tr>\n",
              "      <th>7</th>\n",
              "      <td>1000030581</td>\n",
              "      <td>Chaser Strips. Our Strips make Shots their B*tch!</td>\n",
              "      <td>Drinks</td>\n",
              "      <td>Food</td>\n",
              "      <td>USD</td>\n",
              "      <td>2016-03-17</td>\n",
              "      <td>25000.0</td>\n",
              "      <td>2016-02-01 20:05:12</td>\n",
              "      <td>453.00</td>\n",
              "      <td>failed</td>\n",
              "      <td>40</td>\n",
              "      <td>US</td>\n",
              "      <td>453.00</td>\n",
              "      <td>453.00</td>\n",
              "      <td>25000.00</td>\n",
              "    </tr>\n",
              "    <tr>\n",
              "      <th>8</th>\n",
              "      <td>1000034518</td>\n",
              "      <td>SPIN - Premium Retractable In-Ear Headphones w...</td>\n",
              "      <td>Product Design</td>\n",
              "      <td>Design</td>\n",
              "      <td>USD</td>\n",
              "      <td>2014-05-29</td>\n",
              "      <td>125000.0</td>\n",
              "      <td>2014-04-24 18:14:43</td>\n",
              "      <td>8233.00</td>\n",
              "      <td>canceled</td>\n",
              "      <td>58</td>\n",
              "      <td>US</td>\n",
              "      <td>8233.00</td>\n",
              "      <td>8233.00</td>\n",
              "      <td>125000.00</td>\n",
              "    </tr>\n",
              "    <tr>\n",
              "      <th>9</th>\n",
              "      <td>100004195</td>\n",
              "      <td>STUDIO IN THE SKY - A Documentary Feature Film...</td>\n",
              "      <td>Documentary</td>\n",
              "      <td>Film &amp; Video</td>\n",
              "      <td>USD</td>\n",
              "      <td>2014-08-10</td>\n",
              "      <td>65000.0</td>\n",
              "      <td>2014-07-11 21:55:48</td>\n",
              "      <td>6240.57</td>\n",
              "      <td>canceled</td>\n",
              "      <td>43</td>\n",
              "      <td>US</td>\n",
              "      <td>6240.57</td>\n",
              "      <td>6240.57</td>\n",
              "      <td>65000.00</td>\n",
              "    </tr>\n",
              "  </tbody>\n",
              "</table>\n",
              "</div>"
            ],
            "text/plain": [
              "           ID  ... usd_goal_real\n",
              "0  1000002330  ...       1533.95\n",
              "1  1000003930  ...      30000.00\n",
              "2  1000004038  ...      45000.00\n",
              "3  1000007540  ...       5000.00\n",
              "4  1000011046  ...      19500.00\n",
              "5  1000014025  ...      50000.00\n",
              "6  1000023410  ...       1000.00\n",
              "7  1000030581  ...      25000.00\n",
              "8  1000034518  ...     125000.00\n",
              "9   100004195  ...      65000.00\n",
              "\n",
              "[10 rows x 15 columns]"
            ]
          },
          "metadata": {
            "tags": []
          },
          "execution_count": 59
        }
      ]
    },
    {
      "cell_type": "markdown",
      "metadata": {
        "id": "hXcP-rfTdXM2"
      },
      "source": [
        "> To reduce memory, declare initial data type"
      ]
    },
    {
      "cell_type": "code",
      "metadata": {
        "id": "eHIXGO_6lkfF"
      },
      "source": [
        "cols = {}\n",
        "for col in df.columns:\n",
        "  if df[col].dtypes == 'int':\n",
        "    cols[col] = 'int32'\n",
        "  elif df[col].dtypes == 'float':\n",
        "    cols[col] = 'float32'\n",
        "  else :\n",
        "    cols[col] = 'string'"
      ],
      "execution_count": 60,
      "outputs": []
    },
    {
      "cell_type": "code",
      "metadata": {
        "id": "U9CNClePqI7U"
      },
      "source": [
        "cols['ID'] = 'string'"
      ],
      "execution_count": 73,
      "outputs": []
    },
    {
      "cell_type": "code",
      "metadata": {
        "colab": {
          "base_uri": "https://localhost:8080/"
        },
        "id": "-UlqNEBbsCzt",
        "outputId": "c14e40f5-b101-4a7d-b72d-6b4be3f739df"
      },
      "source": [
        "cols"
      ],
      "execution_count": 74,
      "outputs": [
        {
          "output_type": "execute_result",
          "data": {
            "text/plain": [
              "{'ID': 'string',\n",
              " 'backers': 'int32',\n",
              " 'category': 'string',\n",
              " 'country': 'string',\n",
              " 'currency': 'string',\n",
              " 'deadline': 'string',\n",
              " 'goal': 'float32',\n",
              " 'launched': 'string',\n",
              " 'main_category': 'string',\n",
              " 'name': 'string',\n",
              " 'pledged': 'float32',\n",
              " 'state': 'string',\n",
              " 'usd pledged': 'float32',\n",
              " 'usd_goal_real': 'float32',\n",
              " 'usd_pledged_real': 'float32'}"
            ]
          },
          "metadata": {
            "tags": []
          },
          "execution_count": 74
        }
      ]
    },
    {
      "cell_type": "markdown",
      "metadata": {
        "id": "lPxtjBPcdi1l"
      },
      "source": [
        "> Re-read csv file and use custom data type per column\n",
        ">\n",
        "> Use `chunksize` to reduce memory allocation"
      ]
    },
    {
      "cell_type": "code",
      "metadata": {
        "colab": {
          "base_uri": "https://localhost:8080/",
          "height": 910
        },
        "id": "9nEGeC7oo-VZ",
        "outputId": "f9b28e65-7c0f-439c-e645-9aa07d6a4cae"
      },
      "source": [
        "temp = []\n",
        "df = pd.read_csv('ks-projects-201801.csv', dtype=cols, chunksize=5000)\n",
        "for i in df:\n",
        "  temp.append(i)\n",
        "\n",
        "df_new = pd.concat(temp, axis=0, ignore_index=True)\n",
        "\n",
        "df_new"
      ],
      "execution_count": 75,
      "outputs": [
        {
          "output_type": "execute_result",
          "data": {
            "text/html": [
              "<div>\n",
              "<style scoped>\n",
              "    .dataframe tbody tr th:only-of-type {\n",
              "        vertical-align: middle;\n",
              "    }\n",
              "\n",
              "    .dataframe tbody tr th {\n",
              "        vertical-align: top;\n",
              "    }\n",
              "\n",
              "    .dataframe thead th {\n",
              "        text-align: right;\n",
              "    }\n",
              "</style>\n",
              "<table border=\"1\" class=\"dataframe\">\n",
              "  <thead>\n",
              "    <tr style=\"text-align: right;\">\n",
              "      <th></th>\n",
              "      <th>ID</th>\n",
              "      <th>name</th>\n",
              "      <th>category</th>\n",
              "      <th>main_category</th>\n",
              "      <th>currency</th>\n",
              "      <th>deadline</th>\n",
              "      <th>goal</th>\n",
              "      <th>launched</th>\n",
              "      <th>pledged</th>\n",
              "      <th>state</th>\n",
              "      <th>backers</th>\n",
              "      <th>country</th>\n",
              "      <th>usd pledged</th>\n",
              "      <th>usd_pledged_real</th>\n",
              "      <th>usd_goal_real</th>\n",
              "    </tr>\n",
              "  </thead>\n",
              "  <tbody>\n",
              "    <tr>\n",
              "      <th>0</th>\n",
              "      <td>1000002330</td>\n",
              "      <td>The Songs of Adelaide &amp; Abullah</td>\n",
              "      <td>Poetry</td>\n",
              "      <td>Publishing</td>\n",
              "      <td>GBP</td>\n",
              "      <td>2015-10-09</td>\n",
              "      <td>1000.0</td>\n",
              "      <td>2015-08-11 12:12:28</td>\n",
              "      <td>0.0</td>\n",
              "      <td>failed</td>\n",
              "      <td>0</td>\n",
              "      <td>GB</td>\n",
              "      <td>0.0</td>\n",
              "      <td>0.0</td>\n",
              "      <td>1533.949951</td>\n",
              "    </tr>\n",
              "    <tr>\n",
              "      <th>1</th>\n",
              "      <td>1000003930</td>\n",
              "      <td>Greeting From Earth: ZGAC Arts Capsule For ET</td>\n",
              "      <td>Narrative Film</td>\n",
              "      <td>Film &amp; Video</td>\n",
              "      <td>USD</td>\n",
              "      <td>2017-11-01</td>\n",
              "      <td>30000.0</td>\n",
              "      <td>2017-09-02 04:43:57</td>\n",
              "      <td>2421.0</td>\n",
              "      <td>failed</td>\n",
              "      <td>15</td>\n",
              "      <td>US</td>\n",
              "      <td>100.0</td>\n",
              "      <td>2421.0</td>\n",
              "      <td>30000.000000</td>\n",
              "    </tr>\n",
              "    <tr>\n",
              "      <th>2</th>\n",
              "      <td>1000004038</td>\n",
              "      <td>Where is Hank?</td>\n",
              "      <td>Narrative Film</td>\n",
              "      <td>Film &amp; Video</td>\n",
              "      <td>USD</td>\n",
              "      <td>2013-02-26</td>\n",
              "      <td>45000.0</td>\n",
              "      <td>2013-01-12 00:20:50</td>\n",
              "      <td>220.0</td>\n",
              "      <td>failed</td>\n",
              "      <td>3</td>\n",
              "      <td>US</td>\n",
              "      <td>220.0</td>\n",
              "      <td>220.0</td>\n",
              "      <td>45000.000000</td>\n",
              "    </tr>\n",
              "    <tr>\n",
              "      <th>3</th>\n",
              "      <td>1000007540</td>\n",
              "      <td>ToshiCapital Rekordz Needs Help to Complete Album</td>\n",
              "      <td>Music</td>\n",
              "      <td>Music</td>\n",
              "      <td>USD</td>\n",
              "      <td>2012-04-16</td>\n",
              "      <td>5000.0</td>\n",
              "      <td>2012-03-17 03:24:11</td>\n",
              "      <td>1.0</td>\n",
              "      <td>failed</td>\n",
              "      <td>1</td>\n",
              "      <td>US</td>\n",
              "      <td>1.0</td>\n",
              "      <td>1.0</td>\n",
              "      <td>5000.000000</td>\n",
              "    </tr>\n",
              "    <tr>\n",
              "      <th>4</th>\n",
              "      <td>1000011046</td>\n",
              "      <td>Community Film Project: The Art of Neighborhoo...</td>\n",
              "      <td>Film &amp; Video</td>\n",
              "      <td>Film &amp; Video</td>\n",
              "      <td>USD</td>\n",
              "      <td>2015-08-29</td>\n",
              "      <td>19500.0</td>\n",
              "      <td>2015-07-04 08:35:03</td>\n",
              "      <td>1283.0</td>\n",
              "      <td>canceled</td>\n",
              "      <td>14</td>\n",
              "      <td>US</td>\n",
              "      <td>1283.0</td>\n",
              "      <td>1283.0</td>\n",
              "      <td>19500.000000</td>\n",
              "    </tr>\n",
              "    <tr>\n",
              "      <th>...</th>\n",
              "      <td>...</td>\n",
              "      <td>...</td>\n",
              "      <td>...</td>\n",
              "      <td>...</td>\n",
              "      <td>...</td>\n",
              "      <td>...</td>\n",
              "      <td>...</td>\n",
              "      <td>...</td>\n",
              "      <td>...</td>\n",
              "      <td>...</td>\n",
              "      <td>...</td>\n",
              "      <td>...</td>\n",
              "      <td>...</td>\n",
              "      <td>...</td>\n",
              "      <td>...</td>\n",
              "    </tr>\n",
              "    <tr>\n",
              "      <th>378656</th>\n",
              "      <td>999976400</td>\n",
              "      <td>ChknTruk Nationwide Charity Drive 2014 (Canceled)</td>\n",
              "      <td>Documentary</td>\n",
              "      <td>Film &amp; Video</td>\n",
              "      <td>USD</td>\n",
              "      <td>2014-10-17</td>\n",
              "      <td>50000.0</td>\n",
              "      <td>2014-09-17 02:35:30</td>\n",
              "      <td>25.0</td>\n",
              "      <td>canceled</td>\n",
              "      <td>1</td>\n",
              "      <td>US</td>\n",
              "      <td>25.0</td>\n",
              "      <td>25.0</td>\n",
              "      <td>50000.000000</td>\n",
              "    </tr>\n",
              "    <tr>\n",
              "      <th>378657</th>\n",
              "      <td>999977640</td>\n",
              "      <td>The Tribe</td>\n",
              "      <td>Narrative Film</td>\n",
              "      <td>Film &amp; Video</td>\n",
              "      <td>USD</td>\n",
              "      <td>2011-07-19</td>\n",
              "      <td>1500.0</td>\n",
              "      <td>2011-06-22 03:35:14</td>\n",
              "      <td>155.0</td>\n",
              "      <td>failed</td>\n",
              "      <td>5</td>\n",
              "      <td>US</td>\n",
              "      <td>155.0</td>\n",
              "      <td>155.0</td>\n",
              "      <td>1500.000000</td>\n",
              "    </tr>\n",
              "    <tr>\n",
              "      <th>378658</th>\n",
              "      <td>999986353</td>\n",
              "      <td>Walls of Remedy- New lesbian Romantic Comedy f...</td>\n",
              "      <td>Narrative Film</td>\n",
              "      <td>Film &amp; Video</td>\n",
              "      <td>USD</td>\n",
              "      <td>2010-08-16</td>\n",
              "      <td>15000.0</td>\n",
              "      <td>2010-07-01 19:40:30</td>\n",
              "      <td>20.0</td>\n",
              "      <td>failed</td>\n",
              "      <td>1</td>\n",
              "      <td>US</td>\n",
              "      <td>20.0</td>\n",
              "      <td>20.0</td>\n",
              "      <td>15000.000000</td>\n",
              "    </tr>\n",
              "    <tr>\n",
              "      <th>378659</th>\n",
              "      <td>999987933</td>\n",
              "      <td>BioDefense Education Kit</td>\n",
              "      <td>Technology</td>\n",
              "      <td>Technology</td>\n",
              "      <td>USD</td>\n",
              "      <td>2016-02-13</td>\n",
              "      <td>15000.0</td>\n",
              "      <td>2016-01-13 18:13:53</td>\n",
              "      <td>200.0</td>\n",
              "      <td>failed</td>\n",
              "      <td>6</td>\n",
              "      <td>US</td>\n",
              "      <td>200.0</td>\n",
              "      <td>200.0</td>\n",
              "      <td>15000.000000</td>\n",
              "    </tr>\n",
              "    <tr>\n",
              "      <th>378660</th>\n",
              "      <td>999988282</td>\n",
              "      <td>Nou Renmen Ayiti!  We Love Haiti!</td>\n",
              "      <td>Performance Art</td>\n",
              "      <td>Art</td>\n",
              "      <td>USD</td>\n",
              "      <td>2011-08-16</td>\n",
              "      <td>2000.0</td>\n",
              "      <td>2011-07-19 09:07:47</td>\n",
              "      <td>524.0</td>\n",
              "      <td>failed</td>\n",
              "      <td>17</td>\n",
              "      <td>US</td>\n",
              "      <td>524.0</td>\n",
              "      <td>524.0</td>\n",
              "      <td>2000.000000</td>\n",
              "    </tr>\n",
              "  </tbody>\n",
              "</table>\n",
              "<p>378661 rows × 15 columns</p>\n",
              "</div>"
            ],
            "text/plain": [
              "                ID  ... usd_goal_real\n",
              "0       1000002330  ...   1533.949951\n",
              "1       1000003930  ...  30000.000000\n",
              "2       1000004038  ...  45000.000000\n",
              "3       1000007540  ...   5000.000000\n",
              "4       1000011046  ...  19500.000000\n",
              "...            ...  ...           ...\n",
              "378656   999976400  ...  50000.000000\n",
              "378657   999977640  ...   1500.000000\n",
              "378658   999986353  ...  15000.000000\n",
              "378659   999987933  ...  15000.000000\n",
              "378660   999988282  ...   2000.000000\n",
              "\n",
              "[378661 rows x 15 columns]"
            ]
          },
          "metadata": {
            "tags": []
          },
          "execution_count": 75
        }
      ]
    },
    {
      "cell_type": "code",
      "metadata": {
        "colab": {
          "base_uri": "https://localhost:8080/"
        },
        "id": "kFJ-m43fpuDt",
        "outputId": "732f1408-33bd-4cdc-b1e8-00bfe432e821"
      },
      "source": [
        "df_new.info()"
      ],
      "execution_count": 76,
      "outputs": [
        {
          "output_type": "stream",
          "text": [
            "<class 'pandas.core.frame.DataFrame'>\n",
            "RangeIndex: 378661 entries, 0 to 378660\n",
            "Data columns (total 15 columns):\n",
            " #   Column            Non-Null Count   Dtype  \n",
            "---  ------            --------------   -----  \n",
            " 0   ID                378661 non-null  string \n",
            " 1   name              378657 non-null  string \n",
            " 2   category          378661 non-null  string \n",
            " 3   main_category     378661 non-null  string \n",
            " 4   currency          378661 non-null  string \n",
            " 5   deadline          378661 non-null  string \n",
            " 6   goal              378661 non-null  float32\n",
            " 7   launched          378661 non-null  string \n",
            " 8   pledged           378661 non-null  float32\n",
            " 9   state             378661 non-null  string \n",
            " 10  backers           378661 non-null  int32  \n",
            " 11  country           378661 non-null  string \n",
            " 12  usd pledged       374864 non-null  float32\n",
            " 13  usd_pledged_real  378661 non-null  float32\n",
            " 14  usd_goal_real     378661 non-null  float32\n",
            "dtypes: float32(5), int32(1), string(9)\n",
            "memory usage: 34.7 MB\n"
          ],
          "name": "stdout"
        }
      ]
    },
    {
      "cell_type": "markdown",
      "metadata": {
        "id": "L5Ude2V0dzEF"
      },
      "source": [
        "> **Drop all NaN values**\n",
        ">\n",
        "> And find Central Tendency --> mode for categorical"
      ]
    },
    {
      "cell_type": "code",
      "metadata": {
        "colab": {
          "base_uri": "https://localhost:8080/",
          "height": 287
        },
        "id": "QqqblJb7p3ma",
        "outputId": "ec14687d-7971-4d07-934e-dbf3d48565a0"
      },
      "source": [
        "df_new.dropna(inplace=True)\n",
        "df_new.describe()"
      ],
      "execution_count": 79,
      "outputs": [
        {
          "output_type": "execute_result",
          "data": {
            "text/html": [
              "<div>\n",
              "<style scoped>\n",
              "    .dataframe tbody tr th:only-of-type {\n",
              "        vertical-align: middle;\n",
              "    }\n",
              "\n",
              "    .dataframe tbody tr th {\n",
              "        vertical-align: top;\n",
              "    }\n",
              "\n",
              "    .dataframe thead th {\n",
              "        text-align: right;\n",
              "    }\n",
              "</style>\n",
              "<table border=\"1\" class=\"dataframe\">\n",
              "  <thead>\n",
              "    <tr style=\"text-align: right;\">\n",
              "      <th></th>\n",
              "      <th>goal</th>\n",
              "      <th>pledged</th>\n",
              "      <th>backers</th>\n",
              "      <th>usd pledged</th>\n",
              "      <th>usd_pledged_real</th>\n",
              "      <th>usd_goal_real</th>\n",
              "    </tr>\n",
              "  </thead>\n",
              "  <tbody>\n",
              "    <tr>\n",
              "      <th>count</th>\n",
              "      <td>3.786610e+05</td>\n",
              "      <td>3.786610e+05</td>\n",
              "      <td>378661.000000</td>\n",
              "      <td>3.748640e+05</td>\n",
              "      <td>3.786610e+05</td>\n",
              "      <td>3.786610e+05</td>\n",
              "    </tr>\n",
              "    <tr>\n",
              "      <th>mean</th>\n",
              "      <td>4.908178e+04</td>\n",
              "      <td>9.680105e+03</td>\n",
              "      <td>105.617476</td>\n",
              "      <td>7.034686e+03</td>\n",
              "      <td>9.056186e+03</td>\n",
              "      <td>4.546388e+04</td>\n",
              "    </tr>\n",
              "    <tr>\n",
              "      <th>std</th>\n",
              "      <td>1.182822e+06</td>\n",
              "      <td>9.553357e+04</td>\n",
              "      <td>907.185035</td>\n",
              "      <td>7.852406e+04</td>\n",
              "      <td>9.091480e+04</td>\n",
              "      <td>1.152421e+06</td>\n",
              "    </tr>\n",
              "    <tr>\n",
              "      <th>min</th>\n",
              "      <td>1.000000e-02</td>\n",
              "      <td>0.000000e+00</td>\n",
              "      <td>0.000000</td>\n",
              "      <td>0.000000e+00</td>\n",
              "      <td>0.000000e+00</td>\n",
              "      <td>1.000000e-02</td>\n",
              "    </tr>\n",
              "    <tr>\n",
              "      <th>25%</th>\n",
              "      <td>2.000000e+03</td>\n",
              "      <td>3.000000e+01</td>\n",
              "      <td>2.000000</td>\n",
              "      <td>1.698000e+01</td>\n",
              "      <td>3.100000e+01</td>\n",
              "      <td>2.000000e+03</td>\n",
              "    </tr>\n",
              "    <tr>\n",
              "      <th>50%</th>\n",
              "      <td>5.200000e+03</td>\n",
              "      <td>6.200000e+02</td>\n",
              "      <td>12.000000</td>\n",
              "      <td>3.947200e+02</td>\n",
              "      <td>6.243300e+02</td>\n",
              "      <td>5.500000e+03</td>\n",
              "    </tr>\n",
              "    <tr>\n",
              "      <th>75%</th>\n",
              "      <td>1.600000e+04</td>\n",
              "      <td>4.076000e+03</td>\n",
              "      <td>56.000000</td>\n",
              "      <td>3.034090e+03</td>\n",
              "      <td>4.050000e+03</td>\n",
              "      <td>1.550000e+04</td>\n",
              "    </tr>\n",
              "    <tr>\n",
              "      <th>max</th>\n",
              "      <td>1.000000e+08</td>\n",
              "      <td>2.033899e+07</td>\n",
              "      <td>219382.000000</td>\n",
              "      <td>2.033899e+07</td>\n",
              "      <td>2.033899e+07</td>\n",
              "      <td>1.663614e+08</td>\n",
              "    </tr>\n",
              "  </tbody>\n",
              "</table>\n",
              "</div>"
            ],
            "text/plain": [
              "               goal       pledged  ...  usd_pledged_real  usd_goal_real\n",
              "count  3.786610e+05  3.786610e+05  ...      3.786610e+05   3.786610e+05\n",
              "mean   4.908178e+04  9.680105e+03  ...      9.056186e+03   4.546388e+04\n",
              "std    1.182822e+06  9.553357e+04  ...      9.091480e+04   1.152421e+06\n",
              "min    1.000000e-02  0.000000e+00  ...      0.000000e+00   1.000000e-02\n",
              "25%    2.000000e+03  3.000000e+01  ...      3.100000e+01   2.000000e+03\n",
              "50%    5.200000e+03  6.200000e+02  ...      6.243300e+02   5.500000e+03\n",
              "75%    1.600000e+04  4.076000e+03  ...      4.050000e+03   1.550000e+04\n",
              "max    1.000000e+08  2.033899e+07  ...      2.033899e+07   1.663614e+08\n",
              "\n",
              "[8 rows x 6 columns]"
            ]
          },
          "metadata": {
            "tags": []
          },
          "execution_count": 79
        }
      ]
    },
    {
      "cell_type": "code",
      "metadata": {
        "colab": {
          "base_uri": "https://localhost:8080/",
          "height": 107
        },
        "id": "bDyWYZA-2QXG",
        "outputId": "7dc061a7-d222-48fd-e857-3ae8009c793b"
      },
      "source": [
        "df_new.loc[:, ['usd_goal_real', 'goal']].agg(['median', 'var'])"
      ],
      "execution_count": 177,
      "outputs": [
        {
          "output_type": "execute_result",
          "data": {
            "text/html": [
              "<div>\n",
              "<style scoped>\n",
              "    .dataframe tbody tr th:only-of-type {\n",
              "        vertical-align: middle;\n",
              "    }\n",
              "\n",
              "    .dataframe tbody tr th {\n",
              "        vertical-align: top;\n",
              "    }\n",
              "\n",
              "    .dataframe thead th {\n",
              "        text-align: right;\n",
              "    }\n",
              "</style>\n",
              "<table border=\"1\" class=\"dataframe\">\n",
              "  <thead>\n",
              "    <tr style=\"text-align: right;\">\n",
              "      <th></th>\n",
              "      <th>usd_goal_real</th>\n",
              "      <th>goal</th>\n",
              "    </tr>\n",
              "  </thead>\n",
              "  <tbody>\n",
              "    <tr>\n",
              "      <th>median</th>\n",
              "      <td>5.500000e+03</td>\n",
              "      <td>5.500000e+03</td>\n",
              "    </tr>\n",
              "    <tr>\n",
              "      <th>var</th>\n",
              "      <td>1.341492e+12</td>\n",
              "      <td>1.413223e+12</td>\n",
              "    </tr>\n",
              "  </tbody>\n",
              "</table>\n",
              "</div>"
            ],
            "text/plain": [
              "        usd_goal_real          goal\n",
              "median   5.500000e+03  5.500000e+03\n",
              "var      1.341492e+12  1.413223e+12"
            ]
          },
          "metadata": {
            "tags": []
          },
          "execution_count": 177
        }
      ]
    },
    {
      "cell_type": "code",
      "metadata": {
        "colab": {
          "base_uri": "https://localhost:8080/",
          "height": 137
        },
        "id": "lStEoVyj3_5Y",
        "outputId": "19ba8d13-ab05-4510-8cd1-76e4befac740"
      },
      "source": [
        "df_new.loc[:, ['name', 'category', 'main_category']].agg(['mode']).T"
      ],
      "execution_count": 180,
      "outputs": [
        {
          "output_type": "execute_result",
          "data": {
            "text/html": [
              "<div>\n",
              "<style scoped>\n",
              "    .dataframe tbody tr th:only-of-type {\n",
              "        vertical-align: middle;\n",
              "    }\n",
              "\n",
              "    .dataframe tbody tr th {\n",
              "        vertical-align: top;\n",
              "    }\n",
              "\n",
              "    .dataframe thead th {\n",
              "        text-align: right;\n",
              "    }\n",
              "</style>\n",
              "<table border=\"1\" class=\"dataframe\">\n",
              "  <thead>\n",
              "    <tr style=\"text-align: right;\">\n",
              "      <th></th>\n",
              "      <th></th>\n",
              "      <th>0</th>\n",
              "      <th>1</th>\n",
              "    </tr>\n",
              "  </thead>\n",
              "  <tbody>\n",
              "    <tr>\n",
              "      <th>name</th>\n",
              "      <th>mode</th>\n",
              "      <td>Canceled (Canceled)</td>\n",
              "      <td>New EP/Music Development</td>\n",
              "    </tr>\n",
              "    <tr>\n",
              "      <th>category</th>\n",
              "      <th>mode</th>\n",
              "      <td>Product Design</td>\n",
              "      <td>&lt;NA&gt;</td>\n",
              "    </tr>\n",
              "    <tr>\n",
              "      <th>main_category</th>\n",
              "      <th>mode</th>\n",
              "      <td>Film &amp; Video</td>\n",
              "      <td>&lt;NA&gt;</td>\n",
              "    </tr>\n",
              "  </tbody>\n",
              "</table>\n",
              "</div>"
            ],
            "text/plain": [
              "                                      0                         1\n",
              "name          mode  Canceled (Canceled)  New EP/Music Development\n",
              "category      mode       Product Design                      <NA>\n",
              "main_category mode         Film & Video                      <NA>"
            ]
          },
          "metadata": {
            "tags": []
          },
          "execution_count": 180
        }
      ]
    },
    {
      "cell_type": "markdown",
      "metadata": {
        "id": "QjsshfgbeSvD"
      },
      "source": [
        "# Plot category frequency "
      ]
    },
    {
      "cell_type": "code",
      "metadata": {
        "colab": {
          "base_uri": "https://localhost:8080/",
          "height": 531
        },
        "id": "n5NC5bx-w3yC",
        "outputId": "a3ec6983-f854-4e02-b4df-bae14656e6f5"
      },
      "source": [
        "sns.set()\n",
        "sns.set_palette(palette='Pastel2')\n",
        "df_new['category'].agg(['value_counts']).plot(kind='bar', figsize=(30, 10))\n",
        "plt.xlabel('Category')\n",
        "plt.ylabel('Frequency')\n",
        "plt.show()"
      ],
      "execution_count": 148,
      "outputs": [
        {
          "output_type": "display_data",
          "data": {
            "image/png": "[encoded data removed]",
            "text/plain": [
              "<Figure size 2160x720 with 1 Axes>"
            ]
          },
          "metadata": {
            "tags": []
          }
        }
      ]
    },
    {
      "cell_type": "markdown",
      "metadata": {
        "id": "ZnaHYhnSeaQS"
      },
      "source": [
        "# See category that pledged more that $2million dollar "
      ]
    },
    {
      "cell_type": "code",
      "metadata": {
        "colab": {
          "base_uri": "https://localhost:8080/",
          "height": 540
        },
        "id": "NUlWPNsY0ijn",
        "outputId": "c192c708-39d6-4711-e398-47bdb6389a43"
      },
      "source": [
        "sns.set()\n",
        "sns.set_palette(palette='Dark2_r')\n",
        "df_new.loc[df_new['pledged'] > 2e6, ['category', 'usd_pledged_real']].groupby('category').sum().plot(kind='bar', figsize=(30, 10))\n",
        "plt.xlabel('Category')\n",
        "plt.ylabel('Total Pledged in USD')\n",
        "plt.show()"
      ],
      "execution_count": 211,
      "outputs": [
        {
          "output_type": "display_data",
          "data": {
            "image/png": "[encoded data removed]",
            "text/plain": [
              "<Figure size 2160x720 with 1 Axes>"
            ]
          },
          "metadata": {
            "tags": []
          }
        }
      ]
    },
    {
      "cell_type": "markdown",
      "metadata": {
        "id": "32iAbrGF4w2V"
      },
      "source": [
        "# Hypothesis Testing with chi2\n",
        "---\n",
        "> Test column `Category` and `State` (**Test of Independence**)\n",
        ">\n",
        "> H0 : Choosing right Category doesn't have any effect to successful funding of Kickstarted project (**Independent**)\n",
        ">\n",
        "> H1 : Choosing right Category may affect or likely to success in Kickstarter project (**Dependent**)\n",
        ">\n",
        "> Confidence interval --> 95% and **5% of significance**\n",
        ">\n",
        ">**Reason**: Since Kickstarter sometimes related to Market condition, which mean there's high chance that kickstarter's **category** may lead to successful funding due to demand in Market or has great impact. Meaning that certain **Category** are likely to be more successful and get funding"
      ]
    },
    {
      "cell_type": "markdown",
      "metadata": {
        "id": "7jQLtJN6cE1-"
      },
      "source": [
        "> **Observed frequency**"
      ]
    },
    {
      "cell_type": "code",
      "metadata": {
        "colab": {
          "base_uri": "https://localhost:8080/",
          "height": 557
        },
        "id": "T96qIWP47jBE",
        "outputId": "8a21e668-6fc1-4359-e0bf-6541a30dffa3"
      },
      "source": [
        "observed_table = pd.crosstab(df_new['main_category'], df_new['state'], margins=True)\n",
        "observed_table"
      ],
      "execution_count": 257,
      "outputs": [
        {
          "output_type": "execute_result",
          "data": {
            "text/html": [
              "<div>\n",
              "<style scoped>\n",
              "    .dataframe tbody tr th:only-of-type {\n",
              "        vertical-align: middle;\n",
              "    }\n",
              "\n",
              "    .dataframe tbody tr th {\n",
              "        vertical-align: top;\n",
              "    }\n",
              "\n",
              "    .dataframe thead th {\n",
              "        text-align: right;\n",
              "    }\n",
              "</style>\n",
              "<table border=\"1\" class=\"dataframe\">\n",
              "  <thead>\n",
              "    <tr style=\"text-align: right;\">\n",
              "      <th>state</th>\n",
              "      <th>canceled</th>\n",
              "      <th>failed</th>\n",
              "      <th>live</th>\n",
              "      <th>successful</th>\n",
              "      <th>suspended</th>\n",
              "      <th>All</th>\n",
              "    </tr>\n",
              "    <tr>\n",
              "      <th>main_category</th>\n",
              "      <th></th>\n",
              "      <th></th>\n",
              "      <th></th>\n",
              "      <th></th>\n",
              "      <th></th>\n",
              "      <th></th>\n",
              "    </tr>\n",
              "  </thead>\n",
              "  <tbody>\n",
              "    <tr>\n",
              "      <th>Art</th>\n",
              "      <td>2222</td>\n",
              "      <td>14130</td>\n",
              "      <td>194</td>\n",
              "      <td>11510</td>\n",
              "      <td>96</td>\n",
              "      <td>28152</td>\n",
              "    </tr>\n",
              "    <tr>\n",
              "      <th>Comics</th>\n",
              "      <td>842</td>\n",
              "      <td>4036</td>\n",
              "      <td>76</td>\n",
              "      <td>5842</td>\n",
              "      <td>23</td>\n",
              "      <td>10819</td>\n",
              "    </tr>\n",
              "    <tr>\n",
              "      <th>Crafts</th>\n",
              "      <td>843</td>\n",
              "      <td>5703</td>\n",
              "      <td>76</td>\n",
              "      <td>2115</td>\n",
              "      <td>72</td>\n",
              "      <td>8809</td>\n",
              "    </tr>\n",
              "    <tr>\n",
              "      <th>Dance</th>\n",
              "      <td>163</td>\n",
              "      <td>1235</td>\n",
              "      <td>18</td>\n",
              "      <td>2338</td>\n",
              "      <td>13</td>\n",
              "      <td>3767</td>\n",
              "    </tr>\n",
              "    <tr>\n",
              "      <th>Design</th>\n",
              "      <td>4152</td>\n",
              "      <td>14814</td>\n",
              "      <td>305</td>\n",
              "      <td>10549</td>\n",
              "      <td>246</td>\n",
              "      <td>30066</td>\n",
              "    </tr>\n",
              "    <tr>\n",
              "      <th>Fashion</th>\n",
              "      <td>2650</td>\n",
              "      <td>14181</td>\n",
              "      <td>250</td>\n",
              "      <td>5593</td>\n",
              "      <td>138</td>\n",
              "      <td>22812</td>\n",
              "    </tr>\n",
              "    <tr>\n",
              "      <th>Film &amp; Video</th>\n",
              "      <td>5744</td>\n",
              "      <td>32891</td>\n",
              "      <td>332</td>\n",
              "      <td>23612</td>\n",
              "      <td>117</td>\n",
              "      <td>62696</td>\n",
              "    </tr>\n",
              "    <tr>\n",
              "      <th>Food</th>\n",
              "      <td>2209</td>\n",
              "      <td>15969</td>\n",
              "      <td>183</td>\n",
              "      <td>6085</td>\n",
              "      <td>153</td>\n",
              "      <td>24599</td>\n",
              "    </tr>\n",
              "    <tr>\n",
              "      <th>Games</th>\n",
              "      <td>6199</td>\n",
              "      <td>16002</td>\n",
              "      <td>287</td>\n",
              "      <td>12518</td>\n",
              "      <td>219</td>\n",
              "      <td>35225</td>\n",
              "    </tr>\n",
              "    <tr>\n",
              "      <th>Journalism</th>\n",
              "      <td>523</td>\n",
              "      <td>3136</td>\n",
              "      <td>31</td>\n",
              "      <td>1012</td>\n",
              "      <td>52</td>\n",
              "      <td>4754</td>\n",
              "    </tr>\n",
              "    <tr>\n",
              "      <th>Music</th>\n",
              "      <td>3300</td>\n",
              "      <td>21696</td>\n",
              "      <td>281</td>\n",
              "      <td>24105</td>\n",
              "      <td>148</td>\n",
              "      <td>49530</td>\n",
              "    </tr>\n",
              "    <tr>\n",
              "      <th>Photography</th>\n",
              "      <td>986</td>\n",
              "      <td>6384</td>\n",
              "      <td>48</td>\n",
              "      <td>3305</td>\n",
              "      <td>55</td>\n",
              "      <td>10778</td>\n",
              "    </tr>\n",
              "    <tr>\n",
              "      <th>Publishing</th>\n",
              "      <td>3601</td>\n",
              "      <td>23113</td>\n",
              "      <td>299</td>\n",
              "      <td>12300</td>\n",
              "      <td>66</td>\n",
              "      <td>39379</td>\n",
              "    </tr>\n",
              "    <tr>\n",
              "      <th>Technology</th>\n",
              "      <td>4715</td>\n",
              "      <td>20613</td>\n",
              "      <td>377</td>\n",
              "      <td>6433</td>\n",
              "      <td>424</td>\n",
              "      <td>32562</td>\n",
              "    </tr>\n",
              "    <tr>\n",
              "      <th>Theater</th>\n",
              "      <td>608</td>\n",
              "      <td>3708</td>\n",
              "      <td>41</td>\n",
              "      <td>6534</td>\n",
              "      <td>21</td>\n",
              "      <td>10912</td>\n",
              "    </tr>\n",
              "    <tr>\n",
              "      <th>All</th>\n",
              "      <td>38757</td>\n",
              "      <td>197611</td>\n",
              "      <td>2798</td>\n",
              "      <td>133851</td>\n",
              "      <td>1843</td>\n",
              "      <td>374860</td>\n",
              "    </tr>\n",
              "  </tbody>\n",
              "</table>\n",
              "</div>"
            ],
            "text/plain": [
              "state          canceled  failed  live  successful  suspended     All\n",
              "main_category                                                       \n",
              "Art                2222   14130   194       11510         96   28152\n",
              "Comics              842    4036    76        5842         23   10819\n",
              "Crafts              843    5703    76        2115         72    8809\n",
              "Dance               163    1235    18        2338         13    3767\n",
              "Design             4152   14814   305       10549        246   30066\n",
              "Fashion            2650   14181   250        5593        138   22812\n",
              "Film & Video       5744   32891   332       23612        117   62696\n",
              "Food               2209   15969   183        6085        153   24599\n",
              "Games              6199   16002   287       12518        219   35225\n",
              "Journalism          523    3136    31        1012         52    4754\n",
              "Music              3300   21696   281       24105        148   49530\n",
              "Photography         986    6384    48        3305         55   10778\n",
              "Publishing         3601   23113   299       12300         66   39379\n",
              "Technology         4715   20613   377        6433        424   32562\n",
              "Theater             608    3708    41        6534         21   10912\n",
              "All               38757  197611  2798      133851       1843  374860"
            ]
          },
          "metadata": {
            "tags": []
          },
          "execution_count": 257
        }
      ]
    },
    {
      "cell_type": "markdown",
      "metadata": {
        "id": "_QPORiiicRyU"
      },
      "source": [
        "> Find **Expected frequency**"
      ]
    },
    {
      "cell_type": "code",
      "metadata": {
        "id": "MGXVeqcBA2Sb"
      },
      "source": [
        "arr_chi = pd.crosstab(df_new['main_category'], df_new['state'], margins=True).values\n",
        "denominator = arr_chi[-1, -1]\n",
        "expected = np.zeros(tuple(np.array(arr_chi.shape) -1), dtype='float32')\n",
        "for row in range(arr_chi.shape[0]-1):\n",
        "  for col in range(arr_chi.shape[1] -1):\n",
        "\n",
        "    expected[row, col] = arr_chi[row, -1] * arr_chi[-1, col] / denominator\n"
      ],
      "execution_count": 252,
      "outputs": []
    },
    {
      "cell_type": "code",
      "metadata": {
        "colab": {
          "base_uri": "https://localhost:8080/",
          "height": 527
        },
        "id": "AnsmaH8pCH2V",
        "outputId": "43a10008-f6ec-4d24-c182-876b9d6d4cf3"
      },
      "source": [
        "index = pd.crosstab(df_new['main_category'], df_new['state'], margins=True).index[:-1]\n",
        "column = pd.crosstab(df_new['main_category'], df_new['state'], margins=True).columns[:-1]\n",
        "expected_table = pd.DataFrame(expected, index=index, columns=column)\n",
        "expected_table = expected_table.applymap(lambda x: round(x, 3))\n",
        "expected_table"
      ],
      "execution_count": 294,
      "outputs": [
        {
          "output_type": "execute_result",
          "data": {
            "text/html": [
              "<div>\n",
              "<style scoped>\n",
              "    .dataframe tbody tr th:only-of-type {\n",
              "        vertical-align: middle;\n",
              "    }\n",
              "\n",
              "    .dataframe tbody tr th {\n",
              "        vertical-align: top;\n",
              "    }\n",
              "\n",
              "    .dataframe thead th {\n",
              "        text-align: right;\n",
              "    }\n",
              "</style>\n",
              "<table border=\"1\" class=\"dataframe\">\n",
              "  <thead>\n",
              "    <tr style=\"text-align: right;\">\n",
              "      <th>state</th>\n",
              "      <th>canceled</th>\n",
              "      <th>failed</th>\n",
              "      <th>live</th>\n",
              "      <th>successful</th>\n",
              "      <th>suspended</th>\n",
              "    </tr>\n",
              "    <tr>\n",
              "      <th>main_category</th>\n",
              "      <th></th>\n",
              "      <th></th>\n",
              "      <th></th>\n",
              "      <th></th>\n",
              "      <th></th>\n",
              "    </tr>\n",
              "  </thead>\n",
              "  <tbody>\n",
              "    <tr>\n",
              "      <th>Art</th>\n",
              "      <td>2910.652</td>\n",
              "      <td>14840.594</td>\n",
              "      <td>210.130</td>\n",
              "      <td>10052.215</td>\n",
              "      <td>138.409</td>\n",
              "    </tr>\n",
              "    <tr>\n",
              "      <th>Comics</th>\n",
              "      <td>1118.583</td>\n",
              "      <td>5703.338</td>\n",
              "      <td>80.754</td>\n",
              "      <td>3863.133</td>\n",
              "      <td>53.192</td>\n",
              "    </tr>\n",
              "    <tr>\n",
              "      <th>Crafts</th>\n",
              "      <td>910.768</td>\n",
              "      <td>4643.748</td>\n",
              "      <td>65.751</td>\n",
              "      <td>3145.424</td>\n",
              "      <td>43.309</td>\n",
              "    </tr>\n",
              "    <tr>\n",
              "      <th>Dance</th>\n",
              "      <td>389.472</td>\n",
              "      <td>1985.810</td>\n",
              "      <td>28.117</td>\n",
              "      <td>1345.080</td>\n",
              "      <td>18.520</td>\n",
              "    </tr>\n",
              "    <tr>\n",
              "      <th>Design</th>\n",
              "      <td>3108.542</td>\n",
              "      <td>15849.577</td>\n",
              "      <td>224.416</td>\n",
              "      <td>10735.646</td>\n",
              "      <td>147.820</td>\n",
              "    </tr>\n",
              "    <tr>\n",
              "      <th>Fashion</th>\n",
              "      <td>2358.546</td>\n",
              "      <td>12025.562</td>\n",
              "      <td>170.271</td>\n",
              "      <td>8145.465</td>\n",
              "      <td>112.155</td>\n",
              "    </tr>\n",
              "    <tr>\n",
              "      <th>Film &amp; Video</th>\n",
              "      <td>6482.177</td>\n",
              "      <td>33050.789</td>\n",
              "      <td>467.970</td>\n",
              "      <td>22386.816</td>\n",
              "      <td>308.245</td>\n",
              "    </tr>\n",
              "    <tr>\n",
              "      <th>Food</th>\n",
              "      <td>2543.305</td>\n",
              "      <td>12967.596</td>\n",
              "      <td>183.610</td>\n",
              "      <td>8783.548</td>\n",
              "      <td>120.941</td>\n",
              "    </tr>\n",
              "    <tr>\n",
              "      <th>Games</th>\n",
              "      <td>3641.934</td>\n",
              "      <td>18569.193</td>\n",
              "      <td>262.924</td>\n",
              "      <td>12577.767</td>\n",
              "      <td>173.184</td>\n",
              "    </tr>\n",
              "    <tr>\n",
              "      <th>Journalism</th>\n",
              "      <td>491.519</td>\n",
              "      <td>2506.116</td>\n",
              "      <td>35.484</td>\n",
              "      <td>1697.507</td>\n",
              "      <td>23.373</td>\n",
              "    </tr>\n",
              "    <tr>\n",
              "      <th>Music</th>\n",
              "      <td>5120.937</td>\n",
              "      <td>26110.209</td>\n",
              "      <td>369.698</td>\n",
              "      <td>17685.643</td>\n",
              "      <td>243.514</td>\n",
              "    </tr>\n",
              "    <tr>\n",
              "      <th>Photography</th>\n",
              "      <td>1114.344</td>\n",
              "      <td>5681.725</td>\n",
              "      <td>80.448</td>\n",
              "      <td>3848.493</td>\n",
              "      <td>52.990</td>\n",
              "    </tr>\n",
              "    <tr>\n",
              "      <th>Publishing</th>\n",
              "      <td>4071.418</td>\n",
              "      <td>20759.014</td>\n",
              "      <td>293.930</td>\n",
              "      <td>14061.032</td>\n",
              "      <td>193.607</td>\n",
              "    </tr>\n",
              "    <tr>\n",
              "      <th>Technology</th>\n",
              "      <td>3366.605</td>\n",
              "      <td>17165.367</td>\n",
              "      <td>243.047</td>\n",
              "      <td>11626.891</td>\n",
              "      <td>160.091</td>\n",
              "    </tr>\n",
              "    <tr>\n",
              "      <th>Theater</th>\n",
              "      <td>1128.198</td>\n",
              "      <td>5752.364</td>\n",
              "      <td>81.448</td>\n",
              "      <td>3896.340</td>\n",
              "      <td>53.649</td>\n",
              "    </tr>\n",
              "  </tbody>\n",
              "</table>\n",
              "</div>"
            ],
            "text/plain": [
              "state          canceled     failed     live  successful  suspended\n",
              "main_category                                                     \n",
              "Art            2910.652  14840.594  210.130   10052.215    138.409\n",
              "Comics         1118.583   5703.338   80.754    3863.133     53.192\n",
              "Crafts          910.768   4643.748   65.751    3145.424     43.309\n",
              "Dance           389.472   1985.810   28.117    1345.080     18.520\n",
              "Design         3108.542  15849.577  224.416   10735.646    147.820\n",
              "Fashion        2358.546  12025.562  170.271    8145.465    112.155\n",
              "Film & Video   6482.177  33050.789  467.970   22386.816    308.245\n",
              "Food           2543.305  12967.596  183.610    8783.548    120.941\n",
              "Games          3641.934  18569.193  262.924   12577.767    173.184\n",
              "Journalism      491.519   2506.116   35.484    1697.507     23.373\n",
              "Music          5120.937  26110.209  369.698   17685.643    243.514\n",
              "Photography    1114.344   5681.725   80.448    3848.493     52.990\n",
              "Publishing     4071.418  20759.014  293.930   14061.032    193.607\n",
              "Technology     3366.605  17165.367  243.047   11626.891    160.091\n",
              "Theater        1128.198   5752.364   81.448    3896.340     53.649"
            ]
          },
          "metadata": {
            "tags": []
          },
          "execution_count": 294
        }
      ]
    },
    {
      "cell_type": "code",
      "metadata": {
        "id": "Is-Dzq1jHIpS"
      },
      "source": [
        "# expected_table['All'] = expected_table.sum(axis=1).map(lambda x: math.ceil(x))\n",
        "# expected_table.loc['Total'] = expected_table.sum(axis=0).map(lambda x: math.ceil(x))\n",
        "# expected_table"
      ],
      "execution_count": null,
      "outputs": []
    },
    {
      "cell_type": "markdown",
      "metadata": {
        "id": "ZeViFXG7byKU"
      },
      "source": [
        "> Calculate the $chi^{2}$ value and its critical value with 56 degree of freedom\n",
        ">\n",
        "> $chi^{2} = \\sum (observed - expected)^{2} / expected$"
      ]
    },
    {
      "cell_type": "code",
      "metadata": {
        "colab": {
          "base_uri": "https://localhost:8080/"
        },
        "id": "U7zVSjsWP9xX",
        "outputId": "650d7bd4-f5b7-4d5b-91be-42d9ed65a8df"
      },
      "source": [
        "chi2_val = ((observed_table.loc['Art':'Theater', 'canceled':'suspended'] - expected_table)**2 / expected_table).sum().sum()\n",
        "crit_val = stats.chi2.ppf(q = 0.95,  df= 56)\n",
        "crit_val, chi2_val"
      ],
      "execution_count": 307,
      "outputs": [
        {
          "output_type": "execute_result",
          "data": {
            "text/plain": [
              "(74.46832415930936, 21526.469356685993)"
            ]
          },
          "metadata": {
            "tags": []
          },
          "execution_count": 307
        }
      ]
    },
    {
      "cell_type": "markdown",
      "metadata": {
        "id": "9RK6WtagXotJ"
      },
      "source": [
        "> Beacuse $Chi^{2}$ value is higher than critical value, We reject the null hypothesis\n",
        ">\n",
        "> Conclusion: \n",
        ">\n",
        ">> H1 : Choosing right Category may affect or likely to success in Kickstarter project (**Dependent**)\n",
        ">>\n",
        ">> There are may not enough evidence that choosing right category is likely to be successful."
      ]
    }
  ]
}