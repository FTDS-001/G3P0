{
  "nbformat": 4,
  "nbformat_minor": 0,
  "metadata": {
    "colab": {
      "name": "h8dsft_p0w3_Rizka Aji GG.ipynb",
      "provenance": [],
      "collapsed_sections": []
    },
    "kernelspec": {
      "name": "python3",
      "display_name": "Python 3"
    },
    "language_info": {
      "name": "python"
    }
  },
  "cells": [
    {
      "cell_type": "markdown",
      "metadata": {
        "id": "Hd6BSuOLRbQC"
      },
      "source": [
        "#Informasi singkat\n",
        "Nama : Rizka Aji GG\n",
        "\n",
        "Batch : 01"
      ]
    },
    {
      "cell_type": "markdown",
      "metadata": {
        "id": "Sn7LnKjmQ92X"
      },
      "source": [
        "#Dataset\n",
        "Dataset yang menjadi rujukan adalah dataset yang berisikan informasi berkaitan dengan kickstart project dimana terdapat beberapa kategori, besaran uang yang dibutuhkan, kapan waktu awal dan akhir penggalangan dibuat, serta kejelasan status yang didapat."
      ]
    },
    {
      "cell_type": "markdown",
      "metadata": {
        "id": "CPfDCit4PH-T"
      },
      "source": [
        "#Objectives\n",
        "\n",
        "\n",
        "\n",
        "*   Mampu memuat melakukan analisis sederhana\n",
        "*   Mampu menghitung central tendency,korelasi, dan covarian\n",
        "*   Mampu melakukan perhitungan dengan beberapa pengujian \n",
        "*   Mampu membuat membuat Hipotesis\n",
        "\n",
        "\n",
        "\n",
        "\n",
        "\n",
        "\n"
      ]
    },
    {
      "cell_type": "markdown",
      "metadata": {
        "id": "jXF2IipBSILc"
      },
      "source": [
        "#Import Library "
      ]
    },
    {
      "cell_type": "code",
      "metadata": {
        "id": "zF-Gf3Soa4Yw"
      },
      "source": [
        "import pandas as pd\n",
        "import numpy as np\n",
        "import matplotlib.pyplot as plt\n",
        "import scipy.stats as stats\n",
        "from scipy.stats import t as t_func\n",
        "from scipy.stats import norm\n",
        "from scipy.stats import kurtosis\n",
        "\n",
        "%matplotlib inline"
      ],
      "execution_count": 4,
      "outputs": []
    },
    {
      "cell_type": "markdown",
      "metadata": {
        "id": "id_aqE-BBsE-"
      },
      "source": [
        "#Data Preprocess"
      ]
    },
    {
      "cell_type": "markdown",
      "metadata": {
        "id": "o1DM9xZHldw6"
      },
      "source": [
        "loading data set project 2018"
      ]
    },
    {
      "cell_type": "code",
      "metadata": {
        "id": "ez7pWfa-m_Qg",
        "colab": {
          "base_uri": "https://localhost:8080/",
          "height": 902
        },
        "outputId": "59d82602-e563-4889-ddd2-3bc3931be11e"
      },
      "source": [
        "df_raw = pd.read_csv('/content/ks-projects-201801.csv',error_bad_lines=False)\n",
        "print(df_raw.shape)\n",
        "df_raw"
      ],
      "execution_count": 5,
      "outputs": [
        {
          "output_type": "stream",
          "text": [
            "(204758, 15)\n"
          ],
          "name": "stdout"
        },
        {
          "output_type": "execute_result",
          "data": {
            "text/html": [
              "<div>\n",
              "<style scoped>\n",
              "    .dataframe tbody tr th:only-of-type {\n",
              "        vertical-align: middle;\n",
              "    }\n",
              "\n",
              "    .dataframe tbody tr th {\n",
              "        vertical-align: top;\n",
              "    }\n",
              "\n",
              "    .dataframe thead th {\n",
              "        text-align: right;\n",
              "    }\n",
              "</style>\n",
              "<table border=\"1\" class=\"dataframe\">\n",
              "  <thead>\n",
              "    <tr style=\"text-align: right;\">\n",
              "      <th></th>\n",
              "      <th>ID</th>\n",
              "      <th>name</th>\n",
              "      <th>category</th>\n",
              "      <th>main_category</th>\n",
              "      <th>currency</th>\n",
              "      <th>deadline</th>\n",
              "      <th>goal</th>\n",
              "      <th>launched</th>\n",
              "      <th>pledged</th>\n",
              "      <th>state</th>\n",
              "      <th>backers</th>\n",
              "      <th>country</th>\n",
              "      <th>usd pledged</th>\n",
              "      <th>usd_pledged_real</th>\n",
              "      <th>usd_goal_real</th>\n",
              "    </tr>\n",
              "  </thead>\n",
              "  <tbody>\n",
              "    <tr>\n",
              "      <th>0</th>\n",
              "      <td>1000002330</td>\n",
              "      <td>The Songs of Adelaide &amp; Abullah</td>\n",
              "      <td>Poetry</td>\n",
              "      <td>Publishing</td>\n",
              "      <td>GBP</td>\n",
              "      <td>2015-10-09</td>\n",
              "      <td>1000.0</td>\n",
              "      <td>2015-08-11 12:12:28</td>\n",
              "      <td>0.0</td>\n",
              "      <td>failed</td>\n",
              "      <td>0</td>\n",
              "      <td>GB</td>\n",
              "      <td>0.00</td>\n",
              "      <td>0.00</td>\n",
              "      <td>1533.95</td>\n",
              "    </tr>\n",
              "    <tr>\n",
              "      <th>1</th>\n",
              "      <td>1000003930</td>\n",
              "      <td>Greeting From Earth: ZGAC Arts Capsule For ET</td>\n",
              "      <td>Narrative Film</td>\n",
              "      <td>Film &amp; Video</td>\n",
              "      <td>USD</td>\n",
              "      <td>2017-11-01</td>\n",
              "      <td>30000.0</td>\n",
              "      <td>2017-09-02 04:43:57</td>\n",
              "      <td>2421.0</td>\n",
              "      <td>failed</td>\n",
              "      <td>15</td>\n",
              "      <td>US</td>\n",
              "      <td>100.00</td>\n",
              "      <td>2421.00</td>\n",
              "      <td>30000.00</td>\n",
              "    </tr>\n",
              "    <tr>\n",
              "      <th>2</th>\n",
              "      <td>1000004038</td>\n",
              "      <td>Where is Hank?</td>\n",
              "      <td>Narrative Film</td>\n",
              "      <td>Film &amp; Video</td>\n",
              "      <td>USD</td>\n",
              "      <td>2013-02-26</td>\n",
              "      <td>45000.0</td>\n",
              "      <td>2013-01-12 00:20:50</td>\n",
              "      <td>220.0</td>\n",
              "      <td>failed</td>\n",
              "      <td>3</td>\n",
              "      <td>US</td>\n",
              "      <td>220.00</td>\n",
              "      <td>220.00</td>\n",
              "      <td>45000.00</td>\n",
              "    </tr>\n",
              "    <tr>\n",
              "      <th>3</th>\n",
              "      <td>1000007540</td>\n",
              "      <td>ToshiCapital Rekordz Needs Help to Complete Album</td>\n",
              "      <td>Music</td>\n",
              "      <td>Music</td>\n",
              "      <td>USD</td>\n",
              "      <td>2012-04-16</td>\n",
              "      <td>5000.0</td>\n",
              "      <td>2012-03-17 03:24:11</td>\n",
              "      <td>1.0</td>\n",
              "      <td>failed</td>\n",
              "      <td>1</td>\n",
              "      <td>US</td>\n",
              "      <td>1.00</td>\n",
              "      <td>1.00</td>\n",
              "      <td>5000.00</td>\n",
              "    </tr>\n",
              "    <tr>\n",
              "      <th>4</th>\n",
              "      <td>1000011046</td>\n",
              "      <td>Community Film Project: The Art of Neighborhoo...</td>\n",
              "      <td>Film &amp; Video</td>\n",
              "      <td>Film &amp; Video</td>\n",
              "      <td>USD</td>\n",
              "      <td>2015-08-29</td>\n",
              "      <td>19500.0</td>\n",
              "      <td>2015-07-04 08:35:03</td>\n",
              "      <td>1283.0</td>\n",
              "      <td>canceled</td>\n",
              "      <td>14</td>\n",
              "      <td>US</td>\n",
              "      <td>1283.00</td>\n",
              "      <td>1283.00</td>\n",
              "      <td>19500.00</td>\n",
              "    </tr>\n",
              "    <tr>\n",
              "      <th>...</th>\n",
              "      <td>...</td>\n",
              "      <td>...</td>\n",
              "      <td>...</td>\n",
              "      <td>...</td>\n",
              "      <td>...</td>\n",
              "      <td>...</td>\n",
              "      <td>...</td>\n",
              "      <td>...</td>\n",
              "      <td>...</td>\n",
              "      <td>...</td>\n",
              "      <td>...</td>\n",
              "      <td>...</td>\n",
              "      <td>...</td>\n",
              "      <td>...</td>\n",
              "      <td>...</td>\n",
              "    </tr>\n",
              "    <tr>\n",
              "      <th>204753</th>\n",
              "      <td>2043098161</td>\n",
              "      <td>Navas Lab 2 — Bamboo Hoody</td>\n",
              "      <td>Apparel</td>\n",
              "      <td>Fashion</td>\n",
              "      <td>CAD</td>\n",
              "      <td>2017-10-15</td>\n",
              "      <td>12000.0</td>\n",
              "      <td>2017-09-12 13:53:01</td>\n",
              "      <td>14497.0</td>\n",
              "      <td>successful</td>\n",
              "      <td>107</td>\n",
              "      <td>CA</td>\n",
              "      <td>271.72</td>\n",
              "      <td>11603.17</td>\n",
              "      <td>9604.61</td>\n",
              "    </tr>\n",
              "    <tr>\n",
              "      <th>204754</th>\n",
              "      <td>2043105264</td>\n",
              "      <td>PortFringe 2012</td>\n",
              "      <td>Theater</td>\n",
              "      <td>Theater</td>\n",
              "      <td>USD</td>\n",
              "      <td>2012-03-24</td>\n",
              "      <td>2012.0</td>\n",
              "      <td>2012-02-25 04:04:28</td>\n",
              "      <td>2566.0</td>\n",
              "      <td>successful</td>\n",
              "      <td>52</td>\n",
              "      <td>US</td>\n",
              "      <td>2566.00</td>\n",
              "      <td>2566.00</td>\n",
              "      <td>2012.00</td>\n",
              "    </tr>\n",
              "    <tr>\n",
              "      <th>204755</th>\n",
              "      <td>2043109535</td>\n",
              "      <td>TREK across America</td>\n",
              "      <td>Places</td>\n",
              "      <td>Photography</td>\n",
              "      <td>USD</td>\n",
              "      <td>2017-04-07</td>\n",
              "      <td>6500.0</td>\n",
              "      <td>2017-02-27 00:21:42</td>\n",
              "      <td>8550.0</td>\n",
              "      <td>successful</td>\n",
              "      <td>88</td>\n",
              "      <td>US</td>\n",
              "      <td>1780.00</td>\n",
              "      <td>8550.00</td>\n",
              "      <td>6500.00</td>\n",
              "    </tr>\n",
              "    <tr>\n",
              "      <th>204756</th>\n",
              "      <td>2043110856</td>\n",
              "      <td>You Could Own a Chicken Painting!</td>\n",
              "      <td>Painting</td>\n",
              "      <td>Art</td>\n",
              "      <td>USD</td>\n",
              "      <td>2013-10-01</td>\n",
              "      <td>500.0</td>\n",
              "      <td>2013-09-09 22:29:41</td>\n",
              "      <td>3148.0</td>\n",
              "      <td>successful</td>\n",
              "      <td>64</td>\n",
              "      <td>US</td>\n",
              "      <td>3148.00</td>\n",
              "      <td>3148.00</td>\n",
              "      <td>500.00</td>\n",
              "    </tr>\n",
              "    <tr>\n",
              "      <th>204757</th>\n",
              "      <td>2043111390</td>\n",
              "      <td>VINTAGE STYLE HANDLEBAR BAG</td>\n",
              "      <td>Fashion</td>\n",
              "      <td>Fashion</td>\n",
              "      <td>USD</td>\n",
              "      <td>2014-03-03</td>\n",
              "      <td>2500.0</td>\n",
              "      <td>2014-02-07 01:41:30</td>\n",
              "      <td>4842.0</td>\n",
              "      <td>successful</td>\n",
              "      <td>67</td>\n",
              "      <td>US</td>\n",
              "      <td>4842.00</td>\n",
              "      <td>4842.00</td>\n",
              "      <td>NaN</td>\n",
              "    </tr>\n",
              "  </tbody>\n",
              "</table>\n",
              "<p>204758 rows × 15 columns</p>\n",
              "</div>"
            ],
            "text/plain": [
              "                ID  ... usd_goal_real\n",
              "0       1000002330  ...       1533.95\n",
              "1       1000003930  ...      30000.00\n",
              "2       1000004038  ...      45000.00\n",
              "3       1000007540  ...       5000.00\n",
              "4       1000011046  ...      19500.00\n",
              "...            ...  ...           ...\n",
              "204753  2043098161  ...       9604.61\n",
              "204754  2043105264  ...       2012.00\n",
              "204755  2043109535  ...       6500.00\n",
              "204756  2043110856  ...        500.00\n",
              "204757  2043111390  ...           NaN\n",
              "\n",
              "[204758 rows x 15 columns]"
            ]
          },
          "metadata": {
            "tags": []
          },
          "execution_count": 5
        }
      ]
    },
    {
      "cell_type": "markdown",
      "metadata": {
        "id": "c4jdQrqGlmKy"
      },
      "source": [
        "Menunjukan informasi mengenai jenis data yang ada"
      ]
    },
    {
      "cell_type": "code",
      "metadata": {
        "id": "qOUAUS3nd6gA",
        "colab": {
          "base_uri": "https://localhost:8080/"
        },
        "outputId": "2588ee86-4d8f-4673-e7bf-3d6aff1ba3a9"
      },
      "source": [
        "df_raw.info()"
      ],
      "execution_count": 6,
      "outputs": [
        {
          "output_type": "stream",
          "text": [
            "<class 'pandas.core.frame.DataFrame'>\n",
            "RangeIndex: 204758 entries, 0 to 204757\n",
            "Data columns (total 15 columns):\n",
            " #   Column            Non-Null Count   Dtype  \n",
            "---  ------            --------------   -----  \n",
            " 0   ID                204758 non-null  int64  \n",
            " 1   name              204757 non-null  object \n",
            " 2   category          204758 non-null  object \n",
            " 3   main_category     204758 non-null  object \n",
            " 4   currency          204758 non-null  object \n",
            " 5   deadline          204758 non-null  object \n",
            " 6   goal              204758 non-null  float64\n",
            " 7   launched          204758 non-null  object \n",
            " 8   pledged           204758 non-null  float64\n",
            " 9   state             204758 non-null  object \n",
            " 10  backers           204758 non-null  int64  \n",
            " 11  country           204758 non-null  object \n",
            " 12  usd pledged       202721 non-null  float64\n",
            " 13  usd_pledged_real  204758 non-null  float64\n",
            " 14  usd_goal_real     204757 non-null  float64\n",
            "dtypes: float64(5), int64(2), object(8)\n",
            "memory usage: 23.4+ MB\n"
          ],
          "name": "stdout"
        }
      ]
    },
    {
      "cell_type": "markdown",
      "metadata": {
        "id": "CJtUyEsNlv90"
      },
      "source": [
        "Menampilkan histogram berdasarkan USD pledged real yang merupakan objek pengamatan"
      ]
    },
    {
      "cell_type": "code",
      "metadata": {
        "colab": {
          "base_uri": "https://localhost:8080/",
          "height": 295
        },
        "id": "1TPtM9ruhibx",
        "outputId": "683de7f5-cd98-4ccc-e860-438472643c45"
      },
      "source": [
        "df_raw['usd_pledged_real'].plot.hist(bins=30, density=False)"
      ],
      "execution_count": 7,
      "outputs": [
        {
          "output_type": "execute_result",
          "data": {
            "text/plain": [
              "<matplotlib.axes._subplots.AxesSubplot at 0x7f131be99110>"
            ]
          },
          "metadata": {
            "tags": []
          },
          "execution_count": 7
        },
        {
          "output_type": "display_data",
          "data": {
            "image/png": "[encoded data removed]",
            "text/plain": [
              "<Figure size 432x288 with 1 Axes>"
            ]
          },
          "metadata": {
            "tags": [],
            "needs_background": "light"
          }
        }
      ]
    },
    {
      "cell_type": "markdown",
      "metadata": {
        "id": "eOlVfblQDfGq"
      },
      "source": [
        "#Filtering"
      ]
    },
    {
      "cell_type": "markdown",
      "metadata": {
        "id": "-JVHiB2Q2FkB"
      },
      "source": [
        "melakukan filtering untuk memperjelas objek yang diamati"
      ]
    },
    {
      "cell_type": "code",
      "metadata": {
        "id": "FWmXan61iqyG"
      },
      "source": [
        "df_filt = df_raw[df_raw['usd_pledged_real']<=50000]"
      ],
      "execution_count": 8,
      "outputs": []
    },
    {
      "cell_type": "markdown",
      "metadata": {
        "id": "82tYQuQumbeG"
      },
      "source": [
        "histogram hasil filtering dengan nilai dibaha sama dengan 50000"
      ]
    },
    {
      "cell_type": "code",
      "metadata": {
        "colab": {
          "base_uri": "https://localhost:8080/",
          "height": 282
        },
        "id": "BKqQASibjk-7",
        "outputId": "09eb6141-db76-4e86-b82a-36dfdfcd2bf6"
      },
      "source": [
        "df_filt['usd_pledged_real'].plot.hist(bins=30, density=False)"
      ],
      "execution_count": 9,
      "outputs": [
        {
          "output_type": "execute_result",
          "data": {
            "text/plain": [
              "<matplotlib.axes._subplots.AxesSubplot at 0x7f131bd46bd0>"
            ]
          },
          "metadata": {
            "tags": []
          },
          "execution_count": 9
        },
        {
          "output_type": "display_data",
          "data": {
            "image/png": "[encoded data removed]",
            "text/plain": [
              "<Figure size 432x288 with 1 Axes>"
            ]
          },
          "metadata": {
            "tags": [],
            "needs_background": "light"
          }
        }
      ]
    },
    {
      "cell_type": "markdown",
      "metadata": {
        "id": "84FUam5Y2KBU"
      },
      "source": [
        "Melakukan pengamatan lain dengan objek Main Category"
      ]
    },
    {
      "cell_type": "code",
      "metadata": {
        "colab": {
          "base_uri": "https://localhost:8080/",
          "height": 575
        },
        "id": "PueRyhhQlhL2",
        "outputId": "3d59eb21-566b-4872-eac1-4c4d2f994330"
      },
      "source": [
        "df_filt.groupby('main_category').count()"
      ],
      "execution_count": 10,
      "outputs": [
        {
          "output_type": "execute_result",
          "data": {
            "text/html": [
              "<div>\n",
              "<style scoped>\n",
              "    .dataframe tbody tr th:only-of-type {\n",
              "        vertical-align: middle;\n",
              "    }\n",
              "\n",
              "    .dataframe tbody tr th {\n",
              "        vertical-align: top;\n",
              "    }\n",
              "\n",
              "    .dataframe thead th {\n",
              "        text-align: right;\n",
              "    }\n",
              "</style>\n",
              "<table border=\"1\" class=\"dataframe\">\n",
              "  <thead>\n",
              "    <tr style=\"text-align: right;\">\n",
              "      <th></th>\n",
              "      <th>ID</th>\n",
              "      <th>name</th>\n",
              "      <th>category</th>\n",
              "      <th>currency</th>\n",
              "      <th>deadline</th>\n",
              "      <th>goal</th>\n",
              "      <th>launched</th>\n",
              "      <th>pledged</th>\n",
              "      <th>state</th>\n",
              "      <th>backers</th>\n",
              "      <th>country</th>\n",
              "      <th>usd pledged</th>\n",
              "      <th>usd_pledged_real</th>\n",
              "      <th>usd_goal_real</th>\n",
              "    </tr>\n",
              "    <tr>\n",
              "      <th>main_category</th>\n",
              "      <th></th>\n",
              "      <th></th>\n",
              "      <th></th>\n",
              "      <th></th>\n",
              "      <th></th>\n",
              "      <th></th>\n",
              "      <th></th>\n",
              "      <th></th>\n",
              "      <th></th>\n",
              "      <th></th>\n",
              "      <th></th>\n",
              "      <th></th>\n",
              "      <th></th>\n",
              "      <th></th>\n",
              "    </tr>\n",
              "  </thead>\n",
              "  <tbody>\n",
              "    <tr>\n",
              "      <th>Art</th>\n",
              "      <td>15081</td>\n",
              "      <td>15081</td>\n",
              "      <td>15081</td>\n",
              "      <td>15081</td>\n",
              "      <td>15081</td>\n",
              "      <td>15081</td>\n",
              "      <td>15081</td>\n",
              "      <td>15081</td>\n",
              "      <td>15081</td>\n",
              "      <td>15081</td>\n",
              "      <td>15081</td>\n",
              "      <td>15081</td>\n",
              "      <td>15081</td>\n",
              "      <td>15081</td>\n",
              "    </tr>\n",
              "    <tr>\n",
              "      <th>Comics</th>\n",
              "      <td>5737</td>\n",
              "      <td>5737</td>\n",
              "      <td>5737</td>\n",
              "      <td>5737</td>\n",
              "      <td>5737</td>\n",
              "      <td>5737</td>\n",
              "      <td>5737</td>\n",
              "      <td>5737</td>\n",
              "      <td>5737</td>\n",
              "      <td>5737</td>\n",
              "      <td>5737</td>\n",
              "      <td>5737</td>\n",
              "      <td>5737</td>\n",
              "      <td>5737</td>\n",
              "    </tr>\n",
              "    <tr>\n",
              "      <th>Crafts</th>\n",
              "      <td>4805</td>\n",
              "      <td>4805</td>\n",
              "      <td>4805</td>\n",
              "      <td>4805</td>\n",
              "      <td>4805</td>\n",
              "      <td>4805</td>\n",
              "      <td>4805</td>\n",
              "      <td>4805</td>\n",
              "      <td>4805</td>\n",
              "      <td>4805</td>\n",
              "      <td>4805</td>\n",
              "      <td>4805</td>\n",
              "      <td>4805</td>\n",
              "      <td>4805</td>\n",
              "    </tr>\n",
              "    <tr>\n",
              "      <th>Dance</th>\n",
              "      <td>2058</td>\n",
              "      <td>2058</td>\n",
              "      <td>2058</td>\n",
              "      <td>2058</td>\n",
              "      <td>2058</td>\n",
              "      <td>2058</td>\n",
              "      <td>2058</td>\n",
              "      <td>2058</td>\n",
              "      <td>2058</td>\n",
              "      <td>2058</td>\n",
              "      <td>2058</td>\n",
              "      <td>2057</td>\n",
              "      <td>2058</td>\n",
              "      <td>2058</td>\n",
              "    </tr>\n",
              "    <tr>\n",
              "      <th>Design</th>\n",
              "      <td>15016</td>\n",
              "      <td>15016</td>\n",
              "      <td>15016</td>\n",
              "      <td>15016</td>\n",
              "      <td>15016</td>\n",
              "      <td>15016</td>\n",
              "      <td>15016</td>\n",
              "      <td>15016</td>\n",
              "      <td>15016</td>\n",
              "      <td>15016</td>\n",
              "      <td>15016</td>\n",
              "      <td>15015</td>\n",
              "      <td>15016</td>\n",
              "      <td>15016</td>\n",
              "    </tr>\n",
              "    <tr>\n",
              "      <th>Fashion</th>\n",
              "      <td>11956</td>\n",
              "      <td>11956</td>\n",
              "      <td>11956</td>\n",
              "      <td>11956</td>\n",
              "      <td>11956</td>\n",
              "      <td>11956</td>\n",
              "      <td>11956</td>\n",
              "      <td>11956</td>\n",
              "      <td>11956</td>\n",
              "      <td>11956</td>\n",
              "      <td>11956</td>\n",
              "      <td>11954</td>\n",
              "      <td>11956</td>\n",
              "      <td>11955</td>\n",
              "    </tr>\n",
              "    <tr>\n",
              "      <th>Film &amp; Video</th>\n",
              "      <td>33842</td>\n",
              "      <td>33841</td>\n",
              "      <td>33842</td>\n",
              "      <td>33842</td>\n",
              "      <td>33842</td>\n",
              "      <td>33842</td>\n",
              "      <td>33842</td>\n",
              "      <td>33842</td>\n",
              "      <td>33842</td>\n",
              "      <td>33842</td>\n",
              "      <td>33842</td>\n",
              "      <td>33363</td>\n",
              "      <td>33842</td>\n",
              "      <td>33842</td>\n",
              "    </tr>\n",
              "    <tr>\n",
              "      <th>Food</th>\n",
              "      <td>13165</td>\n",
              "      <td>13165</td>\n",
              "      <td>13165</td>\n",
              "      <td>13165</td>\n",
              "      <td>13165</td>\n",
              "      <td>13165</td>\n",
              "      <td>13165</td>\n",
              "      <td>13165</td>\n",
              "      <td>13165</td>\n",
              "      <td>13165</td>\n",
              "      <td>13165</td>\n",
              "      <td>13164</td>\n",
              "      <td>13165</td>\n",
              "      <td>13165</td>\n",
              "    </tr>\n",
              "    <tr>\n",
              "      <th>Games</th>\n",
              "      <td>17861</td>\n",
              "      <td>17861</td>\n",
              "      <td>17861</td>\n",
              "      <td>17861</td>\n",
              "      <td>17861</td>\n",
              "      <td>17861</td>\n",
              "      <td>17861</td>\n",
              "      <td>17861</td>\n",
              "      <td>17861</td>\n",
              "      <td>17861</td>\n",
              "      <td>17861</td>\n",
              "      <td>17858</td>\n",
              "      <td>17861</td>\n",
              "      <td>17861</td>\n",
              "    </tr>\n",
              "    <tr>\n",
              "      <th>Journalism</th>\n",
              "      <td>2535</td>\n",
              "      <td>2535</td>\n",
              "      <td>2535</td>\n",
              "      <td>2535</td>\n",
              "      <td>2535</td>\n",
              "      <td>2535</td>\n",
              "      <td>2535</td>\n",
              "      <td>2535</td>\n",
              "      <td>2535</td>\n",
              "      <td>2535</td>\n",
              "      <td>2535</td>\n",
              "      <td>2535</td>\n",
              "      <td>2535</td>\n",
              "      <td>2535</td>\n",
              "    </tr>\n",
              "    <tr>\n",
              "      <th>Music</th>\n",
              "      <td>27833</td>\n",
              "      <td>27833</td>\n",
              "      <td>27833</td>\n",
              "      <td>27833</td>\n",
              "      <td>27833</td>\n",
              "      <td>27833</td>\n",
              "      <td>27833</td>\n",
              "      <td>27833</td>\n",
              "      <td>27833</td>\n",
              "      <td>27833</td>\n",
              "      <td>27833</td>\n",
              "      <td>26548</td>\n",
              "      <td>27833</td>\n",
              "      <td>27833</td>\n",
              "    </tr>\n",
              "    <tr>\n",
              "      <th>Photography</th>\n",
              "      <td>5747</td>\n",
              "      <td>5747</td>\n",
              "      <td>5747</td>\n",
              "      <td>5747</td>\n",
              "      <td>5747</td>\n",
              "      <td>5747</td>\n",
              "      <td>5747</td>\n",
              "      <td>5747</td>\n",
              "      <td>5747</td>\n",
              "      <td>5747</td>\n",
              "      <td>5747</td>\n",
              "      <td>5746</td>\n",
              "      <td>5747</td>\n",
              "      <td>5747</td>\n",
              "    </tr>\n",
              "    <tr>\n",
              "      <th>Publishing</th>\n",
              "      <td>21463</td>\n",
              "      <td>21463</td>\n",
              "      <td>21463</td>\n",
              "      <td>21463</td>\n",
              "      <td>21463</td>\n",
              "      <td>21463</td>\n",
              "      <td>21463</td>\n",
              "      <td>21463</td>\n",
              "      <td>21463</td>\n",
              "      <td>21463</td>\n",
              "      <td>21463</td>\n",
              "      <td>21206</td>\n",
              "      <td>21463</td>\n",
              "      <td>21463</td>\n",
              "    </tr>\n",
              "    <tr>\n",
              "      <th>Technology</th>\n",
              "      <td>16148</td>\n",
              "      <td>16148</td>\n",
              "      <td>16148</td>\n",
              "      <td>16148</td>\n",
              "      <td>16148</td>\n",
              "      <td>16148</td>\n",
              "      <td>16148</td>\n",
              "      <td>16148</td>\n",
              "      <td>16148</td>\n",
              "      <td>16148</td>\n",
              "      <td>16148</td>\n",
              "      <td>16143</td>\n",
              "      <td>16148</td>\n",
              "      <td>16148</td>\n",
              "    </tr>\n",
              "    <tr>\n",
              "      <th>Theater</th>\n",
              "      <td>5800</td>\n",
              "      <td>5800</td>\n",
              "      <td>5800</td>\n",
              "      <td>5800</td>\n",
              "      <td>5800</td>\n",
              "      <td>5800</td>\n",
              "      <td>5800</td>\n",
              "      <td>5800</td>\n",
              "      <td>5800</td>\n",
              "      <td>5800</td>\n",
              "      <td>5800</td>\n",
              "      <td>5799</td>\n",
              "      <td>5800</td>\n",
              "      <td>5800</td>\n",
              "    </tr>\n",
              "  </tbody>\n",
              "</table>\n",
              "</div>"
            ],
            "text/plain": [
              "                  ID   name  ...  usd_pledged_real  usd_goal_real\n",
              "main_category                ...                                 \n",
              "Art            15081  15081  ...             15081          15081\n",
              "Comics          5737   5737  ...              5737           5737\n",
              "Crafts          4805   4805  ...              4805           4805\n",
              "Dance           2058   2058  ...              2058           2058\n",
              "Design         15016  15016  ...             15016          15016\n",
              "Fashion        11956  11956  ...             11956          11955\n",
              "Film & Video   33842  33841  ...             33842          33842\n",
              "Food           13165  13165  ...             13165          13165\n",
              "Games          17861  17861  ...             17861          17861\n",
              "Journalism      2535   2535  ...              2535           2535\n",
              "Music          27833  27833  ...             27833          27833\n",
              "Photography     5747   5747  ...              5747           5747\n",
              "Publishing     21463  21463  ...             21463          21463\n",
              "Technology     16148  16148  ...             16148          16148\n",
              "Theater         5800   5800  ...              5800           5800\n",
              "\n",
              "[15 rows x 14 columns]"
            ]
          },
          "metadata": {
            "tags": []
          },
          "execution_count": 10
        }
      ]
    },
    {
      "cell_type": "markdown",
      "metadata": {
        "id": "kd66-2Rxm7Vr"
      },
      "source": [
        "Melakukan grouping dengan main category dengan melakukan perhitungan kumulatif sum untuk mengetahui masih bisa digunakan atau tidak sebagai objek dengan perhitungan nilai kumulatif mendekati nilai kritikal 95% atau 0.95"
      ]
    },
    {
      "cell_type": "code",
      "metadata": {
        "id": "aSqHd-P8l2A1"
      },
      "source": [
        "df_grp_MC = df_filt.groupby('main_category').count().reset_index()[['main_category','usd_pledged_real']].sort_values('usd_pledged_real',ascending=False)\n",
        "df_grp_MC['MC_count']=df_grp_MC['usd_pledged_real'].cumsum()\n",
        "df_grp_MC['csum']=df_grp_MC['MC_count']/df_grp_MC['MC_count'].max()\n",
        "df_grp_MC = df_grp_MC[df_grp_MC['csum']<=0.95]"
      ],
      "execution_count": 11,
      "outputs": []
    },
    {
      "cell_type": "markdown",
      "metadata": {
        "id": "YKxnQotrnari"
      },
      "source": [
        "Tampilan tabel didasari perhitungan dan grouping sebelumnya"
      ]
    },
    {
      "cell_type": "code",
      "metadata": {
        "colab": {
          "base_uri": "https://localhost:8080/",
          "height": 403
        },
        "id": "AycLI_qmmukT",
        "outputId": "8b22a84c-8bbf-4124-84ba-e49ec9fee061"
      },
      "source": [
        "print(df_grp_MC.shape)\n",
        "df_grp_MC"
      ],
      "execution_count": 12,
      "outputs": [
        {
          "output_type": "stream",
          "text": [
            "(11, 4)\n"
          ],
          "name": "stdout"
        },
        {
          "output_type": "execute_result",
          "data": {
            "text/html": [
              "<div>\n",
              "<style scoped>\n",
              "    .dataframe tbody tr th:only-of-type {\n",
              "        vertical-align: middle;\n",
              "    }\n",
              "\n",
              "    .dataframe tbody tr th {\n",
              "        vertical-align: top;\n",
              "    }\n",
              "\n",
              "    .dataframe thead th {\n",
              "        text-align: right;\n",
              "    }\n",
              "</style>\n",
              "<table border=\"1\" class=\"dataframe\">\n",
              "  <thead>\n",
              "    <tr style=\"text-align: right;\">\n",
              "      <th></th>\n",
              "      <th>main_category</th>\n",
              "      <th>usd_pledged_real</th>\n",
              "      <th>MC_count</th>\n",
              "      <th>csum</th>\n",
              "    </tr>\n",
              "  </thead>\n",
              "  <tbody>\n",
              "    <tr>\n",
              "      <th>6</th>\n",
              "      <td>Film &amp; Video</td>\n",
              "      <td>33842</td>\n",
              "      <td>33842</td>\n",
              "      <td>0.170020</td>\n",
              "    </tr>\n",
              "    <tr>\n",
              "      <th>10</th>\n",
              "      <td>Music</td>\n",
              "      <td>27833</td>\n",
              "      <td>61675</td>\n",
              "      <td>0.309851</td>\n",
              "    </tr>\n",
              "    <tr>\n",
              "      <th>12</th>\n",
              "      <td>Publishing</td>\n",
              "      <td>21463</td>\n",
              "      <td>83138</td>\n",
              "      <td>0.417680</td>\n",
              "    </tr>\n",
              "    <tr>\n",
              "      <th>8</th>\n",
              "      <td>Games</td>\n",
              "      <td>17861</td>\n",
              "      <td>100999</td>\n",
              "      <td>0.507413</td>\n",
              "    </tr>\n",
              "    <tr>\n",
              "      <th>13</th>\n",
              "      <td>Technology</td>\n",
              "      <td>16148</td>\n",
              "      <td>117147</td>\n",
              "      <td>0.588539</td>\n",
              "    </tr>\n",
              "    <tr>\n",
              "      <th>0</th>\n",
              "      <td>Art</td>\n",
              "      <td>15081</td>\n",
              "      <td>132228</td>\n",
              "      <td>0.664305</td>\n",
              "    </tr>\n",
              "    <tr>\n",
              "      <th>4</th>\n",
              "      <td>Design</td>\n",
              "      <td>15016</td>\n",
              "      <td>147244</td>\n",
              "      <td>0.739745</td>\n",
              "    </tr>\n",
              "    <tr>\n",
              "      <th>7</th>\n",
              "      <td>Food</td>\n",
              "      <td>13165</td>\n",
              "      <td>160409</td>\n",
              "      <td>0.805885</td>\n",
              "    </tr>\n",
              "    <tr>\n",
              "      <th>5</th>\n",
              "      <td>Fashion</td>\n",
              "      <td>11956</td>\n",
              "      <td>172365</td>\n",
              "      <td>0.865951</td>\n",
              "    </tr>\n",
              "    <tr>\n",
              "      <th>14</th>\n",
              "      <td>Theater</td>\n",
              "      <td>5800</td>\n",
              "      <td>178165</td>\n",
              "      <td>0.895090</td>\n",
              "    </tr>\n",
              "    <tr>\n",
              "      <th>11</th>\n",
              "      <td>Photography</td>\n",
              "      <td>5747</td>\n",
              "      <td>183912</td>\n",
              "      <td>0.923963</td>\n",
              "    </tr>\n",
              "  </tbody>\n",
              "</table>\n",
              "</div>"
            ],
            "text/plain": [
              "   main_category  usd_pledged_real  MC_count      csum\n",
              "6   Film & Video             33842     33842  0.170020\n",
              "10         Music             27833     61675  0.309851\n",
              "12    Publishing             21463     83138  0.417680\n",
              "8          Games             17861    100999  0.507413\n",
              "13    Technology             16148    117147  0.588539\n",
              "0            Art             15081    132228  0.664305\n",
              "4         Design             15016    147244  0.739745\n",
              "7           Food             13165    160409  0.805885\n",
              "5        Fashion             11956    172365  0.865951\n",
              "14       Theater              5800    178165  0.895090\n",
              "11   Photography              5747    183912  0.923963"
            ]
          },
          "metadata": {
            "tags": []
          },
          "execution_count": 12
        }
      ]
    },
    {
      "cell_type": "markdown",
      "metadata": {
        "id": "EXdSv4vCnxDo"
      },
      "source": [
        "Memasukan hasil grouping pada tabel filter sebelumnya"
      ]
    },
    {
      "cell_type": "code",
      "metadata": {
        "id": "2B-k2TlBiVM-"
      },
      "source": [
        "df_filt = df_filt[df_filt['main_category'].isin(df_grp_MC['main_category'])]"
      ],
      "execution_count": 13,
      "outputs": []
    },
    {
      "cell_type": "markdown",
      "metadata": {
        "id": "WtPHcwU2n4pO"
      },
      "source": [
        "jumlah ror dan table setelah grouping"
      ]
    },
    {
      "cell_type": "code",
      "metadata": {
        "colab": {
          "base_uri": "https://localhost:8080/"
        },
        "id": "EJe14S2u2Oi-",
        "outputId": "95ddbb09-9366-42ef-cfba-2cb954d56ba5"
      },
      "source": [
        "df_filt.shape"
      ],
      "execution_count": 14,
      "outputs": [
        {
          "output_type": "execute_result",
          "data": {
            "text/plain": [
              "(183912, 15)"
            ]
          },
          "metadata": {
            "tags": []
          },
          "execution_count": 14
        }
      ]
    },
    {
      "cell_type": "markdown",
      "metadata": {
        "id": "0RK85k4N2nTY"
      },
      "source": [
        "#Central Tendency"
      ]
    },
    {
      "cell_type": "markdown",
      "metadata": {
        "id": "uipmZCnroFEc"
      },
      "source": [
        "Mencari central tendency dengan hasil rata rata 3610.892204 dan standar deviasi 7163.116874 "
      ]
    },
    {
      "cell_type": "markdown",
      "metadata": {
        "id": "FcQly156KwDT"
      },
      "source": [
        "Melakukan perhitungan secara manual atau menggunakan funngsi .describe() untuk mendapatkan semua nilai yand central of tendency tetapi tidak termasuk modus"
      ]
    },
    {
      "cell_type": "code",
      "metadata": {
        "colab": {
          "base_uri": "https://localhost:8080/"
        },
        "id": "Zq9KNwESKxdr",
        "outputId": "69c73bfb-abd8-4e82-eaaa-a539a774eec8"
      },
      "source": [
        "print('Median: '+ str(df_filt['usd_pledged_real'].median()))\n",
        "print('Modus: '+ str(df_filt['usd_pledged_real'].mode()[0]))\n",
        "print('Mean: '+ str(df_filt['usd_pledged_real'].mean()))\n",
        "print('Standard Deviation: '+ str(df_filt['usd_pledged_real'].std()))"
      ],
      "execution_count": 43,
      "outputs": [
        {
          "output_type": "stream",
          "text": [
            "Median: 560.085\n",
            "Modus: 0.0\n",
            "Mean: 3620.186420244482\n",
            "Standard Deviation: 7166.827921175776\n"
          ],
          "name": "stdout"
        }
      ]
    },
    {
      "cell_type": "code",
      "metadata": {
        "colab": {
          "base_uri": "https://localhost:8080/"
        },
        "id": "fLk-_xVm3Cc4",
        "outputId": "14a06e0f-0e9e-46fe-b4b6-c0cc9fbe6806"
      },
      "source": [
        "print(df_filt['usd_pledged_real'].describe())"
      ],
      "execution_count": 40,
      "outputs": [
        {
          "output_type": "stream",
          "text": [
            "count    183912.000000\n",
            "mean       3620.186420\n",
            "std        7166.827921\n",
            "min           0.000000\n",
            "25%          28.117500\n",
            "50%         560.085000\n",
            "75%        3579.195000\n",
            "max       50000.000000\n",
            "Name: usd_pledged_real, dtype: float64\n"
          ],
          "name": "stdout"
        }
      ]
    },
    {
      "cell_type": "markdown",
      "metadata": {
        "id": "AulxuzZPolh8"
      },
      "source": [
        "Garis bantu pengamatan pada objek USD pledged real yang dapat dilihat bahwa nilai mean lebih besar dibandingkan dengan nilai median sehingga skewness mengarah kekiri sejalan dengan mean.\n",
        "\n"
      ]
    },
    {
      "cell_type": "code",
      "metadata": {
        "colab": {
          "base_uri": "https://localhost:8080/",
          "height": 285
        },
        "id": "NxviXOyl3CWA",
        "outputId": "609e2235-be52-44f1-91cb-0b405dc5990a"
      },
      "source": [
        "df_filt['usd_pledged_real'].plot.hist(bins=30,density=True)\n",
        "plt.axvline(df_filt['usd_pledged_real'].describe()['mean'], color='red', linestyle='dashed', linewidth=2)\n",
        "plt.axvline(df_filt['usd_pledged_real'].describe()['50%'], color='magenta', linestyle='dashed', linewidth=2)\n",
        "plt.axvline(df_filt['usd_pledged_real'].describe()['mean']+df_filt['usd_pledged_real'].describe()['std']\n",
        "            , color='green', linestyle='dashed', linewidth=2)"
      ],
      "execution_count": 41,
      "outputs": [
        {
          "output_type": "execute_result",
          "data": {
            "text/plain": [
              "<matplotlib.lines.Line2D at 0x7f1311fd3e90>"
            ]
          },
          "metadata": {
            "tags": []
          },
          "execution_count": 41
        },
        {
          "output_type": "display_data",
          "data": {
            "image/png": "[encoded data removed]",
            "text/plain": [
              "<Figure size 432x288 with 1 Axes>"
            ]
          },
          "metadata": {
            "tags": [],
            "needs_background": "light"
          }
        }
      ]
    },
    {
      "cell_type": "markdown",
      "metadata": {
        "id": "e32fs7i7KyXS"
      },
      "source": [
        "# Chi Square Test"
      ]
    },
    {
      "cell_type": "markdown",
      "metadata": {
        "id": "y8m9eL4wq74l"
      },
      "source": [
        "Melakukan perhitungan Chi Square Test dengan masih menggunakan main category sebagai objek dan state yang dipilih untuk menunjukan hubungan"
      ]
    },
    {
      "cell_type": "code",
      "metadata": {
        "id": "K9TZpUTtKxqY"
      },
      "source": [
        "df_pivot=df_filt.groupby(['main_category','state']).count()[['goal','usd_pledged_real']].reset_index()"
      ],
      "execution_count": 17,
      "outputs": []
    },
    {
      "cell_type": "code",
      "metadata": {
        "colab": {
          "base_uri": "https://localhost:8080/",
          "height": 414
        },
        "id": "mmTafAHiLzl9",
        "outputId": "3a054081-b284-4787-a952-128cb7260166"
      },
      "source": [
        "df_pivot"
      ],
      "execution_count": 18,
      "outputs": [
        {
          "output_type": "execute_result",
          "data": {
            "text/html": [
              "<div>\n",
              "<style scoped>\n",
              "    .dataframe tbody tr th:only-of-type {\n",
              "        vertical-align: middle;\n",
              "    }\n",
              "\n",
              "    .dataframe tbody tr th {\n",
              "        vertical-align: top;\n",
              "    }\n",
              "\n",
              "    .dataframe thead th {\n",
              "        text-align: right;\n",
              "    }\n",
              "</style>\n",
              "<table border=\"1\" class=\"dataframe\">\n",
              "  <thead>\n",
              "    <tr style=\"text-align: right;\">\n",
              "      <th></th>\n",
              "      <th>main_category</th>\n",
              "      <th>state</th>\n",
              "      <th>goal</th>\n",
              "      <th>usd_pledged_real</th>\n",
              "    </tr>\n",
              "  </thead>\n",
              "  <tbody>\n",
              "    <tr>\n",
              "      <th>0</th>\n",
              "      <td>Art</td>\n",
              "      <td>canceled</td>\n",
              "      <td>1250</td>\n",
              "      <td>1250</td>\n",
              "    </tr>\n",
              "    <tr>\n",
              "      <th>1</th>\n",
              "      <td>Art</td>\n",
              "      <td>failed</td>\n",
              "      <td>7576</td>\n",
              "      <td>7576</td>\n",
              "    </tr>\n",
              "    <tr>\n",
              "      <th>2</th>\n",
              "      <td>Art</td>\n",
              "      <td>live</td>\n",
              "      <td>104</td>\n",
              "      <td>104</td>\n",
              "    </tr>\n",
              "    <tr>\n",
              "      <th>3</th>\n",
              "      <td>Art</td>\n",
              "      <td>successful</td>\n",
              "      <td>6096</td>\n",
              "      <td>6096</td>\n",
              "    </tr>\n",
              "    <tr>\n",
              "      <th>4</th>\n",
              "      <td>Art</td>\n",
              "      <td>suspended</td>\n",
              "      <td>55</td>\n",
              "      <td>55</td>\n",
              "    </tr>\n",
              "    <tr>\n",
              "      <th>...</th>\n",
              "      <td>...</td>\n",
              "      <td>...</td>\n",
              "      <td>...</td>\n",
              "      <td>...</td>\n",
              "    </tr>\n",
              "    <tr>\n",
              "      <th>59</th>\n",
              "      <td>Theater</td>\n",
              "      <td>failed</td>\n",
              "      <td>1992</td>\n",
              "      <td>1992</td>\n",
              "    </tr>\n",
              "    <tr>\n",
              "      <th>60</th>\n",
              "      <td>Theater</td>\n",
              "      <td>live</td>\n",
              "      <td>26</td>\n",
              "      <td>26</td>\n",
              "    </tr>\n",
              "    <tr>\n",
              "      <th>61</th>\n",
              "      <td>Theater</td>\n",
              "      <td>successful</td>\n",
              "      <td>3430</td>\n",
              "      <td>3430</td>\n",
              "    </tr>\n",
              "    <tr>\n",
              "      <th>62</th>\n",
              "      <td>Theater</td>\n",
              "      <td>suspended</td>\n",
              "      <td>12</td>\n",
              "      <td>12</td>\n",
              "    </tr>\n",
              "    <tr>\n",
              "      <th>63</th>\n",
              "      <td>Theater</td>\n",
              "      <td>undefined</td>\n",
              "      <td>1</td>\n",
              "      <td>1</td>\n",
              "    </tr>\n",
              "  </tbody>\n",
              "</table>\n",
              "<p>64 rows × 4 columns</p>\n",
              "</div>"
            ],
            "text/plain": [
              "   main_category       state  goal  usd_pledged_real\n",
              "0            Art    canceled  1250              1250\n",
              "1            Art      failed  7576              7576\n",
              "2            Art        live   104               104\n",
              "3            Art  successful  6096              6096\n",
              "4            Art   suspended    55                55\n",
              "..           ...         ...   ...               ...\n",
              "59       Theater      failed  1992              1992\n",
              "60       Theater        live    26                26\n",
              "61       Theater  successful  3430              3430\n",
              "62       Theater   suspended    12                12\n",
              "63       Theater   undefined     1                 1\n",
              "\n",
              "[64 rows x 4 columns]"
            ]
          },
          "metadata": {
            "tags": []
          },
          "execution_count": 18
        }
      ]
    },
    {
      "cell_type": "markdown",
      "metadata": {
        "id": "4GHXEE3nrRyo"
      },
      "source": [
        "Menjadikan main categori sebagai index dan state sebagai column untuk melihat nilai yang tertera pada column yang ada"
      ]
    },
    {
      "cell_type": "code",
      "metadata": {
        "id": "vAydMpQMMVvI"
      },
      "source": [
        "df_pivot = df_pivot.pivot(index=\"main_category\",columns=\"state\", values='usd_pledged_real').fillna(0)"
      ],
      "execution_count": 19,
      "outputs": []
    },
    {
      "cell_type": "code",
      "metadata": {
        "colab": {
          "base_uri": "https://localhost:8080/",
          "height": 416
        },
        "id": "DXGOcczVMfXP",
        "outputId": "0d5f60d6-b027-4a8e-ee77-8d46824c5c86"
      },
      "source": [
        "df_pivot"
      ],
      "execution_count": 20,
      "outputs": [
        {
          "output_type": "execute_result",
          "data": {
            "text/html": [
              "<div>\n",
              "<style scoped>\n",
              "    .dataframe tbody tr th:only-of-type {\n",
              "        vertical-align: middle;\n",
              "    }\n",
              "\n",
              "    .dataframe tbody tr th {\n",
              "        vertical-align: top;\n",
              "    }\n",
              "\n",
              "    .dataframe thead th {\n",
              "        text-align: right;\n",
              "    }\n",
              "</style>\n",
              "<table border=\"1\" class=\"dataframe\">\n",
              "  <thead>\n",
              "    <tr style=\"text-align: right;\">\n",
              "      <th>state</th>\n",
              "      <th>canceled</th>\n",
              "      <th>failed</th>\n",
              "      <th>live</th>\n",
              "      <th>successful</th>\n",
              "      <th>suspended</th>\n",
              "      <th>undefined</th>\n",
              "    </tr>\n",
              "    <tr>\n",
              "      <th>main_category</th>\n",
              "      <th></th>\n",
              "      <th></th>\n",
              "      <th></th>\n",
              "      <th></th>\n",
              "      <th></th>\n",
              "      <th></th>\n",
              "    </tr>\n",
              "  </thead>\n",
              "  <tbody>\n",
              "    <tr>\n",
              "      <th>Art</th>\n",
              "      <td>1250.0</td>\n",
              "      <td>7576.0</td>\n",
              "      <td>104.0</td>\n",
              "      <td>6096.0</td>\n",
              "      <td>55.0</td>\n",
              "      <td>0.0</td>\n",
              "    </tr>\n",
              "    <tr>\n",
              "      <th>Design</th>\n",
              "      <td>2218.0</td>\n",
              "      <td>7963.0</td>\n",
              "      <td>164.0</td>\n",
              "      <td>4538.0</td>\n",
              "      <td>132.0</td>\n",
              "      <td>1.0</td>\n",
              "    </tr>\n",
              "    <tr>\n",
              "      <th>Fashion</th>\n",
              "      <td>1414.0</td>\n",
              "      <td>7594.0</td>\n",
              "      <td>131.0</td>\n",
              "      <td>2742.0</td>\n",
              "      <td>73.0</td>\n",
              "      <td>2.0</td>\n",
              "    </tr>\n",
              "    <tr>\n",
              "      <th>Film &amp; Video</th>\n",
              "      <td>3148.0</td>\n",
              "      <td>17806.0</td>\n",
              "      <td>187.0</td>\n",
              "      <td>12180.0</td>\n",
              "      <td>57.0</td>\n",
              "      <td>464.0</td>\n",
              "    </tr>\n",
              "    <tr>\n",
              "      <th>Food</th>\n",
              "      <td>1184.0</td>\n",
              "      <td>8683.0</td>\n",
              "      <td>89.0</td>\n",
              "      <td>3130.0</td>\n",
              "      <td>79.0</td>\n",
              "      <td>0.0</td>\n",
              "    </tr>\n",
              "    <tr>\n",
              "      <th>Games</th>\n",
              "      <td>3285.0</td>\n",
              "      <td>8647.0</td>\n",
              "      <td>151.0</td>\n",
              "      <td>5666.0</td>\n",
              "      <td>111.0</td>\n",
              "      <td>1.0</td>\n",
              "    </tr>\n",
              "    <tr>\n",
              "      <th>Music</th>\n",
              "      <td>1790.0</td>\n",
              "      <td>11670.0</td>\n",
              "      <td>152.0</td>\n",
              "      <td>12939.0</td>\n",
              "      <td>79.0</td>\n",
              "      <td>1203.0</td>\n",
              "    </tr>\n",
              "    <tr>\n",
              "      <th>Photography</th>\n",
              "      <td>534.0</td>\n",
              "      <td>3427.0</td>\n",
              "      <td>28.0</td>\n",
              "      <td>1730.0</td>\n",
              "      <td>27.0</td>\n",
              "      <td>1.0</td>\n",
              "    </tr>\n",
              "    <tr>\n",
              "      <th>Publishing</th>\n",
              "      <td>1963.0</td>\n",
              "      <td>12495.0</td>\n",
              "      <td>168.0</td>\n",
              "      <td>6569.0</td>\n",
              "      <td>33.0</td>\n",
              "      <td>235.0</td>\n",
              "    </tr>\n",
              "    <tr>\n",
              "      <th>Technology</th>\n",
              "      <td>2417.0</td>\n",
              "      <td>11041.0</td>\n",
              "      <td>188.0</td>\n",
              "      <td>2292.0</td>\n",
              "      <td>207.0</td>\n",
              "      <td>3.0</td>\n",
              "    </tr>\n",
              "    <tr>\n",
              "      <th>Theater</th>\n",
              "      <td>339.0</td>\n",
              "      <td>1992.0</td>\n",
              "      <td>26.0</td>\n",
              "      <td>3430.0</td>\n",
              "      <td>12.0</td>\n",
              "      <td>1.0</td>\n",
              "    </tr>\n",
              "  </tbody>\n",
              "</table>\n",
              "</div>"
            ],
            "text/plain": [
              "state          canceled   failed   live  successful  suspended  undefined\n",
              "main_category                                                            \n",
              "Art              1250.0   7576.0  104.0      6096.0       55.0        0.0\n",
              "Design           2218.0   7963.0  164.0      4538.0      132.0        1.0\n",
              "Fashion          1414.0   7594.0  131.0      2742.0       73.0        2.0\n",
              "Film & Video     3148.0  17806.0  187.0     12180.0       57.0      464.0\n",
              "Food             1184.0   8683.0   89.0      3130.0       79.0        0.0\n",
              "Games            3285.0   8647.0  151.0      5666.0      111.0        1.0\n",
              "Music            1790.0  11670.0  152.0     12939.0       79.0     1203.0\n",
              "Photography       534.0   3427.0   28.0      1730.0       27.0        1.0\n",
              "Publishing       1963.0  12495.0  168.0      6569.0       33.0      235.0\n",
              "Technology       2417.0  11041.0  188.0      2292.0      207.0        3.0\n",
              "Theater           339.0   1992.0   26.0      3430.0       12.0        1.0"
            ]
          },
          "metadata": {
            "tags": []
          },
          "execution_count": 20
        }
      ]
    },
    {
      "cell_type": "markdown",
      "metadata": {
        "id": "iX9M9lLgrdHg"
      },
      "source": [
        "perhitungan chisquare dan p value dari objek diatas diman didapatkan bahwa tidak ada hubungan antara state dan main category sehingga H0 diterima karena nilai p value sama dengan 0"
      ]
    },
    {
      "cell_type": "code",
      "metadata": {
        "colab": {
          "base_uri": "https://localhost:8080/"
        },
        "id": "DBzyxGxXMqFu",
        "outputId": "79995c4a-229a-46b2-8400-a693161133f8"
      },
      "source": [
        "chisq, pvalue, df, expected = stats.chi2_contingency(df_pivot)\n",
        "print(f'Observed chi2: {chisq:.2f}')\n",
        "print(f'p-value: {pvalue:.4f}')"
      ],
      "execution_count": 21,
      "outputs": [
        {
          "output_type": "stream",
          "text": [
            "Observed chi2: 15040.71\n",
            "p-value: 0.0000\n"
          ],
          "name": "stdout"
        }
      ]
    },
    {
      "cell_type": "markdown",
      "metadata": {
        "id": "OB4R1QZ2GQQ_"
      },
      "source": [
        "#Correlation dan Variance"
      ]
    },
    {
      "cell_type": "markdown",
      "metadata": {
        "id": "3Z-Hnbejr4AE"
      },
      "source": [
        "Melihat korelasi tiap objek yang ada"
      ]
    },
    {
      "cell_type": "code",
      "metadata": {
        "colab": {
          "base_uri": "https://localhost:8080/",
          "height": 263
        },
        "id": "J9PjzWLVGUw0",
        "outputId": "3c22fe01-4491-4746-aed0-59826548f092"
      },
      "source": [
        "df_filt.corr()"
      ],
      "execution_count": 22,
      "outputs": [
        {
          "output_type": "execute_result",
          "data": {
            "text/html": [
              "<div>\n",
              "<style scoped>\n",
              "    .dataframe tbody tr th:only-of-type {\n",
              "        vertical-align: middle;\n",
              "    }\n",
              "\n",
              "    .dataframe tbody tr th {\n",
              "        vertical-align: top;\n",
              "    }\n",
              "\n",
              "    .dataframe thead th {\n",
              "        text-align: right;\n",
              "    }\n",
              "</style>\n",
              "<table border=\"1\" class=\"dataframe\">\n",
              "  <thead>\n",
              "    <tr style=\"text-align: right;\">\n",
              "      <th></th>\n",
              "      <th>ID</th>\n",
              "      <th>goal</th>\n",
              "      <th>pledged</th>\n",
              "      <th>backers</th>\n",
              "      <th>usd pledged</th>\n",
              "      <th>usd_pledged_real</th>\n",
              "      <th>usd_goal_real</th>\n",
              "    </tr>\n",
              "  </thead>\n",
              "  <tbody>\n",
              "    <tr>\n",
              "      <th>ID</th>\n",
              "      <td>1.000000</td>\n",
              "      <td>0.004245</td>\n",
              "      <td>-0.001528</td>\n",
              "      <td>-0.003235</td>\n",
              "      <td>-0.006669</td>\n",
              "      <td>-0.004852</td>\n",
              "      <td>0.004156</td>\n",
              "    </tr>\n",
              "    <tr>\n",
              "      <th>goal</th>\n",
              "      <td>0.004245</td>\n",
              "      <td>1.000000</td>\n",
              "      <td>0.012318</td>\n",
              "      <td>-0.009498</td>\n",
              "      <td>-0.005866</td>\n",
              "      <td>-0.006420</td>\n",
              "      <td>0.911722</td>\n",
              "    </tr>\n",
              "    <tr>\n",
              "      <th>pledged</th>\n",
              "      <td>-0.001528</td>\n",
              "      <td>0.012318</td>\n",
              "      <td>1.000000</td>\n",
              "      <td>0.478787</td>\n",
              "      <td>0.560691</td>\n",
              "      <td>0.656920</td>\n",
              "      <td>-0.003981</td>\n",
              "    </tr>\n",
              "    <tr>\n",
              "      <th>backers</th>\n",
              "      <td>-0.003235</td>\n",
              "      <td>-0.009498</td>\n",
              "      <td>0.478787</td>\n",
              "      <td>1.000000</td>\n",
              "      <td>0.663919</td>\n",
              "      <td>0.735554</td>\n",
              "      <td>-0.008719</td>\n",
              "    </tr>\n",
              "    <tr>\n",
              "      <th>usd pledged</th>\n",
              "      <td>-0.006669</td>\n",
              "      <td>-0.005866</td>\n",
              "      <td>0.560691</td>\n",
              "      <td>0.663919</td>\n",
              "      <td>1.000000</td>\n",
              "      <td>0.897171</td>\n",
              "      <td>-0.004464</td>\n",
              "    </tr>\n",
              "    <tr>\n",
              "      <th>usd_pledged_real</th>\n",
              "      <td>-0.004852</td>\n",
              "      <td>-0.006420</td>\n",
              "      <td>0.656920</td>\n",
              "      <td>0.735554</td>\n",
              "      <td>0.897171</td>\n",
              "      <td>1.000000</td>\n",
              "      <td>-0.005424</td>\n",
              "    </tr>\n",
              "    <tr>\n",
              "      <th>usd_goal_real</th>\n",
              "      <td>0.004156</td>\n",
              "      <td>0.911722</td>\n",
              "      <td>-0.003981</td>\n",
              "      <td>-0.008719</td>\n",
              "      <td>-0.004464</td>\n",
              "      <td>-0.005424</td>\n",
              "      <td>1.000000</td>\n",
              "    </tr>\n",
              "  </tbody>\n",
              "</table>\n",
              "</div>"
            ],
            "text/plain": [
              "                        ID      goal  ...  usd_pledged_real  usd_goal_real\n",
              "ID                1.000000  0.004245  ...         -0.004852       0.004156\n",
              "goal              0.004245  1.000000  ...         -0.006420       0.911722\n",
              "pledged          -0.001528  0.012318  ...          0.656920      -0.003981\n",
              "backers          -0.003235 -0.009498  ...          0.735554      -0.008719\n",
              "usd pledged      -0.006669 -0.005866  ...          0.897171      -0.004464\n",
              "usd_pledged_real -0.004852 -0.006420  ...          1.000000      -0.005424\n",
              "usd_goal_real     0.004156  0.911722  ...         -0.005424       1.000000\n",
              "\n",
              "[7 rows x 7 columns]"
            ]
          },
          "metadata": {
            "tags": []
          },
          "execution_count": 22
        }
      ]
    },
    {
      "cell_type": "markdown",
      "metadata": {
        "id": "5H0Xmv0EsJEm"
      },
      "source": [
        "melakukan ploting scater untuk meilhat hubungan secara jelas dimana disi diambil usd pledge real dan goal sebagai objek"
      ]
    },
    {
      "cell_type": "code",
      "metadata": {
        "colab": {
          "base_uri": "https://localhost:8080/",
          "height": 295
        },
        "id": "6HLs10PmNae9",
        "outputId": "a0e616cb-f3ed-4f4f-f9f8-b2cd0445b988"
      },
      "source": [
        "plt.scatter(df_filt['goal'],df_filt['usd_pledged_real'])"
      ],
      "execution_count": 23,
      "outputs": [
        {
          "output_type": "execute_result",
          "data": {
            "text/plain": [
              "<matplotlib.collections.PathCollection at 0x7f131adab610>"
            ]
          },
          "metadata": {
            "tags": []
          },
          "execution_count": 23
        },
        {
          "output_type": "display_data",
          "data": {
            "image/png": "[encoded data removed]",
            "text/plain": [
              "<Figure size 432x288 with 1 Axes>"
            ]
          },
          "metadata": {
            "tags": [],
            "needs_background": "light"
          }
        }
      ]
    },
    {
      "cell_type": "markdown",
      "metadata": {
        "id": "_WL_LyLIVdIP"
      },
      "source": [
        "plot diatas menunjukan bahwa terdapat hubungan negatif antara kedua objek yang dipilih"
      ]
    },
    {
      "cell_type": "code",
      "metadata": {
        "id": "Yswaie_o3CSn",
        "colab": {
          "base_uri": "https://localhost:8080/"
        },
        "outputId": "dd5cdd6e-a121-4168-a479-7bdcedaf668e"
      },
      "source": [
        "df_filt['usd_pledged_real'].var()"
      ],
      "execution_count": 24,
      "outputs": [
        {
          "output_type": "execute_result",
          "data": {
            "text/plain": [
              "51363422.451744705"
            ]
          },
          "metadata": {
            "tags": []
          },
          "execution_count": 24
        }
      ]
    },
    {
      "cell_type": "markdown",
      "metadata": {
        "id": "8DEBn-kZNyYT"
      },
      "source": [
        "Nilai covarian yang didapatkan dari objek usd pledge real"
      ]
    },
    {
      "cell_type": "markdown",
      "metadata": {
        "id": "vONTOO_AODJO"
      },
      "source": [
        "#Two sample test"
      ]
    },
    {
      "cell_type": "markdown",
      "metadata": {
        "id": "VDFApWBSswZa"
      },
      "source": [
        "Melaukan Two sample test didasari hubungan main category dengan usd pledge real"
      ]
    },
    {
      "cell_type": "code",
      "metadata": {
        "id": "LmttAMmMPHdn"
      },
      "source": [
        "df_MC=df_filt.groupby('main_category').agg({'usd_pledged_real':['count','mean']}).reset_index()\n",
        "df_MC.columns = df_MC.columns.droplevel()"
      ],
      "execution_count": 25,
      "outputs": []
    },
    {
      "cell_type": "code",
      "metadata": {
        "colab": {
          "base_uri": "https://localhost:8080/",
          "height": 202
        },
        "id": "eErLBdNcPOtu",
        "outputId": "a441ec21-229f-4fc8-cf3d-b884af14634f"
      },
      "source": [
        "df_MC.sort_values('count',ascending=False).head(5)"
      ],
      "execution_count": 26,
      "outputs": [
        {
          "output_type": "execute_result",
          "data": {
            "text/html": [
              "<div>\n",
              "<style scoped>\n",
              "    .dataframe tbody tr th:only-of-type {\n",
              "        vertical-align: middle;\n",
              "    }\n",
              "\n",
              "    .dataframe tbody tr th {\n",
              "        vertical-align: top;\n",
              "    }\n",
              "\n",
              "    .dataframe thead th {\n",
              "        text-align: right;\n",
              "    }\n",
              "</style>\n",
              "<table border=\"1\" class=\"dataframe\">\n",
              "  <thead>\n",
              "    <tr style=\"text-align: right;\">\n",
              "      <th></th>\n",
              "      <th></th>\n",
              "      <th>count</th>\n",
              "      <th>mean</th>\n",
              "    </tr>\n",
              "  </thead>\n",
              "  <tbody>\n",
              "    <tr>\n",
              "      <th>3</th>\n",
              "      <td>Film &amp; Video</td>\n",
              "      <td>33842</td>\n",
              "      <td>3811.017832</td>\n",
              "    </tr>\n",
              "    <tr>\n",
              "      <th>6</th>\n",
              "      <td>Music</td>\n",
              "      <td>27833</td>\n",
              "      <td>3289.394303</td>\n",
              "    </tr>\n",
              "    <tr>\n",
              "      <th>8</th>\n",
              "      <td>Publishing</td>\n",
              "      <td>21463</td>\n",
              "      <td>2507.449647</td>\n",
              "    </tr>\n",
              "    <tr>\n",
              "      <th>5</th>\n",
              "      <td>Games</td>\n",
              "      <td>17861</td>\n",
              "      <td>5133.575016</td>\n",
              "    </tr>\n",
              "    <tr>\n",
              "      <th>9</th>\n",
              "      <td>Technology</td>\n",
              "      <td>16148</td>\n",
              "      <td>3722.464419</td>\n",
              "    </tr>\n",
              "  </tbody>\n",
              "</table>\n",
              "</div>"
            ],
            "text/plain": [
              "                 count         mean\n",
              "3  Film & Video  33842  3811.017832\n",
              "6         Music  27833  3289.394303\n",
              "8    Publishing  21463  2507.449647\n",
              "5         Games  17861  5133.575016\n",
              "9    Technology  16148  3722.464419"
            ]
          },
          "metadata": {
            "tags": []
          },
          "execution_count": 26
        }
      ]
    },
    {
      "cell_type": "markdown",
      "metadata": {
        "id": "HvgSRz25s-hq"
      },
      "source": [
        "Mengambil sampel pada main category untuk usd pledge real dengan objek film dan video serta games"
      ]
    },
    {
      "cell_type": "code",
      "metadata": {
        "id": "gxOBs9TE3COZ"
      },
      "source": [
        "df_FV = df_filt[df_filt['main_category']=='Film & Video']\n",
        "df_Gem = df_filt[df_filt['main_category']=='Games']"
      ],
      "execution_count": 27,
      "outputs": []
    },
    {
      "cell_type": "markdown",
      "metadata": {
        "id": "twqmU0rItKq2"
      },
      "source": [
        "Plot kedua objek yang dipilih sebelumnya"
      ]
    },
    {
      "cell_type": "code",
      "metadata": {
        "colab": {
          "base_uri": "https://localhost:8080/",
          "height": 282
        },
        "id": "A94uCeTECAQL",
        "outputId": "c3557633-2baf-432f-ed61-2019f7693b1e"
      },
      "source": [
        "df_FV['usd_pledged_real'].plot()\n"
      ],
      "execution_count": 28,
      "outputs": [
        {
          "output_type": "execute_result",
          "data": {
            "text/plain": [
              "<matplotlib.axes._subplots.AxesSubplot at 0x7f131243cbd0>"
            ]
          },
          "metadata": {
            "tags": []
          },
          "execution_count": 28
        },
        {
          "output_type": "display_data",
          "data": {
            "image/png": "[encoded data removed]",
            "text/plain": [
              "<Figure size 432x288 with 1 Axes>"
            ]
          },
          "metadata": {
            "tags": [],
            "needs_background": "light"
          }
        }
      ]
    },
    {
      "cell_type": "code",
      "metadata": {
        "colab": {
          "base_uri": "https://localhost:8080/",
          "height": 282
        },
        "id": "Jrg4MdV7RFvH",
        "outputId": "01426756-701b-4c04-c63d-69cbf796c5ec"
      },
      "source": [
        "df_Gem['usd_pledged_real'].plot()"
      ],
      "execution_count": 29,
      "outputs": [
        {
          "output_type": "execute_result",
          "data": {
            "text/plain": [
              "<matplotlib.axes._subplots.AxesSubplot at 0x7f13123b3cd0>"
            ]
          },
          "metadata": {
            "tags": []
          },
          "execution_count": 29
        },
        {
          "output_type": "display_data",
          "data": {
            "image/png": "[encoded data removed]",
            "text/plain": [
              "<Figure size 432x288 with 1 Axes>"
            ]
          },
          "metadata": {
            "tags": [],
            "needs_background": "light"
          }
        }
      ]
    },
    {
      "cell_type": "markdown",
      "metadata": {
        "id": "RAikT1vAtcUT"
      },
      "source": [
        "Melakukan perhitungan sederhana dengan mencari nilai yang diperlukan dimana dicari STD, mean, kurtosis, Tstatistic dan pvalue"
      ]
    },
    {
      "cell_type": "code",
      "metadata": {
        "colab": {
          "base_uri": "https://localhost:8080/",
          "height": 371
        },
        "id": "O31mwp2j_h-m",
        "outputId": "2e303c0f-f9de-4dea-bd35-8b23a2361ba5"
      },
      "source": [
        "np.random.seed(123)\n",
        "nonMath =df_FV['usd_pledged_real']\n",
        "math = df_Gem['usd_pledged_real']\n",
        "print(\"Film & Video sample mean:\" + str(nonMath.mean()))\n",
        "print(\"Film & Video sample std:\" + str(nonMath.std()))\n",
        "print(\"Film & Video Kurtosis:\" + str(nonMath.kurtosis()))\n",
        "print(\"Games sample mean:\" + str(math.mean()))\n",
        "\n",
        "# Independent T-Test\n",
        "t,p = stats.ttest_ind(math, nonMath,equal_var=False)\n",
        "# ttest_ind is 2-tailed, so half the resulting p-value to get a 1-tailed p-value\n",
        "p1 = '%f' % (p/2)\n",
        "\n",
        "#2-tailed\n",
        "print(\"t-statistic:\" + str(t))\n",
        "print(\"p-value:\" + str(p1))\n",
        "\n",
        "pop = np.random.normal(nonMath.mean(), nonMath.std(), 100000)\n",
        "# calculate a 90% confidence interval. 10% of the probability is outside this, 5% in each tail\n",
        "ci = stats.norm.interval(0.90, nonMath.mean(), nonMath.std())\n",
        "plt.hist(pop, bins=100)\n",
        "# show the hypothesized population mean\n",
        "plt.axvline(pop.mean(), color='yellow', linestyle='dashed', linewidth=2)\n",
        "# show the right-tail confidence interval threshold - 5% of propbability is under the curve to the right of this.\n",
        "plt.axvline(ci[1], color='red', linestyle='dashed', linewidth=2)\n",
        "# show the right-tail confidence interval threshold - 5% of propbability is under the curve to the right of this.\n",
        "plt.axvline(ci[0], color='red', linestyle='dashed', linewidth=2)\n",
        "# show the t-statistic - the p-value is the area under the curve to the right of this\n",
        "plt.axvline(pop.mean() +  t*pop.std(), color='magenta', linestyle='dashed', linewidth=2)\n",
        "plt.show()"
      ],
      "execution_count": 30,
      "outputs": [
        {
          "output_type": "stream",
          "text": [
            "Film & Video sample mean:3811.0178322794072\n",
            "Film & Video sample std:7229.879780654792\n",
            "Film & Video Kurtosis:10.646061420064912\n",
            "Games sample mean:5133.575015956553\n",
            "t-statistic:16.95153751652071\n",
            "p-value:0.000000\n"
          ],
          "name": "stdout"
        },
        {
          "output_type": "display_data",
          "data": {
            "image/png": "[encoded data removed]",
            "text/plain": [
              "<Figure size 432x288 with 1 Axes>"
            ]
          },
          "metadata": {
            "tags": [],
            "needs_background": "light"
          }
        }
      ]
    },
    {
      "cell_type": "markdown",
      "metadata": {
        "id": "GOzfwkc7keI3"
      },
      "source": [
        "# Kesimpulan\n",
        "H0 = 0\n",
        "H1 != 0,\n",
        "\n",
        "hipotesis testing degan objek utama usd pledge real dan melihat keterkaitan dengan main category dimana dilakukan chi square test dan two sample test didapatkan bahwa keduanya tidak meiliki hubungan. Hal ini dapat dilihat dengan nilai p-value yang sama dengan 0 dimana critical value adalah sebesar 0.05 dengan demikian maka H0 diterima dan H1 ditolak. Selain itu kita dapat melihat nilai kurtosis dimana menunjukan keruncingan kurva yang terbentuk yang mana curva diatas berbentuk runcing yang menunjukan distribusi yang tidak merata. "
      ]
    }
  ]
}