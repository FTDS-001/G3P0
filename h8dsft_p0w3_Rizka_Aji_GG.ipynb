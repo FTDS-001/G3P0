{
  "nbformat": 4,
  "nbformat_minor": 0,
  "metadata": {
    "colab": {
      "name": "h8dsft_p0w3_Rizka Aji GG.ipynb",
      "provenance": [],
      "collapsed_sections": []
    },
    "kernelspec": {
      "name": "python3",
      "display_name": "Python 3"
    },
    "language_info": {
      "name": "python"
    }
  },
  "cells": [
    {
      "cell_type": "markdown",
      "metadata": {
        "id": "Hd6BSuOLRbQC"
      },
      "source": [
        "#Informasi singkat\n",
        "Nama : Rizka Aji GG\n",
        "\n",
        "Batch : 01"
      ]
    },
    {
      "cell_type": "markdown",
      "metadata": {
        "id": "Sn7LnKjmQ92X"
      },
      "source": [
        "#Dataset\n",
        "Dataset yang menjadi rujukan adalah dataset yang berisikan informasi berkaitan dengan kickstart project dimana terdapat beberapa kategori, besaran uang yang dibutuhkan, kapan waktu awal dan akhir penggalangan dibuat, serta kejelasan status yang didapat."
      ]
    },
    {
      "cell_type": "markdown",
      "metadata": {
        "id": "CPfDCit4PH-T"
      },
      "source": [
        "#Objectives\n",
        "\n",
        "\n",
        "\n",
        "*   Mampu memuat melakukan analisis sederhana\n",
        "*   Mampu menghitung central tendency,korelasi, dan covarian\n",
        "*   Mampu melakukan perhitungan dengan beberapa pengujian \n",
        "*   Mampu membuat membuat Hipotesis\n",
        "\n",
        "\n",
        "\n",
        "\n",
        "\n",
        "\n"
      ]
    },
    {
      "cell_type": "markdown",
      "metadata": {
        "id": "jXF2IipBSILc"
      },
      "source": [
        "#Import Library "
      ]
    },
    {
      "cell_type": "code",
      "metadata": {
        "id": "zF-Gf3Soa4Yw"
      },
      "source": [
        "import pandas as pd\n",
        "import numpy as np\n",
        "import matplotlib.pyplot as plt\n",
        "import scipy.stats as stats\n",
        "from scipy.stats import t as t_func\n",
        "from scipy.stats import norm\n",
        "from scipy.stats import kurtosis\n",
        "\n",
        "%matplotlib inline"
      ],
      "execution_count": 1,
      "outputs": []
    },
    {
      "cell_type": "markdown",
      "metadata": {
        "id": "id_aqE-BBsE-"
      },
      "source": [
        "#Data Preprocess"
      ]
    },
    {
      "cell_type": "markdown",
      "metadata": {
        "id": "o1DM9xZHldw6"
      },
      "source": [
        "loading data set project 2018"
      ]
    },
    {
      "cell_type": "code",
      "metadata": {
        "id": "ez7pWfa-m_Qg",
        "colab": {
          "base_uri": "https://localhost:8080/",
          "height": 802
        },
        "outputId": "5dee7eac-ed16-48bc-9504-660c03228c5f"
      },
      "source": [
        "df_raw = pd.read_csv('/content/ks-projects-201801.csv',error_bad_lines=False)\n",
        "print(df_raw.shape)\n",
        "df_raw"
      ],
      "execution_count": 2,
      "outputs": [
        {
          "output_type": "stream",
          "text": [
            "(34095, 15)\n"
          ],
          "name": "stdout"
        },
        {
          "output_type": "execute_result",
          "data": {
            "text/html": [
              "<div>\n",
              "<style scoped>\n",
              "    .dataframe tbody tr th:only-of-type {\n",
              "        vertical-align: middle;\n",
              "    }\n",
              "\n",
              "    .dataframe tbody tr th {\n",
              "        vertical-align: top;\n",
              "    }\n",
              "\n",
              "    .dataframe thead th {\n",
              "        text-align: right;\n",
              "    }\n",
              "</style>\n",
              "<table border=\"1\" class=\"dataframe\">\n",
              "  <thead>\n",
              "    <tr style=\"text-align: right;\">\n",
              "      <th></th>\n",
              "      <th>ID</th>\n",
              "      <th>name</th>\n",
              "      <th>category</th>\n",
              "      <th>main_category</th>\n",
              "      <th>currency</th>\n",
              "      <th>deadline</th>\n",
              "      <th>goal</th>\n",
              "      <th>launched</th>\n",
              "      <th>pledged</th>\n",
              "      <th>state</th>\n",
              "      <th>backers</th>\n",
              "      <th>country</th>\n",
              "      <th>usd pledged</th>\n",
              "      <th>usd_pledged_real</th>\n",
              "      <th>usd_goal_real</th>\n",
              "    </tr>\n",
              "  </thead>\n",
              "  <tbody>\n",
              "    <tr>\n",
              "      <th>0</th>\n",
              "      <td>1000002330</td>\n",
              "      <td>The Songs of Adelaide &amp; Abullah</td>\n",
              "      <td>Poetry</td>\n",
              "      <td>Publishing</td>\n",
              "      <td>GBP</td>\n",
              "      <td>2015-10-09</td>\n",
              "      <td>1000.0</td>\n",
              "      <td>2015-08-11 12:12:28</td>\n",
              "      <td>0.00</td>\n",
              "      <td>failed</td>\n",
              "      <td>0.0</td>\n",
              "      <td>GB</td>\n",
              "      <td>0.00</td>\n",
              "      <td>0.00</td>\n",
              "      <td>1533.95</td>\n",
              "    </tr>\n",
              "    <tr>\n",
              "      <th>1</th>\n",
              "      <td>1000003930</td>\n",
              "      <td>Greeting From Earth: ZGAC Arts Capsule For ET</td>\n",
              "      <td>Narrative Film</td>\n",
              "      <td>Film &amp; Video</td>\n",
              "      <td>USD</td>\n",
              "      <td>2017-11-01</td>\n",
              "      <td>30000.0</td>\n",
              "      <td>2017-09-02 04:43:57</td>\n",
              "      <td>2421.00</td>\n",
              "      <td>failed</td>\n",
              "      <td>15.0</td>\n",
              "      <td>US</td>\n",
              "      <td>100.00</td>\n",
              "      <td>2421.00</td>\n",
              "      <td>30000.00</td>\n",
              "    </tr>\n",
              "    <tr>\n",
              "      <th>2</th>\n",
              "      <td>1000004038</td>\n",
              "      <td>Where is Hank?</td>\n",
              "      <td>Narrative Film</td>\n",
              "      <td>Film &amp; Video</td>\n",
              "      <td>USD</td>\n",
              "      <td>2013-02-26</td>\n",
              "      <td>45000.0</td>\n",
              "      <td>2013-01-12 00:20:50</td>\n",
              "      <td>220.00</td>\n",
              "      <td>failed</td>\n",
              "      <td>3.0</td>\n",
              "      <td>US</td>\n",
              "      <td>220.00</td>\n",
              "      <td>220.00</td>\n",
              "      <td>45000.00</td>\n",
              "    </tr>\n",
              "    <tr>\n",
              "      <th>3</th>\n",
              "      <td>1000007540</td>\n",
              "      <td>ToshiCapital Rekordz Needs Help to Complete Album</td>\n",
              "      <td>Music</td>\n",
              "      <td>Music</td>\n",
              "      <td>USD</td>\n",
              "      <td>2012-04-16</td>\n",
              "      <td>5000.0</td>\n",
              "      <td>2012-03-17 03:24:11</td>\n",
              "      <td>1.00</td>\n",
              "      <td>failed</td>\n",
              "      <td>1.0</td>\n",
              "      <td>US</td>\n",
              "      <td>1.00</td>\n",
              "      <td>1.00</td>\n",
              "      <td>5000.00</td>\n",
              "    </tr>\n",
              "    <tr>\n",
              "      <th>4</th>\n",
              "      <td>1000011046</td>\n",
              "      <td>Community Film Project: The Art of Neighborhoo...</td>\n",
              "      <td>Film &amp; Video</td>\n",
              "      <td>Film &amp; Video</td>\n",
              "      <td>USD</td>\n",
              "      <td>2015-08-29</td>\n",
              "      <td>19500.0</td>\n",
              "      <td>2015-07-04 08:35:03</td>\n",
              "      <td>1283.00</td>\n",
              "      <td>canceled</td>\n",
              "      <td>14.0</td>\n",
              "      <td>US</td>\n",
              "      <td>1283.00</td>\n",
              "      <td>1283.00</td>\n",
              "      <td>19500.00</td>\n",
              "    </tr>\n",
              "    <tr>\n",
              "      <th>...</th>\n",
              "      <td>...</td>\n",
              "      <td>...</td>\n",
              "      <td>...</td>\n",
              "      <td>...</td>\n",
              "      <td>...</td>\n",
              "      <td>...</td>\n",
              "      <td>...</td>\n",
              "      <td>...</td>\n",
              "      <td>...</td>\n",
              "      <td>...</td>\n",
              "      <td>...</td>\n",
              "      <td>...</td>\n",
              "      <td>...</td>\n",
              "      <td>...</td>\n",
              "      <td>...</td>\n",
              "    </tr>\n",
              "    <tr>\n",
              "      <th>34090</th>\n",
              "      <td>1173028570</td>\n",
              "      <td>Change Your Mind - hit song inspires new book ...</td>\n",
              "      <td>Publishing</td>\n",
              "      <td>Publishing</td>\n",
              "      <td>USD</td>\n",
              "      <td>2015-06-26</td>\n",
              "      <td>15000.0</td>\n",
              "      <td>2015-05-26 22:40:28</td>\n",
              "      <td>70770.55</td>\n",
              "      <td>successful</td>\n",
              "      <td>444.0</td>\n",
              "      <td>US</td>\n",
              "      <td>70770.55</td>\n",
              "      <td>70770.55</td>\n",
              "      <td>15000.00</td>\n",
              "    </tr>\n",
              "    <tr>\n",
              "      <th>34091</th>\n",
              "      <td>1173028666</td>\n",
              "      <td>Danilo Gabrielli: Clothing to Make Women Feel ...</td>\n",
              "      <td>Fashion</td>\n",
              "      <td>Fashion</td>\n",
              "      <td>USD</td>\n",
              "      <td>2013-08-09</td>\n",
              "      <td>40000.0</td>\n",
              "      <td>2013-07-10 16:31:57</td>\n",
              "      <td>600.00</td>\n",
              "      <td>failed</td>\n",
              "      <td>2.0</td>\n",
              "      <td>US</td>\n",
              "      <td>600.00</td>\n",
              "      <td>600.00</td>\n",
              "      <td>40000.00</td>\n",
              "    </tr>\n",
              "    <tr>\n",
              "      <th>34092</th>\n",
              "      <td>117302953</td>\n",
              "      <td>Princess Cut - A Christian Romance Movie</td>\n",
              "      <td>Romance</td>\n",
              "      <td>Film &amp; Video</td>\n",
              "      <td>USD</td>\n",
              "      <td>2014-08-20</td>\n",
              "      <td>10000.0</td>\n",
              "      <td>2014-08-05 20:59:36</td>\n",
              "      <td>12700.00</td>\n",
              "      <td>successful</td>\n",
              "      <td>171.0</td>\n",
              "      <td>US</td>\n",
              "      <td>12700.00</td>\n",
              "      <td>12700.00</td>\n",
              "      <td>10000.00</td>\n",
              "    </tr>\n",
              "    <tr>\n",
              "      <th>34093</th>\n",
              "      <td>1173030295</td>\n",
              "      <td>LOCAL 180° Family Farm</td>\n",
              "      <td>Farms</td>\n",
              "      <td>Food</td>\n",
              "      <td>USD</td>\n",
              "      <td>2017-02-20</td>\n",
              "      <td>10000.0</td>\n",
              "      <td>2017-02-06 19:57:17</td>\n",
              "      <td>10646.77</td>\n",
              "      <td>successful</td>\n",
              "      <td>163.0</td>\n",
              "      <td>US</td>\n",
              "      <td>1625.00</td>\n",
              "      <td>10646.77</td>\n",
              "      <td>10000.00</td>\n",
              "    </tr>\n",
              "    <tr>\n",
              "      <th>34094</th>\n",
              "      <td>1173035522</td>\n",
              "      <td>GamezTournamen</td>\n",
              "      <td>NaN</td>\n",
              "      <td>NaN</td>\n",
              "      <td>NaN</td>\n",
              "      <td>NaN</td>\n",
              "      <td>NaN</td>\n",
              "      <td>NaN</td>\n",
              "      <td>NaN</td>\n",
              "      <td>NaN</td>\n",
              "      <td>NaN</td>\n",
              "      <td>NaN</td>\n",
              "      <td>NaN</td>\n",
              "      <td>NaN</td>\n",
              "      <td>NaN</td>\n",
              "    </tr>\n",
              "  </tbody>\n",
              "</table>\n",
              "<p>34095 rows × 15 columns</p>\n",
              "</div>"
            ],
            "text/plain": [
              "               ID  ... usd_goal_real\n",
              "0      1000002330  ...       1533.95\n",
              "1      1000003930  ...      30000.00\n",
              "2      1000004038  ...      45000.00\n",
              "3      1000007540  ...       5000.00\n",
              "4      1000011046  ...      19500.00\n",
              "...           ...  ...           ...\n",
              "34090  1173028570  ...      15000.00\n",
              "34091  1173028666  ...      40000.00\n",
              "34092   117302953  ...      10000.00\n",
              "34093  1173030295  ...      10000.00\n",
              "34094  1173035522  ...           NaN\n",
              "\n",
              "[34095 rows x 15 columns]"
            ]
          },
          "metadata": {
            "tags": []
          },
          "execution_count": 2
        }
      ]
    },
    {
      "cell_type": "markdown",
      "metadata": {
        "id": "c4jdQrqGlmKy"
      },
      "source": [
        "Menunjukan informasi mengenai jenis data yang ada"
      ]
    },
    {
      "cell_type": "code",
      "metadata": {
        "id": "qOUAUS3nd6gA",
        "colab": {
          "base_uri": "https://localhost:8080/"
        },
        "outputId": "096712ef-d5f2-4584-9968-89b783e1ce7f"
      },
      "source": [
        "df_raw.info()"
      ],
      "execution_count": 3,
      "outputs": [
        {
          "output_type": "stream",
          "text": [
            "<class 'pandas.core.frame.DataFrame'>\n",
            "RangeIndex: 34095 entries, 0 to 34094\n",
            "Data columns (total 15 columns):\n",
            " #   Column            Non-Null Count  Dtype  \n",
            "---  ------            --------------  -----  \n",
            " 0   ID                34095 non-null  int64  \n",
            " 1   name              34095 non-null  object \n",
            " 2   category          34094 non-null  object \n",
            " 3   main_category     34094 non-null  object \n",
            " 4   currency          34094 non-null  object \n",
            " 5   deadline          34094 non-null  object \n",
            " 6   goal              34094 non-null  float64\n",
            " 7   launched          34094 non-null  object \n",
            " 8   pledged           34094 non-null  float64\n",
            " 9   state             34094 non-null  object \n",
            " 10  backers           34094 non-null  float64\n",
            " 11  country           34094 non-null  object \n",
            " 12  usd pledged       33758 non-null  float64\n",
            " 13  usd_pledged_real  34094 non-null  float64\n",
            " 14  usd_goal_real     34094 non-null  float64\n",
            "dtypes: float64(6), int64(1), object(8)\n",
            "memory usage: 3.9+ MB\n"
          ],
          "name": "stdout"
        }
      ]
    },
    {
      "cell_type": "markdown",
      "metadata": {
        "id": "CJtUyEsNlv90"
      },
      "source": [
        "Menampilkan histogram berdasarkan USD pledged real yang merupakan objek pengamatan"
      ]
    },
    {
      "cell_type": "code",
      "metadata": {
        "colab": {
          "base_uri": "https://localhost:8080/",
          "height": 295
        },
        "id": "1TPtM9ruhibx",
        "outputId": "7da7ec90-40f3-4da0-fa69-80ae5681daf1"
      },
      "source": [
        "df_raw['usd_pledged_real'].plot.hist(bins=30, density=False)"
      ],
      "execution_count": 4,
      "outputs": [
        {
          "output_type": "execute_result",
          "data": {
            "text/plain": [
              "<matplotlib.axes._subplots.AxesSubplot at 0x7f875dcede50>"
            ]
          },
          "metadata": {
            "tags": []
          },
          "execution_count": 4
        },
        {
          "output_type": "display_data",
          "data": {
            "image/png": "[encoded data removed]",
            "text/plain": [
              "<Figure size 432x288 with 1 Axes>"
            ]
          },
          "metadata": {
            "tags": [],
            "needs_background": "light"
          }
        }
      ]
    },
    {
      "cell_type": "markdown",
      "metadata": {
        "id": "eOlVfblQDfGq"
      },
      "source": [
        "#Filtering"
      ]
    },
    {
      "cell_type": "markdown",
      "metadata": {
        "id": "-JVHiB2Q2FkB"
      },
      "source": [
        "melakukan filtering untuk memperjelas objek yang diamati"
      ]
    },
    {
      "cell_type": "code",
      "metadata": {
        "id": "FWmXan61iqyG"
      },
      "source": [
        "df_filt = df_raw[df_raw['usd_pledged_real']<=50000]"
      ],
      "execution_count": 5,
      "outputs": []
    },
    {
      "cell_type": "markdown",
      "metadata": {
        "id": "82tYQuQumbeG"
      },
      "source": [
        "histogram hasil filtering dengan nilai dibaha sama dengan 50000"
      ]
    },
    {
      "cell_type": "code",
      "metadata": {
        "colab": {
          "base_uri": "https://localhost:8080/",
          "height": 282
        },
        "id": "BKqQASibjk-7",
        "outputId": "f1e53b17-d6b7-4d48-f6ce-c38f86d4ca17"
      },
      "source": [
        "df_filt['usd_pledged_real'].plot.hist(bins=30, density=False)"
      ],
      "execution_count": 6,
      "outputs": [
        {
          "output_type": "execute_result",
          "data": {
            "text/plain": [
              "<matplotlib.axes._subplots.AxesSubplot at 0x7f874e146890>"
            ]
          },
          "metadata": {
            "tags": []
          },
          "execution_count": 6
        },
        {
          "output_type": "display_data",
          "data": {
            "image/png": "[encoded data removed]",
            "text/plain": [
              "<Figure size 432x288 with 1 Axes>"
            ]
          },
          "metadata": {
            "tags": [],
            "needs_background": "light"
          }
        }
      ]
    },
    {
      "cell_type": "markdown",
      "metadata": {
        "id": "84FUam5Y2KBU"
      },
      "source": [
        "Melakukan pengamatan lain dengan objek Main Category"
      ]
    },
    {
      "cell_type": "code",
      "metadata": {
        "colab": {
          "base_uri": "https://localhost:8080/",
          "height": 575
        },
        "id": "PueRyhhQlhL2",
        "outputId": "669914ca-ad01-455c-b37e-73154aae1f05"
      },
      "source": [
        "df_filt.groupby('main_category').count()"
      ],
      "execution_count": 7,
      "outputs": [
        {
          "output_type": "execute_result",
          "data": {
            "text/html": [
              "<div>\n",
              "<style scoped>\n",
              "    .dataframe tbody tr th:only-of-type {\n",
              "        vertical-align: middle;\n",
              "    }\n",
              "\n",
              "    .dataframe tbody tr th {\n",
              "        vertical-align: top;\n",
              "    }\n",
              "\n",
              "    .dataframe thead th {\n",
              "        text-align: right;\n",
              "    }\n",
              "</style>\n",
              "<table border=\"1\" class=\"dataframe\">\n",
              "  <thead>\n",
              "    <tr style=\"text-align: right;\">\n",
              "      <th></th>\n",
              "      <th>ID</th>\n",
              "      <th>name</th>\n",
              "      <th>category</th>\n",
              "      <th>currency</th>\n",
              "      <th>deadline</th>\n",
              "      <th>goal</th>\n",
              "      <th>launched</th>\n",
              "      <th>pledged</th>\n",
              "      <th>state</th>\n",
              "      <th>backers</th>\n",
              "      <th>country</th>\n",
              "      <th>usd pledged</th>\n",
              "      <th>usd_pledged_real</th>\n",
              "      <th>usd_goal_real</th>\n",
              "    </tr>\n",
              "    <tr>\n",
              "      <th>main_category</th>\n",
              "      <th></th>\n",
              "      <th></th>\n",
              "      <th></th>\n",
              "      <th></th>\n",
              "      <th></th>\n",
              "      <th></th>\n",
              "      <th></th>\n",
              "      <th></th>\n",
              "      <th></th>\n",
              "      <th></th>\n",
              "      <th></th>\n",
              "      <th></th>\n",
              "      <th></th>\n",
              "      <th></th>\n",
              "    </tr>\n",
              "  </thead>\n",
              "  <tbody>\n",
              "    <tr>\n",
              "      <th>Art</th>\n",
              "      <td>2536</td>\n",
              "      <td>2536</td>\n",
              "      <td>2536</td>\n",
              "      <td>2536</td>\n",
              "      <td>2536</td>\n",
              "      <td>2536</td>\n",
              "      <td>2536</td>\n",
              "      <td>2536</td>\n",
              "      <td>2536</td>\n",
              "      <td>2536</td>\n",
              "      <td>2536</td>\n",
              "      <td>2536</td>\n",
              "      <td>2536</td>\n",
              "      <td>2536</td>\n",
              "    </tr>\n",
              "    <tr>\n",
              "      <th>Comics</th>\n",
              "      <td>968</td>\n",
              "      <td>968</td>\n",
              "      <td>968</td>\n",
              "      <td>968</td>\n",
              "      <td>968</td>\n",
              "      <td>968</td>\n",
              "      <td>968</td>\n",
              "      <td>968</td>\n",
              "      <td>968</td>\n",
              "      <td>968</td>\n",
              "      <td>968</td>\n",
              "      <td>968</td>\n",
              "      <td>968</td>\n",
              "      <td>968</td>\n",
              "    </tr>\n",
              "    <tr>\n",
              "      <th>Crafts</th>\n",
              "      <td>821</td>\n",
              "      <td>821</td>\n",
              "      <td>821</td>\n",
              "      <td>821</td>\n",
              "      <td>821</td>\n",
              "      <td>821</td>\n",
              "      <td>821</td>\n",
              "      <td>821</td>\n",
              "      <td>821</td>\n",
              "      <td>821</td>\n",
              "      <td>821</td>\n",
              "      <td>821</td>\n",
              "      <td>821</td>\n",
              "      <td>821</td>\n",
              "    </tr>\n",
              "    <tr>\n",
              "      <th>Dance</th>\n",
              "      <td>343</td>\n",
              "      <td>343</td>\n",
              "      <td>343</td>\n",
              "      <td>343</td>\n",
              "      <td>343</td>\n",
              "      <td>343</td>\n",
              "      <td>343</td>\n",
              "      <td>343</td>\n",
              "      <td>343</td>\n",
              "      <td>343</td>\n",
              "      <td>343</td>\n",
              "      <td>343</td>\n",
              "      <td>343</td>\n",
              "      <td>343</td>\n",
              "    </tr>\n",
              "    <tr>\n",
              "      <th>Design</th>\n",
              "      <td>2482</td>\n",
              "      <td>2482</td>\n",
              "      <td>2482</td>\n",
              "      <td>2482</td>\n",
              "      <td>2482</td>\n",
              "      <td>2482</td>\n",
              "      <td>2482</td>\n",
              "      <td>2482</td>\n",
              "      <td>2482</td>\n",
              "      <td>2482</td>\n",
              "      <td>2482</td>\n",
              "      <td>2482</td>\n",
              "      <td>2482</td>\n",
              "      <td>2482</td>\n",
              "    </tr>\n",
              "    <tr>\n",
              "      <th>Fashion</th>\n",
              "      <td>1976</td>\n",
              "      <td>1976</td>\n",
              "      <td>1976</td>\n",
              "      <td>1976</td>\n",
              "      <td>1976</td>\n",
              "      <td>1976</td>\n",
              "      <td>1976</td>\n",
              "      <td>1976</td>\n",
              "      <td>1976</td>\n",
              "      <td>1976</td>\n",
              "      <td>1976</td>\n",
              "      <td>1976</td>\n",
              "      <td>1976</td>\n",
              "      <td>1976</td>\n",
              "    </tr>\n",
              "    <tr>\n",
              "      <th>Film &amp; Video</th>\n",
              "      <td>5640</td>\n",
              "      <td>5640</td>\n",
              "      <td>5640</td>\n",
              "      <td>5640</td>\n",
              "      <td>5640</td>\n",
              "      <td>5640</td>\n",
              "      <td>5640</td>\n",
              "      <td>5640</td>\n",
              "      <td>5640</td>\n",
              "      <td>5640</td>\n",
              "      <td>5640</td>\n",
              "      <td>5574</td>\n",
              "      <td>5640</td>\n",
              "      <td>5640</td>\n",
              "    </tr>\n",
              "    <tr>\n",
              "      <th>Food</th>\n",
              "      <td>2135</td>\n",
              "      <td>2135</td>\n",
              "      <td>2135</td>\n",
              "      <td>2135</td>\n",
              "      <td>2135</td>\n",
              "      <td>2135</td>\n",
              "      <td>2135</td>\n",
              "      <td>2135</td>\n",
              "      <td>2135</td>\n",
              "      <td>2135</td>\n",
              "      <td>2135</td>\n",
              "      <td>2135</td>\n",
              "      <td>2135</td>\n",
              "      <td>2135</td>\n",
              "    </tr>\n",
              "    <tr>\n",
              "      <th>Games</th>\n",
              "      <td>2965</td>\n",
              "      <td>2965</td>\n",
              "      <td>2965</td>\n",
              "      <td>2965</td>\n",
              "      <td>2965</td>\n",
              "      <td>2965</td>\n",
              "      <td>2965</td>\n",
              "      <td>2965</td>\n",
              "      <td>2965</td>\n",
              "      <td>2965</td>\n",
              "      <td>2965</td>\n",
              "      <td>2964</td>\n",
              "      <td>2965</td>\n",
              "      <td>2965</td>\n",
              "    </tr>\n",
              "    <tr>\n",
              "      <th>Journalism</th>\n",
              "      <td>395</td>\n",
              "      <td>395</td>\n",
              "      <td>395</td>\n",
              "      <td>395</td>\n",
              "      <td>395</td>\n",
              "      <td>395</td>\n",
              "      <td>395</td>\n",
              "      <td>395</td>\n",
              "      <td>395</td>\n",
              "      <td>395</td>\n",
              "      <td>395</td>\n",
              "      <td>395</td>\n",
              "      <td>395</td>\n",
              "      <td>395</td>\n",
              "    </tr>\n",
              "    <tr>\n",
              "      <th>Music</th>\n",
              "      <td>4598</td>\n",
              "      <td>4598</td>\n",
              "      <td>4598</td>\n",
              "      <td>4598</td>\n",
              "      <td>4598</td>\n",
              "      <td>4598</td>\n",
              "      <td>4598</td>\n",
              "      <td>4598</td>\n",
              "      <td>4598</td>\n",
              "      <td>4598</td>\n",
              "      <td>4598</td>\n",
              "      <td>4381</td>\n",
              "      <td>4598</td>\n",
              "      <td>4598</td>\n",
              "    </tr>\n",
              "    <tr>\n",
              "      <th>Photography</th>\n",
              "      <td>984</td>\n",
              "      <td>984</td>\n",
              "      <td>984</td>\n",
              "      <td>984</td>\n",
              "      <td>984</td>\n",
              "      <td>984</td>\n",
              "      <td>984</td>\n",
              "      <td>984</td>\n",
              "      <td>984</td>\n",
              "      <td>984</td>\n",
              "      <td>984</td>\n",
              "      <td>984</td>\n",
              "      <td>984</td>\n",
              "      <td>984</td>\n",
              "    </tr>\n",
              "    <tr>\n",
              "      <th>Publishing</th>\n",
              "      <td>3562</td>\n",
              "      <td>3562</td>\n",
              "      <td>3562</td>\n",
              "      <td>3562</td>\n",
              "      <td>3562</td>\n",
              "      <td>3562</td>\n",
              "      <td>3562</td>\n",
              "      <td>3562</td>\n",
              "      <td>3562</td>\n",
              "      <td>3562</td>\n",
              "      <td>3562</td>\n",
              "      <td>3511</td>\n",
              "      <td>3562</td>\n",
              "      <td>3562</td>\n",
              "    </tr>\n",
              "    <tr>\n",
              "      <th>Technology</th>\n",
              "      <td>2733</td>\n",
              "      <td>2733</td>\n",
              "      <td>2733</td>\n",
              "      <td>2733</td>\n",
              "      <td>2733</td>\n",
              "      <td>2733</td>\n",
              "      <td>2733</td>\n",
              "      <td>2733</td>\n",
              "      <td>2733</td>\n",
              "      <td>2733</td>\n",
              "      <td>2733</td>\n",
              "      <td>2733</td>\n",
              "      <td>2733</td>\n",
              "      <td>2733</td>\n",
              "    </tr>\n",
              "    <tr>\n",
              "      <th>Theater</th>\n",
              "      <td>1001</td>\n",
              "      <td>1001</td>\n",
              "      <td>1001</td>\n",
              "      <td>1001</td>\n",
              "      <td>1001</td>\n",
              "      <td>1001</td>\n",
              "      <td>1001</td>\n",
              "      <td>1001</td>\n",
              "      <td>1001</td>\n",
              "      <td>1001</td>\n",
              "      <td>1001</td>\n",
              "      <td>1001</td>\n",
              "      <td>1001</td>\n",
              "      <td>1001</td>\n",
              "    </tr>\n",
              "  </tbody>\n",
              "</table>\n",
              "</div>"
            ],
            "text/plain": [
              "                 ID  name  ...  usd_pledged_real  usd_goal_real\n",
              "main_category              ...                                 \n",
              "Art            2536  2536  ...              2536           2536\n",
              "Comics          968   968  ...               968            968\n",
              "Crafts          821   821  ...               821            821\n",
              "Dance           343   343  ...               343            343\n",
              "Design         2482  2482  ...              2482           2482\n",
              "Fashion        1976  1976  ...              1976           1976\n",
              "Film & Video   5640  5640  ...              5640           5640\n",
              "Food           2135  2135  ...              2135           2135\n",
              "Games          2965  2965  ...              2965           2965\n",
              "Journalism      395   395  ...               395            395\n",
              "Music          4598  4598  ...              4598           4598\n",
              "Photography     984   984  ...               984            984\n",
              "Publishing     3562  3562  ...              3562           3562\n",
              "Technology     2733  2733  ...              2733           2733\n",
              "Theater        1001  1001  ...              1001           1001\n",
              "\n",
              "[15 rows x 14 columns]"
            ]
          },
          "metadata": {
            "tags": []
          },
          "execution_count": 7
        }
      ]
    },
    {
      "cell_type": "markdown",
      "metadata": {
        "id": "kd66-2Rxm7Vr"
      },
      "source": [
        "Melakukan grouping dengan main category dengan melakukan perhitungan kumulatif sum untuk mengetahui masih bisa digunakan atau tidak sebagai objek dengan perhitungan nilai kumulatif mendekati nilai kritikal 95% atau 0.95"
      ]
    },
    {
      "cell_type": "code",
      "metadata": {
        "id": "aSqHd-P8l2A1"
      },
      "source": [
        "df_grp_MC = df_filt.groupby('main_category').count().reset_index()[['main_category','usd_pledged_real']].sort_values('usd_pledged_real',ascending=False)\n",
        "df_grp_MC['MC_count']=df_grp_MC['usd_pledged_real'].cumsum()\n",
        "df_grp_MC['csum']=df_grp_MC['MC_count']/df_grp_MC['MC_count'].max()\n",
        "df_grp_MC = df_grp_MC[df_grp_MC['csum']<=0.95]"
      ],
      "execution_count": 8,
      "outputs": []
    },
    {
      "cell_type": "markdown",
      "metadata": {
        "id": "YKxnQotrnari"
      },
      "source": [
        "Tampilan tabel didasari perhitungan dan grouping sebelumnya"
      ]
    },
    {
      "cell_type": "code",
      "metadata": {
        "colab": {
          "base_uri": "https://localhost:8080/",
          "height": 403
        },
        "id": "AycLI_qmmukT",
        "outputId": "ae9451a6-b4c5-493b-a34e-221ff11b5a2e"
      },
      "source": [
        "print(df_grp_MC.shape)\n",
        "df_grp_MC"
      ],
      "execution_count": 9,
      "outputs": [
        {
          "output_type": "stream",
          "text": [
            "(11, 4)\n"
          ],
          "name": "stdout"
        },
        {
          "output_type": "execute_result",
          "data": {
            "text/html": [
              "<div>\n",
              "<style scoped>\n",
              "    .dataframe tbody tr th:only-of-type {\n",
              "        vertical-align: middle;\n",
              "    }\n",
              "\n",
              "    .dataframe tbody tr th {\n",
              "        vertical-align: top;\n",
              "    }\n",
              "\n",
              "    .dataframe thead th {\n",
              "        text-align: right;\n",
              "    }\n",
              "</style>\n",
              "<table border=\"1\" class=\"dataframe\">\n",
              "  <thead>\n",
              "    <tr style=\"text-align: right;\">\n",
              "      <th></th>\n",
              "      <th>main_category</th>\n",
              "      <th>usd_pledged_real</th>\n",
              "      <th>MC_count</th>\n",
              "      <th>csum</th>\n",
              "    </tr>\n",
              "  </thead>\n",
              "  <tbody>\n",
              "    <tr>\n",
              "      <th>6</th>\n",
              "      <td>Film &amp; Video</td>\n",
              "      <td>5640</td>\n",
              "      <td>5640</td>\n",
              "      <td>0.170192</td>\n",
              "    </tr>\n",
              "    <tr>\n",
              "      <th>10</th>\n",
              "      <td>Music</td>\n",
              "      <td>4598</td>\n",
              "      <td>10238</td>\n",
              "      <td>0.308941</td>\n",
              "    </tr>\n",
              "    <tr>\n",
              "      <th>12</th>\n",
              "      <td>Publishing</td>\n",
              "      <td>3562</td>\n",
              "      <td>13800</td>\n",
              "      <td>0.416428</td>\n",
              "    </tr>\n",
              "    <tr>\n",
              "      <th>8</th>\n",
              "      <td>Games</td>\n",
              "      <td>2965</td>\n",
              "      <td>16765</td>\n",
              "      <td>0.505899</td>\n",
              "    </tr>\n",
              "    <tr>\n",
              "      <th>13</th>\n",
              "      <td>Technology</td>\n",
              "      <td>2733</td>\n",
              "      <td>19498</td>\n",
              "      <td>0.588370</td>\n",
              "    </tr>\n",
              "    <tr>\n",
              "      <th>0</th>\n",
              "      <td>Art</td>\n",
              "      <td>2536</td>\n",
              "      <td>22034</td>\n",
              "      <td>0.664896</td>\n",
              "    </tr>\n",
              "    <tr>\n",
              "      <th>4</th>\n",
              "      <td>Design</td>\n",
              "      <td>2482</td>\n",
              "      <td>24516</td>\n",
              "      <td>0.739793</td>\n",
              "    </tr>\n",
              "    <tr>\n",
              "      <th>7</th>\n",
              "      <td>Food</td>\n",
              "      <td>2135</td>\n",
              "      <td>26651</td>\n",
              "      <td>0.804219</td>\n",
              "    </tr>\n",
              "    <tr>\n",
              "      <th>5</th>\n",
              "      <td>Fashion</td>\n",
              "      <td>1976</td>\n",
              "      <td>28627</td>\n",
              "      <td>0.863846</td>\n",
              "    </tr>\n",
              "    <tr>\n",
              "      <th>14</th>\n",
              "      <td>Theater</td>\n",
              "      <td>1001</td>\n",
              "      <td>29628</td>\n",
              "      <td>0.894052</td>\n",
              "    </tr>\n",
              "    <tr>\n",
              "      <th>11</th>\n",
              "      <td>Photography</td>\n",
              "      <td>984</td>\n",
              "      <td>30612</td>\n",
              "      <td>0.923745</td>\n",
              "    </tr>\n",
              "  </tbody>\n",
              "</table>\n",
              "</div>"
            ],
            "text/plain": [
              "   main_category  usd_pledged_real  MC_count      csum\n",
              "6   Film & Video              5640      5640  0.170192\n",
              "10         Music              4598     10238  0.308941\n",
              "12    Publishing              3562     13800  0.416428\n",
              "8          Games              2965     16765  0.505899\n",
              "13    Technology              2733     19498  0.588370\n",
              "0            Art              2536     22034  0.664896\n",
              "4         Design              2482     24516  0.739793\n",
              "7           Food              2135     26651  0.804219\n",
              "5        Fashion              1976     28627  0.863846\n",
              "14       Theater              1001     29628  0.894052\n",
              "11   Photography               984     30612  0.923745"
            ]
          },
          "metadata": {
            "tags": []
          },
          "execution_count": 9
        }
      ]
    },
    {
      "cell_type": "markdown",
      "metadata": {
        "id": "EXdSv4vCnxDo"
      },
      "source": [
        "Memasukan hasil grouping pada tabel filter sebelumnya"
      ]
    },
    {
      "cell_type": "code",
      "metadata": {
        "id": "2B-k2TlBiVM-"
      },
      "source": [
        "df_filt = df_filt[df_filt['main_category'].isin(df_grp_MC['main_category'])]"
      ],
      "execution_count": 10,
      "outputs": []
    },
    {
      "cell_type": "markdown",
      "metadata": {
        "id": "WtPHcwU2n4pO"
      },
      "source": [
        "jumlah ror dan table setelah grouping"
      ]
    },
    {
      "cell_type": "code",
      "metadata": {
        "colab": {
          "base_uri": "https://localhost:8080/"
        },
        "id": "EJe14S2u2Oi-",
        "outputId": "74ebba2e-d41d-46cc-e64c-fab35e2aa777"
      },
      "source": [
        "df_filt.shape"
      ],
      "execution_count": 11,
      "outputs": [
        {
          "output_type": "execute_result",
          "data": {
            "text/plain": [
              "(30612, 15)"
            ]
          },
          "metadata": {
            "tags": []
          },
          "execution_count": 11
        }
      ]
    },
    {
      "cell_type": "markdown",
      "metadata": {
        "id": "0RK85k4N2nTY"
      },
      "source": [
        "#Central Tendency"
      ]
    },
    {
      "cell_type": "markdown",
      "metadata": {
        "id": "uipmZCnroFEc"
      },
      "source": [
        "Mencari central tendency dengan hasil rata rata 3610.892204 dan standar deviasi 7163.116874 "
      ]
    },
    {
      "cell_type": "code",
      "metadata": {
        "colab": {
          "base_uri": "https://localhost:8080/"
        },
        "id": "fLk-_xVm3Cc4",
        "outputId": "b95973fc-e2b8-4b67-ed04-839c58ba42da"
      },
      "source": [
        "print(df_filt['usd_pledged_real'].describe())\n",
        "df_filt['usd_pledged_real'].describe()['mean']"
      ],
      "execution_count": 12,
      "outputs": [
        {
          "output_type": "stream",
          "text": [
            "count    30612.000000\n",
            "mean      3642.370508\n",
            "std       7260.284631\n",
            "min          0.000000\n",
            "25%         30.000000\n",
            "50%        570.000000\n",
            "75%       3562.250000\n",
            "max      49949.280000\n",
            "Name: usd_pledged_real, dtype: float64\n"
          ],
          "name": "stdout"
        },
        {
          "output_type": "execute_result",
          "data": {
            "text/plain": [
              "3642.3705076440438"
            ]
          },
          "metadata": {
            "tags": []
          },
          "execution_count": 12
        }
      ]
    },
    {
      "cell_type": "markdown",
      "metadata": {
        "id": "AulxuzZPolh8"
      },
      "source": [
        "Garis bantu pengamatan pada objek USD pledged real yang dapat dilihat bahwa nilai mean lebih besar dibandingkan dengan nilai tengah sehingga skewness akan mengarah ke kiri menjauhi median.\n",
        "\n"
      ]
    },
    {
      "cell_type": "code",
      "metadata": {
        "colab": {
          "base_uri": "https://localhost:8080/",
          "height": 285
        },
        "id": "NxviXOyl3CWA",
        "outputId": "ee73084e-55dc-4d5d-bc78-44e6f1ba3183"
      },
      "source": [
        "df_filt['usd_pledged_real'].plot.hist(bins=30,density=True)\n",
        "plt.axvline(df_filt['usd_pledged_real'].describe()['mean'], color='red', linestyle='dashed', linewidth=2)\n",
        "plt.axvline(df_filt['usd_pledged_real'].describe()['50%'], color='magenta', linestyle='dashed', linewidth=2)\n",
        "plt.axvline(df_filt['usd_pledged_real'].describe()['mean']+df_filt['usd_pledged_real'].describe()['std']\n",
        "            , color='green', linestyle='dashed', linewidth=2)"
      ],
      "execution_count": 13,
      "outputs": [
        {
          "output_type": "execute_result",
          "data": {
            "text/plain": [
              "<matplotlib.lines.Line2D at 0x7f874d1bcf10>"
            ]
          },
          "metadata": {
            "tags": []
          },
          "execution_count": 13
        },
        {
          "output_type": "display_data",
          "data": {
            "image/png": "[encoded data removed]",
            "text/plain": [
              "<Figure size 432x288 with 1 Axes>"
            ]
          },
          "metadata": {
            "tags": [],
            "needs_background": "light"
          }
        }
      ]
    },
    {
      "cell_type": "markdown",
      "metadata": {
        "id": "e32fs7i7KyXS"
      },
      "source": [
        "# Chi Square Test"
      ]
    },
    {
      "cell_type": "markdown",
      "metadata": {
        "id": "y8m9eL4wq74l"
      },
      "source": [
        "Melakukan perhitungan Chi Square Test dengan masih menggunakan main category sebagai objek dan state yang dipilih untuk menunjukan hubungan"
      ]
    },
    {
      "cell_type": "code",
      "metadata": {
        "id": "K9TZpUTtKxqY"
      },
      "source": [
        "df_pivot=df_filt.groupby(['main_category','state']).count()[['goal','usd_pledged_real']].reset_index()"
      ],
      "execution_count": 14,
      "outputs": []
    },
    {
      "cell_type": "code",
      "metadata": {
        "colab": {
          "base_uri": "https://localhost:8080/",
          "height": 1000
        },
        "id": "mmTafAHiLzl9",
        "outputId": "1be1c976-1f4b-4788-fa11-fe1aee2e3fd2"
      },
      "source": [
        "df_pivot"
      ],
      "execution_count": 15,
      "outputs": [
        {
          "output_type": "execute_result",
          "data": {
            "text/html": [
              "<div>\n",
              "<style scoped>\n",
              "    .dataframe tbody tr th:only-of-type {\n",
              "        vertical-align: middle;\n",
              "    }\n",
              "\n",
              "    .dataframe tbody tr th {\n",
              "        vertical-align: top;\n",
              "    }\n",
              "\n",
              "    .dataframe thead th {\n",
              "        text-align: right;\n",
              "    }\n",
              "</style>\n",
              "<table border=\"1\" class=\"dataframe\">\n",
              "  <thead>\n",
              "    <tr style=\"text-align: right;\">\n",
              "      <th></th>\n",
              "      <th>main_category</th>\n",
              "      <th>state</th>\n",
              "      <th>goal</th>\n",
              "      <th>usd_pledged_real</th>\n",
              "    </tr>\n",
              "  </thead>\n",
              "  <tbody>\n",
              "    <tr>\n",
              "      <th>0</th>\n",
              "      <td>Art</td>\n",
              "      <td>canceled</td>\n",
              "      <td>199</td>\n",
              "      <td>199</td>\n",
              "    </tr>\n",
              "    <tr>\n",
              "      <th>1</th>\n",
              "      <td>Art</td>\n",
              "      <td>failed</td>\n",
              "      <td>1296</td>\n",
              "      <td>1296</td>\n",
              "    </tr>\n",
              "    <tr>\n",
              "      <th>2</th>\n",
              "      <td>Art</td>\n",
              "      <td>live</td>\n",
              "      <td>15</td>\n",
              "      <td>15</td>\n",
              "    </tr>\n",
              "    <tr>\n",
              "      <th>3</th>\n",
              "      <td>Art</td>\n",
              "      <td>successful</td>\n",
              "      <td>1017</td>\n",
              "      <td>1017</td>\n",
              "    </tr>\n",
              "    <tr>\n",
              "      <th>4</th>\n",
              "      <td>Art</td>\n",
              "      <td>suspended</td>\n",
              "      <td>9</td>\n",
              "      <td>9</td>\n",
              "    </tr>\n",
              "    <tr>\n",
              "      <th>5</th>\n",
              "      <td>Design</td>\n",
              "      <td>canceled</td>\n",
              "      <td>377</td>\n",
              "      <td>377</td>\n",
              "    </tr>\n",
              "    <tr>\n",
              "      <th>6</th>\n",
              "      <td>Design</td>\n",
              "      <td>failed</td>\n",
              "      <td>1334</td>\n",
              "      <td>1334</td>\n",
              "    </tr>\n",
              "    <tr>\n",
              "      <th>7</th>\n",
              "      <td>Design</td>\n",
              "      <td>live</td>\n",
              "      <td>33</td>\n",
              "      <td>33</td>\n",
              "    </tr>\n",
              "    <tr>\n",
              "      <th>8</th>\n",
              "      <td>Design</td>\n",
              "      <td>successful</td>\n",
              "      <td>715</td>\n",
              "      <td>715</td>\n",
              "    </tr>\n",
              "    <tr>\n",
              "      <th>9</th>\n",
              "      <td>Design</td>\n",
              "      <td>suspended</td>\n",
              "      <td>23</td>\n",
              "      <td>23</td>\n",
              "    </tr>\n",
              "    <tr>\n",
              "      <th>10</th>\n",
              "      <td>Fashion</td>\n",
              "      <td>canceled</td>\n",
              "      <td>233</td>\n",
              "      <td>233</td>\n",
              "    </tr>\n",
              "    <tr>\n",
              "      <th>11</th>\n",
              "      <td>Fashion</td>\n",
              "      <td>failed</td>\n",
              "      <td>1243</td>\n",
              "      <td>1243</td>\n",
              "    </tr>\n",
              "    <tr>\n",
              "      <th>12</th>\n",
              "      <td>Fashion</td>\n",
              "      <td>live</td>\n",
              "      <td>29</td>\n",
              "      <td>29</td>\n",
              "    </tr>\n",
              "    <tr>\n",
              "      <th>13</th>\n",
              "      <td>Fashion</td>\n",
              "      <td>successful</td>\n",
              "      <td>463</td>\n",
              "      <td>463</td>\n",
              "    </tr>\n",
              "    <tr>\n",
              "      <th>14</th>\n",
              "      <td>Fashion</td>\n",
              "      <td>suspended</td>\n",
              "      <td>8</td>\n",
              "      <td>8</td>\n",
              "    </tr>\n",
              "    <tr>\n",
              "      <th>15</th>\n",
              "      <td>Film &amp; Video</td>\n",
              "      <td>canceled</td>\n",
              "      <td>517</td>\n",
              "      <td>517</td>\n",
              "    </tr>\n",
              "    <tr>\n",
              "      <th>16</th>\n",
              "      <td>Film &amp; Video</td>\n",
              "      <td>failed</td>\n",
              "      <td>2950</td>\n",
              "      <td>2950</td>\n",
              "    </tr>\n",
              "    <tr>\n",
              "      <th>17</th>\n",
              "      <td>Film &amp; Video</td>\n",
              "      <td>live</td>\n",
              "      <td>31</td>\n",
              "      <td>31</td>\n",
              "    </tr>\n",
              "    <tr>\n",
              "      <th>18</th>\n",
              "      <td>Film &amp; Video</td>\n",
              "      <td>successful</td>\n",
              "      <td>2063</td>\n",
              "      <td>2063</td>\n",
              "    </tr>\n",
              "    <tr>\n",
              "      <th>19</th>\n",
              "      <td>Film &amp; Video</td>\n",
              "      <td>suspended</td>\n",
              "      <td>14</td>\n",
              "      <td>14</td>\n",
              "    </tr>\n",
              "    <tr>\n",
              "      <th>20</th>\n",
              "      <td>Film &amp; Video</td>\n",
              "      <td>undefined</td>\n",
              "      <td>65</td>\n",
              "      <td>65</td>\n",
              "    </tr>\n",
              "    <tr>\n",
              "      <th>21</th>\n",
              "      <td>Food</td>\n",
              "      <td>canceled</td>\n",
              "      <td>178</td>\n",
              "      <td>178</td>\n",
              "    </tr>\n",
              "    <tr>\n",
              "      <th>22</th>\n",
              "      <td>Food</td>\n",
              "      <td>failed</td>\n",
              "      <td>1388</td>\n",
              "      <td>1388</td>\n",
              "    </tr>\n",
              "    <tr>\n",
              "      <th>23</th>\n",
              "      <td>Food</td>\n",
              "      <td>live</td>\n",
              "      <td>16</td>\n",
              "      <td>16</td>\n",
              "    </tr>\n",
              "    <tr>\n",
              "      <th>24</th>\n",
              "      <td>Food</td>\n",
              "      <td>successful</td>\n",
              "      <td>540</td>\n",
              "      <td>540</td>\n",
              "    </tr>\n",
              "    <tr>\n",
              "      <th>25</th>\n",
              "      <td>Food</td>\n",
              "      <td>suspended</td>\n",
              "      <td>13</td>\n",
              "      <td>13</td>\n",
              "    </tr>\n",
              "    <tr>\n",
              "      <th>26</th>\n",
              "      <td>Games</td>\n",
              "      <td>canceled</td>\n",
              "      <td>538</td>\n",
              "      <td>538</td>\n",
              "    </tr>\n",
              "    <tr>\n",
              "      <th>27</th>\n",
              "      <td>Games</td>\n",
              "      <td>failed</td>\n",
              "      <td>1438</td>\n",
              "      <td>1438</td>\n",
              "    </tr>\n",
              "    <tr>\n",
              "      <th>28</th>\n",
              "      <td>Games</td>\n",
              "      <td>live</td>\n",
              "      <td>21</td>\n",
              "      <td>21</td>\n",
              "    </tr>\n",
              "    <tr>\n",
              "      <th>29</th>\n",
              "      <td>Games</td>\n",
              "      <td>successful</td>\n",
              "      <td>948</td>\n",
              "      <td>948</td>\n",
              "    </tr>\n",
              "    <tr>\n",
              "      <th>30</th>\n",
              "      <td>Games</td>\n",
              "      <td>suspended</td>\n",
              "      <td>19</td>\n",
              "      <td>19</td>\n",
              "    </tr>\n",
              "    <tr>\n",
              "      <th>31</th>\n",
              "      <td>Games</td>\n",
              "      <td>undefined</td>\n",
              "      <td>1</td>\n",
              "      <td>1</td>\n",
              "    </tr>\n",
              "    <tr>\n",
              "      <th>32</th>\n",
              "      <td>Music</td>\n",
              "      <td>canceled</td>\n",
              "      <td>290</td>\n",
              "      <td>290</td>\n",
              "    </tr>\n",
              "    <tr>\n",
              "      <th>33</th>\n",
              "      <td>Music</td>\n",
              "      <td>failed</td>\n",
              "      <td>1911</td>\n",
              "      <td>1911</td>\n",
              "    </tr>\n",
              "    <tr>\n",
              "      <th>34</th>\n",
              "      <td>Music</td>\n",
              "      <td>live</td>\n",
              "      <td>24</td>\n",
              "      <td>24</td>\n",
              "    </tr>\n",
              "    <tr>\n",
              "      <th>35</th>\n",
              "      <td>Music</td>\n",
              "      <td>successful</td>\n",
              "      <td>2165</td>\n",
              "      <td>2165</td>\n",
              "    </tr>\n",
              "    <tr>\n",
              "      <th>36</th>\n",
              "      <td>Music</td>\n",
              "      <td>suspended</td>\n",
              "      <td>9</td>\n",
              "      <td>9</td>\n",
              "    </tr>\n",
              "    <tr>\n",
              "      <th>37</th>\n",
              "      <td>Music</td>\n",
              "      <td>undefined</td>\n",
              "      <td>199</td>\n",
              "      <td>199</td>\n",
              "    </tr>\n",
              "    <tr>\n",
              "      <th>38</th>\n",
              "      <td>Photography</td>\n",
              "      <td>canceled</td>\n",
              "      <td>80</td>\n",
              "      <td>80</td>\n",
              "    </tr>\n",
              "    <tr>\n",
              "      <th>39</th>\n",
              "      <td>Photography</td>\n",
              "      <td>failed</td>\n",
              "      <td>595</td>\n",
              "      <td>595</td>\n",
              "    </tr>\n",
              "    <tr>\n",
              "      <th>40</th>\n",
              "      <td>Photography</td>\n",
              "      <td>live</td>\n",
              "      <td>5</td>\n",
              "      <td>5</td>\n",
              "    </tr>\n",
              "    <tr>\n",
              "      <th>41</th>\n",
              "      <td>Photography</td>\n",
              "      <td>successful</td>\n",
              "      <td>299</td>\n",
              "      <td>299</td>\n",
              "    </tr>\n",
              "    <tr>\n",
              "      <th>42</th>\n",
              "      <td>Photography</td>\n",
              "      <td>suspended</td>\n",
              "      <td>5</td>\n",
              "      <td>5</td>\n",
              "    </tr>\n",
              "    <tr>\n",
              "      <th>43</th>\n",
              "      <td>Publishing</td>\n",
              "      <td>canceled</td>\n",
              "      <td>332</td>\n",
              "      <td>332</td>\n",
              "    </tr>\n",
              "    <tr>\n",
              "      <th>44</th>\n",
              "      <td>Publishing</td>\n",
              "      <td>failed</td>\n",
              "      <td>2087</td>\n",
              "      <td>2087</td>\n",
              "    </tr>\n",
              "    <tr>\n",
              "      <th>45</th>\n",
              "      <td>Publishing</td>\n",
              "      <td>live</td>\n",
              "      <td>30</td>\n",
              "      <td>30</td>\n",
              "    </tr>\n",
              "    <tr>\n",
              "      <th>46</th>\n",
              "      <td>Publishing</td>\n",
              "      <td>successful</td>\n",
              "      <td>1059</td>\n",
              "      <td>1059</td>\n",
              "    </tr>\n",
              "    <tr>\n",
              "      <th>47</th>\n",
              "      <td>Publishing</td>\n",
              "      <td>suspended</td>\n",
              "      <td>7</td>\n",
              "      <td>7</td>\n",
              "    </tr>\n",
              "    <tr>\n",
              "      <th>48</th>\n",
              "      <td>Publishing</td>\n",
              "      <td>undefined</td>\n",
              "      <td>47</td>\n",
              "      <td>47</td>\n",
              "    </tr>\n",
              "    <tr>\n",
              "      <th>49</th>\n",
              "      <td>Technology</td>\n",
              "      <td>canceled</td>\n",
              "      <td>410</td>\n",
              "      <td>410</td>\n",
              "    </tr>\n",
              "    <tr>\n",
              "      <th>50</th>\n",
              "      <td>Technology</td>\n",
              "      <td>failed</td>\n",
              "      <td>1830</td>\n",
              "      <td>1830</td>\n",
              "    </tr>\n",
              "    <tr>\n",
              "      <th>51</th>\n",
              "      <td>Technology</td>\n",
              "      <td>live</td>\n",
              "      <td>29</td>\n",
              "      <td>29</td>\n",
              "    </tr>\n",
              "    <tr>\n",
              "      <th>52</th>\n",
              "      <td>Technology</td>\n",
              "      <td>successful</td>\n",
              "      <td>426</td>\n",
              "      <td>426</td>\n",
              "    </tr>\n",
              "    <tr>\n",
              "      <th>53</th>\n",
              "      <td>Technology</td>\n",
              "      <td>suspended</td>\n",
              "      <td>38</td>\n",
              "      <td>38</td>\n",
              "    </tr>\n",
              "    <tr>\n",
              "      <th>54</th>\n",
              "      <td>Theater</td>\n",
              "      <td>canceled</td>\n",
              "      <td>49</td>\n",
              "      <td>49</td>\n",
              "    </tr>\n",
              "    <tr>\n",
              "      <th>55</th>\n",
              "      <td>Theater</td>\n",
              "      <td>failed</td>\n",
              "      <td>346</td>\n",
              "      <td>346</td>\n",
              "    </tr>\n",
              "    <tr>\n",
              "      <th>56</th>\n",
              "      <td>Theater</td>\n",
              "      <td>live</td>\n",
              "      <td>4</td>\n",
              "      <td>4</td>\n",
              "    </tr>\n",
              "    <tr>\n",
              "      <th>57</th>\n",
              "      <td>Theater</td>\n",
              "      <td>successful</td>\n",
              "      <td>601</td>\n",
              "      <td>601</td>\n",
              "    </tr>\n",
              "    <tr>\n",
              "      <th>58</th>\n",
              "      <td>Theater</td>\n",
              "      <td>suspended</td>\n",
              "      <td>1</td>\n",
              "      <td>1</td>\n",
              "    </tr>\n",
              "  </tbody>\n",
              "</table>\n",
              "</div>"
            ],
            "text/plain": [
              "   main_category       state  goal  usd_pledged_real\n",
              "0            Art    canceled   199               199\n",
              "1            Art      failed  1296              1296\n",
              "2            Art        live    15                15\n",
              "3            Art  successful  1017              1017\n",
              "4            Art   suspended     9                 9\n",
              "5         Design    canceled   377               377\n",
              "6         Design      failed  1334              1334\n",
              "7         Design        live    33                33\n",
              "8         Design  successful   715               715\n",
              "9         Design   suspended    23                23\n",
              "10       Fashion    canceled   233               233\n",
              "11       Fashion      failed  1243              1243\n",
              "12       Fashion        live    29                29\n",
              "13       Fashion  successful   463               463\n",
              "14       Fashion   suspended     8                 8\n",
              "15  Film & Video    canceled   517               517\n",
              "16  Film & Video      failed  2950              2950\n",
              "17  Film & Video        live    31                31\n",
              "18  Film & Video  successful  2063              2063\n",
              "19  Film & Video   suspended    14                14\n",
              "20  Film & Video   undefined    65                65\n",
              "21          Food    canceled   178               178\n",
              "22          Food      failed  1388              1388\n",
              "23          Food        live    16                16\n",
              "24          Food  successful   540               540\n",
              "25          Food   suspended    13                13\n",
              "26         Games    canceled   538               538\n",
              "27         Games      failed  1438              1438\n",
              "28         Games        live    21                21\n",
              "29         Games  successful   948               948\n",
              "30         Games   suspended    19                19\n",
              "31         Games   undefined     1                 1\n",
              "32         Music    canceled   290               290\n",
              "33         Music      failed  1911              1911\n",
              "34         Music        live    24                24\n",
              "35         Music  successful  2165              2165\n",
              "36         Music   suspended     9                 9\n",
              "37         Music   undefined   199               199\n",
              "38   Photography    canceled    80                80\n",
              "39   Photography      failed   595               595\n",
              "40   Photography        live     5                 5\n",
              "41   Photography  successful   299               299\n",
              "42   Photography   suspended     5                 5\n",
              "43    Publishing    canceled   332               332\n",
              "44    Publishing      failed  2087              2087\n",
              "45    Publishing        live    30                30\n",
              "46    Publishing  successful  1059              1059\n",
              "47    Publishing   suspended     7                 7\n",
              "48    Publishing   undefined    47                47\n",
              "49    Technology    canceled   410               410\n",
              "50    Technology      failed  1830              1830\n",
              "51    Technology        live    29                29\n",
              "52    Technology  successful   426               426\n",
              "53    Technology   suspended    38                38\n",
              "54       Theater    canceled    49                49\n",
              "55       Theater      failed   346               346\n",
              "56       Theater        live     4                 4\n",
              "57       Theater  successful   601               601\n",
              "58       Theater   suspended     1                 1"
            ]
          },
          "metadata": {
            "tags": []
          },
          "execution_count": 15
        }
      ]
    },
    {
      "cell_type": "markdown",
      "metadata": {
        "id": "4GHXEE3nrRyo"
      },
      "source": [
        "Menjadikan main categori sebagai index dan state sebagai column untuk melihat nilai yang tertera pada column yang ada"
      ]
    },
    {
      "cell_type": "code",
      "metadata": {
        "id": "vAydMpQMMVvI"
      },
      "source": [
        "df_pivot = df_pivot.pivot(index=\"main_category\",columns=\"state\", values='usd_pledged_real').fillna(0)"
      ],
      "execution_count": 16,
      "outputs": []
    },
    {
      "cell_type": "code",
      "metadata": {
        "colab": {
          "base_uri": "https://localhost:8080/",
          "height": 416
        },
        "id": "DXGOcczVMfXP",
        "outputId": "787dae70-3fe8-48a7-9235-f49f4d2ba943"
      },
      "source": [
        "df_pivot"
      ],
      "execution_count": 17,
      "outputs": [
        {
          "output_type": "execute_result",
          "data": {
            "text/html": [
              "<div>\n",
              "<style scoped>\n",
              "    .dataframe tbody tr th:only-of-type {\n",
              "        vertical-align: middle;\n",
              "    }\n",
              "\n",
              "    .dataframe tbody tr th {\n",
              "        vertical-align: top;\n",
              "    }\n",
              "\n",
              "    .dataframe thead th {\n",
              "        text-align: right;\n",
              "    }\n",
              "</style>\n",
              "<table border=\"1\" class=\"dataframe\">\n",
              "  <thead>\n",
              "    <tr style=\"text-align: right;\">\n",
              "      <th>state</th>\n",
              "      <th>canceled</th>\n",
              "      <th>failed</th>\n",
              "      <th>live</th>\n",
              "      <th>successful</th>\n",
              "      <th>suspended</th>\n",
              "      <th>undefined</th>\n",
              "    </tr>\n",
              "    <tr>\n",
              "      <th>main_category</th>\n",
              "      <th></th>\n",
              "      <th></th>\n",
              "      <th></th>\n",
              "      <th></th>\n",
              "      <th></th>\n",
              "      <th></th>\n",
              "    </tr>\n",
              "  </thead>\n",
              "  <tbody>\n",
              "    <tr>\n",
              "      <th>Art</th>\n",
              "      <td>199.0</td>\n",
              "      <td>1296.0</td>\n",
              "      <td>15.0</td>\n",
              "      <td>1017.0</td>\n",
              "      <td>9.0</td>\n",
              "      <td>0.0</td>\n",
              "    </tr>\n",
              "    <tr>\n",
              "      <th>Design</th>\n",
              "      <td>377.0</td>\n",
              "      <td>1334.0</td>\n",
              "      <td>33.0</td>\n",
              "      <td>715.0</td>\n",
              "      <td>23.0</td>\n",
              "      <td>0.0</td>\n",
              "    </tr>\n",
              "    <tr>\n",
              "      <th>Fashion</th>\n",
              "      <td>233.0</td>\n",
              "      <td>1243.0</td>\n",
              "      <td>29.0</td>\n",
              "      <td>463.0</td>\n",
              "      <td>8.0</td>\n",
              "      <td>0.0</td>\n",
              "    </tr>\n",
              "    <tr>\n",
              "      <th>Film &amp; Video</th>\n",
              "      <td>517.0</td>\n",
              "      <td>2950.0</td>\n",
              "      <td>31.0</td>\n",
              "      <td>2063.0</td>\n",
              "      <td>14.0</td>\n",
              "      <td>65.0</td>\n",
              "    </tr>\n",
              "    <tr>\n",
              "      <th>Food</th>\n",
              "      <td>178.0</td>\n",
              "      <td>1388.0</td>\n",
              "      <td>16.0</td>\n",
              "      <td>540.0</td>\n",
              "      <td>13.0</td>\n",
              "      <td>0.0</td>\n",
              "    </tr>\n",
              "    <tr>\n",
              "      <th>Games</th>\n",
              "      <td>538.0</td>\n",
              "      <td>1438.0</td>\n",
              "      <td>21.0</td>\n",
              "      <td>948.0</td>\n",
              "      <td>19.0</td>\n",
              "      <td>1.0</td>\n",
              "    </tr>\n",
              "    <tr>\n",
              "      <th>Music</th>\n",
              "      <td>290.0</td>\n",
              "      <td>1911.0</td>\n",
              "      <td>24.0</td>\n",
              "      <td>2165.0</td>\n",
              "      <td>9.0</td>\n",
              "      <td>199.0</td>\n",
              "    </tr>\n",
              "    <tr>\n",
              "      <th>Photography</th>\n",
              "      <td>80.0</td>\n",
              "      <td>595.0</td>\n",
              "      <td>5.0</td>\n",
              "      <td>299.0</td>\n",
              "      <td>5.0</td>\n",
              "      <td>0.0</td>\n",
              "    </tr>\n",
              "    <tr>\n",
              "      <th>Publishing</th>\n",
              "      <td>332.0</td>\n",
              "      <td>2087.0</td>\n",
              "      <td>30.0</td>\n",
              "      <td>1059.0</td>\n",
              "      <td>7.0</td>\n",
              "      <td>47.0</td>\n",
              "    </tr>\n",
              "    <tr>\n",
              "      <th>Technology</th>\n",
              "      <td>410.0</td>\n",
              "      <td>1830.0</td>\n",
              "      <td>29.0</td>\n",
              "      <td>426.0</td>\n",
              "      <td>38.0</td>\n",
              "      <td>0.0</td>\n",
              "    </tr>\n",
              "    <tr>\n",
              "      <th>Theater</th>\n",
              "      <td>49.0</td>\n",
              "      <td>346.0</td>\n",
              "      <td>4.0</td>\n",
              "      <td>601.0</td>\n",
              "      <td>1.0</td>\n",
              "      <td>0.0</td>\n",
              "    </tr>\n",
              "  </tbody>\n",
              "</table>\n",
              "</div>"
            ],
            "text/plain": [
              "state          canceled  failed  live  successful  suspended  undefined\n",
              "main_category                                                          \n",
              "Art               199.0  1296.0  15.0      1017.0        9.0        0.0\n",
              "Design            377.0  1334.0  33.0       715.0       23.0        0.0\n",
              "Fashion           233.0  1243.0  29.0       463.0        8.0        0.0\n",
              "Film & Video      517.0  2950.0  31.0      2063.0       14.0       65.0\n",
              "Food              178.0  1388.0  16.0       540.0       13.0        0.0\n",
              "Games             538.0  1438.0  21.0       948.0       19.0        1.0\n",
              "Music             290.0  1911.0  24.0      2165.0        9.0      199.0\n",
              "Photography        80.0   595.0   5.0       299.0        5.0        0.0\n",
              "Publishing        332.0  2087.0  30.0      1059.0        7.0       47.0\n",
              "Technology        410.0  1830.0  29.0       426.0       38.0        0.0\n",
              "Theater            49.0   346.0   4.0       601.0        1.0        0.0"
            ]
          },
          "metadata": {
            "tags": []
          },
          "execution_count": 17
        }
      ]
    },
    {
      "cell_type": "markdown",
      "metadata": {
        "id": "iX9M9lLgrdHg"
      },
      "source": [
        "perhitungan chisquare dan p value dari objek diatas diman didapatkan bahwa tidak ada hubungan antara state dan main category sehingga H0 diterima karena nilai p value sama dengan 0"
      ]
    },
    {
      "cell_type": "code",
      "metadata": {
        "colab": {
          "base_uri": "https://localhost:8080/"
        },
        "id": "DBzyxGxXMqFu",
        "outputId": "e3fa72c3-e06e-4039-a6d1-065a1298a60d"
      },
      "source": [
        "chisq, pvalue, df, expected = stats.chi2_contingency(df_pivot)\n",
        "print(f'Observed chi2: {chisq:.2f}')\n",
        "print(f'p-value: {pvalue:.4f}')"
      ],
      "execution_count": 18,
      "outputs": [
        {
          "output_type": "stream",
          "text": [
            "Observed chi2: 2536.60\n",
            "p-value: 0.0000\n"
          ],
          "name": "stdout"
        }
      ]
    },
    {
      "cell_type": "markdown",
      "metadata": {
        "id": "OB4R1QZ2GQQ_"
      },
      "source": [
        "#Correlation dan Variance"
      ]
    },
    {
      "cell_type": "markdown",
      "metadata": {
        "id": "3Z-Hnbejr4AE"
      },
      "source": [
        "Melihat korelasi tiap objek yang ada"
      ]
    },
    {
      "cell_type": "code",
      "metadata": {
        "colab": {
          "base_uri": "https://localhost:8080/",
          "height": 263
        },
        "id": "J9PjzWLVGUw0",
        "outputId": "c486a734-f3b2-4d98-a472-d764c3605ac1"
      },
      "source": [
        "df_filt.corr()"
      ],
      "execution_count": 19,
      "outputs": [
        {
          "output_type": "execute_result",
          "data": {
            "text/html": [
              "<div>\n",
              "<style scoped>\n",
              "    .dataframe tbody tr th:only-of-type {\n",
              "        vertical-align: middle;\n",
              "    }\n",
              "\n",
              "    .dataframe tbody tr th {\n",
              "        vertical-align: top;\n",
              "    }\n",
              "\n",
              "    .dataframe thead th {\n",
              "        text-align: right;\n",
              "    }\n",
              "</style>\n",
              "<table border=\"1\" class=\"dataframe\">\n",
              "  <thead>\n",
              "    <tr style=\"text-align: right;\">\n",
              "      <th></th>\n",
              "      <th>ID</th>\n",
              "      <th>goal</th>\n",
              "      <th>pledged</th>\n",
              "      <th>backers</th>\n",
              "      <th>usd pledged</th>\n",
              "      <th>usd_pledged_real</th>\n",
              "      <th>usd_goal_real</th>\n",
              "    </tr>\n",
              "  </thead>\n",
              "  <tbody>\n",
              "    <tr>\n",
              "      <th>ID</th>\n",
              "      <td>1.000000</td>\n",
              "      <td>0.004842</td>\n",
              "      <td>-0.001699</td>\n",
              "      <td>-0.014820</td>\n",
              "      <td>-0.007260</td>\n",
              "      <td>-0.012141</td>\n",
              "      <td>0.003535</td>\n",
              "    </tr>\n",
              "    <tr>\n",
              "      <th>goal</th>\n",
              "      <td>0.004842</td>\n",
              "      <td>1.000000</td>\n",
              "      <td>0.002385</td>\n",
              "      <td>-0.010549</td>\n",
              "      <td>-0.006398</td>\n",
              "      <td>-0.005706</td>\n",
              "      <td>0.905801</td>\n",
              "    </tr>\n",
              "    <tr>\n",
              "      <th>pledged</th>\n",
              "      <td>-0.001699</td>\n",
              "      <td>0.002385</td>\n",
              "      <td>1.000000</td>\n",
              "      <td>0.519954</td>\n",
              "      <td>0.628183</td>\n",
              "      <td>0.731151</td>\n",
              "      <td>-0.002901</td>\n",
              "    </tr>\n",
              "    <tr>\n",
              "      <th>backers</th>\n",
              "      <td>-0.014820</td>\n",
              "      <td>-0.010549</td>\n",
              "      <td>0.519954</td>\n",
              "      <td>1.000000</td>\n",
              "      <td>0.665516</td>\n",
              "      <td>0.740485</td>\n",
              "      <td>-0.008976</td>\n",
              "    </tr>\n",
              "    <tr>\n",
              "      <th>usd pledged</th>\n",
              "      <td>-0.007260</td>\n",
              "      <td>-0.006398</td>\n",
              "      <td>0.628183</td>\n",
              "      <td>0.665516</td>\n",
              "      <td>1.000000</td>\n",
              "      <td>0.897112</td>\n",
              "      <td>-0.003551</td>\n",
              "    </tr>\n",
              "    <tr>\n",
              "      <th>usd_pledged_real</th>\n",
              "      <td>-0.012141</td>\n",
              "      <td>-0.005706</td>\n",
              "      <td>0.731151</td>\n",
              "      <td>0.740485</td>\n",
              "      <td>0.897112</td>\n",
              "      <td>1.000000</td>\n",
              "      <td>-0.003086</td>\n",
              "    </tr>\n",
              "    <tr>\n",
              "      <th>usd_goal_real</th>\n",
              "      <td>0.003535</td>\n",
              "      <td>0.905801</td>\n",
              "      <td>-0.002901</td>\n",
              "      <td>-0.008976</td>\n",
              "      <td>-0.003551</td>\n",
              "      <td>-0.003086</td>\n",
              "      <td>1.000000</td>\n",
              "    </tr>\n",
              "  </tbody>\n",
              "</table>\n",
              "</div>"
            ],
            "text/plain": [
              "                        ID      goal  ...  usd_pledged_real  usd_goal_real\n",
              "ID                1.000000  0.004842  ...         -0.012141       0.003535\n",
              "goal              0.004842  1.000000  ...         -0.005706       0.905801\n",
              "pledged          -0.001699  0.002385  ...          0.731151      -0.002901\n",
              "backers          -0.014820 -0.010549  ...          0.740485      -0.008976\n",
              "usd pledged      -0.007260 -0.006398  ...          0.897112      -0.003551\n",
              "usd_pledged_real -0.012141 -0.005706  ...          1.000000      -0.003086\n",
              "usd_goal_real     0.003535  0.905801  ...         -0.003086       1.000000\n",
              "\n",
              "[7 rows x 7 columns]"
            ]
          },
          "metadata": {
            "tags": []
          },
          "execution_count": 19
        }
      ]
    },
    {
      "cell_type": "markdown",
      "metadata": {
        "id": "5H0Xmv0EsJEm"
      },
      "source": [
        "melakukan ploting scater untuk meilhat hubungan secara jelas dimana disi diambil usd pledge real dan goal sebagai objek"
      ]
    },
    {
      "cell_type": "code",
      "metadata": {
        "colab": {
          "base_uri": "https://localhost:8080/",
          "height": 295
        },
        "id": "6HLs10PmNae9",
        "outputId": "d7a31214-596a-4146-f633-e565bb8c7673"
      },
      "source": [
        "plt.scatter(df_filt['goal'],df_filt['usd_pledged_real'])"
      ],
      "execution_count": 20,
      "outputs": [
        {
          "output_type": "execute_result",
          "data": {
            "text/plain": [
              "<matplotlib.collections.PathCollection at 0x7f8744877c50>"
            ]
          },
          "metadata": {
            "tags": []
          },
          "execution_count": 20
        },
        {
          "output_type": "display_data",
          "data": {
            "image/png": "[encoded data removed]",
            "text/plain": [
              "<Figure size 432x288 with 1 Axes>"
            ]
          },
          "metadata": {
            "tags": [],
            "needs_background": "light"
          }
        }
      ]
    },
    {
      "cell_type": "code",
      "metadata": {
        "colab": {
          "base_uri": "https://localhost:8080/",
          "height": 132
        },
        "id": "6JNv3V56sXdH",
        "outputId": "1075e05d-52be-425d-b5a9-8e5117ebbd41"
      },
      "source": [
        "plot diatas menunjukan bahwa terdapat hubungan negatif antara kedua objek yang dipilih"
      ],
      "execution_count": 21,
      "outputs": [
        {
          "output_type": "error",
          "ename": "SyntaxError",
          "evalue": "ignored",
          "traceback": [
            "\u001b[0;36m  File \u001b[0;32m\"<ipython-input-21-7aca05aea569>\"\u001b[0;36m, line \u001b[0;32m1\u001b[0m\n\u001b[0;31m    plot diatas menunjukan bahwa terdapat hubungan negatif antara kedua objek yang dipilih\u001b[0m\n\u001b[0m              ^\u001b[0m\n\u001b[0;31mSyntaxError\u001b[0m\u001b[0;31m:\u001b[0m invalid syntax\n"
          ]
        }
      ]
    },
    {
      "cell_type": "code",
      "metadata": {
        "id": "Yswaie_o3CSn"
      },
      "source": [
        "df_filt['usd_pledged_real'].var()"
      ],
      "execution_count": null,
      "outputs": []
    },
    {
      "cell_type": "markdown",
      "metadata": {
        "id": "8DEBn-kZNyYT"
      },
      "source": [
        "Nilai covarian yang didapatkan dari objek usd pledge real"
      ]
    },
    {
      "cell_type": "markdown",
      "metadata": {
        "id": "vONTOO_AODJO"
      },
      "source": [
        "#Two sample test"
      ]
    },
    {
      "cell_type": "markdown",
      "metadata": {
        "id": "VDFApWBSswZa"
      },
      "source": [
        "Melaukan Two sample test didasari hubungan main category dengan usd pledge real"
      ]
    },
    {
      "cell_type": "code",
      "metadata": {
        "id": "LmttAMmMPHdn"
      },
      "source": [
        "df_MC=df_filt.groupby('main_category').agg({'usd_pledged_real':['count','mean']}).reset_index()\n",
        "df_MC.columns = df_MC.columns.droplevel()"
      ],
      "execution_count": null,
      "outputs": []
    },
    {
      "cell_type": "code",
      "metadata": {
        "id": "eErLBdNcPOtu"
      },
      "source": [
        "df_MC.sort_values('count',ascending=False).head(5)"
      ],
      "execution_count": null,
      "outputs": []
    },
    {
      "cell_type": "markdown",
      "metadata": {
        "id": "HvgSRz25s-hq"
      },
      "source": [
        "Mengambil sampel pada main category untuk usd pledge real dengan objek film dan video serta games"
      ]
    },
    {
      "cell_type": "code",
      "metadata": {
        "id": "gxOBs9TE3COZ"
      },
      "source": [
        "df_FV = df_filt[df_filt['main_category']=='Film & Video']\n",
        "df_Gem = df_filt[df_filt['main_category']=='Games']"
      ],
      "execution_count": null,
      "outputs": []
    },
    {
      "cell_type": "markdown",
      "metadata": {
        "id": "twqmU0rItKq2"
      },
      "source": [
        "Plot kedua objek yang dipilih sebelumnya"
      ]
    },
    {
      "cell_type": "code",
      "metadata": {
        "id": "A94uCeTECAQL"
      },
      "source": [
        "df_FV['usd_pledged_real'].plot()\n"
      ],
      "execution_count": null,
      "outputs": []
    },
    {
      "cell_type": "code",
      "metadata": {
        "id": "Jrg4MdV7RFvH"
      },
      "source": [
        "df_Gem['usd_pledged_real'].plot()"
      ],
      "execution_count": null,
      "outputs": []
    },
    {
      "cell_type": "markdown",
      "metadata": {
        "id": "RAikT1vAtcUT"
      },
      "source": [
        "Melakukan perhitungan sederhana dengan mencari nilai yang diperlukan dimana dicari STD, mean, kurtosis, Tstatistic dan pvalue"
      ]
    },
    {
      "cell_type": "code",
      "metadata": {
        "id": "O31mwp2j_h-m"
      },
      "source": [
        "np.random.seed(123)\n",
        "nonMath =df_FV['usd_pledged_real']\n",
        "math = df_Gem['usd_pledged_real']\n",
        "print(\"Film & Video sample mean:\" + str(nonMath.mean()))\n",
        "print(\"Film & Video sample std:\" + str(nonMath.std()))\n",
        "print(\"Film & Video Kurtosis:\" + str(nonMath.kurtosis()))\n",
        "print(\"Games sample mean:\" + str(math.mean()))\n",
        "\n",
        "# Independent T-Test\n",
        "t,p = stats.ttest_ind(math, nonMath,equal_var=False)\n",
        "# ttest_ind is 2-tailed, so half the resulting p-value to get a 1-tailed p-value\n",
        "p1 = '%f' % (p/2)\n",
        "\n",
        "#2-tailed\n",
        "print(\"t-statistic:\" + str(t))\n",
        "print(\"p-value:\" + str(p1))\n",
        "\n",
        "pop = np.random.normal(nonMath.mean(), nonMath.std(), 100000)\n",
        "# calculate a 90% confidence interval. 10% of the probability is outside this, 5% in each tail\n",
        "ci = stats.norm.interval(0.90, nonMath.mean(), nonMath.std())\n",
        "plt.hist(pop, bins=100)\n",
        "# show the hypothesized population mean\n",
        "plt.axvline(pop.mean(), color='yellow', linestyle='dashed', linewidth=2)\n",
        "# show the right-tail confidence interval threshold - 5% of propbability is under the curve to the right of this.\n",
        "plt.axvline(ci[1], color='red', linestyle='dashed', linewidth=2)\n",
        "# show the right-tail confidence interval threshold - 5% of propbability is under the curve to the right of this.\n",
        "plt.axvline(ci[0], color='red', linestyle='dashed', linewidth=2)\n",
        "# show the t-statistic - the p-value is the area under the curve to the right of this\n",
        "plt.axvline(pop.mean() +  t*pop.std(), color='magenta', linestyle='dashed', linewidth=2)\n",
        "plt.show()"
      ],
      "execution_count": null,
      "outputs": []
    },
    {
      "cell_type": "markdown",
      "metadata": {
        "id": "GOzfwkc7keI3"
      },
      "source": [
        "# Kesimpulan\n",
        "H0 = 0\n",
        "H1 != 0,\n",
        "\n",
        "hipotesis testing degan objek utama usd pledge real dan melihat keterkaitan dengan main category dimana dilakuka chi square test dan two sample test didapatkan bahwa keduanya tidak meiliki hubungan. Hal ini dapat dilihat dengan nilai p-value yang sama dengan 0 dimana batas standar untuk menrima adanya hubungan adalah 0,05 sehingga H0 diterima dan H1 ditolak. hal yang dapat dilihat pula adalah kurtosis yang cenderung sangat tajam sehingga dapat disimpulkan tidak meratanya distribusi yang ada pada usd pledge real. "
      ]
    }
  ]
}