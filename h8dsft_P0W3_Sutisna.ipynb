{
 "cells": [
  {
   "cell_type": "markdown",
   "id": "12ff56be",
   "metadata": {},
   "source": [
    "# PERKENALAN"
   ]
  },
  {
   "cell_type": "markdown",
   "id": "f4f95f82",
   "metadata": {},
   "source": [
    "Nama: Sutisna\n",
    "\n",
    "Pada Grade Challenge 3 kali ini, data set yang digunakan adalah data crowfunding kickstarter, dimana penjelasan kolom sesuai dengan namanya. \n",
    "\n",
    "Link dataset:\n",
    " https://www.kaggle.com/kemical/kickstarter-projects#ks-projects-201801.csv\n",
    "\n",
    "Objektif yang ingin dicapai adalah kita ingin mengetahui campaign category apakah yang mempengaruhi kesuksesan dari kickstarter?, apakah ada pengaruh untuk kesukesesan sebuah campaign antara di US (United Stated) dengan misalnya NL (Netherlands)? ."
   ]
  },
  {
   "cell_type": "markdown",
   "id": "9c83aa77",
   "metadata": {},
   "source": [
    "# IMPORT PUSTAKA"
   ]
  },
  {
   "cell_type": "code",
   "execution_count": 2,
   "id": "f9391344",
   "metadata": {},
   "outputs": [],
   "source": [
    "import pandas as pd\n",
    "import numpy as np\n",
    "import matplotlib.pyplot as plt\n",
    "import seaborn as sns\n",
    "import scipy.stats as stats\n",
    "from scipy.stats import ttest_ind\n",
    "import statistics\n",
    "\n",
    "%matplotlib inline"
   ]
  },
  {
   "cell_type": "markdown",
   "id": "97ee527a",
   "metadata": {},
   "source": [
    "# DATA LOADING "
   ]
  },
  {
   "cell_type": "code",
   "execution_count": 3,
   "id": "603c389e",
   "metadata": {},
   "outputs": [],
   "source": [
    "df = pd.read_csv('ks-projects-201801.csv')"
   ]
  },
  {
   "cell_type": "code",
   "execution_count": 4,
   "id": "bd1ec9cd",
   "metadata": {},
   "outputs": [
    {
     "data": {
      "text/html": [
       "<div>\n",
       "<style scoped>\n",
       "    .dataframe tbody tr th:only-of-type {\n",
       "        vertical-align: middle;\n",
       "    }\n",
       "\n",
       "    .dataframe tbody tr th {\n",
       "        vertical-align: top;\n",
       "    }\n",
       "\n",
       "    .dataframe thead th {\n",
       "        text-align: right;\n",
       "    }\n",
       "</style>\n",
       "<table border=\"1\" class=\"dataframe\">\n",
       "  <thead>\n",
       "    <tr style=\"text-align: right;\">\n",
       "      <th></th>\n",
       "      <th>ID</th>\n",
       "      <th>name</th>\n",
       "      <th>category</th>\n",
       "      <th>main_category</th>\n",
       "      <th>currency</th>\n",
       "      <th>deadline</th>\n",
       "      <th>goal</th>\n",
       "      <th>launched</th>\n",
       "      <th>pledged</th>\n",
       "      <th>state</th>\n",
       "      <th>backers</th>\n",
       "      <th>country</th>\n",
       "      <th>usd pledged</th>\n",
       "      <th>usd_pledged_real</th>\n",
       "      <th>usd_goal_real</th>\n",
       "    </tr>\n",
       "  </thead>\n",
       "  <tbody>\n",
       "    <tr>\n",
       "      <th>0</th>\n",
       "      <td>1000002330</td>\n",
       "      <td>The Songs of Adelaide &amp; Abullah</td>\n",
       "      <td>Poetry</td>\n",
       "      <td>Publishing</td>\n",
       "      <td>GBP</td>\n",
       "      <td>2015-10-09</td>\n",
       "      <td>1000.0</td>\n",
       "      <td>2015-08-11 12:12:28</td>\n",
       "      <td>0.0</td>\n",
       "      <td>failed</td>\n",
       "      <td>0</td>\n",
       "      <td>GB</td>\n",
       "      <td>0.0</td>\n",
       "      <td>0.0</td>\n",
       "      <td>1533.95</td>\n",
       "    </tr>\n",
       "    <tr>\n",
       "      <th>1</th>\n",
       "      <td>1000003930</td>\n",
       "      <td>Greeting From Earth: ZGAC Arts Capsule For ET</td>\n",
       "      <td>Narrative Film</td>\n",
       "      <td>Film &amp; Video</td>\n",
       "      <td>USD</td>\n",
       "      <td>2017-11-01</td>\n",
       "      <td>30000.0</td>\n",
       "      <td>2017-09-02 04:43:57</td>\n",
       "      <td>2421.0</td>\n",
       "      <td>failed</td>\n",
       "      <td>15</td>\n",
       "      <td>US</td>\n",
       "      <td>100.0</td>\n",
       "      <td>2421.0</td>\n",
       "      <td>30000.00</td>\n",
       "    </tr>\n",
       "    <tr>\n",
       "      <th>2</th>\n",
       "      <td>1000004038</td>\n",
       "      <td>Where is Hank?</td>\n",
       "      <td>Narrative Film</td>\n",
       "      <td>Film &amp; Video</td>\n",
       "      <td>USD</td>\n",
       "      <td>2013-02-26</td>\n",
       "      <td>45000.0</td>\n",
       "      <td>2013-01-12 00:20:50</td>\n",
       "      <td>220.0</td>\n",
       "      <td>failed</td>\n",
       "      <td>3</td>\n",
       "      <td>US</td>\n",
       "      <td>220.0</td>\n",
       "      <td>220.0</td>\n",
       "      <td>45000.00</td>\n",
       "    </tr>\n",
       "    <tr>\n",
       "      <th>3</th>\n",
       "      <td>1000007540</td>\n",
       "      <td>ToshiCapital Rekordz Needs Help to Complete Album</td>\n",
       "      <td>Music</td>\n",
       "      <td>Music</td>\n",
       "      <td>USD</td>\n",
       "      <td>2012-04-16</td>\n",
       "      <td>5000.0</td>\n",
       "      <td>2012-03-17 03:24:11</td>\n",
       "      <td>1.0</td>\n",
       "      <td>failed</td>\n",
       "      <td>1</td>\n",
       "      <td>US</td>\n",
       "      <td>1.0</td>\n",
       "      <td>1.0</td>\n",
       "      <td>5000.00</td>\n",
       "    </tr>\n",
       "    <tr>\n",
       "      <th>4</th>\n",
       "      <td>1000011046</td>\n",
       "      <td>Community Film Project: The Art of Neighborhoo...</td>\n",
       "      <td>Film &amp; Video</td>\n",
       "      <td>Film &amp; Video</td>\n",
       "      <td>USD</td>\n",
       "      <td>2015-08-29</td>\n",
       "      <td>19500.0</td>\n",
       "      <td>2015-07-04 08:35:03</td>\n",
       "      <td>1283.0</td>\n",
       "      <td>canceled</td>\n",
       "      <td>14</td>\n",
       "      <td>US</td>\n",
       "      <td>1283.0</td>\n",
       "      <td>1283.0</td>\n",
       "      <td>19500.00</td>\n",
       "    </tr>\n",
       "  </tbody>\n",
       "</table>\n",
       "</div>"
      ],
      "text/plain": [
       "           ID                                               name  \\\n",
       "0  1000002330                    The Songs of Adelaide & Abullah   \n",
       "1  1000003930      Greeting From Earth: ZGAC Arts Capsule For ET   \n",
       "2  1000004038                                     Where is Hank?   \n",
       "3  1000007540  ToshiCapital Rekordz Needs Help to Complete Album   \n",
       "4  1000011046  Community Film Project: The Art of Neighborhoo...   \n",
       "\n",
       "         category main_category currency    deadline     goal  \\\n",
       "0          Poetry    Publishing      GBP  2015-10-09   1000.0   \n",
       "1  Narrative Film  Film & Video      USD  2017-11-01  30000.0   \n",
       "2  Narrative Film  Film & Video      USD  2013-02-26  45000.0   \n",
       "3           Music         Music      USD  2012-04-16   5000.0   \n",
       "4    Film & Video  Film & Video      USD  2015-08-29  19500.0   \n",
       "\n",
       "              launched  pledged     state  backers country  usd pledged  \\\n",
       "0  2015-08-11 12:12:28      0.0    failed        0      GB          0.0   \n",
       "1  2017-09-02 04:43:57   2421.0    failed       15      US        100.0   \n",
       "2  2013-01-12 00:20:50    220.0    failed        3      US        220.0   \n",
       "3  2012-03-17 03:24:11      1.0    failed        1      US          1.0   \n",
       "4  2015-07-04 08:35:03   1283.0  canceled       14      US       1283.0   \n",
       "\n",
       "   usd_pledged_real  usd_goal_real  \n",
       "0               0.0        1533.95  \n",
       "1            2421.0       30000.00  \n",
       "2             220.0       45000.00  \n",
       "3               1.0        5000.00  \n",
       "4            1283.0       19500.00  "
      ]
     },
     "execution_count": 4,
     "metadata": {},
     "output_type": "execute_result"
    }
   ],
   "source": [
    "df.head(5)"
   ]
  },
  {
   "cell_type": "code",
   "execution_count": 5,
   "id": "d9016319",
   "metadata": {},
   "outputs": [
    {
     "name": "stdout",
     "output_type": "stream",
     "text": [
      "columns: 15\n",
      "rows: 378661\n"
     ]
    }
   ],
   "source": [
    "print(\"columns: {}\".format(df.shape[1]))\n",
    "print(\"rows: {}\".format(df.shape[0]))"
   ]
  },
  {
   "cell_type": "code",
   "execution_count": 6,
   "id": "f4798821",
   "metadata": {},
   "outputs": [
    {
     "name": "stdout",
     "output_type": "stream",
     "text": [
      "<class 'pandas.core.frame.DataFrame'>\n",
      "RangeIndex: 378661 entries, 0 to 378660\n",
      "Data columns (total 15 columns):\n",
      " #   Column            Non-Null Count   Dtype  \n",
      "---  ------            --------------   -----  \n",
      " 0   ID                378661 non-null  int64  \n",
      " 1   name              378657 non-null  object \n",
      " 2   category          378661 non-null  object \n",
      " 3   main_category     378661 non-null  object \n",
      " 4   currency          378661 non-null  object \n",
      " 5   deadline          378661 non-null  object \n",
      " 6   goal              378661 non-null  float64\n",
      " 7   launched          378661 non-null  object \n",
      " 8   pledged           378661 non-null  float64\n",
      " 9   state             378661 non-null  object \n",
      " 10  backers           378661 non-null  int64  \n",
      " 11  country           378661 non-null  object \n",
      " 12  usd pledged       374864 non-null  float64\n",
      " 13  usd_pledged_real  378661 non-null  float64\n",
      " 14  usd_goal_real     378661 non-null  float64\n",
      "dtypes: float64(5), int64(2), object(8)\n",
      "memory usage: 43.3+ MB\n"
     ]
    }
   ],
   "source": [
    "df.info()"
   ]
  },
  {
   "cell_type": "markdown",
   "id": "7bbc78f8",
   "metadata": {},
   "source": [
    "Dari info diatas bisa dilihat bahwa ada kolom dengan data yang hilang, yaitu kolom 'name' ada 4 data hilang dan kolom 'usd pledged' dengan 3797 data yang hilang."
   ]
  },
  {
   "cell_type": "code",
   "execution_count": 7,
   "id": "afa001a5",
   "metadata": {},
   "outputs": [
    {
     "data": {
      "text/html": [
       "<div>\n",
       "<style scoped>\n",
       "    .dataframe tbody tr th:only-of-type {\n",
       "        vertical-align: middle;\n",
       "    }\n",
       "\n",
       "    .dataframe tbody tr th {\n",
       "        vertical-align: top;\n",
       "    }\n",
       "\n",
       "    .dataframe thead th {\n",
       "        text-align: right;\n",
       "    }\n",
       "</style>\n",
       "<table border=\"1\" class=\"dataframe\">\n",
       "  <thead>\n",
       "    <tr style=\"text-align: right;\">\n",
       "      <th></th>\n",
       "      <th>ID</th>\n",
       "      <th>name</th>\n",
       "      <th>category</th>\n",
       "      <th>main_category</th>\n",
       "      <th>currency</th>\n",
       "      <th>deadline</th>\n",
       "      <th>goal</th>\n",
       "      <th>launched</th>\n",
       "      <th>pledged</th>\n",
       "      <th>state</th>\n",
       "      <th>backers</th>\n",
       "      <th>country</th>\n",
       "      <th>usd pledged</th>\n",
       "      <th>usd_pledged_real</th>\n",
       "      <th>usd_goal_real</th>\n",
       "    </tr>\n",
       "  </thead>\n",
       "  <tbody>\n",
       "    <tr>\n",
       "      <th>166851</th>\n",
       "      <td>1848699072</td>\n",
       "      <td>NaN</td>\n",
       "      <td>Narrative Film</td>\n",
       "      <td>Film &amp; Video</td>\n",
       "      <td>USD</td>\n",
       "      <td>2012-02-29</td>\n",
       "      <td>200000.0</td>\n",
       "      <td>2012-01-01 12:35:31</td>\n",
       "      <td>100.0</td>\n",
       "      <td>failed</td>\n",
       "      <td>1</td>\n",
       "      <td>US</td>\n",
       "      <td>100.00</td>\n",
       "      <td>100.00</td>\n",
       "      <td>200000.00</td>\n",
       "    </tr>\n",
       "    <tr>\n",
       "      <th>307234</th>\n",
       "      <td>634871725</td>\n",
       "      <td>NaN</td>\n",
       "      <td>Video Games</td>\n",
       "      <td>Games</td>\n",
       "      <td>GBP</td>\n",
       "      <td>2013-01-06</td>\n",
       "      <td>2000.0</td>\n",
       "      <td>2012-12-19 23:57:48</td>\n",
       "      <td>196.0</td>\n",
       "      <td>failed</td>\n",
       "      <td>12</td>\n",
       "      <td>GB</td>\n",
       "      <td>317.73</td>\n",
       "      <td>316.05</td>\n",
       "      <td>3224.97</td>\n",
       "    </tr>\n",
       "    <tr>\n",
       "      <th>309991</th>\n",
       "      <td>648853978</td>\n",
       "      <td>NaN</td>\n",
       "      <td>Product Design</td>\n",
       "      <td>Design</td>\n",
       "      <td>USD</td>\n",
       "      <td>2016-07-18</td>\n",
       "      <td>2500.0</td>\n",
       "      <td>2016-06-18 05:01:47</td>\n",
       "      <td>0.0</td>\n",
       "      <td>suspended</td>\n",
       "      <td>0</td>\n",
       "      <td>US</td>\n",
       "      <td>0.00</td>\n",
       "      <td>0.00</td>\n",
       "      <td>2500.00</td>\n",
       "    </tr>\n",
       "    <tr>\n",
       "      <th>338931</th>\n",
       "      <td>796533179</td>\n",
       "      <td>NaN</td>\n",
       "      <td>Painting</td>\n",
       "      <td>Art</td>\n",
       "      <td>USD</td>\n",
       "      <td>2011-12-05</td>\n",
       "      <td>35000.0</td>\n",
       "      <td>2011-11-06 23:55:55</td>\n",
       "      <td>220.0</td>\n",
       "      <td>failed</td>\n",
       "      <td>5</td>\n",
       "      <td>US</td>\n",
       "      <td>220.00</td>\n",
       "      <td>220.00</td>\n",
       "      <td>35000.00</td>\n",
       "    </tr>\n",
       "  </tbody>\n",
       "</table>\n",
       "</div>"
      ],
      "text/plain": [
       "                ID name        category main_category currency    deadline  \\\n",
       "166851  1848699072  NaN  Narrative Film  Film & Video      USD  2012-02-29   \n",
       "307234   634871725  NaN     Video Games         Games      GBP  2013-01-06   \n",
       "309991   648853978  NaN  Product Design        Design      USD  2016-07-18   \n",
       "338931   796533179  NaN        Painting           Art      USD  2011-12-05   \n",
       "\n",
       "            goal             launched  pledged      state  backers country  \\\n",
       "166851  200000.0  2012-01-01 12:35:31    100.0     failed        1      US   \n",
       "307234    2000.0  2012-12-19 23:57:48    196.0     failed       12      GB   \n",
       "309991    2500.0  2016-06-18 05:01:47      0.0  suspended        0      US   \n",
       "338931   35000.0  2011-11-06 23:55:55    220.0     failed        5      US   \n",
       "\n",
       "        usd pledged  usd_pledged_real  usd_goal_real  \n",
       "166851       100.00            100.00      200000.00  \n",
       "307234       317.73            316.05        3224.97  \n",
       "309991         0.00              0.00        2500.00  \n",
       "338931       220.00            220.00       35000.00  "
      ]
     },
     "execution_count": 7,
     "metadata": {},
     "output_type": "execute_result"
    }
   ],
   "source": [
    "#cek data yang hilang di kolom 'nama'\n",
    "df[df['name'].isna()]"
   ]
  },
  {
   "cell_type": "markdown",
   "id": "9a15b2c8",
   "metadata": {},
   "source": [
    "4 data yang hilang di kolom 'nama' mungkin tidak akan terlalu mempengaruhi analisa yang akan saya lakukan, jadi dapat dihiraukan saja."
   ]
  },
  {
   "cell_type": "code",
   "execution_count": 8,
   "id": "b60bbd8a",
   "metadata": {},
   "outputs": [
    {
     "data": {
      "text/plain": [
       "378661"
      ]
     },
     "execution_count": 8,
     "metadata": {},
     "output_type": "execute_result"
    }
   ],
   "source": [
    "df['ID'].nunique()"
   ]
  },
  {
   "cell_type": "markdown",
   "id": "6235b663",
   "metadata": {},
   "source": [
    "Dataset mempunyai 378661 kolom, berarti kolom 'ID' tidak ada data yg duplikat."
   ]
  },
  {
   "cell_type": "code",
   "execution_count": 9,
   "id": "0bf22baf",
   "metadata": {},
   "outputs": [
    {
     "data": {
      "text/html": [
       "<div>\n",
       "<style scoped>\n",
       "    .dataframe tbody tr th:only-of-type {\n",
       "        vertical-align: middle;\n",
       "    }\n",
       "\n",
       "    .dataframe tbody tr th {\n",
       "        vertical-align: top;\n",
       "    }\n",
       "\n",
       "    .dataframe thead th {\n",
       "        text-align: right;\n",
       "    }\n",
       "</style>\n",
       "<table border=\"1\" class=\"dataframe\">\n",
       "  <thead>\n",
       "    <tr style=\"text-align: right;\">\n",
       "      <th></th>\n",
       "      <th>ID</th>\n",
       "      <th>goal</th>\n",
       "      <th>pledged</th>\n",
       "      <th>backers</th>\n",
       "      <th>usd pledged</th>\n",
       "      <th>usd_pledged_real</th>\n",
       "      <th>usd_goal_real</th>\n",
       "    </tr>\n",
       "  </thead>\n",
       "  <tbody>\n",
       "    <tr>\n",
       "      <th>count</th>\n",
       "      <td>3.786610e+05</td>\n",
       "      <td>3.786610e+05</td>\n",
       "      <td>3.786610e+05</td>\n",
       "      <td>378661.000000</td>\n",
       "      <td>3.748640e+05</td>\n",
       "      <td>3.786610e+05</td>\n",
       "      <td>3.786610e+05</td>\n",
       "    </tr>\n",
       "    <tr>\n",
       "      <th>mean</th>\n",
       "      <td>1.074731e+09</td>\n",
       "      <td>4.908079e+04</td>\n",
       "      <td>9.682979e+03</td>\n",
       "      <td>105.617476</td>\n",
       "      <td>7.036729e+03</td>\n",
       "      <td>9.058924e+03</td>\n",
       "      <td>4.545440e+04</td>\n",
       "    </tr>\n",
       "    <tr>\n",
       "      <th>std</th>\n",
       "      <td>6.190862e+08</td>\n",
       "      <td>1.183391e+06</td>\n",
       "      <td>9.563601e+04</td>\n",
       "      <td>907.185035</td>\n",
       "      <td>7.863975e+04</td>\n",
       "      <td>9.097334e+04</td>\n",
       "      <td>1.152950e+06</td>\n",
       "    </tr>\n",
       "    <tr>\n",
       "      <th>min</th>\n",
       "      <td>5.971000e+03</td>\n",
       "      <td>1.000000e-02</td>\n",
       "      <td>0.000000e+00</td>\n",
       "      <td>0.000000</td>\n",
       "      <td>0.000000e+00</td>\n",
       "      <td>0.000000e+00</td>\n",
       "      <td>1.000000e-02</td>\n",
       "    </tr>\n",
       "    <tr>\n",
       "      <th>25%</th>\n",
       "      <td>5.382635e+08</td>\n",
       "      <td>2.000000e+03</td>\n",
       "      <td>3.000000e+01</td>\n",
       "      <td>2.000000</td>\n",
       "      <td>1.698000e+01</td>\n",
       "      <td>3.100000e+01</td>\n",
       "      <td>2.000000e+03</td>\n",
       "    </tr>\n",
       "    <tr>\n",
       "      <th>50%</th>\n",
       "      <td>1.075276e+09</td>\n",
       "      <td>5.200000e+03</td>\n",
       "      <td>6.200000e+02</td>\n",
       "      <td>12.000000</td>\n",
       "      <td>3.947200e+02</td>\n",
       "      <td>6.243300e+02</td>\n",
       "      <td>5.500000e+03</td>\n",
       "    </tr>\n",
       "    <tr>\n",
       "      <th>75%</th>\n",
       "      <td>1.610149e+09</td>\n",
       "      <td>1.600000e+04</td>\n",
       "      <td>4.076000e+03</td>\n",
       "      <td>56.000000</td>\n",
       "      <td>3.034090e+03</td>\n",
       "      <td>4.050000e+03</td>\n",
       "      <td>1.550000e+04</td>\n",
       "    </tr>\n",
       "    <tr>\n",
       "      <th>max</th>\n",
       "      <td>2.147476e+09</td>\n",
       "      <td>1.000000e+08</td>\n",
       "      <td>2.033899e+07</td>\n",
       "      <td>219382.000000</td>\n",
       "      <td>2.033899e+07</td>\n",
       "      <td>2.033899e+07</td>\n",
       "      <td>1.663614e+08</td>\n",
       "    </tr>\n",
       "  </tbody>\n",
       "</table>\n",
       "</div>"
      ],
      "text/plain": [
       "                 ID          goal       pledged        backers   usd pledged  \\\n",
       "count  3.786610e+05  3.786610e+05  3.786610e+05  378661.000000  3.748640e+05   \n",
       "mean   1.074731e+09  4.908079e+04  9.682979e+03     105.617476  7.036729e+03   \n",
       "std    6.190862e+08  1.183391e+06  9.563601e+04     907.185035  7.863975e+04   \n",
       "min    5.971000e+03  1.000000e-02  0.000000e+00       0.000000  0.000000e+00   \n",
       "25%    5.382635e+08  2.000000e+03  3.000000e+01       2.000000  1.698000e+01   \n",
       "50%    1.075276e+09  5.200000e+03  6.200000e+02      12.000000  3.947200e+02   \n",
       "75%    1.610149e+09  1.600000e+04  4.076000e+03      56.000000  3.034090e+03   \n",
       "max    2.147476e+09  1.000000e+08  2.033899e+07  219382.000000  2.033899e+07   \n",
       "\n",
       "       usd_pledged_real  usd_goal_real  \n",
       "count      3.786610e+05   3.786610e+05  \n",
       "mean       9.058924e+03   4.545440e+04  \n",
       "std        9.097334e+04   1.152950e+06  \n",
       "min        0.000000e+00   1.000000e-02  \n",
       "25%        3.100000e+01   2.000000e+03  \n",
       "50%        6.243300e+02   5.500000e+03  \n",
       "75%        4.050000e+03   1.550000e+04  \n",
       "max        2.033899e+07   1.663614e+08  "
      ]
     },
     "execution_count": 9,
     "metadata": {},
     "output_type": "execute_result"
    }
   ],
   "source": [
    "df.describe()"
   ]
  },
  {
   "cell_type": "markdown",
   "id": "c5cdcfa1",
   "metadata": {},
   "source": [
    "# Measure Of Central Tendency"
   ]
  },
  {
   "cell_type": "markdown",
   "id": "da316c72",
   "metadata": {},
   "source": [
    "saya akan menampilkan mean, median, standart deviasi dan range dari data kolom 'usd_pledged_real'"
   ]
  },
  {
   "cell_type": "code",
   "execution_count": 10,
   "id": "3c4768c6",
   "metadata": {},
   "outputs": [
    {
     "data": {
      "text/plain": [
       "9058.924074119337"
      ]
     },
     "execution_count": 10,
     "metadata": {},
     "output_type": "execute_result"
    }
   ],
   "source": [
    "#Mean\n",
    "df['usd_pledged_real'].mean()"
   ]
  },
  {
   "cell_type": "code",
   "execution_count": 34,
   "id": "91f1c1c1",
   "metadata": {},
   "outputs": [
    {
     "data": {
      "text/plain": [
       "633.0"
      ]
     },
     "execution_count": 34,
     "metadata": {},
     "output_type": "execute_result"
    }
   ],
   "source": [
    "#Median\n",
    "df['usd_pledged_real'].median()"
   ]
  },
  {
   "cell_type": "markdown",
   "id": "f3e65b83",
   "metadata": {},
   "source": [
    "Melihat modus dari kolom 'main_category'"
   ]
  },
  {
   "cell_type": "code",
   "execution_count": 11,
   "id": "731a3f5b",
   "metadata": {},
   "outputs": [
    {
     "data": {
      "text/plain": [
       "0    Film & Video\n",
       "dtype: object"
      ]
     },
     "execution_count": 11,
     "metadata": {},
     "output_type": "execute_result"
    }
   ],
   "source": [
    "df['main_category'].mode()"
   ]
  },
  {
   "cell_type": "markdown",
   "id": "783d7a94",
   "metadata": {},
   "source": [
    "# Measure of Variance"
   ]
  },
  {
   "cell_type": "markdown",
   "id": "06767b52",
   "metadata": {},
   "source": [
    "Menampilkan variance dari kolom 'usd_pledged_real'. Pertama kita akan menghitung range dari kolom tersebut."
   ]
  },
  {
   "cell_type": "code",
   "execution_count": 37,
   "id": "bf58c01e",
   "metadata": {},
   "outputs": [
    {
     "name": "stdout",
     "output_type": "stream",
     "text": [
      "Range dari kolom usd_pledged_real adalah: 20338986.27\n"
     ]
    }
   ],
   "source": [
    "R = df['usd_pledged_real'].max() - df['usd_pledged_real'].min()\n",
    "print(\"Range dari kolom usd_pledged_real adalah:\", R)"
   ]
  },
  {
   "cell_type": "code",
   "execution_count": 38,
   "id": "ef891c76",
   "metadata": {},
   "outputs": [
    {
     "data": {
      "text/plain": [
       "8402440704.841331"
      ]
     },
     "execution_count": 38,
     "metadata": {},
     "output_type": "execute_result"
    }
   ],
   "source": [
    "variance = df['usd_pledged_real'].var()\n",
    "variance"
   ]
  },
  {
   "cell_type": "code",
   "execution_count": 40,
   "id": "288bfd33",
   "metadata": {},
   "outputs": [
    {
     "data": {
      "text/plain": [
       "91664.82806857454"
      ]
     },
     "execution_count": 40,
     "metadata": {},
     "output_type": "execute_result"
    }
   ],
   "source": [
    "standardev = df['usd_pledged_real'].std()\n",
    "standardev"
   ]
  },
  {
   "cell_type": "markdown",
   "id": "3fe8b425",
   "metadata": {},
   "source": [
    "# DATA CLEANING"
   ]
  },
  {
   "cell_type": "markdown",
   "id": "e261e4b4",
   "metadata": {},
   "source": [
    "Menghilangkan isi data di kolom 'state' dengan nilai 'live','undefined','suspended' yang tidak diperlukan dan tidak relevant untuk analysis"
   ]
  },
  {
   "cell_type": "code",
   "execution_count": 13,
   "id": "afa7b30a",
   "metadata": {},
   "outputs": [
    {
     "data": {
      "text/plain": [
       "failed        197719\n",
       "successful    133956\n",
       "canceled       38779\n",
       "Name: state, dtype: int64"
      ]
     },
     "execution_count": 13,
     "metadata": {},
     "output_type": "execute_result"
    }
   ],
   "source": [
    "df = df.loc[df['state'] != 'live']\n",
    "df = df.loc[df['state'] != 'undefined']\n",
    "df = df.loc[df['state'] != 'suspended']\n",
    "\n",
    "#Check apakah 3 kategori diatas sudah hilang di kolom 'state'\n",
    "df['state'].value_counts()"
   ]
  },
  {
   "cell_type": "markdown",
   "id": "500399e2",
   "metadata": {},
   "source": [
    "# DATA PREPARATION"
   ]
  },
  {
   "cell_type": "markdown",
   "id": "7289fef8",
   "metadata": {},
   "source": [
    "Ada 6 baris data di kolom 'launched' berisi tahun 1970, dimana hal tersebut sangat aneh, dikarenakan data urutan terakhir adalah 2009."
   ]
  },
  {
   "cell_type": "code",
   "execution_count": 14,
   "id": "7d79e6ff",
   "metadata": {},
   "outputs": [
    {
     "data": {
      "text/html": [
       "<div>\n",
       "<style scoped>\n",
       "    .dataframe tbody tr th:only-of-type {\n",
       "        vertical-align: middle;\n",
       "    }\n",
       "\n",
       "    .dataframe tbody tr th {\n",
       "        vertical-align: top;\n",
       "    }\n",
       "\n",
       "    .dataframe thead th {\n",
       "        text-align: right;\n",
       "    }\n",
       "</style>\n",
       "<table border=\"1\" class=\"dataframe\">\n",
       "  <thead>\n",
       "    <tr style=\"text-align: right;\">\n",
       "      <th></th>\n",
       "      <th>ID</th>\n",
       "      <th>name</th>\n",
       "      <th>category</th>\n",
       "      <th>main_category</th>\n",
       "      <th>currency</th>\n",
       "      <th>deadline</th>\n",
       "      <th>goal</th>\n",
       "      <th>launched</th>\n",
       "      <th>pledged</th>\n",
       "      <th>state</th>\n",
       "      <th>backers</th>\n",
       "      <th>country</th>\n",
       "      <th>usd pledged</th>\n",
       "      <th>usd_pledged_real</th>\n",
       "      <th>usd_goal_real</th>\n",
       "    </tr>\n",
       "  </thead>\n",
       "  <tbody>\n",
       "    <tr>\n",
       "      <th>247913</th>\n",
       "      <td>330942060</td>\n",
       "      <td>Help RIZ Make A Charity Album: 8 Songs, 8 Caus...</td>\n",
       "      <td>Music</td>\n",
       "      <td>Music</td>\n",
       "      <td>USD</td>\n",
       "      <td>2010-05-04</td>\n",
       "      <td>10000.0</td>\n",
       "      <td>1970-01-01 01:00:00</td>\n",
       "      <td>0.0</td>\n",
       "      <td>canceled</td>\n",
       "      <td>0</td>\n",
       "      <td>US</td>\n",
       "      <td>0.0</td>\n",
       "      <td>0.0</td>\n",
       "      <td>10000.0</td>\n",
       "    </tr>\n",
       "    <tr>\n",
       "      <th>75397</th>\n",
       "      <td>1384087152</td>\n",
       "      <td>\"ICHOR\"  (Canceled)</td>\n",
       "      <td>Film &amp; Video</td>\n",
       "      <td>Film &amp; Video</td>\n",
       "      <td>USD</td>\n",
       "      <td>2010-05-21</td>\n",
       "      <td>700.0</td>\n",
       "      <td>1970-01-01 01:00:00</td>\n",
       "      <td>0.0</td>\n",
       "      <td>canceled</td>\n",
       "      <td>0</td>\n",
       "      <td>US</td>\n",
       "      <td>0.0</td>\n",
       "      <td>0.0</td>\n",
       "      <td>700.0</td>\n",
       "    </tr>\n",
       "    <tr>\n",
       "      <th>48147</th>\n",
       "      <td>1245461087</td>\n",
       "      <td>1st Super-Size Painting - Social Network Owned...</td>\n",
       "      <td>Art</td>\n",
       "      <td>Art</td>\n",
       "      <td>USD</td>\n",
       "      <td>2010-08-14</td>\n",
       "      <td>15000.0</td>\n",
       "      <td>1970-01-01 01:00:00</td>\n",
       "      <td>0.0</td>\n",
       "      <td>canceled</td>\n",
       "      <td>0</td>\n",
       "      <td>US</td>\n",
       "      <td>0.0</td>\n",
       "      <td>0.0</td>\n",
       "      <td>15000.0</td>\n",
       "    </tr>\n",
       "    <tr>\n",
       "      <th>2842</th>\n",
       "      <td>1014746686</td>\n",
       "      <td>Salt of the Earth: A Dead Sea Movie (Canceled)</td>\n",
       "      <td>Film &amp; Video</td>\n",
       "      <td>Film &amp; Video</td>\n",
       "      <td>USD</td>\n",
       "      <td>2010-09-15</td>\n",
       "      <td>5000.0</td>\n",
       "      <td>1970-01-01 01:00:00</td>\n",
       "      <td>0.0</td>\n",
       "      <td>canceled</td>\n",
       "      <td>0</td>\n",
       "      <td>US</td>\n",
       "      <td>0.0</td>\n",
       "      <td>0.0</td>\n",
       "      <td>5000.0</td>\n",
       "    </tr>\n",
       "    <tr>\n",
       "      <th>94579</th>\n",
       "      <td>1480763647</td>\n",
       "      <td>Support Solo Theater! Help \"Ungrateful Daughte...</td>\n",
       "      <td>Theater</td>\n",
       "      <td>Theater</td>\n",
       "      <td>USD</td>\n",
       "      <td>2010-06-01</td>\n",
       "      <td>4000.0</td>\n",
       "      <td>1970-01-01 01:00:00</td>\n",
       "      <td>0.0</td>\n",
       "      <td>canceled</td>\n",
       "      <td>0</td>\n",
       "      <td>US</td>\n",
       "      <td>0.0</td>\n",
       "      <td>0.0</td>\n",
       "      <td>4000.0</td>\n",
       "    </tr>\n",
       "    <tr>\n",
       "      <th>273779</th>\n",
       "      <td>462917959</td>\n",
       "      <td>Identity Communications Infographic (Canceled)</td>\n",
       "      <td>Design</td>\n",
       "      <td>Design</td>\n",
       "      <td>USD</td>\n",
       "      <td>2010-04-10</td>\n",
       "      <td>500.0</td>\n",
       "      <td>1970-01-01 01:00:00</td>\n",
       "      <td>0.0</td>\n",
       "      <td>canceled</td>\n",
       "      <td>0</td>\n",
       "      <td>US</td>\n",
       "      <td>0.0</td>\n",
       "      <td>0.0</td>\n",
       "      <td>500.0</td>\n",
       "    </tr>\n",
       "    <tr>\n",
       "      <th>169268</th>\n",
       "      <td>1860890148</td>\n",
       "      <td>Grace Jones Does Not Give A F$#% T-Shirt (limi...</td>\n",
       "      <td>Fashion</td>\n",
       "      <td>Fashion</td>\n",
       "      <td>USD</td>\n",
       "      <td>2009-05-31</td>\n",
       "      <td>1000.0</td>\n",
       "      <td>2009-04-21 21:02:48</td>\n",
       "      <td>625.0</td>\n",
       "      <td>failed</td>\n",
       "      <td>30</td>\n",
       "      <td>US</td>\n",
       "      <td>625.0</td>\n",
       "      <td>625.0</td>\n",
       "      <td>1000.0</td>\n",
       "    </tr>\n",
       "    <tr>\n",
       "      <th>322000</th>\n",
       "      <td>709707365</td>\n",
       "      <td>CRYSTAL ANTLERS UNTITLED MOVIE</td>\n",
       "      <td>Shorts</td>\n",
       "      <td>Film &amp; Video</td>\n",
       "      <td>USD</td>\n",
       "      <td>2009-07-20</td>\n",
       "      <td>80000.0</td>\n",
       "      <td>2009-04-23 00:07:53</td>\n",
       "      <td>22.0</td>\n",
       "      <td>failed</td>\n",
       "      <td>3</td>\n",
       "      <td>US</td>\n",
       "      <td>22.0</td>\n",
       "      <td>22.0</td>\n",
       "      <td>80000.0</td>\n",
       "    </tr>\n",
       "    <tr>\n",
       "      <th>138572</th>\n",
       "      <td>1703704063</td>\n",
       "      <td>drawing for dollars</td>\n",
       "      <td>Illustration</td>\n",
       "      <td>Art</td>\n",
       "      <td>USD</td>\n",
       "      <td>2009-05-03</td>\n",
       "      <td>20.0</td>\n",
       "      <td>2009-04-24 21:52:03</td>\n",
       "      <td>35.0</td>\n",
       "      <td>successful</td>\n",
       "      <td>3</td>\n",
       "      <td>US</td>\n",
       "      <td>35.0</td>\n",
       "      <td>35.0</td>\n",
       "      <td>20.0</td>\n",
       "    </tr>\n",
       "    <tr>\n",
       "      <th>325391</th>\n",
       "      <td>727286</td>\n",
       "      <td>Offline Wikipedia iPhone app</td>\n",
       "      <td>Software</td>\n",
       "      <td>Technology</td>\n",
       "      <td>USD</td>\n",
       "      <td>2009-07-14</td>\n",
       "      <td>99.0</td>\n",
       "      <td>2009-04-25 17:36:21</td>\n",
       "      <td>145.0</td>\n",
       "      <td>successful</td>\n",
       "      <td>25</td>\n",
       "      <td>US</td>\n",
       "      <td>145.0</td>\n",
       "      <td>145.0</td>\n",
       "      <td>99.0</td>\n",
       "    </tr>\n",
       "  </tbody>\n",
       "</table>\n",
       "</div>"
      ],
      "text/plain": [
       "                ID                                               name  \\\n",
       "247913   330942060  Help RIZ Make A Charity Album: 8 Songs, 8 Caus...   \n",
       "75397   1384087152                                \"ICHOR\"  (Canceled)   \n",
       "48147   1245461087  1st Super-Size Painting - Social Network Owned...   \n",
       "2842    1014746686     Salt of the Earth: A Dead Sea Movie (Canceled)   \n",
       "94579   1480763647  Support Solo Theater! Help \"Ungrateful Daughte...   \n",
       "273779   462917959     Identity Communications Infographic (Canceled)   \n",
       "169268  1860890148  Grace Jones Does Not Give A F$#% T-Shirt (limi...   \n",
       "322000   709707365                     CRYSTAL ANTLERS UNTITLED MOVIE   \n",
       "138572  1703704063                                drawing for dollars   \n",
       "325391      727286                       Offline Wikipedia iPhone app   \n",
       "\n",
       "            category main_category currency    deadline     goal  \\\n",
       "247913         Music         Music      USD  2010-05-04  10000.0   \n",
       "75397   Film & Video  Film & Video      USD  2010-05-21    700.0   \n",
       "48147            Art           Art      USD  2010-08-14  15000.0   \n",
       "2842    Film & Video  Film & Video      USD  2010-09-15   5000.0   \n",
       "94579        Theater       Theater      USD  2010-06-01   4000.0   \n",
       "273779        Design        Design      USD  2010-04-10    500.0   \n",
       "169268       Fashion       Fashion      USD  2009-05-31   1000.0   \n",
       "322000        Shorts  Film & Video      USD  2009-07-20  80000.0   \n",
       "138572  Illustration           Art      USD  2009-05-03     20.0   \n",
       "325391      Software    Technology      USD  2009-07-14     99.0   \n",
       "\n",
       "                   launched  pledged       state  backers country  \\\n",
       "247913  1970-01-01 01:00:00      0.0    canceled        0      US   \n",
       "75397   1970-01-01 01:00:00      0.0    canceled        0      US   \n",
       "48147   1970-01-01 01:00:00      0.0    canceled        0      US   \n",
       "2842    1970-01-01 01:00:00      0.0    canceled        0      US   \n",
       "94579   1970-01-01 01:00:00      0.0    canceled        0      US   \n",
       "273779  1970-01-01 01:00:00      0.0    canceled        0      US   \n",
       "169268  2009-04-21 21:02:48    625.0      failed       30      US   \n",
       "322000  2009-04-23 00:07:53     22.0      failed        3      US   \n",
       "138572  2009-04-24 21:52:03     35.0  successful        3      US   \n",
       "325391  2009-04-25 17:36:21    145.0  successful       25      US   \n",
       "\n",
       "        usd pledged  usd_pledged_real  usd_goal_real  \n",
       "247913          0.0               0.0        10000.0  \n",
       "75397           0.0               0.0          700.0  \n",
       "48147           0.0               0.0        15000.0  \n",
       "2842            0.0               0.0         5000.0  \n",
       "94579           0.0               0.0         4000.0  \n",
       "273779          0.0               0.0          500.0  \n",
       "169268        625.0             625.0         1000.0  \n",
       "322000         22.0              22.0        80000.0  \n",
       "138572         35.0              35.0           20.0  \n",
       "325391        145.0             145.0           99.0  "
      ]
     },
     "execution_count": 14,
     "metadata": {},
     "output_type": "execute_result"
    }
   ],
   "source": [
    "df.sort_values(by='launched').head(10)"
   ]
  },
  {
   "cell_type": "markdown",
   "id": "e2ac252a",
   "metadata": {},
   "source": [
    "kita tidak akan menggunakan data 'launched' yang tahun 1970"
   ]
  },
  {
   "cell_type": "code",
   "execution_count": 15,
   "id": "ae4c8a35",
   "metadata": {},
   "outputs": [],
   "source": [
    "df = df[df['launched'] != '1970-01-01 01:00:00']"
   ]
  },
  {
   "cell_type": "markdown",
   "id": "5fcef424",
   "metadata": {},
   "source": [
    "kolom 'deadline' dan 'launched' adalah kolom tanggal, maka saya akan convert keduanya menjadi datetime."
   ]
  },
  {
   "cell_type": "code",
   "execution_count": 16,
   "id": "a56b7d53",
   "metadata": {},
   "outputs": [],
   "source": [
    "df['deadline'] = pd.to_datetime(df['deadline'])\n",
    "df['launched'] = pd.to_datetime(df['launched'])\n",
    "df['launched_year'] = df.launched.dt.year.values"
   ]
  },
  {
   "cell_type": "markdown",
   "id": "56d48f11",
   "metadata": {},
   "source": [
    "# DATA EXPLORATION"
   ]
  },
  {
   "cell_type": "markdown",
   "id": "ca3130f5",
   "metadata": {},
   "source": [
    "saya akan membagi data menjadi 2 main kategori, yaitu top pledged dan top backers, dimana:\n",
    "\n",
    "1. Top Pledged adalah data gabungan antara main_kategori dengan usd_pledged_real dimana state = successful\n",
    "2. Top Backers adalah data gabungan antara main_categori dan backers"
   ]
  },
  {
   "cell_type": "code",
   "execution_count": 17,
   "id": "7174b63c",
   "metadata": {},
   "outputs": [],
   "source": [
    "top_pledged = df.loc[df['state'] == 'successful'].groupby(['main_category']).sum().reset_index().sort_values(by='usd_pledged_real', ascending=False)\n",
    "top_backers = df.groupby(['main_category']).sum().reset_index().sort_values(by='backers', ascending=False)"
   ]
  },
  {
   "cell_type": "markdown",
   "id": "edbc7416",
   "metadata": {},
   "source": [
    "saya akan memilih 5 teratas dari data yang akan ditampilkan di grafik"
   ]
  },
  {
   "cell_type": "code",
   "execution_count": 18,
   "id": "3ac8c2de",
   "metadata": {},
   "outputs": [],
   "source": [
    "top_five_pledged = top_pledged.head(5)\n",
    "top_five_backers = top_backers.head(5)\n",
    "pal_pled = sns.color_palette(\"viridis\", len(top_five_pledged))\n",
    "pal_back = sns.color_palette(\"viridis\", len(top_five_backers))\n",
    "rank_pled = top_five_pledged[\"usd_pledged_real\"].argsort().argsort()\n",
    "rank_back = top_five_backers[\"backers\"].argsort().argsort()"
   ]
  },
  {
   "cell_type": "markdown",
   "id": "5b7bbb56",
   "metadata": {},
   "source": [
    "plot top 5 main categori dimana campaignnya sukses per total usd pledged real"
   ]
  },
  {
   "cell_type": "code",
   "execution_count": 19,
   "id": "21cc36a7",
   "metadata": {},
   "outputs": [
    {
     "data": {
      "image/png": "[encoded data removed]",
      "text/plain": [
       "<Figure size 1080x720 with 1 Axes>"
      ]
     },
     "metadata": {
      "needs_background": "light"
     },
     "output_type": "display_data"
    }
   ],
   "source": [
    "plt.figure(figsize=(15, 10))\n",
    "sns.barplot(x='usd_pledged_real', y='main_category', data=top_five_pledged, linewidth=0.7, palette=np.array(pal_pled[::+1])[rank_pled])\n",
    "plt.title('Total USD Pledged per Category', fontsize=20)\n",
    "plt.xlabel('USD Pledged', fontsize=18)\n",
    "plt.ylabel('Category', fontsize=18)\n",
    "plt.xticks(fontsize=15)\n",
    "plt.yticks(fontsize=15);"
   ]
  },
  {
   "cell_type": "markdown",
   "id": "32315e95",
   "metadata": {},
   "source": [
    "plot top 5 main categori per total backers"
   ]
  },
  {
   "cell_type": "code",
   "execution_count": 20,
   "id": "0333a209",
   "metadata": {},
   "outputs": [
    {
     "data": {
      "image/png": "[encoded data removed]",
      "text/plain": [
       "<Figure size 1080x720 with 1 Axes>"
      ]
     },
     "metadata": {
      "needs_background": "light"
     },
     "output_type": "display_data"
    }
   ],
   "source": [
    "plt.figure(figsize=(15, 10))\n",
    "sns.barplot(x='backers',y='main_category', data=top_five_backers, linewidth=0.7, palette=np.array(pal_back[::+1])[rank_back])\n",
    "plt.title('Number of Backers per Category', fontsize=20)\n",
    "plt.xlabel('Number of Backers', fontsize=18)\n",
    "plt.ylabel('Category', fontsize=18)\n",
    "plt.xticks(fontsize=15)\n",
    "plt.yticks(fontsize=15);"
   ]
  },
  {
   "cell_type": "markdown",
   "id": "f65a02b4",
   "metadata": {},
   "source": [
    "Selanjutnya saya akan menampilkan untuk semua data di main category dan usd_pledged_real "
   ]
  },
  {
   "cell_type": "code",
   "execution_count": 21,
   "id": "7e8026ee",
   "metadata": {},
   "outputs": [
    {
     "data": {
      "image/png": "[encoded data removed]",
      "text/plain": [
       "<Figure size 1080x720 with 1 Axes>"
      ]
     },
     "metadata": {
      "needs_background": "light"
     },
     "output_type": "display_data"
    }
   ],
   "source": [
    "plt.figure(figsize=(15, 10))\n",
    "sns.boxplot(x='main_category', y='usd_pledged_real', hue='state', data=df, orient='v', showfliers=False);\n",
    "plt.title('Converted USD Pledged Amount per Category', fontsize=20);\n",
    "plt.xlabel('Category', fontsize=18)\n",
    "plt.ylabel('USD Pledged real)', fontsize=18)\n",
    "plt.xticks(fontsize=10)\n",
    "plt.yticks(fontsize=15);"
   ]
  },
  {
   "cell_type": "code",
   "execution_count": 22,
   "id": "5713fc1b",
   "metadata": {},
   "outputs": [
    {
     "data": {
      "text/html": [
       "<div>\n",
       "<style scoped>\n",
       "    .dataframe tbody tr th:only-of-type {\n",
       "        vertical-align: middle;\n",
       "    }\n",
       "\n",
       "    .dataframe tbody tr th {\n",
       "        vertical-align: top;\n",
       "    }\n",
       "\n",
       "    .dataframe thead th {\n",
       "        text-align: right;\n",
       "    }\n",
       "</style>\n",
       "<table border=\"1\" class=\"dataframe\">\n",
       "  <thead>\n",
       "    <tr style=\"text-align: right;\">\n",
       "      <th></th>\n",
       "      <th>ID</th>\n",
       "      <th>goal</th>\n",
       "      <th>pledged</th>\n",
       "      <th>backers</th>\n",
       "      <th>usd pledged</th>\n",
       "      <th>usd_pledged_real</th>\n",
       "      <th>usd_goal_real</th>\n",
       "      <th>launched_year</th>\n",
       "    </tr>\n",
       "    <tr>\n",
       "      <th>main_category</th>\n",
       "      <th></th>\n",
       "      <th></th>\n",
       "      <th></th>\n",
       "      <th></th>\n",
       "      <th></th>\n",
       "      <th></th>\n",
       "      <th></th>\n",
       "      <th></th>\n",
       "    </tr>\n",
       "  </thead>\n",
       "  <tbody>\n",
       "    <tr>\n",
       "      <th>Games</th>\n",
       "      <td>37229931610854</td>\n",
       "      <td>1.761453e+09</td>\n",
       "      <td>7.671787e+08</td>\n",
       "      <td>11304754</td>\n",
       "      <td>5.733708e+08</td>\n",
       "      <td>7.391983e+08</td>\n",
       "      <td>1.567682e+09</td>\n",
       "      <td>69959800</td>\n",
       "    </tr>\n",
       "    <tr>\n",
       "      <th>Design</th>\n",
       "      <td>31808518420068</td>\n",
       "      <td>1.383802e+09</td>\n",
       "      <td>8.008834e+08</td>\n",
       "      <td>7130876</td>\n",
       "      <td>5.082245e+08</td>\n",
       "      <td>7.245260e+08</td>\n",
       "      <td>1.245555e+09</td>\n",
       "      <td>59467698</td>\n",
       "    </tr>\n",
       "    <tr>\n",
       "      <th>Technology</th>\n",
       "      <td>34032220878372</td>\n",
       "      <td>3.798067e+09</td>\n",
       "      <td>7.160014e+08</td>\n",
       "      <td>5201257</td>\n",
       "      <td>4.928238e+08</td>\n",
       "      <td>6.729871e+08</td>\n",
       "      <td>3.244927e+09</td>\n",
       "      <td>64008731</td>\n",
       "    </tr>\n",
       "    <tr>\n",
       "      <th>Film &amp; Video</th>\n",
       "      <td>66919285092203</td>\n",
       "      <td>5.231546e+09</td>\n",
       "      <td>4.019222e+08</td>\n",
       "      <td>4190762</td>\n",
       "      <td>3.464760e+08</td>\n",
       "      <td>3.891471e+08</td>\n",
       "      <td>5.130517e+09</td>\n",
       "      <td>125402082</td>\n",
       "    </tr>\n",
       "    <tr>\n",
       "      <th>Music</th>\n",
       "      <td>52937830114405</td>\n",
       "      <td>8.054354e+08</td>\n",
       "      <td>1.998737e+08</td>\n",
       "      <td>2700566</td>\n",
       "      <td>1.660928e+08</td>\n",
       "      <td>1.932779e+08</td>\n",
       "      <td>7.742276e+08</td>\n",
       "      <td>99171552</td>\n",
       "    </tr>\n",
       "    <tr>\n",
       "      <th>Publishing</th>\n",
       "      <td>42039442345097</td>\n",
       "      <td>1.053270e+09</td>\n",
       "      <td>1.437966e+08</td>\n",
       "      <td>2217571</td>\n",
       "      <td>1.033775e+08</td>\n",
       "      <td>1.326956e+08</td>\n",
       "      <td>8.821008e+08</td>\n",
       "      <td>78647052</td>\n",
       "    </tr>\n",
       "    <tr>\n",
       "      <th>Fashion</th>\n",
       "      <td>23980852378205</td>\n",
       "      <td>5.578411e+08</td>\n",
       "      <td>1.479768e+08</td>\n",
       "      <td>1388135</td>\n",
       "      <td>9.702994e+07</td>\n",
       "      <td>1.292212e+08</td>\n",
       "      <td>5.052463e+08</td>\n",
       "      <td>45180885</td>\n",
       "    </tr>\n",
       "    <tr>\n",
       "      <th>Food</th>\n",
       "      <td>26253329091785</td>\n",
       "      <td>1.170530e+09</td>\n",
       "      <td>1.299953e+08</td>\n",
       "      <td>1320109</td>\n",
       "      <td>1.029592e+08</td>\n",
       "      <td>1.247292e+08</td>\n",
       "      <td>1.180768e+09</td>\n",
       "      <td>48883374</td>\n",
       "    </tr>\n",
       "    <tr>\n",
       "      <th>Art</th>\n",
       "      <td>30010601290928</td>\n",
       "      <td>1.145173e+09</td>\n",
       "      <td>1.007975e+08</td>\n",
       "      <td>1180804</td>\n",
       "      <td>7.112721e+07</td>\n",
       "      <td>9.016187e+07</td>\n",
       "      <td>1.099671e+09</td>\n",
       "      <td>56116187</td>\n",
       "    </tr>\n",
       "    <tr>\n",
       "      <th>Comics</th>\n",
       "      <td>11405144105013</td>\n",
       "      <td>2.180636e+08</td>\n",
       "      <td>7.445301e+07</td>\n",
       "      <td>1453945</td>\n",
       "      <td>5.773788e+07</td>\n",
       "      <td>7.132854e+07</td>\n",
       "      <td>2.109243e+08</td>\n",
       "      <td>21594832</td>\n",
       "    </tr>\n",
       "    <tr>\n",
       "      <th>Theater</th>\n",
       "      <td>11589495470384</td>\n",
       "      <td>2.988384e+08</td>\n",
       "      <td>4.456221e+07</td>\n",
       "      <td>512364</td>\n",
       "      <td>3.876428e+07</td>\n",
       "      <td>4.358373e+07</td>\n",
       "      <td>2.945458e+08</td>\n",
       "      <td>21844270</td>\n",
       "    </tr>\n",
       "    <tr>\n",
       "      <th>Photography</th>\n",
       "      <td>11439278381050</td>\n",
       "      <td>1.385072e+08</td>\n",
       "      <td>3.911848e+07</td>\n",
       "      <td>426071</td>\n",
       "      <td>3.012296e+07</td>\n",
       "      <td>3.826634e+07</td>\n",
       "      <td>1.309493e+08</td>\n",
       "      <td>21498803</td>\n",
       "    </tr>\n",
       "    <tr>\n",
       "      <th>Crafts</th>\n",
       "      <td>9344532801260</td>\n",
       "      <td>9.995662e+07</td>\n",
       "      <td>1.758668e+07</td>\n",
       "      <td>239297</td>\n",
       "      <td>1.036574e+07</td>\n",
       "      <td>1.430285e+07</td>\n",
       "      <td>9.027440e+07</td>\n",
       "      <td>17451958</td>\n",
       "    </tr>\n",
       "    <tr>\n",
       "      <th>Dance</th>\n",
       "      <td>4014733727971</td>\n",
       "      <td>3.806538e+07</td>\n",
       "      <td>1.388598e+07</td>\n",
       "      <td>161012</td>\n",
       "      <td>1.115413e+07</td>\n",
       "      <td>1.299367e+07</td>\n",
       "      <td>3.515050e+07</td>\n",
       "      <td>7523318</td>\n",
       "    </tr>\n",
       "    <tr>\n",
       "      <th>Journalism</th>\n",
       "      <td>5027138658850</td>\n",
       "      <td>3.190367e+08</td>\n",
       "      <td>1.501689e+07</td>\n",
       "      <td>181103</td>\n",
       "      <td>1.022624e+07</td>\n",
       "      <td>1.234117e+07</td>\n",
       "      <td>3.061497e+08</td>\n",
       "      <td>9412065</td>\n",
       "    </tr>\n",
       "  </tbody>\n",
       "</table>\n",
       "</div>"
      ],
      "text/plain": [
       "                           ID          goal       pledged   backers  \\\n",
       "main_category                                                         \n",
       "Games          37229931610854  1.761453e+09  7.671787e+08  11304754   \n",
       "Design         31808518420068  1.383802e+09  8.008834e+08   7130876   \n",
       "Technology     34032220878372  3.798067e+09  7.160014e+08   5201257   \n",
       "Film & Video   66919285092203  5.231546e+09  4.019222e+08   4190762   \n",
       "Music          52937830114405  8.054354e+08  1.998737e+08   2700566   \n",
       "Publishing     42039442345097  1.053270e+09  1.437966e+08   2217571   \n",
       "Fashion        23980852378205  5.578411e+08  1.479768e+08   1388135   \n",
       "Food           26253329091785  1.170530e+09  1.299953e+08   1320109   \n",
       "Art            30010601290928  1.145173e+09  1.007975e+08   1180804   \n",
       "Comics         11405144105013  2.180636e+08  7.445301e+07   1453945   \n",
       "Theater        11589495470384  2.988384e+08  4.456221e+07    512364   \n",
       "Photography    11439278381050  1.385072e+08  3.911848e+07    426071   \n",
       "Crafts          9344532801260  9.995662e+07  1.758668e+07    239297   \n",
       "Dance           4014733727971  3.806538e+07  1.388598e+07    161012   \n",
       "Journalism      5027138658850  3.190367e+08  1.501689e+07    181103   \n",
       "\n",
       "                usd pledged  usd_pledged_real  usd_goal_real  launched_year  \n",
       "main_category                                                                \n",
       "Games          5.733708e+08      7.391983e+08   1.567682e+09       69959800  \n",
       "Design         5.082245e+08      7.245260e+08   1.245555e+09       59467698  \n",
       "Technology     4.928238e+08      6.729871e+08   3.244927e+09       64008731  \n",
       "Film & Video   3.464760e+08      3.891471e+08   5.130517e+09      125402082  \n",
       "Music          1.660928e+08      1.932779e+08   7.742276e+08       99171552  \n",
       "Publishing     1.033775e+08      1.326956e+08   8.821008e+08       78647052  \n",
       "Fashion        9.702994e+07      1.292212e+08   5.052463e+08       45180885  \n",
       "Food           1.029592e+08      1.247292e+08   1.180768e+09       48883374  \n",
       "Art            7.112721e+07      9.016187e+07   1.099671e+09       56116187  \n",
       "Comics         5.773788e+07      7.132854e+07   2.109243e+08       21594832  \n",
       "Theater        3.876428e+07      4.358373e+07   2.945458e+08       21844270  \n",
       "Photography    3.012296e+07      3.826634e+07   1.309493e+08       21498803  \n",
       "Crafts         1.036574e+07      1.430285e+07   9.027440e+07       17451958  \n",
       "Dance          1.115413e+07      1.299367e+07   3.515050e+07        7523318  \n",
       "Journalism     1.022624e+07      1.234117e+07   3.061497e+08        9412065  "
      ]
     },
     "execution_count": 22,
     "metadata": {},
     "output_type": "execute_result"
    }
   ],
   "source": [
    "df.groupby(['main_category']).sum().sort_values(by='usd_pledged_real', ascending=False)"
   ]
  },
  {
   "cell_type": "markdown",
   "id": "5d6557a1",
   "metadata": {},
   "source": [
    "Menampilkan correlation antara kolom backers dan usd_pledge_real"
   ]
  },
  {
   "cell_type": "code",
   "execution_count": 23,
   "id": "7897ad03",
   "metadata": {},
   "outputs": [
    {
     "data": {
      "image/png": "[encoded data removed]",
      "text/plain": [
       "<Figure size 1080x720 with 1 Axes>"
      ]
     },
     "metadata": {
      "needs_background": "light"
     },
     "output_type": "display_data"
    }
   ],
   "source": [
    "corr = df['usd_pledged_real'].corr(df['backers'])\n",
    "#set figure size\n",
    "plt.figure(figsize=(15, 10))\n",
    "#plot the data\n",
    "sns.regplot(data=df,x=df['usd_pledged_real'],y=df['backers'], ci=None)\n",
    "#format the plot\n",
    "text = 'r=%s' % (corr)\n",
    "plt.text(1, 19, text, fontsize=14)\n",
    "plt.title('', fontsize=20);\n",
    "plt.xlabel('', fontsize=18)\n",
    "plt.ylabel('', fontsize=18)\n",
    "plt.xticks(fontsize=18)\n",
    "plt.yticks(fontsize=18);"
   ]
  },
  {
   "cell_type": "markdown",
   "id": "54d0cd2a",
   "metadata": {},
   "source": [
    "# STATISTIC ANALYSIS"
   ]
  },
  {
   "cell_type": "markdown",
   "id": "02cca826",
   "metadata": {},
   "source": [
    "Data test kali ini, saya akan melakukan 3 kali test.\n",
    "\n",
    "1. One-Sample : 1 kategori terhadap rata-rata populasi\n",
    "2. Two-Sample : 2 kategori, akan diambil contoh (tech vs food), Netherlands/Europe vs US\n",
    "3. Confidence Interval : untuk mendefinisikan antara pledge amount x dan x yang seharusnya, dan juga antara jumlah dari backers x dan x yang ditargetkan\n",
    "\n",
    "Categories (diasumsikan bahwa kategori teknologi mempunyai sumbangan tertinggi terhadap populasi)\n",
    "\n",
    "H0: $\\mu_{1} = \\mu_{2}$, Tidak ada perbedaan antara total pledge untuk campaign sukses di kategori teknologi dan semua kategori\n",
    "\n",
    "H1: $\\mu_{1} \\neq \\mu_{2},$ Ada perbedaan antara total pledge untuk campaign sukses di kategori teknologi dan semua kategori"
   ]
  },
  {
   "cell_type": "markdown",
   "id": "76e4ad63",
   "metadata": {},
   "source": [
    "**ONE SAMPLE TEST** - Teknologi campaign terhadap seluruh campaign"
   ]
  },
  {
   "cell_type": "code",
   "execution_count": 24,
   "id": "3e7f24c0",
   "metadata": {},
   "outputs": [
    {
     "name": "stdout",
     "output_type": "stream",
     "text": [
      "Mean untuk usd_pledged_real untuk Kategori Teknologi adalah: 21186.435890760233\n",
      "Mean usd_pledged_real untuk semua kategori adalah: 9147.736258611474\n",
      "We reject the null hypothesis, the mean is greater than {} 9147.736258611474\n",
      "17.025243578581573 1.0344657063961233e-64\n"
     ]
    }
   ],
   "source": [
    "sample = df[df['main_category'] == 'Technology'] \n",
    "\n",
    "# one-tailed, lebih besar dari 86000\n",
    "sample_m = np.mean(sample['usd_pledged_real'])\n",
    "m = np.mean(df['usd_pledged_real'])\n",
    "print(\"Mean untuk usd_pledged_real untuk Kategori Teknologi adalah:\", sample_m)\n",
    "print(\"Mean usd_pledged_real untuk semua kategori adalah:\", m)\n",
    "\n",
    "# menghitung test statistics\n",
    "t, p = stats.ttest_1samp(sample['usd_pledged_real'], m)\n",
    "\n",
    "alpha = 0.05\n",
    "if (t > 0) & (p/2 < alpha):\n",
    "    print(\"We reject the null hypothesis, the mean is greater than {}\", format(m))\n",
    "else:\n",
    "    print(\"accept null hypothesis\")\n",
    "\n",
    "print(t, p)"
   ]
  },
  {
   "cell_type": "markdown",
   "id": "e631f11e",
   "metadata": {},
   "source": [
    "Saya akan membuktikan bahwa usd_pledged_real berdisribusi normal"
   ]
  },
  {
   "cell_type": "code",
   "execution_count": 25,
   "id": "55177db9",
   "metadata": {},
   "outputs": [
    {
     "data": {
      "image/png": "[encoded data removed]",
      "text/plain": [
       "<Figure size 432x288 with 1 Axes>"
      ]
     },
     "metadata": {
      "needs_background": "light"
     },
     "output_type": "display_data"
    }
   ],
   "source": [
    "plt.hist(x=df['usd_pledged_real'], bins=10000)\n",
    "#plt.ticklabel_format(useOffset=False)\n",
    "plt.xlim(0,80000)\n",
    "plt.show()"
   ]
  },
  {
   "cell_type": "markdown",
   "id": "a7e38c2a",
   "metadata": {},
   "source": [
    "**TWO SAMPLE TEST**"
   ]
  },
  {
   "cell_type": "code",
   "execution_count": 26,
   "id": "be5f28f1",
   "metadata": {},
   "outputs": [
    {
     "name": "stderr",
     "output_type": "stream",
     "text": [
      "<ipython-input-26-15592c251cf1>:8: SettingWithCopyWarning: \n",
      "A value is trying to be set on a copy of a slice from a DataFrame.\n",
      "Try using .loc[row_indexer,col_indexer] = value instead\n",
      "\n",
      "See the caveats in the documentation: https://pandas.pydata.org/pandas-docs/stable/user_guide/indexing.html#returning-a-view-versus-a-copy\n",
      "  successful_campaigns['tech_vs_other'] = np.where(successful_campaigns['main_category']=='Technology', 'Technology', 'Other')\n"
     ]
    },
    {
     "data": {
      "image/png": "[encoded data removed]",
      "text/plain": [
       "<Figure size 1080x720 with 1 Axes>"
      ]
     },
     "metadata": {},
     "output_type": "display_data"
    }
   ],
   "source": [
    "#Membuat variabel untuk test antara kategori teknologi dengan kategori lainnya\n",
    "successful_campaigns = df.loc[df['state'] == 'successful']\n",
    "successful_campaigns_tech = successful_campaigns.loc[successful_campaigns['main_category'] == 'Technology']\n",
    "successful_campaigns_other = successful_campaigns.loc[successful_campaigns['main_category'] != 'Technology']\n",
    "\n",
    "#Ploting\n",
    "sns.set_style(\"white\")\n",
    "successful_campaigns['tech_vs_other'] = np.where(successful_campaigns['main_category']=='Technology', 'Technology', 'Other')\n",
    "plt.figure(figsize=(15,10))\n",
    "sns.set_style(\"white\")\n",
    "sns.boxplot(x=\"tech_vs_other\", y=\"usd_pledged_real\", data=successful_campaigns, order=[\"Technology\", \"Other\"], showfliers=False, color=\"lawngreen\")\n",
    "plt.title('Total pledge in USD in Technology versus Other Categories', fontsize=20)\n",
    "plt.xlabel('Category', fontsize=16)\n",
    "plt.ylabel('Total USD Pledged', fontsize=16)\n",
    "plt.xticks(fontsize=16)\n",
    "plt.xticks(rotation=30)\n",
    "plt.yticks(fontsize=16);"
   ]
  },
  {
   "cell_type": "code",
   "execution_count": 27,
   "id": "1b32c7f4",
   "metadata": {},
   "outputs": [
    {
     "data": {
      "image/png": "[encoded data removed]",
      "text/plain": [
       "<Figure size 1080x720 with 1 Axes>"
      ]
     },
     "metadata": {},
     "output_type": "display_data"
    }
   ],
   "source": [
    "#Plot boxplots teknologi versus lima top categories berdasarkan jumlahnya\n",
    "plt.figure(figsize=(15,10))\n",
    "sns.set_style(\"white\")\n",
    "ax = sns.boxplot(x=\"main_category\", y=\"usd_pledged_real\", data=successful_campaigns, order=[\"Technology\", \"Design\", \"Games\", \"Food\", \"Fashion\"], showfliers=False, color=\"lawngreen\")\n",
    "\n",
    "#Lay-out\n",
    "plt.title('Total pledge in USD in Technology versus Other Categories', fontsize=20)\n",
    "plt.xlabel('Category', fontsize=16)\n",
    "plt.ylabel('Total USD Pledged', fontsize=16)\n",
    "plt.xticks(fontsize=16)\n",
    "plt.xticks(rotation=30)\n",
    "plt.yticks(fontsize=16);"
   ]
  },
  {
   "cell_type": "code",
   "execution_count": 28,
   "id": "477eb01c",
   "metadata": {},
   "outputs": [
    {
     "data": {
      "text/plain": [
       "Ttest_indResult(statistic=38.52552210308711, pvalue=0.0)"
      ]
     },
     "execution_count": 28,
     "metadata": {},
     "output_type": "execute_result"
    }
   ],
   "source": [
    "#Two sample t-test\n",
    "\n",
    "#Memutuskan apakah nilai variance sama? True or False\n",
    "ttest_ind(successful_campaigns_tech['usd_pledged_real'], successful_campaigns_other['usd_pledged_real'], equal_var=False)\n",
    "ttest_ind(successful_campaigns_tech['usd_pledged_real'], successful_campaigns_other['usd_pledged_real'], equal_var=True)"
   ]
  },
  {
   "cell_type": "markdown",
   "id": "12190bfa",
   "metadata": {},
   "source": [
    "**Kesimpulan**\n",
    "\n",
    "Nilai p-value lebih kecil dari 0.05, sehingga kita bisa me-reject H0. Tidak ada perbedaan antara total pledge untuk campaign sukses di kategori teknologi dan semua kategori. dengan kata lain kesempatan untuk campaign sukses di kategori teknologi lebih tinggi dari ketegori lainnya."
   ]
  },
  {
   "cell_type": "markdown",
   "id": "f801ccc3",
   "metadata": {},
   "source": [
    "**HYPOTHESIS 2**\n",
    "\n",
    "US vs NL \n",
    "\n",
    "H0: $\\mu_{1} = \\mu_{2}$, Tidak ada perbedaan antara total pledge untuk semua campaign di NL vs di US \n",
    "\n",
    "H1: $\\mu_{1} \\neq \\mu_{2},$ Ada perbedaan antara total pledge untuk semua campaign di NL vs di US "
   ]
  },
  {
   "cell_type": "code",
   "execution_count": 29,
   "id": "2e8b9e01",
   "metadata": {},
   "outputs": [
    {
     "name": "stdout",
     "output_type": "stream",
     "text": [
      "Number of records US:  289665\n",
      "Number of records NL:  2807\n",
      "Number of records Us & NL:  292472\n"
     ]
    }
   ],
   "source": [
    "# buat dua samples: satu US and satu NL \n",
    "df_us = df.loc[df['country']=='US']\n",
    "df_nl = df.loc[df['country']=='NL']\n",
    "df_usnl = df[((df['country'] == 'US') | (df['country'] == 'NL'))]\n",
    "print('Number of records US: ', len(df_us))\n",
    "print('Number of records NL: ', len(df_nl))\n",
    "print('Number of records Us & NL: ', len(df_usnl))"
   ]
  },
  {
   "cell_type": "code",
   "execution_count": 30,
   "id": "4bb08d89",
   "metadata": {},
   "outputs": [
    {
     "data": {
      "image/png": "[encoded data removed]",
      "text/plain": [
       "<Figure size 432x288 with 1 Axes>"
      ]
     },
     "metadata": {},
     "output_type": "display_data"
    }
   ],
   "source": [
    "ax = sns.boxplot(x=\"country\", y=\"usd_pledged_real\", data=successful_campaigns, order=[\"NL\", \"US\"], showfliers=False, color=(\"lawngreen\"))\n",
    "plt.title('USD Pledged by Country', fontsize=20);\n",
    "plt.xlabel('Country', fontsize=18)\n",
    "plt.ylabel('Total USD Pledged', fontsize=16)\n",
    "plt.xticks(fontsize=18)\n",
    "plt.xticks(rotation=30)\n",
    "plt.yticks(fontsize=16);"
   ]
  },
  {
   "cell_type": "code",
   "execution_count": 31,
   "id": "0fc694f8",
   "metadata": {},
   "outputs": [
    {
     "data": {
      "text/plain": [
       "Ttest_indResult(statistic=-0.3580424058199417, pvalue=0.7203118374327935)"
      ]
     },
     "execution_count": 31,
     "metadata": {},
     "output_type": "execute_result"
    }
   ],
   "source": [
    "ttest_ind(df_us['usd_pledged_real'], df_nl['usd_pledged_real'], equal_var=False)\n",
    "ttest_ind(df_us['usd_pledged_real'], df_nl['usd_pledged_real'], equal_var=True)"
   ]
  },
  {
   "cell_type": "markdown",
   "id": "0426ed7c",
   "metadata": {},
   "source": [
    "**Kesimpulan**\n",
    "\n",
    "Dikarenakan p-value lebih besar dari 0.05, maka kita tidak me-reject H0, atau Ada perbedaan antara total pledge untuk semua campaign di NL vs di US, dengan kata lain untuk menacapai campaign itu suskses di US tidak lebih tinggi dari NL."
   ]
  },
  {
   "cell_type": "markdown",
   "id": "02877cbc",
   "metadata": {},
   "source": [
    "# CONFIDENCE INTERVAL"
   ]
  },
  {
   "cell_type": "code",
   "execution_count": 32,
   "id": "de8a1175",
   "metadata": {},
   "outputs": [
    {
     "name": "stdout",
     "output_type": "stream",
     "text": [
      "Dengan 95 % confidence, Rata-rata usd_pledged untuk sebuah succesful campaign di kategori Technology adalah antara: 86574 and 99598 dollar\n"
     ]
    }
   ],
   "source": [
    "# buat Sample yang merepresentasikan pledged US dollars untuk succesful campaigns dengan “Tech” category\n",
    "succesful_campaigns = df.loc[df['state'] == 'successful']\n",
    "succesful_campaigns_tech = succesful_campaigns.loc[succesful_campaigns['main_category'] == 'Technology']\n",
    "sample = succesful_campaigns_tech['usd_pledged_real']\n",
    "\n",
    "#Hitung degrees of freedom\n",
    "dfree = len(sample) -1\n",
    "\n",
    "#Hitung t-statistic, mean and standard error\n",
    "t = stats.t.interval(0.95,dfree)[1]\n",
    "x  = np.mean(sample)\n",
    "se = np.std(sample) / np.sqrt(len(sample))\n",
    "\n",
    "#Define confidence intervals\n",
    "con_int = [round(num,3) for num in [x - (t * se) , x + (t * se)]]\n",
    "print('Dengan 95 % confidence, Rata-rata usd_pledged untuk sebuah succesful campaign di kategori Technology adalah antara:', round(con_int[0]), 'and', round(con_int[1]), 'dollar')"
   ]
  },
  {
   "cell_type": "code",
   "execution_count": 33,
   "id": "7c042df4",
   "metadata": {},
   "outputs": [
    {
     "name": "stdout",
     "output_type": "stream",
     "text": [
      "Dengan 95 % confidence, Rata-rata goal untuk sebuah a succesful campaign di kategori Technology adalah antara: 26918 and 29752 dollar\n"
     ]
    }
   ],
   "source": [
    "#  buat Sample yang merepresentasikan the numbers of backers untuk succesful campaigns dengan “Tech” category\n",
    "sample = succesful_campaigns_tech['goal']\n",
    "\n",
    "#Compute degrees of freedom\n",
    "dfree = len(sample) -1\n",
    "\n",
    "#Compute t-statistic, mean and standard error\n",
    "t = stats.t.interval(0.95,dfree)[1]\n",
    "x  = np.mean(sample)\n",
    "se = np.std(sample) / np.sqrt(len(sample))\n",
    "\n",
    "#Define confidence intervals\n",
    "con_int = [round(num,3) for num in [x - (t * se) , x + (t * se)]]\n",
    "print('Dengan 95 % confidence, Rata-rata goal untuk sebuah a succesful campaign di kategori Technology adalah antara:', round(con_int[0]), 'and', round(con_int[1]), 'dollar')"
   ]
  },
  {
   "cell_type": "markdown",
   "id": "c5f7a60a",
   "metadata": {},
   "source": [
    "# KESIMPULAN "
   ]
  },
  {
   "cell_type": "markdown",
   "id": "81efb683",
   "metadata": {},
   "source": [
    "Dari Statistic Analysis data diatas disimpulkan bahwa:\n",
    "    \n",
    "1. Kesempatan untuk subuah campaign itu sukses di kategori teknologi lebih tinggi dari ketegori lainnya.\n",
    "\n",
    "2. Kesempatan untuk sebuah campaign itu suskses di US (United State) tidak lebih tinggi dari NL (Netherlands)\n",
    "\n",
    "3. Rata-rata usd_pledged untuk succesful campaign di Technology adalah antara: 86574 and 99598 dollar\n",
    "    \n",
    "4. Rata-rata goal untuk sebuah a succesful campaign di kategori Technology adalah antara: 26918 and 29752 dollar"
   ]
  }
 ],
 "metadata": {
  "kernelspec": {
   "display_name": "Python 3",
   "language": "python",
   "name": "python3"
  },
  "language_info": {
   "codemirror_mode": {
    "name": "ipython",
    "version": 3
   },
   "file_extension": ".py",
   "mimetype": "text/x-python",
   "name": "python",
   "nbconvert_exporter": "python",
   "pygments_lexer": "ipython3",
   "version": "3.8.8"
  }
 },
 "nbformat": 4,
 "nbformat_minor": 5
}
