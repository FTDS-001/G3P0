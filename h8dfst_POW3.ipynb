{
 "cells": [
  {
   "cell_type": "code",
   "execution_count": null,
   "id": "e3ef4031",
   "metadata": {},
   "outputs": [],
   "source": [
    "# Import Library\n",
    "import pandas as pd\n",
    "import numpy as np\n",
    "import seaborn as sns\n",
    "import matplotlib.pyplot as plt\n",
    "from scipy import stats\n",
    "\n",
    "import plotly.tools as tls\n",
    "import plotly\n",
    "import plotly.offline as py\n",
    "from plotly.offline import init_notebook_mode, iplot, plot\n",
    "import plotly.graph_objs as go\n",
    "init_notebook_mode(connected=True)\n",
    "\n",
    "import warnings\n",
    "from collections import Counter"
   ]
  },
  {
   "cell_type": "markdown",
   "id": "d6602f67",
   "metadata": {},
   "source": [
    "# About Data\n",
    "- Crowdfunding adalah sebuah bentuk pendanaan untuk mereka yang membutuhkan dana dalam pengembangan usahanya, dimana pendanaan tersebut terkumpul dari beberapa orang. Pendekatan ini memanfaatkan upaya kolektif dari sejumlah individu secara online menggunakan sebuah platform atau media sosial crowdfunding, sebagai alat menjangkaunya. Crowdfunding juga adalah salah satu bentuk dari crowdsourcing dan keuangan alternatif yang mulai kembali muncul dan banyak dimanfaatkan orang untuk membantu para pengusaha maupun UKM pemula."
   ]
  },
  {
   "cell_type": "markdown",
   "id": "e1f08b7c",
   "metadata": {},
   "source": [
    "# Data Pre-Processing"
   ]
  },
  {
   "cell_type": "code",
   "execution_count": null,
   "id": "a64d7651",
   "metadata": {},
   "outputs": [],
   "source": [
    "# Read Dataset\n",
    "df = pd.read_csv(\"data_input/ksp_2018.csv\")\n",
    "df.head()"
   ]
  },
  {
   "cell_type": "code",
   "execution_count": null,
   "id": "16a70488",
   "metadata": {},
   "outputs": [],
   "source": [
    "# check Columns and rows\n",
    "df.shape"
   ]
  },
  {
   "cell_type": "code",
   "execution_count": null,
   "id": "a882a141",
   "metadata": {},
   "outputs": [],
   "source": [
    "# check data type\n",
    "df.info()"
   ]
  },
  {
   "cell_type": "code",
   "execution_count": null,
   "id": "78b89a7c",
   "metadata": {},
   "outputs": [],
   "source": [
    "#Check Missing Value and Finding the missing percentage\n",
    "import matplotlib.pyplot as plt\n",
    "df.isna().sum().plot(kind=\"bar\");\n",
    "missing_values_sum = df.isna().sum()\n",
    "print(missing_values_sum)\n",
    "missing_values_percent = df.isna().mean()*100\n",
    "print(missing_values_percent)"
   ]
  },
  {
   "cell_type": "markdown",
   "id": "2c7a39fe",
   "metadata": {},
   "source": [
    "## Handling Missing data\n",
    "\n",
    "**Handling Missing Values**\n",
    "\n",
    "The researcher may leave the data or do data imputation to replace the them.  Suppose the number of cases of missing values is extremely small; then, an expert researcher may drop or omit those values from the analysis.  In statistical language, if the number of the cases is less than 5% of the sample, then the researcher can drop them.\n",
    "\n",
    "In the case of multivariate analysis, if there is a larger number of missing values, then it can be better to drop those cases (rather than do imputation) and replace them.  On the other hand, in univariate analysis, imputation can decrease the amount of bias in the data, if the values are missing at random.\n",
    "https://www.statisticssolutions.com/missing-values-in-data/\n",
    "\n",
    " **`In this case the data we have is 378.661 and the most missing data in the town column as much as 3.797 or 1% of the total data, This does not really matter, considering the amount of data you have compared to the missing data. Next we will drop all rows that have missing values (NA)`**"
   ]
  },
  {
   "cell_type": "code",
   "execution_count": null,
   "id": "c25c2180",
   "metadata": {},
   "outputs": [],
   "source": [
    "# Drop missing data\n",
    "df.dropna()"
   ]
  },
  {
   "cell_type": "markdown",
   "id": "24d93342",
   "metadata": {},
   "source": [
    "## Masure of Variance\n",
    "- Range\n",
    "- Variance\n",
    "- Standard Deviation"
   ]
  },
  {
   "cell_type": "code",
   "execution_count": null,
   "id": "d9a24167",
   "metadata": {},
   "outputs": [],
   "source": [
    "# range\n",
    "numcols = df[['goal', 'pledged']]\n",
    "for col in numcols:\n",
    "    print(df[col].name + ' range: ' + str(df[col].max() - df[col].min()))"
   ]
  },
  {
   "cell_type": "code",
   "execution_count": null,
   "id": "35bd7b2c",
   "metadata": {},
   "outputs": [],
   "source": [
    "# Variance\n",
    "print(df['goal'].var())\n",
    "print(df['pledged'].var())"
   ]
  },
  {
   "cell_type": "code",
   "execution_count": null,
   "id": "c52bf028",
   "metadata": {},
   "outputs": [],
   "source": [
    "# Standard Deviation\n",
    "print(df['goal'].std())\n",
    "print(df['pledged'].std())"
   ]
  },
  {
   "cell_type": "markdown",
   "id": "e7ffaaea",
   "metadata": {},
   "source": [
    "# Exploratory Data Analysis"
   ]
  },
  {
   "cell_type": "code",
   "execution_count": null,
   "id": "e8a73f68",
   "metadata": {},
   "outputs": [],
   "source": [
    "# Feature selection\n",
    "df = df[df['currency'].isin([\"USD\", \"EUR\"])]\n",
    "df = df[df[\"state\"].isin([\"failed\", \"successful\"])]\n",
    "df = df.drop([\"deadline\",\"backers\", \"launched\", \"ID\", \"country\", \"pledged\", \"usd pledged\", \"usd_pledged_real\", \"usd_goal_real\"], axis = 1)"
   ]
  },
  {
   "cell_type": "code",
   "execution_count": null,
   "id": "76e76647",
   "metadata": {},
   "outputs": [],
   "source": [
    "# Convert data type \n",
    "df[['goal']] = df[['goal']].astype('int64')\n",
    "\n",
    "df[['name', 'category','main_category', 'currency', 'state']] = df[['name','category','main_category', 'currency', 'state']].astype('category')"
   ]
  },
  {
   "cell_type": "code",
   "execution_count": null,
   "id": "8d51f424",
   "metadata": {},
   "outputs": [],
   "source": [
    "df.head()"
   ]
  },
  {
   "cell_type": "markdown",
   "id": "4e7857b2",
   "metadata": {},
   "source": [
    "## Masure Of Central Tendency (Ukuran Pemusatan Data)"
   ]
  },
  {
   "cell_type": "code",
   "execution_count": null,
   "id": "e7b71838",
   "metadata": {},
   "outputs": [],
   "source": [
    "# Five number summary\n",
    "df.describe()"
   ]
  },
  {
   "cell_type": "code",
   "execution_count": null,
   "id": "7cd84be3",
   "metadata": {},
   "outputs": [],
   "source": [
    "print ('Min: ' + str(df['goal'].min()))\n",
    "print ('Mode: ' + str(df['goal'].mode()[0]))\n",
    "print ('Median: ' + str(df['goal'].median()))\n",
    "print ('Mean: ' + str(df['goal'].mean()))\n",
    "print ('Max: ' + str(df['goal'].max()))"
   ]
  },
  {
   "cell_type": "code",
   "execution_count": null,
   "id": "407f6692",
   "metadata": {},
   "outputs": [],
   "source": [
    "std = df['goal'].std()\n",
    "std.round(3)"
   ]
  },
  {
   "cell_type": "code",
   "execution_count": null,
   "id": "a340e129",
   "metadata": {},
   "outputs": [],
   "source": [
    "x = df['main_category'].value_counts(sort = True)\n",
    "x"
   ]
  },
  {
   "cell_type": "markdown",
   "id": "1557095e",
   "metadata": {},
   "source": [
    "Kebanyakan dari orang atau kelompok yang melakukan pinjaman lebih kepada kategori film & video."
   ]
  },
  {
   "cell_type": "markdown",
   "id": "8cc2a628",
   "metadata": {},
   "source": [
    "### Pie Plot & Histogram Distribution"
   ]
  },
  {
   "cell_type": "code",
   "execution_count": null,
   "id": "67d0c6a7",
   "metadata": {},
   "outputs": [],
   "source": [
    "state = round(df[\"state\"].value_counts() / len(df[\"state\"]) * 100,2)\n",
    "\n",
    "labels = list(state.index)\n",
    "values = list(state.values)\n",
    "\n",
    "trace1 = go.Pie(labels=labels, values=values, marker=dict(colors=['red']))\n",
    "\n",
    "layout = go.Layout(title='Distribuition of States', legend=dict(orientation=\"h\"));\n",
    "\n",
    "fig = go.Figure(data=[trace1], layout=layout)\n",
    "iplot(fig)"
   ]
  },
  {
   "cell_type": "markdown",
   "id": "2314fa10",
   "metadata": {},
   "source": [
    "Dari pie plot diatas dapat dilihat lebih banyak yang gagal melakukan pinjaman dibandingkan yang berhasil."
   ]
  },
  {
   "cell_type": "code",
   "execution_count": null,
   "id": "f2a78f35",
   "metadata": {},
   "outputs": [],
   "source": [
    "df_failed = df[df[\"state\"] == \"failed\"].sample(10000, replace=True)\n",
    "df_sucess = df[df[\"state\"] == \"successful\"].sample(10000, replace=True)\n",
    "\n",
    "#First plot\n",
    "trace0 = go.Histogram(\n",
    "    x= np.log(df.goal + 1),\n",
    "    histnorm='probability', showlegend=False,\n",
    "    xbins=dict(\n",
    "        start=-5.0,\n",
    "        end=19.0,\n",
    "        size=1),\n",
    "    autobiny=True)\n",
    "\n",
    "#Second plot\n",
    "trace1 = go.Histogram(\n",
    "    x = np.log(df.goal + 1),\n",
    "    histnorm='probability', showlegend=False,\n",
    "    xbins=dict(\n",
    "        start=-1.0,\n",
    "        end=17.0,\n",
    "        size=1))\n",
    "\n",
    "# Add histogram data\n",
    "failed = np.log(df_failed['goal']+1)\n",
    "success = np.log(df_sucess[\"goal\"]+1)\n",
    "\n",
    "trace3 = go.Histogram(\n",
    "    x=failed,\n",
    "    opacity=0.60, nbinsx=30, name='Goals Failed', histnorm='probability'\n",
    ")\n",
    "trace4 = go.Histogram(\n",
    "    x=success,\n",
    "    opacity=0.60, nbinsx=30, name='Goals Sucessful', histnorm='probability'\n",
    ")\n",
    "\n",
    "\n",
    "data = [trace0, trace1, trace3, trace4]\n",
    "layout = go.Layout(barmode='overlay')\n",
    "\n",
    "#Creating the grid\n",
    "fig = plotly.tools.make_subplots(rows=2, cols=2, specs=[ [{'colspan': 2}, None], [{}, {}]],\n",
    "                          subplot_titles=('Failed and Sucessful Projects',\n",
    "                                          'Goal','Pledged'))\n",
    "\n",
    "#setting the figs\n",
    "fig.append_trace(trace0, 2, 1)\n",
    "fig.append_trace(trace1, 2, 2)\n",
    "fig.append_trace(trace3, 1, 1)\n",
    "fig.append_trace(trace4, 1, 1)\n",
    "\n",
    "fig['layout'].update(title=\"Goals Distribuition\",\n",
    "                     height=500, width=900, barmode='overlay')\n",
    "iplot(fig)"
   ]
  },
  {
   "cell_type": "markdown",
   "id": "6dba6688",
   "metadata": {},
   "source": [
    "- Meskipun data kami tampak terdistribusi normal, ada baiknya melakukan tes untuk memastikan.\n",
    "- Jadi, sebelum kita melangkah lebih jauh, mari kita uji apakah data terdistribusi normal?"
   ]
  },
  {
   "cell_type": "markdown",
   "id": "27d7a353",
   "metadata": {},
   "source": [
    "# Hipothesis Testing\n",
    "\n",
    "- Normality Test\n",
    "- T-test (one sample test & Two sample test)\n",
    "- Permutation Test\n",
    "- A/B Test\n",
    "- Chi Squared Test"
   ]
  },
  {
   "cell_type": "code",
   "execution_count": null,
   "id": "4fa66e80",
   "metadata": {},
   "outputs": [],
   "source": [
    "# Normality Test\n",
    "stat, p = stats.shapiro(np.log(df['goal']+1).sample(500, random_state=42))\n",
    "\n",
    "print(\"Shapiro stat:\", stat)\n",
    "print(\"P-value: \", p)\n",
    "if p >= 0.05:\n",
    "    print('Normal Distribution')\n",
    "else:\n",
    "    print(\"Non-Normal Distribution\")"
   ]
  },
  {
   "cell_type": "markdown",
   "id": "995bdaca",
   "metadata": {},
   "source": [
    "Berdasarkan Normality test diatas bahwa P-value < alpha maka data berdistribusi secara normal (p-value 8 angka di belakang koma)"
   ]
  },
  {
   "cell_type": "markdown",
   "id": "a2f45b8a",
   "metadata": {},
   "source": [
    "## T-test (one sample test & Two sample test)"
   ]
  },
  {
   "cell_type": "code",
   "execution_count": null,
   "id": "4e4c1807",
   "metadata": {},
   "outputs": [],
   "source": [
    "pop = np.random.normal(40613.495, 1058281.871, 100000)"
   ]
  },
  {
   "cell_type": "code",
   "execution_count": null,
   "id": "f35a8452",
   "metadata": {},
   "outputs": [],
   "source": [
    "# Perform the one-sample t-test\n",
    "t_result= stats.ttest_1samp(df.goal, 5000)\n",
    "print(t_result)\n",
    "\n",
    "# Test significance\n",
    "alpha = 0.05\n",
    "if t_result[1] < alpha:\n",
    "    print(\"goal are significantly biased\")\n",
    "else:\n",
    "    print(\"No significant bias found\")"
   ]
  },
  {
   "cell_type": "code",
   "execution_count": null,
   "id": "aae4fc9e",
   "metadata": {},
   "outputs": [],
   "source": [
    "# Perform the one-sample t-test\n",
    "t,p = stats.ttest_1samp(df.goal, 5000)\n",
    "print (\"t-statistic:\" + str(t))\n",
    "# ttest_1samp is 2-tailed\n",
    "print(\"p-value:\" + '%f' % p)\n",
    "# calculate a 95% confidence interval. 50% of the probability is outside this, 2.5% in each tail\n",
    "ci = stats.norm.interval(0.95, 0, 1.15)\n",
    "plt.hist(pop, bins=100)\n",
    "# show the hypothesized population mean\n",
    "plt.axvline(pop.mean(), color='yellow', linestyle='dashed', linewidth=2)\n",
    "# show the confidence interval thresholds - 5% of propbability is under the curve outside these.\n",
    "plt.axvline(ci[0], color='red', linestyle='dashed', linewidth=2)\n",
    "plt.axvline(ci[1], color='red', linestyle='dashed', linewidth=2)\n",
    "# show the t-statistic thresholds - the p-value is the area under the curve outside these\n",
    "plt.axvline(pop.mean() - t*pop.std(), color='magenta', linestyle='dashed', linewidth=2)\n",
    "plt.axvline(pop.mean() + t*pop.std(), color='magenta', linestyle='dashed', linewidth=2)\n",
    "plt.show()"
   ]
  },
  {
   "cell_type": "code",
   "execution_count": null,
   "id": "556281e1",
   "metadata": {},
   "outputs": [],
   "source": [
    "# Create two arrays\n",
    "successful_goal_ratio = df[df.state == \"successful\"].goal\n",
    "failed_goal_ratio = df[df.state == \"failed\"].goal\n",
    "\n",
    "# Perform the two-sample t-test\n",
    "t_result= stats.ttest_ind(successful_goal_ratio, failed_goal_ratio)\n",
    "print(t_result)\n",
    "\n",
    "# Test significance\n",
    "alpha= 0.05\n",
    "if (t_result[1] < alpha):\n",
    "    print(\"successful and failed have different mean goal\")\n",
    "else: print(\"No significant difference found\")"
   ]
  },
  {
   "cell_type": "code",
   "execution_count": null,
   "id": "b0b12580",
   "metadata": {},
   "outputs": [],
   "source": [
    "np.random.seed(123)\n",
    "successful_goal_ratio = df[df.state == \"successful\"].goal\n",
    "failed_goal_ratio = df[df.state == \"failed\"].goal\n",
    "\n",
    "print(\"non-math sample mean:\" + str(failed_goal_ratio.mean()))\n",
    "print(\"math sample mean:\" + str(successful_goal_ratio.mean()))\n",
    "\n",
    "# Independent T-Test\n",
    "t,p = stats.ttest_ind(successful_goal_ratio, failed_goal_ratio)\n",
    "# ttest_ind is 2-tailed, so half the resulting p-value to get a 1-tailed p-value\n",
    "p1 = '%f' % (p/2)\n",
    "print(\"t-statistic:\" + str(t))\n",
    "print(\"p-value:\" + str(p1))\n",
    "\n",
    "pop = np.random.normal(failed_goal_ratio.mean(), failed_goal_ratio.std(), 100000)\n",
    "# calculate a 90% confidence interval. 10% of the probability is outside this, 5% in each tail\n",
    "ci = stats.norm.interval(0.90, failed_goal_ratio.mean(), failed_goal_ratio.std())\n",
    "plt.hist(pop, bins=100)\n",
    "# show the hypothesized population mean\n",
    "plt.axvline(pop.mean(), color='yellow', linestyle='dashed', linewidth=2)\n",
    "# show the right-tail confidence interval threshold - 5% of propbability is under the curve to the right of this.\n",
    "plt.axvline(ci[1], color='red', linestyle='dashed', linewidth=2)\n",
    "# show the t-statistic - the p-value is the area under the curve to the right of this\n",
    "plt.axvline(pop.mean() + t*pop.std(), color='magenta', linestyle='dashed', linewidth=2)\n",
    "plt.show()"
   ]
  },
  {
   "cell_type": "markdown",
   "id": "7f97fd48",
   "metadata": {},
   "source": [
    "## Permutation Test"
   ]
  },
  {
   "cell_type": "code",
   "execution_count": null,
   "id": "a7097939",
   "metadata": {},
   "outputs": [],
   "source": [
    "# replace rows value 0 as failure and 1 as sucessful\n",
    "df = df.replace(to_replace = {'state' : {'failed' : 0, 'successful' : 1}}, value = None)"
   ]
  },
  {
   "cell_type": "code",
   "execution_count": null,
   "id": "c6e811af",
   "metadata": {},
   "outputs": [],
   "source": [
    "# Convert data type \n",
    "df[['state']] = df[['state']].astype('int64')\n",
    "df.head()"
   ]
  },
  {
   "cell_type": "code",
   "execution_count": null,
   "id": "368dbf9b",
   "metadata": {},
   "outputs": [],
   "source": [
    "# select main category as Technology and currency as USD\n",
    "df_perm = df.loc[(df['main_category'] == 'Technology') & (df['currency'] == 'USD')]\n",
    "df_perm.head()"
   ]
  },
  {
   "cell_type": "code",
   "execution_count": null,
   "id": "b71ad39e",
   "metadata": {},
   "outputs": [],
   "source": [
    "# select main category as Technology and currency as EUR\n",
    "df_perm1 = df.loc[(df['main_category'] == 'Technology') & (df['currency'] == 'EUR')]\n",
    "df_perm1.head()"
   ]
  },
  {
   "cell_type": "code",
   "execution_count": null,
   "id": "48edbb9b",
   "metadata": {},
   "outputs": [],
   "source": [
    "df_permutation = df_perm['state'].to_numpy()\n",
    "df_permutation2 = df_perm1['state'].to_numpy()\n",
    "# Permutation Test\n",
    "def permutation_sample(dataA, dataB) :\n",
    "    data = np.concatenate([df_permutation, df_permutation2])\n",
    "    \n",
    "    permuted_data =np.random.permutation(data)\n",
    "    \n",
    "    perm_sample_1 = permuted_data[:len(dataA)]\n",
    "    perm_sample_2 = permuted_data[len(dataA):]\n",
    "    \n",
    "    return perm_sample_1, perm_sample_2\n",
    "\n",
    "def draw_perm_reps(data_A,data_B,func,size=1) :\n",
    "    perm_replicates =np.empty(size)\n",
    "    \n",
    "    for i in range(size):\n",
    "        perm_sample_1, perm_sample_2 = permutation_sample(data_A, data_B)\n",
    "        \n",
    "        perm_replicates[i] = func(perm_sample_1, perm_sample_2)\n",
    "        \n",
    "    return perm_replicates\n",
    "\n",
    "def diff_of_means(data_A, data_B): \n",
    "    diff = np.mean(data_A)- np.mean(data_B)\n",
    "    \n",
    "    return diff\n",
    "\n",
    "empirical_diff_means = diff_of_means(df_permutation, df_permutation2)\n",
    "\n",
    "perm_replicates = draw_perm_reps(df_permutation, df_permutation2, diff_of_means, size = 10000)\n",
    "\n",
    "p = np.sum(perm_replicates >= empirical_diff_means) / len(perm_replicates) # P-value\n",
    "print(f\"P-Value is: {p}\")"
   ]
  },
  {
   "cell_type": "markdown",
   "id": "bef16812",
   "metadata": {},
   "source": [
    "p-value lebih kecil dari alpha maka tolak H0dan terima H1, jadi "
   ]
  },
  {
   "cell_type": "markdown",
   "id": "0e7b955d",
   "metadata": {},
   "source": [
    "## A/B Test"
   ]
  },
  {
   "cell_type": "code",
   "execution_count": null,
   "id": "a362af6d",
   "metadata": {},
   "outputs": [],
   "source": [
    "df_perm['state'].value_counts()"
   ]
  },
  {
   "cell_type": "code",
   "execution_count": null,
   "id": "0d04e2bc",
   "metadata": {},
   "outputs": [],
   "source": [
    "df_perm1['state'].value_counts()"
   ]
  },
  {
   "cell_type": "code",
   "execution_count": null,
   "id": "f2698c63",
   "metadata": {},
   "outputs": [],
   "source": [
    "def diff_frac(data1, data2):\n",
    "    frac1 = 4724 / len(df_permutation)\n",
    "    frac2 = 492 / len(df_permutation2)\n",
    "    return frac2 - frac1\n",
    "\n",
    "def draw_perm_reps(data_1, data_2, func, size=1) :\n",
    "    perm_replicates =np.empty(size)\n",
    "    \n",
    "    for i in range(size) :\n",
    "        perm_sample_A, perm_sample_B = permutation_sample(data_1, data_2)\n",
    "        \n",
    "        perm_replicates[i] = func(perm_sample_A, perm_sample_B)\n",
    "    \n",
    "    return perm_replicates\n",
    "\n",
    "diff_frac_obs = diff_frac(df_permutation, df_permutation2)\n",
    "\n",
    "#10000 permutation\n",
    "perm_replicates = draw_perm_reps(df_permutation, df_permutation2, diff_frac, size=10000)\n",
    "\n",
    "p_value = np.sum(perm_replicates >= diff_frac_obs) / 10000\n",
    "print('The p-value is %f' % p_value)"
   ]
  },
  {
   "cell_type": "markdown",
   "id": "7b024ebf",
   "metadata": {},
   "source": [
    "Hasil dari A/B testing menunjukan P-value lebih besar daripada alpha disini kita dapat p value 1, bisa di katakan bahwa kita akan menerima H0 dan menolak H1, berarti dari hasil A/B testing kita bisa menarik kesimpulan bahwa kebanyakan orang gagal dalam melakukan pinjaman pada segment teknologi yang pembayarannya menggunakan USD maupun EUR."
   ]
  },
  {
   "cell_type": "markdown",
   "id": "94c3f3f5",
   "metadata": {},
   "source": [
    "## Chi Square Test"
   ]
  },
  {
   "cell_type": "code",
   "execution_count": null,
   "id": "5d841028",
   "metadata": {},
   "outputs": [],
   "source": [
    "# Chi Squared Test\n",
    "df_chi = df.groupby(['currency', 'main_category']).count()[['goal']].reset_index()\n",
    "df_chi"
   ]
  },
  {
   "cell_type": "code",
   "execution_count": null,
   "id": "a9c6bfaf",
   "metadata": {},
   "outputs": [],
   "source": [
    "df_pivot = df_chi.pivot(index='main_category', columns='currency', values='goal')\n",
    "df_pivot.head()"
   ]
  },
  {
   "cell_type": "code",
   "execution_count": null,
   "id": "cccbb116",
   "metadata": {},
   "outputs": [],
   "source": [
    "chisq, pvalue, df, expected = stats.chi2_contingency(df_pivot)\n",
    "print(f'Observerd chi2: {chisq:.4f}')\n",
    "print(f'p-value: {pvalue:.4f}')"
   ]
  },
  {
   "cell_type": "markdown",
   "id": "eb978510",
   "metadata": {},
   "source": [
    "p-value < alpha maka tolak H0 dan Tidak ditemukan perbedaan yang signifikan antara kategori utama dengan mata uang."
   ]
  }
 ],
 "metadata": {
  "kernelspec": {
   "display_name": "projectx",
   "language": "python",
   "name": "projectx"
  },
  "language_info": {
   "codemirror_mode": {
    "name": "ipython",
    "version": 3
   },
   "file_extension": ".py",
   "mimetype": "text/x-python",
   "name": "python",
   "nbconvert_exporter": "python",
   "pygments_lexer": "ipython3",
   "version": "3.9.4"
  }
 },
 "nbformat": 4,
 "nbformat_minor": 5
}
