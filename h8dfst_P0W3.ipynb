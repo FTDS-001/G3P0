{
 "cells": [
  {
   "cell_type": "markdown",
   "id": "3824afc4",
   "metadata": {},
   "source": [
    "## Perkenalan"
   ]
  },
  {
   "cell_type": "markdown",
   "id": "edbb255f",
   "metadata": {
    "ExecuteTime": {
     "end_time": "2021-07-20T15:03:53.392162Z",
     "start_time": "2021-07-20T15:03:53.355262Z"
    }
   },
   "source": [
    "<b>Name: </b>Rohmad <br/>\n",
    "<b>Type: </b>Graded Challenge 3 <br/>\n",
    "<b>Dataset: </b> You'll find most useful data for project analysis. Columns are self explanatory except:\n",
    "usd_pledged: conversion in US dollars of the pledged column (conversion done by kickstarter).\n",
    "usd pledge real: conversion in US dollars of the pledged column (conversion from Fixer.io API).\n",
    "usd goal real: conversion in US dollars of the goal column (conversion from Fixer.io API).<br/>\n",
    "https://www.kaggle.com/kemical/kickstarter-projects?select=ks-projects-201801.csv <br/>\n",
    "<b>Objective: </b>Does the category type affect usd_goal_real or not?"
   ]
  },
  {
   "cell_type": "markdown",
   "id": "6b669a2b",
   "metadata": {},
   "source": [
    "## Import Module"
   ]
  },
  {
   "cell_type": "code",
   "execution_count": 4,
   "id": "22a7b6a2",
   "metadata": {
    "ExecuteTime": {
     "end_time": "2021-07-23T00:20:19.992180Z",
     "start_time": "2021-07-23T00:20:19.976222Z"
    }
   },
   "outputs": [],
   "source": [
    "import pandas as pd\n",
    "import numpy as np\n",
    "import matplotlib.pyplot as plt\n",
    "import seaborn as sns\n",
    "import scipy.stats as stats\n",
    "from scipy.stats import norm\n",
    "from scipy.stats import kurtosis\n",
    "from numpy import percentile\n",
    "\n",
    "%matplotlib inline"
   ]
  },
  {
   "cell_type": "markdown",
   "id": "0e23e6af",
   "metadata": {},
   "source": [
    "## Data Loading"
   ]
  },
  {
   "cell_type": "code",
   "execution_count": 5,
   "id": "73e0ea24",
   "metadata": {
    "ExecuteTime": {
     "end_time": "2021-07-23T00:20:21.584198Z",
     "start_time": "2021-07-23T00:20:19.996169Z"
    }
   },
   "outputs": [],
   "source": [
    "df_raw = pd.read_csv('./ks-projects-201801.csv')"
   ]
  },
  {
   "cell_type": "code",
   "execution_count": 6,
   "id": "5a4135dd",
   "metadata": {
    "ExecuteTime": {
     "end_time": "2021-07-23T00:20:21.646034Z",
     "start_time": "2021-07-23T00:20:21.589185Z"
    }
   },
   "outputs": [
    {
     "name": "stdout",
     "output_type": "stream",
     "text": [
      "(378661, 15)\n"
     ]
    },
    {
     "data": {
      "text/html": [
       "<div>\n",
       "<style scoped>\n",
       "    .dataframe tbody tr th:only-of-type {\n",
       "        vertical-align: middle;\n",
       "    }\n",
       "\n",
       "    .dataframe tbody tr th {\n",
       "        vertical-align: top;\n",
       "    }\n",
       "\n",
       "    .dataframe thead th {\n",
       "        text-align: right;\n",
       "    }\n",
       "</style>\n",
       "<table border=\"1\" class=\"dataframe\">\n",
       "  <thead>\n",
       "    <tr style=\"text-align: right;\">\n",
       "      <th></th>\n",
       "      <th>ID</th>\n",
       "      <th>name</th>\n",
       "      <th>category</th>\n",
       "      <th>main_category</th>\n",
       "      <th>currency</th>\n",
       "      <th>deadline</th>\n",
       "      <th>goal</th>\n",
       "      <th>launched</th>\n",
       "      <th>pledged</th>\n",
       "      <th>state</th>\n",
       "      <th>backers</th>\n",
       "      <th>country</th>\n",
       "      <th>usd pledged</th>\n",
       "      <th>usd_pledged_real</th>\n",
       "      <th>usd_goal_real</th>\n",
       "    </tr>\n",
       "  </thead>\n",
       "  <tbody>\n",
       "    <tr>\n",
       "      <th>0</th>\n",
       "      <td>1000002330</td>\n",
       "      <td>The Songs of Adelaide &amp; Abullah</td>\n",
       "      <td>Poetry</td>\n",
       "      <td>Publishing</td>\n",
       "      <td>GBP</td>\n",
       "      <td>2015-10-09</td>\n",
       "      <td>1000.0</td>\n",
       "      <td>2015-08-11 12:12:28</td>\n",
       "      <td>0.0</td>\n",
       "      <td>failed</td>\n",
       "      <td>0</td>\n",
       "      <td>GB</td>\n",
       "      <td>0.0</td>\n",
       "      <td>0.0</td>\n",
       "      <td>1533.95</td>\n",
       "    </tr>\n",
       "    <tr>\n",
       "      <th>1</th>\n",
       "      <td>1000003930</td>\n",
       "      <td>Greeting From Earth: ZGAC Arts Capsule For ET</td>\n",
       "      <td>Narrative Film</td>\n",
       "      <td>Film &amp; Video</td>\n",
       "      <td>USD</td>\n",
       "      <td>2017-11-01</td>\n",
       "      <td>30000.0</td>\n",
       "      <td>2017-09-02 04:43:57</td>\n",
       "      <td>2421.0</td>\n",
       "      <td>failed</td>\n",
       "      <td>15</td>\n",
       "      <td>US</td>\n",
       "      <td>100.0</td>\n",
       "      <td>2421.0</td>\n",
       "      <td>30000.00</td>\n",
       "    </tr>\n",
       "    <tr>\n",
       "      <th>2</th>\n",
       "      <td>1000004038</td>\n",
       "      <td>Where is Hank?</td>\n",
       "      <td>Narrative Film</td>\n",
       "      <td>Film &amp; Video</td>\n",
       "      <td>USD</td>\n",
       "      <td>2013-02-26</td>\n",
       "      <td>45000.0</td>\n",
       "      <td>2013-01-12 00:20:50</td>\n",
       "      <td>220.0</td>\n",
       "      <td>failed</td>\n",
       "      <td>3</td>\n",
       "      <td>US</td>\n",
       "      <td>220.0</td>\n",
       "      <td>220.0</td>\n",
       "      <td>45000.00</td>\n",
       "    </tr>\n",
       "    <tr>\n",
       "      <th>3</th>\n",
       "      <td>1000007540</td>\n",
       "      <td>ToshiCapital Rekordz Needs Help to Complete Album</td>\n",
       "      <td>Music</td>\n",
       "      <td>Music</td>\n",
       "      <td>USD</td>\n",
       "      <td>2012-04-16</td>\n",
       "      <td>5000.0</td>\n",
       "      <td>2012-03-17 03:24:11</td>\n",
       "      <td>1.0</td>\n",
       "      <td>failed</td>\n",
       "      <td>1</td>\n",
       "      <td>US</td>\n",
       "      <td>1.0</td>\n",
       "      <td>1.0</td>\n",
       "      <td>5000.00</td>\n",
       "    </tr>\n",
       "    <tr>\n",
       "      <th>4</th>\n",
       "      <td>1000011046</td>\n",
       "      <td>Community Film Project: The Art of Neighborhoo...</td>\n",
       "      <td>Film &amp; Video</td>\n",
       "      <td>Film &amp; Video</td>\n",
       "      <td>USD</td>\n",
       "      <td>2015-08-29</td>\n",
       "      <td>19500.0</td>\n",
       "      <td>2015-07-04 08:35:03</td>\n",
       "      <td>1283.0</td>\n",
       "      <td>canceled</td>\n",
       "      <td>14</td>\n",
       "      <td>US</td>\n",
       "      <td>1283.0</td>\n",
       "      <td>1283.0</td>\n",
       "      <td>19500.00</td>\n",
       "    </tr>\n",
       "  </tbody>\n",
       "</table>\n",
       "</div>"
      ],
      "text/plain": [
       "           ID                                               name  \\\n",
       "0  1000002330                    The Songs of Adelaide & Abullah   \n",
       "1  1000003930      Greeting From Earth: ZGAC Arts Capsule For ET   \n",
       "2  1000004038                                     Where is Hank?   \n",
       "3  1000007540  ToshiCapital Rekordz Needs Help to Complete Album   \n",
       "4  1000011046  Community Film Project: The Art of Neighborhoo...   \n",
       "\n",
       "         category main_category currency    deadline     goal  \\\n",
       "0          Poetry    Publishing      GBP  2015-10-09   1000.0   \n",
       "1  Narrative Film  Film & Video      USD  2017-11-01  30000.0   \n",
       "2  Narrative Film  Film & Video      USD  2013-02-26  45000.0   \n",
       "3           Music         Music      USD  2012-04-16   5000.0   \n",
       "4    Film & Video  Film & Video      USD  2015-08-29  19500.0   \n",
       "\n",
       "              launched  pledged     state  backers country  usd pledged  \\\n",
       "0  2015-08-11 12:12:28      0.0    failed        0      GB          0.0   \n",
       "1  2017-09-02 04:43:57   2421.0    failed       15      US        100.0   \n",
       "2  2013-01-12 00:20:50    220.0    failed        3      US        220.0   \n",
       "3  2012-03-17 03:24:11      1.0    failed        1      US          1.0   \n",
       "4  2015-07-04 08:35:03   1283.0  canceled       14      US       1283.0   \n",
       "\n",
       "   usd_pledged_real  usd_goal_real  \n",
       "0               0.0        1533.95  \n",
       "1            2421.0       30000.00  \n",
       "2             220.0       45000.00  \n",
       "3               1.0        5000.00  \n",
       "4            1283.0       19500.00  "
      ]
     },
     "execution_count": 6,
     "metadata": {},
     "output_type": "execute_result"
    }
   ],
   "source": [
    "print(df_raw.shape)\n",
    "df_raw.head()"
   ]
  },
  {
   "cell_type": "code",
   "execution_count": 7,
   "id": "f05f6569",
   "metadata": {
    "ExecuteTime": {
     "end_time": "2021-07-23T00:20:21.882401Z",
     "start_time": "2021-07-23T00:20:21.650022Z"
    }
   },
   "outputs": [
    {
     "name": "stdout",
     "output_type": "stream",
     "text": [
      "<class 'pandas.core.frame.DataFrame'>\n",
      "RangeIndex: 378661 entries, 0 to 378660\n",
      "Data columns (total 15 columns):\n",
      " #   Column            Non-Null Count   Dtype  \n",
      "---  ------            --------------   -----  \n",
      " 0   ID                378661 non-null  int64  \n",
      " 1   name              378657 non-null  object \n",
      " 2   category          378661 non-null  object \n",
      " 3   main_category     378661 non-null  object \n",
      " 4   currency          378661 non-null  object \n",
      " 5   deadline          378661 non-null  object \n",
      " 6   goal              378661 non-null  float64\n",
      " 7   launched          378661 non-null  object \n",
      " 8   pledged           378661 non-null  float64\n",
      " 9   state             378661 non-null  object \n",
      " 10  backers           378661 non-null  int64  \n",
      " 11  country           378661 non-null  object \n",
      " 12  usd pledged       374864 non-null  float64\n",
      " 13  usd_pledged_real  378661 non-null  float64\n",
      " 14  usd_goal_real     378661 non-null  float64\n",
      "dtypes: float64(5), int64(2), object(8)\n",
      "memory usage: 31.8+ MB\n"
     ]
    }
   ],
   "source": [
    "df_raw.info()"
   ]
  },
  {
   "cell_type": "code",
   "execution_count": 8,
   "id": "74d1f4b2",
   "metadata": {
    "ExecuteTime": {
     "end_time": "2021-07-23T00:20:22.148690Z",
     "start_time": "2021-07-23T00:20:21.885393Z"
    }
   },
   "outputs": [
    {
     "data": {
      "text/html": [
       "<div>\n",
       "<style scoped>\n",
       "    .dataframe tbody tr th:only-of-type {\n",
       "        vertical-align: middle;\n",
       "    }\n",
       "\n",
       "    .dataframe tbody tr th {\n",
       "        vertical-align: top;\n",
       "    }\n",
       "\n",
       "    .dataframe thead th {\n",
       "        text-align: right;\n",
       "    }\n",
       "</style>\n",
       "<table border=\"1\" class=\"dataframe\">\n",
       "  <thead>\n",
       "    <tr style=\"text-align: right;\">\n",
       "      <th></th>\n",
       "      <th>ID</th>\n",
       "      <th>goal</th>\n",
       "      <th>pledged</th>\n",
       "      <th>backers</th>\n",
       "      <th>usd pledged</th>\n",
       "      <th>usd_pledged_real</th>\n",
       "      <th>usd_goal_real</th>\n",
       "    </tr>\n",
       "  </thead>\n",
       "  <tbody>\n",
       "    <tr>\n",
       "      <th>count</th>\n",
       "      <td>3.786610e+05</td>\n",
       "      <td>3.786610e+05</td>\n",
       "      <td>3.786610e+05</td>\n",
       "      <td>378661.000000</td>\n",
       "      <td>3.748640e+05</td>\n",
       "      <td>3.786610e+05</td>\n",
       "      <td>3.786610e+05</td>\n",
       "    </tr>\n",
       "    <tr>\n",
       "      <th>mean</th>\n",
       "      <td>1.074731e+09</td>\n",
       "      <td>4.908079e+04</td>\n",
       "      <td>9.682979e+03</td>\n",
       "      <td>105.617476</td>\n",
       "      <td>7.036729e+03</td>\n",
       "      <td>9.058924e+03</td>\n",
       "      <td>4.545440e+04</td>\n",
       "    </tr>\n",
       "    <tr>\n",
       "      <th>std</th>\n",
       "      <td>6.190862e+08</td>\n",
       "      <td>1.183391e+06</td>\n",
       "      <td>9.563601e+04</td>\n",
       "      <td>907.185035</td>\n",
       "      <td>7.863975e+04</td>\n",
       "      <td>9.097334e+04</td>\n",
       "      <td>1.152950e+06</td>\n",
       "    </tr>\n",
       "    <tr>\n",
       "      <th>min</th>\n",
       "      <td>5.971000e+03</td>\n",
       "      <td>1.000000e-02</td>\n",
       "      <td>0.000000e+00</td>\n",
       "      <td>0.000000</td>\n",
       "      <td>0.000000e+00</td>\n",
       "      <td>0.000000e+00</td>\n",
       "      <td>1.000000e-02</td>\n",
       "    </tr>\n",
       "    <tr>\n",
       "      <th>25%</th>\n",
       "      <td>5.382635e+08</td>\n",
       "      <td>2.000000e+03</td>\n",
       "      <td>3.000000e+01</td>\n",
       "      <td>2.000000</td>\n",
       "      <td>1.698000e+01</td>\n",
       "      <td>3.100000e+01</td>\n",
       "      <td>2.000000e+03</td>\n",
       "    </tr>\n",
       "    <tr>\n",
       "      <th>50%</th>\n",
       "      <td>1.075276e+09</td>\n",
       "      <td>5.200000e+03</td>\n",
       "      <td>6.200000e+02</td>\n",
       "      <td>12.000000</td>\n",
       "      <td>3.947200e+02</td>\n",
       "      <td>6.243300e+02</td>\n",
       "      <td>5.500000e+03</td>\n",
       "    </tr>\n",
       "    <tr>\n",
       "      <th>75%</th>\n",
       "      <td>1.610149e+09</td>\n",
       "      <td>1.600000e+04</td>\n",
       "      <td>4.076000e+03</td>\n",
       "      <td>56.000000</td>\n",
       "      <td>3.034090e+03</td>\n",
       "      <td>4.050000e+03</td>\n",
       "      <td>1.550000e+04</td>\n",
       "    </tr>\n",
       "    <tr>\n",
       "      <th>max</th>\n",
       "      <td>2.147476e+09</td>\n",
       "      <td>1.000000e+08</td>\n",
       "      <td>2.033899e+07</td>\n",
       "      <td>219382.000000</td>\n",
       "      <td>2.033899e+07</td>\n",
       "      <td>2.033899e+07</td>\n",
       "      <td>1.663614e+08</td>\n",
       "    </tr>\n",
       "  </tbody>\n",
       "</table>\n",
       "</div>"
      ],
      "text/plain": [
       "                 ID          goal       pledged        backers   usd pledged  \\\n",
       "count  3.786610e+05  3.786610e+05  3.786610e+05  378661.000000  3.748640e+05   \n",
       "mean   1.074731e+09  4.908079e+04  9.682979e+03     105.617476  7.036729e+03   \n",
       "std    6.190862e+08  1.183391e+06  9.563601e+04     907.185035  7.863975e+04   \n",
       "min    5.971000e+03  1.000000e-02  0.000000e+00       0.000000  0.000000e+00   \n",
       "25%    5.382635e+08  2.000000e+03  3.000000e+01       2.000000  1.698000e+01   \n",
       "50%    1.075276e+09  5.200000e+03  6.200000e+02      12.000000  3.947200e+02   \n",
       "75%    1.610149e+09  1.600000e+04  4.076000e+03      56.000000  3.034090e+03   \n",
       "max    2.147476e+09  1.000000e+08  2.033899e+07  219382.000000  2.033899e+07   \n",
       "\n",
       "       usd_pledged_real  usd_goal_real  \n",
       "count      3.786610e+05   3.786610e+05  \n",
       "mean       9.058924e+03   4.545440e+04  \n",
       "std        9.097334e+04   1.152950e+06  \n",
       "min        0.000000e+00   1.000000e-02  \n",
       "25%        3.100000e+01   2.000000e+03  \n",
       "50%        6.243300e+02   5.500000e+03  \n",
       "75%        4.050000e+03   1.550000e+04  \n",
       "max        2.033899e+07   1.663614e+08  "
      ]
     },
     "execution_count": 8,
     "metadata": {},
     "output_type": "execute_result"
    }
   ],
   "source": [
    "df_raw.describe()"
   ]
  },
  {
   "cell_type": "markdown",
   "id": "93f94fd2",
   "metadata": {},
   "source": [
    "## Data Cleaning"
   ]
  },
  {
   "cell_type": "code",
   "execution_count": 9,
   "id": "77095247",
   "metadata": {
    "ExecuteTime": {
     "end_time": "2021-07-23T00:20:22.354259Z",
     "start_time": "2021-07-23T00:20:22.151680Z"
    }
   },
   "outputs": [
    {
     "data": {
      "text/plain": [
       "ID                     0\n",
       "name                   4\n",
       "category               0\n",
       "main_category          0\n",
       "currency               0\n",
       "deadline               0\n",
       "goal                   0\n",
       "launched               0\n",
       "pledged                0\n",
       "state                  0\n",
       "backers                0\n",
       "country                0\n",
       "usd pledged         3797\n",
       "usd_pledged_real       0\n",
       "usd_goal_real          0\n",
       "dtype: int64"
      ]
     },
     "execution_count": 9,
     "metadata": {},
     "output_type": "execute_result"
    }
   ],
   "source": [
    "df_raw.isna().sum()"
   ]
  },
  {
   "cell_type": "markdown",
   "id": "c71509f1",
   "metadata": {},
   "source": [
    "##### Delete missing value"
   ]
  },
  {
   "cell_type": "code",
   "execution_count": 10,
   "id": "d46e70d4",
   "metadata": {
    "ExecuteTime": {
     "end_time": "2021-07-23T00:20:22.623126Z",
     "start_time": "2021-07-23T00:20:22.357133Z"
    }
   },
   "outputs": [],
   "source": [
    "df_raw.dropna(inplace=True)"
   ]
  },
  {
   "cell_type": "code",
   "execution_count": 11,
   "id": "db6e3cba",
   "metadata": {
    "ExecuteTime": {
     "end_time": "2021-07-23T00:20:22.830407Z",
     "start_time": "2021-07-23T00:20:22.626118Z"
    }
   },
   "outputs": [
    {
     "data": {
      "text/plain": [
       "ID                  0\n",
       "name                0\n",
       "category            0\n",
       "main_category       0\n",
       "currency            0\n",
       "deadline            0\n",
       "goal                0\n",
       "launched            0\n",
       "pledged             0\n",
       "state               0\n",
       "backers             0\n",
       "country             0\n",
       "usd pledged         0\n",
       "usd_pledged_real    0\n",
       "usd_goal_real       0\n",
       "dtype: int64"
      ]
     },
     "execution_count": 11,
     "metadata": {},
     "output_type": "execute_result"
    }
   ],
   "source": [
    "df_raw.isna().sum()"
   ]
  },
  {
   "cell_type": "markdown",
   "id": "6caf2cf4",
   "metadata": {},
   "source": [
    "#### Deleted column"
   ]
  },
  {
   "cell_type": "code",
   "execution_count": 12,
   "id": "1dcf7c09",
   "metadata": {
    "ExecuteTime": {
     "end_time": "2021-07-23T00:20:22.893206Z",
     "start_time": "2021-07-23T00:20:22.836357Z"
    }
   },
   "outputs": [],
   "source": [
    "df_raw.drop(['deadline', 'backers','pledged','usd pledged','usd_pledged_real'], axis = 1, inplace=True)"
   ]
  },
  {
   "cell_type": "code",
   "execution_count": 13,
   "id": "dd9e510b",
   "metadata": {
    "ExecuteTime": {
     "end_time": "2021-07-23T00:20:22.940090Z",
     "start_time": "2021-07-23T00:20:22.898192Z"
    }
   },
   "outputs": [
    {
     "data": {
      "text/html": [
       "<div>\n",
       "<style scoped>\n",
       "    .dataframe tbody tr th:only-of-type {\n",
       "        vertical-align: middle;\n",
       "    }\n",
       "\n",
       "    .dataframe tbody tr th {\n",
       "        vertical-align: top;\n",
       "    }\n",
       "\n",
       "    .dataframe thead th {\n",
       "        text-align: right;\n",
       "    }\n",
       "</style>\n",
       "<table border=\"1\" class=\"dataframe\">\n",
       "  <thead>\n",
       "    <tr style=\"text-align: right;\">\n",
       "      <th></th>\n",
       "      <th>ID</th>\n",
       "      <th>name</th>\n",
       "      <th>category</th>\n",
       "      <th>main_category</th>\n",
       "      <th>currency</th>\n",
       "      <th>goal</th>\n",
       "      <th>launched</th>\n",
       "      <th>state</th>\n",
       "      <th>country</th>\n",
       "      <th>usd_goal_real</th>\n",
       "    </tr>\n",
       "  </thead>\n",
       "  <tbody>\n",
       "    <tr>\n",
       "      <th>0</th>\n",
       "      <td>1000002330</td>\n",
       "      <td>The Songs of Adelaide &amp; Abullah</td>\n",
       "      <td>Poetry</td>\n",
       "      <td>Publishing</td>\n",
       "      <td>GBP</td>\n",
       "      <td>1000.0</td>\n",
       "      <td>2015-08-11 12:12:28</td>\n",
       "      <td>failed</td>\n",
       "      <td>GB</td>\n",
       "      <td>1533.95</td>\n",
       "    </tr>\n",
       "    <tr>\n",
       "      <th>1</th>\n",
       "      <td>1000003930</td>\n",
       "      <td>Greeting From Earth: ZGAC Arts Capsule For ET</td>\n",
       "      <td>Narrative Film</td>\n",
       "      <td>Film &amp; Video</td>\n",
       "      <td>USD</td>\n",
       "      <td>30000.0</td>\n",
       "      <td>2017-09-02 04:43:57</td>\n",
       "      <td>failed</td>\n",
       "      <td>US</td>\n",
       "      <td>30000.00</td>\n",
       "    </tr>\n",
       "    <tr>\n",
       "      <th>2</th>\n",
       "      <td>1000004038</td>\n",
       "      <td>Where is Hank?</td>\n",
       "      <td>Narrative Film</td>\n",
       "      <td>Film &amp; Video</td>\n",
       "      <td>USD</td>\n",
       "      <td>45000.0</td>\n",
       "      <td>2013-01-12 00:20:50</td>\n",
       "      <td>failed</td>\n",
       "      <td>US</td>\n",
       "      <td>45000.00</td>\n",
       "    </tr>\n",
       "    <tr>\n",
       "      <th>3</th>\n",
       "      <td>1000007540</td>\n",
       "      <td>ToshiCapital Rekordz Needs Help to Complete Album</td>\n",
       "      <td>Music</td>\n",
       "      <td>Music</td>\n",
       "      <td>USD</td>\n",
       "      <td>5000.0</td>\n",
       "      <td>2012-03-17 03:24:11</td>\n",
       "      <td>failed</td>\n",
       "      <td>US</td>\n",
       "      <td>5000.00</td>\n",
       "    </tr>\n",
       "    <tr>\n",
       "      <th>4</th>\n",
       "      <td>1000011046</td>\n",
       "      <td>Community Film Project: The Art of Neighborhoo...</td>\n",
       "      <td>Film &amp; Video</td>\n",
       "      <td>Film &amp; Video</td>\n",
       "      <td>USD</td>\n",
       "      <td>19500.0</td>\n",
       "      <td>2015-07-04 08:35:03</td>\n",
       "      <td>canceled</td>\n",
       "      <td>US</td>\n",
       "      <td>19500.00</td>\n",
       "    </tr>\n",
       "  </tbody>\n",
       "</table>\n",
       "</div>"
      ],
      "text/plain": [
       "           ID                                               name  \\\n",
       "0  1000002330                    The Songs of Adelaide & Abullah   \n",
       "1  1000003930      Greeting From Earth: ZGAC Arts Capsule For ET   \n",
       "2  1000004038                                     Where is Hank?   \n",
       "3  1000007540  ToshiCapital Rekordz Needs Help to Complete Album   \n",
       "4  1000011046  Community Film Project: The Art of Neighborhoo...   \n",
       "\n",
       "         category main_category currency     goal             launched  \\\n",
       "0          Poetry    Publishing      GBP   1000.0  2015-08-11 12:12:28   \n",
       "1  Narrative Film  Film & Video      USD  30000.0  2017-09-02 04:43:57   \n",
       "2  Narrative Film  Film & Video      USD  45000.0  2013-01-12 00:20:50   \n",
       "3           Music         Music      USD   5000.0  2012-03-17 03:24:11   \n",
       "4    Film & Video  Film & Video      USD  19500.0  2015-07-04 08:35:03   \n",
       "\n",
       "      state country  usd_goal_real  \n",
       "0    failed      GB        1533.95  \n",
       "1    failed      US       30000.00  \n",
       "2    failed      US       45000.00  \n",
       "3    failed      US        5000.00  \n",
       "4  canceled      US       19500.00  "
      ]
     },
     "execution_count": 13,
     "metadata": {},
     "output_type": "execute_result"
    }
   ],
   "source": [
    "df_raw.head()"
   ]
  },
  {
   "cell_type": "code",
   "execution_count": 14,
   "id": "737f1525",
   "metadata": {
    "ExecuteTime": {
     "end_time": "2021-07-23T00:20:23.112621Z",
     "start_time": "2021-07-23T00:20:22.944068Z"
    }
   },
   "outputs": [
    {
     "name": "stdout",
     "output_type": "stream",
     "text": [
      "<class 'pandas.core.frame.DataFrame'>\n",
      "Int64Index: 374860 entries, 0 to 378660\n",
      "Data columns (total 10 columns):\n",
      " #   Column         Non-Null Count   Dtype  \n",
      "---  ------         --------------   -----  \n",
      " 0   ID             374860 non-null  int64  \n",
      " 1   name           374860 non-null  object \n",
      " 2   category       374860 non-null  object \n",
      " 3   main_category  374860 non-null  object \n",
      " 4   currency       374860 non-null  object \n",
      " 5   goal           374860 non-null  float64\n",
      " 6   launched       374860 non-null  object \n",
      " 7   state          374860 non-null  object \n",
      " 8   country        374860 non-null  object \n",
      " 9   usd_goal_real  374860 non-null  float64\n",
      "dtypes: float64(2), int64(1), object(7)\n",
      "memory usage: 21.4+ MB\n"
     ]
    }
   ],
   "source": [
    "df_raw.info()"
   ]
  },
  {
   "cell_type": "markdown",
   "id": "22b2cc09",
   "metadata": {},
   "source": [
    "### Preprocessing"
   ]
  },
  {
   "cell_type": "markdown",
   "id": "9cadbf74",
   "metadata": {},
   "source": [
    "##### Display normal distribution or not"
   ]
  },
  {
   "cell_type": "code",
   "execution_count": 15,
   "id": "15f98fbe",
   "metadata": {
    "ExecuteTime": {
     "end_time": "2021-07-23T00:20:23.478640Z",
     "start_time": "2021-07-23T00:20:23.115610Z"
    }
   },
   "outputs": [
    {
     "data": {
      "text/plain": [
       "<matplotlib.axes._subplots.AxesSubplot at 0x137f55f8>"
      ]
     },
     "execution_count": 15,
     "metadata": {},
     "output_type": "execute_result"
    },
    {
     "data": {
      "image/png": "[encoded data removed]",
      "text/plain": [
       "<Figure size 432x288 with 1 Axes>"
      ]
     },
     "metadata": {
      "needs_background": "light"
     },
     "output_type": "display_data"
    }
   ],
   "source": [
    "df_raw['usd_goal_real'].plot.hist(bins=20, density=True)"
   ]
  },
  {
   "cell_type": "markdown",
   "id": "12b57048",
   "metadata": {},
   "source": [
    "It can be seen that the distribution is not normal, there is an anomaly in the usd_goal_real, then we will detect for outliers below"
   ]
  },
  {
   "cell_type": "markdown",
   "id": "85f834e9",
   "metadata": {},
   "source": [
    "### Outlier Detection"
   ]
  },
  {
   "cell_type": "markdown",
   "id": "052d86d7",
   "metadata": {},
   "source": [
    "##### Finding the observations for each quartile as well as the minimum and maximum observed values from the data sample."
   ]
  },
  {
   "cell_type": "code",
   "execution_count": 16,
   "id": "79da314b",
   "metadata": {
    "ExecuteTime": {
     "end_time": "2021-07-23T00:20:23.510553Z",
     "start_time": "2021-07-23T00:20:23.481631Z"
    }
   },
   "outputs": [
    {
     "name": "stdout",
     "output_type": "stream",
     "text": [
      "[ 2000.  5500. 16000.]\n"
     ]
    }
   ],
   "source": [
    "quartiles = np.percentile(df_raw['usd_goal_real'], [25, 50, 75])\n",
    "print(quartiles)"
   ]
  },
  {
   "cell_type": "code",
   "execution_count": 17,
   "id": "010fd733",
   "metadata": {
    "ExecuteTime": {
     "end_time": "2021-07-23T00:20:23.543466Z",
     "start_time": "2021-07-23T00:20:23.515540Z"
    }
   },
   "outputs": [
    {
     "name": "stdout",
     "output_type": "stream",
     "text": [
      "0.01\n",
      "166361390.71\n",
      "Min: 0.010\n",
      "Q1: 2000.000\n",
      "Median: 5500.000\n",
      "Q3: 16000.000\n",
      "Max: 166361390.710\n"
     ]
    }
   ],
   "source": [
    "data_min, data_max = df_raw['usd_goal_real'].min(), df_raw['usd_goal_real'].max()\n",
    "print(data_min)\n",
    "print(data_max)\n",
    "# print 5-number summary\n",
    "print('Min: %.3f' % data_min)\n",
    "print('Q1: %.3f' % quartiles[0])\n",
    "print('Median: %.3f' % quartiles[1])\n",
    "print('Q3: %.3f' % quartiles[2])\n",
    "print('Max: %.3f' % data_max)"
   ]
  },
  {
   "cell_type": "code",
   "execution_count": 18,
   "id": "191addb4",
   "metadata": {
    "ExecuteTime": {
     "end_time": "2021-07-23T00:20:23.970356Z",
     "start_time": "2021-07-23T00:20:23.547454Z"
    },
    "scrolled": true
   },
   "outputs": [
    {
     "data": {
      "image/png": "[encoded data removed]",
      "text/plain": [
       "<Figure size 432x288 with 1 Axes>"
      ]
     },
     "metadata": {
      "needs_background": "light"
     },
     "output_type": "display_data"
    }
   ],
   "source": [
    "plt.boxplot(df_raw['usd_goal_real'],\n",
    "            labels=['Data'],\n",
    "            showfliers=True,\n",
    "            vert=False,\n",
    "            flierprops={\n",
    "                'markerfacecolor': 'r',\n",
    "                'marker': 'd'\n",
    "            })\n",
    "plt.title('Outlier Detection')\n",
    "plt.xlabel('usd_goal_real')\n",
    "plt.ylabel('')\n",
    "plt.show()"
   ]
  },
  {
   "cell_type": "markdown",
   "id": "b476eb71",
   "metadata": {},
   "source": [
    "##### Using Tukey's rule for Outlier Detection\n",
    "##### q3+1.5∗IQR"
   ]
  },
  {
   "cell_type": "code",
   "execution_count": 19,
   "id": "20b13ae5",
   "metadata": {
    "ExecuteTime": {
     "end_time": "2021-07-23T00:20:24.002239Z",
     "start_time": "2021-07-23T00:20:23.975311Z"
    }
   },
   "outputs": [
    {
     "data": {
      "text/plain": [
       "37000.0"
      ]
     },
     "execution_count": 19,
     "metadata": {},
     "output_type": "execute_result"
    }
   ],
   "source": [
    "out_abv = quartiles[2]+1.5*(quartiles[2]-quartiles[0])\n",
    "out_abv"
   ]
  },
  {
   "cell_type": "markdown",
   "id": "3eec90ed",
   "metadata": {},
   "source": [
    "#### Remove Outlier 1\n",
    "Remove outlier where usd_real_goal above 37000"
   ]
  },
  {
   "cell_type": "code",
   "execution_count": 20,
   "id": "165eb784",
   "metadata": {
    "ExecuteTime": {
     "end_time": "2021-07-23T00:20:24.095988Z",
     "start_time": "2021-07-23T00:20:24.010224Z"
    }
   },
   "outputs": [
    {
     "data": {
      "text/html": [
       "<div>\n",
       "<style scoped>\n",
       "    .dataframe tbody tr th:only-of-type {\n",
       "        vertical-align: middle;\n",
       "    }\n",
       "\n",
       "    .dataframe tbody tr th {\n",
       "        vertical-align: top;\n",
       "    }\n",
       "\n",
       "    .dataframe thead th {\n",
       "        text-align: right;\n",
       "    }\n",
       "</style>\n",
       "<table border=\"1\" class=\"dataframe\">\n",
       "  <thead>\n",
       "    <tr style=\"text-align: right;\">\n",
       "      <th></th>\n",
       "      <th>ID</th>\n",
       "      <th>name</th>\n",
       "      <th>category</th>\n",
       "      <th>main_category</th>\n",
       "      <th>currency</th>\n",
       "      <th>goal</th>\n",
       "      <th>launched</th>\n",
       "      <th>state</th>\n",
       "      <th>country</th>\n",
       "      <th>usd_goal_real</th>\n",
       "    </tr>\n",
       "  </thead>\n",
       "  <tbody>\n",
       "    <tr>\n",
       "      <th>0</th>\n",
       "      <td>1000002330</td>\n",
       "      <td>The Songs of Adelaide &amp; Abullah</td>\n",
       "      <td>Poetry</td>\n",
       "      <td>Publishing</td>\n",
       "      <td>GBP</td>\n",
       "      <td>1000.0</td>\n",
       "      <td>2015-08-11 12:12:28</td>\n",
       "      <td>failed</td>\n",
       "      <td>GB</td>\n",
       "      <td>1533.95</td>\n",
       "    </tr>\n",
       "    <tr>\n",
       "      <th>1</th>\n",
       "      <td>1000003930</td>\n",
       "      <td>Greeting From Earth: ZGAC Arts Capsule For ET</td>\n",
       "      <td>Narrative Film</td>\n",
       "      <td>Film &amp; Video</td>\n",
       "      <td>USD</td>\n",
       "      <td>30000.0</td>\n",
       "      <td>2017-09-02 04:43:57</td>\n",
       "      <td>failed</td>\n",
       "      <td>US</td>\n",
       "      <td>30000.00</td>\n",
       "    </tr>\n",
       "    <tr>\n",
       "      <th>3</th>\n",
       "      <td>1000007540</td>\n",
       "      <td>ToshiCapital Rekordz Needs Help to Complete Album</td>\n",
       "      <td>Music</td>\n",
       "      <td>Music</td>\n",
       "      <td>USD</td>\n",
       "      <td>5000.0</td>\n",
       "      <td>2012-03-17 03:24:11</td>\n",
       "      <td>failed</td>\n",
       "      <td>US</td>\n",
       "      <td>5000.00</td>\n",
       "    </tr>\n",
       "    <tr>\n",
       "      <th>4</th>\n",
       "      <td>1000011046</td>\n",
       "      <td>Community Film Project: The Art of Neighborhoo...</td>\n",
       "      <td>Film &amp; Video</td>\n",
       "      <td>Film &amp; Video</td>\n",
       "      <td>USD</td>\n",
       "      <td>19500.0</td>\n",
       "      <td>2015-07-04 08:35:03</td>\n",
       "      <td>canceled</td>\n",
       "      <td>US</td>\n",
       "      <td>19500.00</td>\n",
       "    </tr>\n",
       "    <tr>\n",
       "      <th>6</th>\n",
       "      <td>1000023410</td>\n",
       "      <td>Support Solar Roasted Coffee &amp; Green Energy!  ...</td>\n",
       "      <td>Food</td>\n",
       "      <td>Food</td>\n",
       "      <td>USD</td>\n",
       "      <td>1000.0</td>\n",
       "      <td>2014-12-01 18:30:44</td>\n",
       "      <td>successful</td>\n",
       "      <td>US</td>\n",
       "      <td>1000.00</td>\n",
       "    </tr>\n",
       "  </tbody>\n",
       "</table>\n",
       "</div>"
      ],
      "text/plain": [
       "           ID                                               name  \\\n",
       "0  1000002330                    The Songs of Adelaide & Abullah   \n",
       "1  1000003930      Greeting From Earth: ZGAC Arts Capsule For ET   \n",
       "3  1000007540  ToshiCapital Rekordz Needs Help to Complete Album   \n",
       "4  1000011046  Community Film Project: The Art of Neighborhoo...   \n",
       "6  1000023410  Support Solar Roasted Coffee & Green Energy!  ...   \n",
       "\n",
       "         category main_category currency     goal             launched  \\\n",
       "0          Poetry    Publishing      GBP   1000.0  2015-08-11 12:12:28   \n",
       "1  Narrative Film  Film & Video      USD  30000.0  2017-09-02 04:43:57   \n",
       "3           Music         Music      USD   5000.0  2012-03-17 03:24:11   \n",
       "4    Film & Video  Film & Video      USD  19500.0  2015-07-04 08:35:03   \n",
       "6            Food          Food      USD   1000.0  2014-12-01 18:30:44   \n",
       "\n",
       "        state country  usd_goal_real  \n",
       "0      failed      GB        1533.95  \n",
       "1      failed      US       30000.00  \n",
       "3      failed      US        5000.00  \n",
       "4    canceled      US       19500.00  \n",
       "6  successful      US        1000.00  "
      ]
     },
     "execution_count": 20,
     "metadata": {},
     "output_type": "execute_result"
    }
   ],
   "source": [
    "df_filt = df_raw[df_raw['usd_goal_real'] <= 37000]\n",
    "df_filt.head()"
   ]
  },
  {
   "cell_type": "markdown",
   "id": "48a52f95",
   "metadata": {},
   "source": [
    "Now the data look better with histogram"
   ]
  },
  {
   "cell_type": "code",
   "execution_count": 21,
   "id": "f38cd169",
   "metadata": {
    "ExecuteTime": {
     "end_time": "2021-07-23T00:20:24.427614Z",
     "start_time": "2021-07-23T00:20:24.098981Z"
    }
   },
   "outputs": [
    {
     "data": {
      "text/plain": [
       "<matplotlib.axes._subplots.AxesSubplot at 0x139dada8>"
      ]
     },
     "execution_count": 21,
     "metadata": {},
     "output_type": "execute_result"
    },
    {
     "data": {
      "image/png": "[encoded data removed]",
      "text/plain": [
       "<Figure size 432x288 with 1 Axes>"
      ]
     },
     "metadata": {
      "needs_background": "light"
     },
     "output_type": "display_data"
    }
   ],
   "source": [
    "df_filt['usd_goal_real'].plot.hist(bins=20, density=True)"
   ]
  },
  {
   "cell_type": "markdown",
   "id": "3d396608",
   "metadata": {},
   "source": [
    "And also looks better, with boxplot"
   ]
  },
  {
   "cell_type": "code",
   "execution_count": 22,
   "id": "0ffbdf17",
   "metadata": {
    "ExecuteTime": {
     "end_time": "2021-07-23T00:20:24.585191Z",
     "start_time": "2021-07-23T00:20:24.430603Z"
    }
   },
   "outputs": [
    {
     "data": {
      "image/png": "[encoded data removed]",
      "text/plain": [
       "<Figure size 432x288 with 1 Axes>"
      ]
     },
     "metadata": {
      "needs_background": "light"
     },
     "output_type": "display_data"
    }
   ],
   "source": [
    "plt.boxplot(df_filt['usd_goal_real'],\n",
    "            labels=['Data'],\n",
    "            showfliers=False,\n",
    "            vert=False,\n",
    "            flierprops={\n",
    "                'markerfacecolor': 'r',\n",
    "                'marker': 'd'\n",
    "            })\n",
    "plt.title('Outlier Detection')\n",
    "plt.xlabel('usd_goal_real')\n",
    "plt.ylabel('')\n",
    "plt.show()"
   ]
  },
  {
   "cell_type": "code",
   "execution_count": 23,
   "id": "63667ed7",
   "metadata": {
    "ExecuteTime": {
     "end_time": "2021-07-23T00:20:24.787572Z",
     "start_time": "2021-07-23T00:20:24.588181Z"
    }
   },
   "outputs": [
    {
     "data": {
      "text/html": [
       "<div>\n",
       "<style scoped>\n",
       "    .dataframe tbody tr th:only-of-type {\n",
       "        vertical-align: middle;\n",
       "    }\n",
       "\n",
       "    .dataframe tbody tr th {\n",
       "        vertical-align: top;\n",
       "    }\n",
       "\n",
       "    .dataframe thead th {\n",
       "        text-align: right;\n",
       "    }\n",
       "</style>\n",
       "<table border=\"1\" class=\"dataframe\">\n",
       "  <thead>\n",
       "    <tr style=\"text-align: right;\">\n",
       "      <th></th>\n",
       "      <th>ID</th>\n",
       "      <th>name</th>\n",
       "      <th>category</th>\n",
       "      <th>currency</th>\n",
       "      <th>goal</th>\n",
       "      <th>launched</th>\n",
       "      <th>state</th>\n",
       "      <th>country</th>\n",
       "      <th>usd_goal_real</th>\n",
       "    </tr>\n",
       "    <tr>\n",
       "      <th>main_category</th>\n",
       "      <th></th>\n",
       "      <th></th>\n",
       "      <th></th>\n",
       "      <th></th>\n",
       "      <th></th>\n",
       "      <th></th>\n",
       "      <th></th>\n",
       "      <th></th>\n",
       "      <th></th>\n",
       "    </tr>\n",
       "  </thead>\n",
       "  <tbody>\n",
       "    <tr>\n",
       "      <th>Art</th>\n",
       "      <td>26718</td>\n",
       "      <td>26718</td>\n",
       "      <td>26718</td>\n",
       "      <td>26718</td>\n",
       "      <td>26718</td>\n",
       "      <td>26718</td>\n",
       "      <td>26718</td>\n",
       "      <td>26718</td>\n",
       "      <td>26718</td>\n",
       "    </tr>\n",
       "    <tr>\n",
       "      <th>Comics</th>\n",
       "      <td>10466</td>\n",
       "      <td>10466</td>\n",
       "      <td>10466</td>\n",
       "      <td>10466</td>\n",
       "      <td>10466</td>\n",
       "      <td>10466</td>\n",
       "      <td>10466</td>\n",
       "      <td>10466</td>\n",
       "      <td>10466</td>\n",
       "    </tr>\n",
       "    <tr>\n",
       "      <th>Crafts</th>\n",
       "      <td>8427</td>\n",
       "      <td>8427</td>\n",
       "      <td>8427</td>\n",
       "      <td>8427</td>\n",
       "      <td>8427</td>\n",
       "      <td>8427</td>\n",
       "      <td>8427</td>\n",
       "      <td>8427</td>\n",
       "      <td>8427</td>\n",
       "    </tr>\n",
       "    <tr>\n",
       "      <th>Dance</th>\n",
       "      <td>3650</td>\n",
       "      <td>3650</td>\n",
       "      <td>3650</td>\n",
       "      <td>3650</td>\n",
       "      <td>3650</td>\n",
       "      <td>3650</td>\n",
       "      <td>3650</td>\n",
       "      <td>3650</td>\n",
       "      <td>3650</td>\n",
       "    </tr>\n",
       "    <tr>\n",
       "      <th>Design</th>\n",
       "      <td>24609</td>\n",
       "      <td>24609</td>\n",
       "      <td>24609</td>\n",
       "      <td>24609</td>\n",
       "      <td>24609</td>\n",
       "      <td>24609</td>\n",
       "      <td>24609</td>\n",
       "      <td>24609</td>\n",
       "      <td>24609</td>\n",
       "    </tr>\n",
       "    <tr>\n",
       "      <th>Fashion</th>\n",
       "      <td>21004</td>\n",
       "      <td>21004</td>\n",
       "      <td>21004</td>\n",
       "      <td>21004</td>\n",
       "      <td>21004</td>\n",
       "      <td>21004</td>\n",
       "      <td>21004</td>\n",
       "      <td>21004</td>\n",
       "      <td>21004</td>\n",
       "    </tr>\n",
       "    <tr>\n",
       "      <th>Film &amp; Video</th>\n",
       "      <td>53363</td>\n",
       "      <td>53363</td>\n",
       "      <td>53363</td>\n",
       "      <td>53363</td>\n",
       "      <td>53363</td>\n",
       "      <td>53363</td>\n",
       "      <td>53363</td>\n",
       "      <td>53363</td>\n",
       "      <td>53363</td>\n",
       "    </tr>\n",
       "    <tr>\n",
       "      <th>Food</th>\n",
       "      <td>20340</td>\n",
       "      <td>20340</td>\n",
       "      <td>20340</td>\n",
       "      <td>20340</td>\n",
       "      <td>20340</td>\n",
       "      <td>20340</td>\n",
       "      <td>20340</td>\n",
       "      <td>20340</td>\n",
       "      <td>20340</td>\n",
       "    </tr>\n",
       "    <tr>\n",
       "      <th>Games</th>\n",
       "      <td>29799</td>\n",
       "      <td>29799</td>\n",
       "      <td>29799</td>\n",
       "      <td>29799</td>\n",
       "      <td>29799</td>\n",
       "      <td>29799</td>\n",
       "      <td>29799</td>\n",
       "      <td>29799</td>\n",
       "      <td>29799</td>\n",
       "    </tr>\n",
       "    <tr>\n",
       "      <th>Journalism</th>\n",
       "      <td>4239</td>\n",
       "      <td>4239</td>\n",
       "      <td>4239</td>\n",
       "      <td>4239</td>\n",
       "      <td>4239</td>\n",
       "      <td>4239</td>\n",
       "      <td>4239</td>\n",
       "      <td>4239</td>\n",
       "      <td>4239</td>\n",
       "    </tr>\n",
       "    <tr>\n",
       "      <th>Music</th>\n",
       "      <td>47628</td>\n",
       "      <td>47628</td>\n",
       "      <td>47628</td>\n",
       "      <td>47628</td>\n",
       "      <td>47628</td>\n",
       "      <td>47628</td>\n",
       "      <td>47628</td>\n",
       "      <td>47628</td>\n",
       "      <td>47628</td>\n",
       "    </tr>\n",
       "    <tr>\n",
       "      <th>Photography</th>\n",
       "      <td>10334</td>\n",
       "      <td>10334</td>\n",
       "      <td>10334</td>\n",
       "      <td>10334</td>\n",
       "      <td>10334</td>\n",
       "      <td>10334</td>\n",
       "      <td>10334</td>\n",
       "      <td>10334</td>\n",
       "      <td>10334</td>\n",
       "    </tr>\n",
       "    <tr>\n",
       "      <th>Publishing</th>\n",
       "      <td>37456</td>\n",
       "      <td>37456</td>\n",
       "      <td>37456</td>\n",
       "      <td>37456</td>\n",
       "      <td>37456</td>\n",
       "      <td>37456</td>\n",
       "      <td>37456</td>\n",
       "      <td>37456</td>\n",
       "      <td>37456</td>\n",
       "    </tr>\n",
       "    <tr>\n",
       "      <th>Technology</th>\n",
       "      <td>21823</td>\n",
       "      <td>21823</td>\n",
       "      <td>21823</td>\n",
       "      <td>21823</td>\n",
       "      <td>21823</td>\n",
       "      <td>21823</td>\n",
       "      <td>21823</td>\n",
       "      <td>21823</td>\n",
       "      <td>21823</td>\n",
       "    </tr>\n",
       "    <tr>\n",
       "      <th>Theater</th>\n",
       "      <td>10305</td>\n",
       "      <td>10305</td>\n",
       "      <td>10305</td>\n",
       "      <td>10305</td>\n",
       "      <td>10305</td>\n",
       "      <td>10305</td>\n",
       "      <td>10305</td>\n",
       "      <td>10305</td>\n",
       "      <td>10305</td>\n",
       "    </tr>\n",
       "  </tbody>\n",
       "</table>\n",
       "</div>"
      ],
      "text/plain": [
       "                  ID   name  category  currency   goal  launched  state  \\\n",
       "main_category                                                             \n",
       "Art            26718  26718     26718     26718  26718     26718  26718   \n",
       "Comics         10466  10466     10466     10466  10466     10466  10466   \n",
       "Crafts          8427   8427      8427      8427   8427      8427   8427   \n",
       "Dance           3650   3650      3650      3650   3650      3650   3650   \n",
       "Design         24609  24609     24609     24609  24609     24609  24609   \n",
       "Fashion        21004  21004     21004     21004  21004     21004  21004   \n",
       "Film & Video   53363  53363     53363     53363  53363     53363  53363   \n",
       "Food           20340  20340     20340     20340  20340     20340  20340   \n",
       "Games          29799  29799     29799     29799  29799     29799  29799   \n",
       "Journalism      4239   4239      4239      4239   4239      4239   4239   \n",
       "Music          47628  47628     47628     47628  47628     47628  47628   \n",
       "Photography    10334  10334     10334     10334  10334     10334  10334   \n",
       "Publishing     37456  37456     37456     37456  37456     37456  37456   \n",
       "Technology     21823  21823     21823     21823  21823     21823  21823   \n",
       "Theater        10305  10305     10305     10305  10305     10305  10305   \n",
       "\n",
       "               country  usd_goal_real  \n",
       "main_category                          \n",
       "Art              26718          26718  \n",
       "Comics           10466          10466  \n",
       "Crafts            8427           8427  \n",
       "Dance             3650           3650  \n",
       "Design           24609          24609  \n",
       "Fashion          21004          21004  \n",
       "Film & Video     53363          53363  \n",
       "Food             20340          20340  \n",
       "Games            29799          29799  \n",
       "Journalism        4239           4239  \n",
       "Music            47628          47628  \n",
       "Photography      10334          10334  \n",
       "Publishing       37456          37456  \n",
       "Technology       21823          21823  \n",
       "Theater          10305          10305  "
      ]
     },
     "execution_count": 23,
     "metadata": {},
     "output_type": "execute_result"
    }
   ],
   "source": [
    "df_filt.groupby('main_category').count()"
   ]
  },
  {
   "cell_type": "markdown",
   "id": "feef2c4c",
   "metadata": {},
   "source": [
    "#### Remove Outlier 2\n",
    "Remove main_category with smallest usd_goal_real"
   ]
  },
  {
   "cell_type": "code",
   "execution_count": 24,
   "id": "e5524388",
   "metadata": {
    "ExecuteTime": {
     "end_time": "2021-07-23T00:20:24.992542Z",
     "start_time": "2021-07-23T00:20:24.791563Z"
    },
    "code_folding": []
   },
   "outputs": [],
   "source": [
    "df_grp_cat = df_filt.groupby('main_category').count().reset_index()[[\n",
    "    'main_category', 'usd_goal_real'\n",
    "]].sort_values('usd_goal_real', ascending=False)\n",
    "df_grp_cat['main_cat_count'] = df_grp_cat['usd_goal_real'].cumsum()\n",
    "df_grp_cat['pcg_sum'] = df_grp_cat['main_cat_count'] / df_grp_cat[\n",
    "    'main_cat_count'].max()\n",
    "df_grp_cat = df_grp_cat[df_grp_cat['pcg_sum'] <= 0.95]"
   ]
  },
  {
   "cell_type": "code",
   "execution_count": 25,
   "id": "010d7863",
   "metadata": {
    "ExecuteTime": {
     "end_time": "2021-07-23T00:20:25.070453Z",
     "start_time": "2021-07-23T00:20:24.996531Z"
    }
   },
   "outputs": [],
   "source": [
    "df_filt = df_filt[df_filt['main_category'].isin(df_grp_cat['main_category'])]"
   ]
  },
  {
   "cell_type": "markdown",
   "id": "aa67a4d0",
   "metadata": {},
   "source": [
    "##### Now we have 95% available data, to be processed"
   ]
  },
  {
   "cell_type": "code",
   "execution_count": 26,
   "id": "322aa61a",
   "metadata": {
    "ExecuteTime": {
     "end_time": "2021-07-23T00:20:25.086290Z",
     "start_time": "2021-07-23T00:20:25.073326Z"
    }
   },
   "outputs": [
    {
     "name": "stdout",
     "output_type": "stream",
     "text": [
      "(303540, 10)\n"
     ]
    }
   ],
   "source": [
    "print(df_filt.shape)"
   ]
  },
  {
   "cell_type": "markdown",
   "id": "ba61fdb3",
   "metadata": {},
   "source": [
    "## Measure of Central Tendency"
   ]
  },
  {
   "cell_type": "code",
   "execution_count": 27,
   "id": "ce3e0ee9",
   "metadata": {
    "ExecuteTime": {
     "end_time": "2021-07-23T00:20:25.146131Z",
     "start_time": "2021-07-23T00:20:25.089283Z"
    }
   },
   "outputs": [
    {
     "name": "stdout",
     "output_type": "stream",
     "text": [
      "count    303540.000000\n",
      "mean       7986.848436\n",
      "std        8352.975542\n",
      "min           0.010000\n",
      "25%        1900.000000\n",
      "50%        5000.000000\n",
      "75%       10200.000000\n",
      "max       37000.000000\n",
      "Name: usd_goal_real, dtype: float64\n"
     ]
    }
   ],
   "source": [
    "print(df_filt['usd_goal_real'].describe())"
   ]
  },
  {
   "cell_type": "markdown",
   "id": "bbbc88e3",
   "metadata": {},
   "source": [
    "#### Measure of Central Tendency Mean"
   ]
  },
  {
   "cell_type": "code",
   "execution_count": 28,
   "id": "fc41ca5e",
   "metadata": {
    "ExecuteTime": {
     "end_time": "2021-07-23T00:20:25.161093Z",
     "start_time": "2021-07-23T00:20:25.149123Z"
    }
   },
   "outputs": [
    {
     "name": "stdout",
     "output_type": "stream",
     "text": [
      "7986.848436021613\n"
     ]
    }
   ],
   "source": [
    "print(df_filt['usd_goal_real'].mean())"
   ]
  },
  {
   "cell_type": "markdown",
   "id": "dd15b9a3",
   "metadata": {},
   "source": [
    "#### Measure of Central Tendency Median"
   ]
  },
  {
   "cell_type": "code",
   "execution_count": 29,
   "id": "f24f6be5",
   "metadata": {
    "ExecuteTime": {
     "end_time": "2021-07-23T00:20:25.192037Z",
     "start_time": "2021-07-23T00:20:25.167074Z"
    }
   },
   "outputs": [
    {
     "name": "stdout",
     "output_type": "stream",
     "text": [
      "5000.0\n"
     ]
    }
   ],
   "source": [
    "print(df_filt['usd_goal_real'].median())"
   ]
  },
  {
   "cell_type": "markdown",
   "id": "45b451f6",
   "metadata": {},
   "source": [
    "#### Measure of Central Tendency Modus"
   ]
  },
  {
   "cell_type": "code",
   "execution_count": 30,
   "id": "c5ff7d9e",
   "metadata": {
    "ExecuteTime": {
     "end_time": "2021-07-23T00:20:25.254874Z",
     "start_time": "2021-07-23T00:20:25.213950Z"
    }
   },
   "outputs": [
    {
     "name": "stdout",
     "output_type": "stream",
     "text": [
      "0    5000.0\n",
      "dtype: float64\n"
     ]
    }
   ],
   "source": [
    "print(df_filt['usd_goal_real'].mode())"
   ]
  },
  {
   "cell_type": "markdown",
   "id": "94137a5e",
   "metadata": {},
   "source": [
    "### Measure of Variance"
   ]
  },
  {
   "cell_type": "markdown",
   "id": "fe4e3256",
   "metadata": {},
   "source": [
    "#### Measure of Variance Range"
   ]
  },
  {
   "cell_type": "code",
   "execution_count": 31,
   "id": "f722d0c8",
   "metadata": {
    "ExecuteTime": {
     "end_time": "2021-07-23T00:20:25.302715Z",
     "start_time": "2021-07-23T00:20:25.261821Z"
    }
   },
   "outputs": [
    {
     "name": "stdout",
     "output_type": "stream",
     "text": [
      "goal range: 2999999.99\n",
      "usd_goal_real range: 36999.99\n"
     ]
    }
   ],
   "source": [
    "numcols = ['goal', 'usd_goal_real']\n",
    "for col in numcols:\n",
    "    print(df_filt[col].name + ' range: ' + str(df_filt[col].max() - df_filt[col].min()))"
   ]
  },
  {
   "cell_type": "markdown",
   "id": "53683695",
   "metadata": {},
   "source": [
    "#### Measure of Variance"
   ]
  },
  {
   "cell_type": "code",
   "execution_count": 32,
   "id": "dbcc96e2",
   "metadata": {
    "ExecuteTime": {
     "end_time": "2021-07-23T00:20:25.334626Z",
     "start_time": "2021-07-23T00:20:25.307699Z"
    }
   },
   "outputs": [
    {
     "name": "stdout",
     "output_type": "stream",
     "text": [
      "69772200.39884529\n"
     ]
    }
   ],
   "source": [
    "print(df_filt['usd_goal_real'].var())"
   ]
  },
  {
   "cell_type": "markdown",
   "id": "c3eb3dbc",
   "metadata": {},
   "source": [
    "#### Measure of Variance Standard Deviation"
   ]
  },
  {
   "cell_type": "code",
   "execution_count": 33,
   "id": "76fa8751",
   "metadata": {
    "ExecuteTime": {
     "end_time": "2021-07-23T00:20:25.382504Z",
     "start_time": "2021-07-23T00:20:25.352578Z"
    }
   },
   "outputs": [
    {
     "name": "stdout",
     "output_type": "stream",
     "text": [
      "8352.97554161661\n"
     ]
    }
   ],
   "source": [
    "print(df_filt['usd_goal_real'].std())"
   ]
  },
  {
   "cell_type": "markdown",
   "id": "1c819dae",
   "metadata": {},
   "source": [
    "Display with Plot"
   ]
  },
  {
   "cell_type": "code",
   "execution_count": 34,
   "id": "a808cac9",
   "metadata": {
    "ExecuteTime": {
     "end_time": "2021-07-23T00:20:25.889275Z",
     "start_time": "2021-07-23T00:20:25.387485Z"
    }
   },
   "outputs": [
    {
     "data": {
      "text/plain": [
       "<matplotlib.lines.Line2D at 0x13ab1dd8>"
      ]
     },
     "execution_count": 34,
     "metadata": {},
     "output_type": "execute_result"
    },
    {
     "data": {
      "image/png": "[encoded data removed]",
      "text/plain": [
       "<Figure size 432x288 with 1 Axes>"
      ]
     },
     "metadata": {
      "needs_background": "light"
     },
     "output_type": "display_data"
    }
   ],
   "source": [
    "df_filt['usd_goal_real'].plot.hist(bins=20, density=True)\n",
    "plt.axvline(df_filt['usd_goal_real'].describe()['mean'],\n",
    "            color='red',\n",
    "            linestyle='dashed',\n",
    "            linewidth=2)\n",
    "plt.axvline(df_filt['usd_goal_real'].describe()['50%'],\n",
    "            color='magenta',\n",
    "            linestyle='dashed',\n",
    "            linewidth=2)\n",
    "plt.axvline(df_filt['usd_goal_real'].describe()['mean'] +\n",
    "            df_filt['usd_goal_real'].describe()['std'],\n",
    "            color='green',\n",
    "            linestyle='dashed',\n",
    "            linewidth=2)"
   ]
  },
  {
   "cell_type": "markdown",
   "id": "1624c4a0",
   "metadata": {},
   "source": [
    "##### Distribution Fit"
   ]
  },
  {
   "cell_type": "code",
   "execution_count": 35,
   "id": "b333f497",
   "metadata": {
    "ExecuteTime": {
     "end_time": "2021-07-23T00:20:26.317710Z",
     "start_time": "2021-07-23T00:20:25.892147Z"
    }
   },
   "outputs": [
    {
     "data": {
      "text/plain": [
       "[<matplotlib.lines.Line2D at 0x1451d478>]"
      ]
     },
     "execution_count": 35,
     "metadata": {},
     "output_type": "execute_result"
    },
    {
     "data": {
      "image/png": "[encoded data removed]",
      "text/plain": [
       "<Figure size 432x288 with 1 Axes>"
      ]
     },
     "metadata": {
      "needs_background": "light"
     },
     "output_type": "display_data"
    }
   ],
   "source": [
    "from scipy.stats import beta as beta_fun\n",
    "\n",
    "fig, ax = plt.subplots(1, 1)\n",
    "df_filt['usd_goal_real'].plot.hist(bins=20, density=True)\n",
    "\n",
    "alpha = 2.5\n",
    "beta = 14\n",
    "x = np.linspace(0, 1, 100)\n",
    "plt.plot(37000 * x,\n",
    "         beta_fun.pdf(x, alpha, beta) / 37000,\n",
    "         'm-',\n",
    "         lw=1.5,\n",
    "         alpha=1,\n",
    "         label='norm pdf')\n",
    "\n",
    "x = np.linspace(0, 37000, 100)\n",
    "plt.plot(x,\n",
    "         norm.pdf(x, df_filt['usd_goal_real'].describe()['mean'],\n",
    "                  df_filt['usd_goal_real'].describe()['std'] - 5000),\n",
    "         'r-',\n",
    "         lw=1.5,\n",
    "         alpha=1,\n",
    "         label='expon pdf')"
   ]
  },
  {
   "cell_type": "code",
   "execution_count": 36,
   "id": "98b15b13",
   "metadata": {
    "ExecuteTime": {
     "end_time": "2021-07-23T00:20:26.332669Z",
     "start_time": "2021-07-23T00:20:26.320703Z"
    }
   },
   "outputs": [
    {
     "name": "stdout",
     "output_type": "stream",
     "text": [
      "5606.060606060606\n"
     ]
    }
   ],
   "source": [
    "Exp_value = alpha/(alpha+beta)*37000\n",
    "print(Exp_value)"
   ]
  },
  {
   "cell_type": "markdown",
   "id": "24a6b869",
   "metadata": {},
   "source": [
    "#### Confidence Interval"
   ]
  },
  {
   "cell_type": "code",
   "execution_count": 48,
   "id": "4c021fd6",
   "metadata": {
    "ExecuteTime": {
     "end_time": "2021-07-23T00:34:46.208719Z",
     "start_time": "2021-07-23T00:34:45.661681Z"
    }
   },
   "outputs": [
    {
     "data": {
      "image/png": "[encoded data removed]",
      "text/plain": [
       "<Figure size 432x288 with 1 Axes>"
      ]
     },
     "metadata": {
      "needs_background": "light"
     },
     "output_type": "display_data"
    },
    {
     "name": "stdout",
     "output_type": "stream",
     "text": [
      "Sampling Mean: 7986.848436021613\n",
      "Sampling StdErr: 8352.97554161661\n",
      "95% Confidence Interval: (-8384.682789290893, 24358.37966133412)\n"
     ]
    }
   ],
   "source": [
    "means = df_filt['usd_goal_real']\n",
    "m = means.mean()\n",
    "sd = means.std()\n",
    "ci = stats.norm.interval(0.95, m, sd)\n",
    "\n",
    "# Plot the distribution, mean, and CI\n",
    "means.plot.hist(title='Simulated Sampling Distribution', bins=20) \n",
    "plt.axvline(m, color='red', linestyle='dashed', linewidth=2)\n",
    "plt.axvline(ci[0], color='magenta', linestyle='dashed', linewidth=2)\n",
    "plt.axvline(ci[1], color='magenta', linestyle='dashed', linewidth=2)\n",
    "plt.show()\n",
    "\n",
    "# Print the Mean, StdDev and 95% CI\n",
    "print ('Sampling Mean: ' + str(m))\n",
    "print ('Sampling StdErr: ' + str(sd))\n",
    "print ('95% Confidence Interval: ' + str(ci))"
   ]
  },
  {
   "cell_type": "markdown",
   "id": "74f0919b",
   "metadata": {
    "ExecuteTime": {
     "end_time": "2021-07-21T13:48:37.424752Z",
     "start_time": "2021-07-21T13:48:37.352586Z"
    }
   },
   "source": [
    "### Two Sample Test"
   ]
  },
  {
   "cell_type": "markdown",
   "id": "8c154eef",
   "metadata": {},
   "source": [
    "##### It is applied to compare whether the mean difference between the two groups is really significant or whether it is due to random chance. This helps to answer questions such as whether the category type has a significant mean to usd_goal_real"
   ]
  },
  {
   "cell_type": "code",
   "execution_count": 38,
   "id": "cf895da7",
   "metadata": {
    "ExecuteTime": {
     "end_time": "2021-07-23T00:20:26.804527Z",
     "start_time": "2021-07-23T00:20:26.703764Z"
    }
   },
   "outputs": [],
   "source": [
    "df_make_smy=df_filt.groupby('main_category').agg({'usd_goal_real':['count','mean']}).reset_index()\n",
    "df_make_smy.columns = df_make_smy.columns.droplevel()"
   ]
  },
  {
   "cell_type": "code",
   "execution_count": 39,
   "id": "b3619499",
   "metadata": {
    "ExecuteTime": {
     "end_time": "2021-07-23T00:20:26.835415Z",
     "start_time": "2021-07-23T00:20:26.808483Z"
    }
   },
   "outputs": [
    {
     "data": {
      "text/html": [
       "<div>\n",
       "<style scoped>\n",
       "    .dataframe tbody tr th:only-of-type {\n",
       "        vertical-align: middle;\n",
       "    }\n",
       "\n",
       "    .dataframe tbody tr th {\n",
       "        vertical-align: top;\n",
       "    }\n",
       "\n",
       "    .dataframe thead th {\n",
       "        text-align: right;\n",
       "    }\n",
       "</style>\n",
       "<table border=\"1\" class=\"dataframe\">\n",
       "  <thead>\n",
       "    <tr style=\"text-align: right;\">\n",
       "      <th></th>\n",
       "      <th></th>\n",
       "      <th>count</th>\n",
       "      <th>mean</th>\n",
       "    </tr>\n",
       "  </thead>\n",
       "  <tbody>\n",
       "    <tr>\n",
       "      <th>4</th>\n",
       "      <td>Film &amp; Video</td>\n",
       "      <td>53363</td>\n",
       "      <td>8356.331284</td>\n",
       "    </tr>\n",
       "    <tr>\n",
       "      <th>7</th>\n",
       "      <td>Music</td>\n",
       "      <td>47628</td>\n",
       "      <td>5985.505483</td>\n",
       "    </tr>\n",
       "    <tr>\n",
       "      <th>9</th>\n",
       "      <td>Publishing</td>\n",
       "      <td>37456</td>\n",
       "      <td>6746.490975</td>\n",
       "    </tr>\n",
       "    <tr>\n",
       "      <th>6</th>\n",
       "      <td>Games</td>\n",
       "      <td>29799</td>\n",
       "      <td>8911.001199</td>\n",
       "    </tr>\n",
       "    <tr>\n",
       "      <th>0</th>\n",
       "      <td>Art</td>\n",
       "      <td>26718</td>\n",
       "      <td>5005.574908</td>\n",
       "    </tr>\n",
       "  </tbody>\n",
       "</table>\n",
       "</div>"
      ],
      "text/plain": [
       "                 count         mean\n",
       "4  Film & Video  53363  8356.331284\n",
       "7         Music  47628  5985.505483\n",
       "9    Publishing  37456  6746.490975\n",
       "6         Games  29799  8911.001199\n",
       "0           Art  26718  5005.574908"
      ]
     },
     "execution_count": 39,
     "metadata": {},
     "output_type": "execute_result"
    }
   ],
   "source": [
    "df_make_smy.sort_values('count',ascending=False).head()"
   ]
  },
  {
   "cell_type": "code",
   "execution_count": 40,
   "id": "63f6f67a",
   "metadata": {
    "ExecuteTime": {
     "end_time": "2021-07-23T00:20:26.945197Z",
     "start_time": "2021-07-23T00:20:26.838403Z"
    }
   },
   "outputs": [],
   "source": [
    "df_film = df_filt[df_filt['main_category'] == 'Film & Video']\n",
    "df_music = df_filt[df_filt['main_category'] == 'Games']"
   ]
  },
  {
   "cell_type": "code",
   "execution_count": 46,
   "id": "20a86789",
   "metadata": {
    "ExecuteTime": {
     "end_time": "2021-07-23T00:23:34.165106Z",
     "start_time": "2021-07-23T00:23:33.803437Z"
    }
   },
   "outputs": [
    {
     "data": {
      "text/plain": [
       "<matplotlib.axes._subplots.AxesSubplot at 0x13829250>"
      ]
     },
     "execution_count": 46,
     "metadata": {},
     "output_type": "execute_result"
    },
    {
     "data": {
      "image/png": "[encoded data removed]",
      "text/plain": [
       "<Figure size 432x288 with 1 Axes>"
      ]
     },
     "metadata": {
      "needs_background": "light"
     },
     "output_type": "display_data"
    }
   ],
   "source": [
    "sns.histplot(df_film['usd_goal_real'])"
   ]
  },
  {
   "cell_type": "code",
   "execution_count": 42,
   "id": "4f0fa8eb",
   "metadata": {
    "ExecuteTime": {
     "end_time": "2021-07-23T00:20:28.020355Z",
     "start_time": "2021-07-23T00:20:27.642845Z"
    }
   },
   "outputs": [
    {
     "data": {
      "text/plain": [
       "<matplotlib.axes._subplots.AxesSubplot at 0x138294d8>"
      ]
     },
     "execution_count": 42,
     "metadata": {},
     "output_type": "execute_result"
    },
    {
     "data": {
      "image/png": "[encoded data removed]",
      "text/plain": [
       "<Figure size 432x288 with 1 Axes>"
      ]
     },
     "metadata": {
      "needs_background": "light"
     },
     "output_type": "display_data"
    }
   ],
   "source": [
    "sns.histplot(df_music['usd_goal_real'])"
   ]
  },
  {
   "cell_type": "code",
   "execution_count": 50,
   "id": "693713b0",
   "metadata": {
    "ExecuteTime": {
     "end_time": "2021-07-23T00:35:59.024922Z",
     "start_time": "2021-07-23T00:35:58.608077Z"
    }
   },
   "outputs": [
    {
     "name": "stdout",
     "output_type": "stream",
     "text": [
      "Film & Videos sample mean:8356.331283660962\n",
      "Film & Videos sample std:8542.105706562734\n",
      "Film & Videos Kurtosis:1.1666492277681622\n",
      "Music sample mean:8911.001199033522\n",
      "t-statistic:8.838123608456554\n",
      "p-value:0.000000\n"
     ]
    },
    {
     "data": {
      "image/png": "[encoded data removed]",
      "text/plain": [
       "<Figure size 432x288 with 1 Axes>"
      ]
     },
     "metadata": {
      "needs_background": "light"
     },
     "output_type": "display_data"
    }
   ],
   "source": [
    "np.random.seed(123)\n",
    "nonMath =df_film['usd_goal_real']\n",
    "math = df_music['usd_goal_real']\n",
    "print(\"Film & Videos sample mean:\" + str(nonMath.mean()))\n",
    "print(\"Film & Videos sample std:\" + str(nonMath.std()))\n",
    "print(\"Film & Videos Kurtosis:\" + str(nonMath.kurtosis()))\n",
    "print(\"Music sample mean:\" + str(math.mean()))\n",
    "\n",
    "# Independent T-Test\n",
    "t,p = stats.ttest_ind(math, nonMath,equal_var=False)\n",
    "# ttest_ind is 2-tailed, so half the resulting p-value to get a 1-tailed p-value\n",
    "p1 = '%f' % (p/2)\n",
    "\n",
    "#2-tailed\n",
    "print(\"t-statistic:\" + str(t))\n",
    "print(\"p-value:\" + str(p1))\n",
    "\n",
    "pop = np.random.normal(nonMath.mean(), nonMath.std(), 100000)\n",
    "# calculate a 90% confidence interval. 10% of the probability is outside this, 5% in each tail\n",
    "ci = stats.norm.interval(0.90, nonMath.mean(), nonMath.std())\n",
    "plt.hist(pop, bins=100)\n",
    "# show the hypothesized population mean\n",
    "plt.axvline(pop.mean(), color='yellow', linestyle='dashed', linewidth=2)\n",
    "# show the right-tail confidence interval threshold - 5% of propbability is under the curve to the right of this.\n",
    "plt.axvline(ci[1], color='red', linestyle='dashed', linewidth=2)\n",
    "# show the right-tail confidence interval threshold - 5% of propbability is under the curve to the right of this.\n",
    "plt.axvline(ci[0], color='red', linestyle='dashed', linewidth=2)\n",
    "# show the t-statistic - the p-value is the area under the curve to the right of this\n",
    "plt.axvline(pop.mean() +  t*pop.std(), color='magenta', linestyle='dashed', linewidth=2)\n",
    "plt.show()"
   ]
  },
  {
   "cell_type": "markdown",
   "id": "21c93674",
   "metadata": {},
   "source": [
    "## Pengambilan Kesimpulan"
   ]
  },
  {
   "cell_type": "markdown",
   "id": "7c8a2cbb",
   "metadata": {},
   "source": [
    "The null hypothesis (H0) is that the average score for entertainment in the Movies & Videos category with entertainment in the Music category is not greater than the average value for entertainment in the Music category, and the fact that our sample average for entertainment in the Movies & Videos category is higher than our sample mean for Music category entertainment can be explained randomly in our sample selection.\n",
    "\n",
    "The alternative hypothesis (H1) is that the population average value of entertainment in the Film & Videos category closest to the real goal is greater than the population average value of music entertainment."
   ]
  },
  {
   "cell_type": "markdown",
   "id": "421a4edc",
   "metadata": {},
   "source": [
    "$$\n",
    "\\begin{equation}H_{0}: \\mu_{1} \\le \\mu_{2} \\\\ H_{1}: \\mu_{1} > \\mu_{2} \\end{equation}\n",
    "$$\n",
    "\n",
    "\\begin{equation}\\mu_{1}: FilmVideos\n",
    "\\end{equation}\n",
    "\n",
    "\\begin{equation}\\mu_{2}: Music\n",
    "\\end{equation}"
   ]
  },
  {
   "cell_type": "markdown",
   "id": "2194dea0",
   "metadata": {},
   "source": [
    "It is proven that the entertainment category of the Film&Video type has a higher average value than the average value of the entertainment category of the Music type. This proves that we accept H1 and reject H0."
   ]
  }
 ],
 "metadata": {
  "kernelspec": {
   "display_name": "Python 3",
   "language": "python",
   "name": "python3"
  },
  "language_info": {
   "codemirror_mode": {
    "name": "ipython",
    "version": 3
   },
   "file_extension": ".py",
   "mimetype": "text/x-python",
   "name": "python",
   "nbconvert_exporter": "python",
   "pygments_lexer": "ipython3",
   "version": "3.8.1"
  }
 },
 "nbformat": 4,
 "nbformat_minor": 5
}
