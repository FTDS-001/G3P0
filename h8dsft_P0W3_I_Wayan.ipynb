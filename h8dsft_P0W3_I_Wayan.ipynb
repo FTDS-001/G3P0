{
 "cells": [
  {
   "cell_type": "markdown",
   "id": "06bf598d",
   "metadata": {},
   "source": [
    "## Perkenalan"
   ]
  },
  {
   "cell_type": "markdown",
   "id": "8531c4bd",
   "metadata": {},
   "source": [
    "Notebook ini dibuat oleh I Wayan Budi, FTDS-001. Buddy Raka Ardhi"
   ]
  },
  {
   "cell_type": "markdown",
   "id": "592f4a27",
   "metadata": {},
   "source": [
    "Case:\\\n",
    "Saya di kontak oleh seorang Influencer terkenal dengan follower sosmed 500k yang akan membuat Project di Kickstarter. Dia kebingungan untuk memilih kategori project yang dimau, antara Music atau Dance.\\\n",
    "Dia beranggapan Music lebih sukses dari Dance dalam jumlah Plegde.\\\n",
    "\\\n",
    "Saya sebagai seorang Data Scientist akan melakukan pengetesan hypothesis terhadap pendapat tersebut."
   ]
  },
  {
   "cell_type": "markdown",
   "id": "cb1eba2a",
   "metadata": {},
   "source": [
    "## Import Pustaka"
   ]
  },
  {
   "cell_type": "code",
   "execution_count": 80,
   "id": "26d23f16",
   "metadata": {},
   "outputs": [],
   "source": [
    "import pandas as pd\n",
    "import numpy as np\n",
    "import matplotlib.pyplot as plt\n",
    "import scipy.stats as stats\n",
    "import seaborn as sns\n",
    "from statsmodels.stats.proportion import proportions_ztest\n",
    "%matplotlib inline"
   ]
  },
  {
   "cell_type": "markdown",
   "id": "acf47f92",
   "metadata": {},
   "source": [
    "## Data Loading"
   ]
  },
  {
   "cell_type": "code",
   "execution_count": 82,
   "id": "715f7a36",
   "metadata": {},
   "outputs": [
    {
     "data": {
      "text/html": [
       "<div>\n",
       "<style scoped>\n",
       "    .dataframe tbody tr th:only-of-type {\n",
       "        vertical-align: middle;\n",
       "    }\n",
       "\n",
       "    .dataframe tbody tr th {\n",
       "        vertical-align: top;\n",
       "    }\n",
       "\n",
       "    .dataframe thead th {\n",
       "        text-align: right;\n",
       "    }\n",
       "</style>\n",
       "<table border=\"1\" class=\"dataframe\">\n",
       "  <thead>\n",
       "    <tr style=\"text-align: right;\">\n",
       "      <th></th>\n",
       "      <th>ID</th>\n",
       "      <th>name</th>\n",
       "      <th>category</th>\n",
       "      <th>main_category</th>\n",
       "      <th>currency</th>\n",
       "      <th>deadline</th>\n",
       "      <th>goal</th>\n",
       "      <th>launched</th>\n",
       "      <th>pledged</th>\n",
       "      <th>state</th>\n",
       "      <th>backers</th>\n",
       "      <th>country</th>\n",
       "      <th>usd pledged</th>\n",
       "      <th>usd_pledged_real</th>\n",
       "      <th>usd_goal_real</th>\n",
       "    </tr>\n",
       "  </thead>\n",
       "  <tbody>\n",
       "    <tr>\n",
       "      <th>0</th>\n",
       "      <td>1000002330</td>\n",
       "      <td>The Songs of Adelaide &amp; Abullah</td>\n",
       "      <td>Poetry</td>\n",
       "      <td>Publishing</td>\n",
       "      <td>GBP</td>\n",
       "      <td>2015-10-09</td>\n",
       "      <td>1000.0</td>\n",
       "      <td>2015-08-11 12:12:28</td>\n",
       "      <td>0.0</td>\n",
       "      <td>failed</td>\n",
       "      <td>0</td>\n",
       "      <td>GB</td>\n",
       "      <td>0.0</td>\n",
       "      <td>0.0</td>\n",
       "      <td>1533.95</td>\n",
       "    </tr>\n",
       "    <tr>\n",
       "      <th>1</th>\n",
       "      <td>1000003930</td>\n",
       "      <td>Greeting From Earth: ZGAC Arts Capsule For ET</td>\n",
       "      <td>Narrative Film</td>\n",
       "      <td>Film &amp; Video</td>\n",
       "      <td>USD</td>\n",
       "      <td>2017-11-01</td>\n",
       "      <td>30000.0</td>\n",
       "      <td>2017-09-02 04:43:57</td>\n",
       "      <td>2421.0</td>\n",
       "      <td>failed</td>\n",
       "      <td>15</td>\n",
       "      <td>US</td>\n",
       "      <td>100.0</td>\n",
       "      <td>2421.0</td>\n",
       "      <td>30000.00</td>\n",
       "    </tr>\n",
       "    <tr>\n",
       "      <th>2</th>\n",
       "      <td>1000004038</td>\n",
       "      <td>Where is Hank?</td>\n",
       "      <td>Narrative Film</td>\n",
       "      <td>Film &amp; Video</td>\n",
       "      <td>USD</td>\n",
       "      <td>2013-02-26</td>\n",
       "      <td>45000.0</td>\n",
       "      <td>2013-01-12 00:20:50</td>\n",
       "      <td>220.0</td>\n",
       "      <td>failed</td>\n",
       "      <td>3</td>\n",
       "      <td>US</td>\n",
       "      <td>220.0</td>\n",
       "      <td>220.0</td>\n",
       "      <td>45000.00</td>\n",
       "    </tr>\n",
       "    <tr>\n",
       "      <th>3</th>\n",
       "      <td>1000007540</td>\n",
       "      <td>ToshiCapital Rekordz Needs Help to Complete Album</td>\n",
       "      <td>Music</td>\n",
       "      <td>Music</td>\n",
       "      <td>USD</td>\n",
       "      <td>2012-04-16</td>\n",
       "      <td>5000.0</td>\n",
       "      <td>2012-03-17 03:24:11</td>\n",
       "      <td>1.0</td>\n",
       "      <td>failed</td>\n",
       "      <td>1</td>\n",
       "      <td>US</td>\n",
       "      <td>1.0</td>\n",
       "      <td>1.0</td>\n",
       "      <td>5000.00</td>\n",
       "    </tr>\n",
       "    <tr>\n",
       "      <th>4</th>\n",
       "      <td>1000011046</td>\n",
       "      <td>Community Film Project: The Art of Neighborhoo...</td>\n",
       "      <td>Film &amp; Video</td>\n",
       "      <td>Film &amp; Video</td>\n",
       "      <td>USD</td>\n",
       "      <td>2015-08-29</td>\n",
       "      <td>19500.0</td>\n",
       "      <td>2015-07-04 08:35:03</td>\n",
       "      <td>1283.0</td>\n",
       "      <td>canceled</td>\n",
       "      <td>14</td>\n",
       "      <td>US</td>\n",
       "      <td>1283.0</td>\n",
       "      <td>1283.0</td>\n",
       "      <td>19500.00</td>\n",
       "    </tr>\n",
       "  </tbody>\n",
       "</table>\n",
       "</div>"
      ],
      "text/plain": [
       "           ID                                               name  \\\n",
       "0  1000002330                    The Songs of Adelaide & Abullah   \n",
       "1  1000003930      Greeting From Earth: ZGAC Arts Capsule For ET   \n",
       "2  1000004038                                     Where is Hank?   \n",
       "3  1000007540  ToshiCapital Rekordz Needs Help to Complete Album   \n",
       "4  1000011046  Community Film Project: The Art of Neighborhoo...   \n",
       "\n",
       "         category main_category currency    deadline     goal  \\\n",
       "0          Poetry    Publishing      GBP  2015-10-09   1000.0   \n",
       "1  Narrative Film  Film & Video      USD  2017-11-01  30000.0   \n",
       "2  Narrative Film  Film & Video      USD  2013-02-26  45000.0   \n",
       "3           Music         Music      USD  2012-04-16   5000.0   \n",
       "4    Film & Video  Film & Video      USD  2015-08-29  19500.0   \n",
       "\n",
       "              launched  pledged     state  backers country  usd pledged  \\\n",
       "0  2015-08-11 12:12:28      0.0    failed        0      GB          0.0   \n",
       "1  2017-09-02 04:43:57   2421.0    failed       15      US        100.0   \n",
       "2  2013-01-12 00:20:50    220.0    failed        3      US        220.0   \n",
       "3  2012-03-17 03:24:11      1.0    failed        1      US          1.0   \n",
       "4  2015-07-04 08:35:03   1283.0  canceled       14      US       1283.0   \n",
       "\n",
       "   usd_pledged_real  usd_goal_real  \n",
       "0               0.0        1533.95  \n",
       "1            2421.0       30000.00  \n",
       "2             220.0       45000.00  \n",
       "3               1.0        5000.00  \n",
       "4            1283.0       19500.00  "
      ]
     },
     "execution_count": 82,
     "metadata": {},
     "output_type": "execute_result"
    }
   ],
   "source": [
    "df = pd.read_csv('ks-projects-201801.csv')\n",
    "df.head()"
   ]
  },
  {
   "cell_type": "markdown",
   "id": "986f12b2",
   "metadata": {},
   "source": [
    "## Explorasi Data"
   ]
  },
  {
   "cell_type": "code",
   "execution_count": 83,
   "id": "199cf524",
   "metadata": {},
   "outputs": [
    {
     "data": {
      "text/plain": [
       "(378661, 15)"
      ]
     },
     "execution_count": 83,
     "metadata": {},
     "output_type": "execute_result"
    }
   ],
   "source": [
    "df.shape #mengetahui jumlah index dan column"
   ]
  },
  {
   "cell_type": "code",
   "execution_count": 84,
   "id": "c24a6038",
   "metadata": {},
   "outputs": [
    {
     "data": {
      "text/plain": [
       "ID                     0\n",
       "name                   4\n",
       "category               0\n",
       "main_category          0\n",
       "currency               0\n",
       "deadline               0\n",
       "goal                   0\n",
       "launched               0\n",
       "pledged                0\n",
       "state                  0\n",
       "backers                0\n",
       "country                0\n",
       "usd pledged         3797\n",
       "usd_pledged_real       0\n",
       "usd_goal_real          0\n",
       "dtype: int64"
      ]
     },
     "execution_count": 84,
     "metadata": {},
     "output_type": "execute_result"
    }
   ],
   "source": [
    "df.isnull().sum() #cek index yang kosong"
   ]
  },
  {
   "cell_type": "code",
   "execution_count": 85,
   "id": "12f8d0aa",
   "metadata": {},
   "outputs": [
    {
     "data": {
      "text/plain": [
       "main_category\n",
       "Art             28153\n",
       "Comics          10819\n",
       "Crafts           8809\n",
       "Dance            3768\n",
       "Design          30070\n",
       "Fashion         22816\n",
       "Film & Video    63585\n",
       "Food            24602\n",
       "Games           35231\n",
       "Journalism       4755\n",
       "Music           51918\n",
       "Photography     10779\n",
       "Publishing      39874\n",
       "Technology      32569\n",
       "Theater         10913\n",
       "Name: usd_pledged_real, dtype: int64"
      ]
     },
     "execution_count": 85,
     "metadata": {},
     "output_type": "execute_result"
    }
   ],
   "source": [
    "#melihat mean dari setiap main category\n",
    "df.groupby('main_category')['usd_pledged_real'].count()"
   ]
  },
  {
   "cell_type": "code",
   "execution_count": 86,
   "id": "35a799b5",
   "metadata": {
    "scrolled": true
   },
   "outputs": [
    {
     "data": {
      "text/html": [
       "<div>\n",
       "<style scoped>\n",
       "    .dataframe tbody tr th:only-of-type {\n",
       "        vertical-align: middle;\n",
       "    }\n",
       "\n",
       "    .dataframe tbody tr th {\n",
       "        vertical-align: top;\n",
       "    }\n",
       "\n",
       "    .dataframe thead tr th {\n",
       "        text-align: left;\n",
       "    }\n",
       "\n",
       "    .dataframe thead tr:last-of-type th {\n",
       "        text-align: right;\n",
       "    }\n",
       "</style>\n",
       "<table border=\"1\" class=\"dataframe\">\n",
       "  <thead>\n",
       "    <tr>\n",
       "      <th></th>\n",
       "      <th colspan=\"8\" halign=\"left\">ID</th>\n",
       "      <th colspan=\"2\" halign=\"left\">goal</th>\n",
       "      <th>...</th>\n",
       "      <th colspan=\"2\" halign=\"left\">usd_pledged_real</th>\n",
       "      <th colspan=\"8\" halign=\"left\">usd_goal_real</th>\n",
       "    </tr>\n",
       "    <tr>\n",
       "      <th></th>\n",
       "      <th>count</th>\n",
       "      <th>mean</th>\n",
       "      <th>std</th>\n",
       "      <th>min</th>\n",
       "      <th>25%</th>\n",
       "      <th>50%</th>\n",
       "      <th>75%</th>\n",
       "      <th>max</th>\n",
       "      <th>count</th>\n",
       "      <th>mean</th>\n",
       "      <th>...</th>\n",
       "      <th>75%</th>\n",
       "      <th>max</th>\n",
       "      <th>count</th>\n",
       "      <th>mean</th>\n",
       "      <th>std</th>\n",
       "      <th>min</th>\n",
       "      <th>25%</th>\n",
       "      <th>50%</th>\n",
       "      <th>75%</th>\n",
       "      <th>max</th>\n",
       "    </tr>\n",
       "    <tr>\n",
       "      <th>state</th>\n",
       "      <th></th>\n",
       "      <th></th>\n",
       "      <th></th>\n",
       "      <th></th>\n",
       "      <th></th>\n",
       "      <th></th>\n",
       "      <th></th>\n",
       "      <th></th>\n",
       "      <th></th>\n",
       "      <th></th>\n",
       "      <th></th>\n",
       "      <th></th>\n",
       "      <th></th>\n",
       "      <th></th>\n",
       "      <th></th>\n",
       "      <th></th>\n",
       "      <th></th>\n",
       "      <th></th>\n",
       "      <th></th>\n",
       "      <th></th>\n",
       "      <th></th>\n",
       "    </tr>\n",
       "  </thead>\n",
       "  <tbody>\n",
       "    <tr>\n",
       "      <th>canceled</th>\n",
       "      <td>38779.0</td>\n",
       "      <td>1.076086e+09</td>\n",
       "      <td>6.192748e+08</td>\n",
       "      <td>92158.0</td>\n",
       "      <td>5.409772e+08</td>\n",
       "      <td>1.079424e+09</td>\n",
       "      <td>1.611351e+09</td>\n",
       "      <td>2.147388e+09</td>\n",
       "      <td>38779.0</td>\n",
       "      <td>86193.059649</td>\n",
       "      <td>...</td>\n",
       "      <td>906.5350</td>\n",
       "      <td>1076751.05</td>\n",
       "      <td>38779.0</td>\n",
       "      <td>75579.415376</td>\n",
       "      <td>1.281389e+06</td>\n",
       "      <td>0.01</td>\n",
       "      <td>3290.0900</td>\n",
       "      <td>10000.000</td>\n",
       "      <td>30000.000</td>\n",
       "      <td>1.000000e+08</td>\n",
       "    </tr>\n",
       "    <tr>\n",
       "      <th>failed</th>\n",
       "      <td>197719.0</td>\n",
       "      <td>1.074639e+09</td>\n",
       "      <td>6.192215e+08</td>\n",
       "      <td>5971.0</td>\n",
       "      <td>5.385642e+08</td>\n",
       "      <td>1.073242e+09</td>\n",
       "      <td>1.611052e+09</td>\n",
       "      <td>2.147467e+09</td>\n",
       "      <td>197719.0</td>\n",
       "      <td>67346.845539</td>\n",
       "      <td>...</td>\n",
       "      <td>663.0000</td>\n",
       "      <td>757352.94</td>\n",
       "      <td>197719.0</td>\n",
       "      <td>63174.742222</td>\n",
       "      <td>1.435683e+06</td>\n",
       "      <td>0.15</td>\n",
       "      <td>2500.0000</td>\n",
       "      <td>7500.000</td>\n",
       "      <td>20000.000</td>\n",
       "      <td>1.663614e+08</td>\n",
       "    </tr>\n",
       "    <tr>\n",
       "      <th>live</th>\n",
       "      <td>2799.0</td>\n",
       "      <td>1.084275e+09</td>\n",
       "      <td>6.123351e+08</td>\n",
       "      <td>511375.0</td>\n",
       "      <td>5.753541e+08</td>\n",
       "      <td>1.074350e+09</td>\n",
       "      <td>1.610678e+09</td>\n",
       "      <td>2.146469e+09</td>\n",
       "      <td>2799.0</td>\n",
       "      <td>76762.393355</td>\n",
       "      <td>...</td>\n",
       "      <td>1798.0000</td>\n",
       "      <td>724423.80</td>\n",
       "      <td>2799.0</td>\n",
       "      <td>62535.280915</td>\n",
       "      <td>1.875468e+06</td>\n",
       "      <td>1.00</td>\n",
       "      <td>2052.6800</td>\n",
       "      <td>6547.090</td>\n",
       "      <td>18505.490</td>\n",
       "      <td>9.900000e+07</td>\n",
       "    </tr>\n",
       "    <tr>\n",
       "      <th>successful</th>\n",
       "      <td>133956.0</td>\n",
       "      <td>1.073727e+09</td>\n",
       "      <td>6.191514e+08</td>\n",
       "      <td>21109.0</td>\n",
       "      <td>5.354443e+08</td>\n",
       "      <td>1.076595e+09</td>\n",
       "      <td>1.608161e+09</td>\n",
       "      <td>2.147476e+09</td>\n",
       "      <td>133956.0</td>\n",
       "      <td>10162.960544</td>\n",
       "      <td>...</td>\n",
       "      <td>13232.0750</td>\n",
       "      <td>20338986.27</td>\n",
       "      <td>133956.0</td>\n",
       "      <td>9532.853357</td>\n",
       "      <td>2.796144e+04</td>\n",
       "      <td>0.01</td>\n",
       "      <td>1301.9150</td>\n",
       "      <td>3837.740</td>\n",
       "      <td>10000.000</td>\n",
       "      <td>2.015609e+06</td>\n",
       "    </tr>\n",
       "    <tr>\n",
       "      <th>suspended</th>\n",
       "      <td>1846.0</td>\n",
       "      <td>1.094302e+09</td>\n",
       "      <td>6.150032e+08</td>\n",
       "      <td>560661.0</td>\n",
       "      <td>5.799523e+08</td>\n",
       "      <td>1.099296e+09</td>\n",
       "      <td>1.624866e+09</td>\n",
       "      <td>2.147267e+09</td>\n",
       "      <td>1846.0</td>\n",
       "      <td>181370.796858</td>\n",
       "      <td>...</td>\n",
       "      <td>1354.9750</td>\n",
       "      <td>4005111.42</td>\n",
       "      <td>1846.0</td>\n",
       "      <td>175208.010265</td>\n",
       "      <td>3.444548e+06</td>\n",
       "      <td>0.58</td>\n",
       "      <td>1000.0000</td>\n",
       "      <td>5000.000</td>\n",
       "      <td>20000.000</td>\n",
       "      <td>1.000000e+08</td>\n",
       "    </tr>\n",
       "    <tr>\n",
       "      <th>undefined</th>\n",
       "      <td>3562.0</td>\n",
       "      <td>1.085224e+09</td>\n",
       "      <td>6.145164e+08</td>\n",
       "      <td>629014.0</td>\n",
       "      <td>5.575375e+08</td>\n",
       "      <td>1.078597e+09</td>\n",
       "      <td>1.613349e+09</td>\n",
       "      <td>2.147454e+09</td>\n",
       "      <td>3562.0</td>\n",
       "      <td>4405.393599</td>\n",
       "      <td>...</td>\n",
       "      <td>3931.4975</td>\n",
       "      <td>14997.93</td>\n",
       "      <td>3562.0</td>\n",
       "      <td>4103.022038</td>\n",
       "      <td>2.792085e+03</td>\n",
       "      <td>85.28</td>\n",
       "      <td>2238.5975</td>\n",
       "      <td>3530.425</td>\n",
       "      <td>5038.165</td>\n",
       "      <td>7.735747e+04</td>\n",
       "    </tr>\n",
       "  </tbody>\n",
       "</table>\n",
       "<p>6 rows × 56 columns</p>\n",
       "</div>"
      ],
      "text/plain": [
       "                  ID                                                      \\\n",
       "               count          mean           std       min           25%   \n",
       "state                                                                      \n",
       "canceled     38779.0  1.076086e+09  6.192748e+08   92158.0  5.409772e+08   \n",
       "failed      197719.0  1.074639e+09  6.192215e+08    5971.0  5.385642e+08   \n",
       "live          2799.0  1.084275e+09  6.123351e+08  511375.0  5.753541e+08   \n",
       "successful  133956.0  1.073727e+09  6.191514e+08   21109.0  5.354443e+08   \n",
       "suspended     1846.0  1.094302e+09  6.150032e+08  560661.0  5.799523e+08   \n",
       "undefined     3562.0  1.085224e+09  6.145164e+08  629014.0  5.575375e+08   \n",
       "\n",
       "                                                          goal                 \\\n",
       "                     50%           75%           max     count           mean   \n",
       "state                                                                           \n",
       "canceled    1.079424e+09  1.611351e+09  2.147388e+09   38779.0   86193.059649   \n",
       "failed      1.073242e+09  1.611052e+09  2.147467e+09  197719.0   67346.845539   \n",
       "live        1.074350e+09  1.610678e+09  2.146469e+09    2799.0   76762.393355   \n",
       "successful  1.076595e+09  1.608161e+09  2.147476e+09  133956.0   10162.960544   \n",
       "suspended   1.099296e+09  1.624866e+09  2.147267e+09    1846.0  181370.796858   \n",
       "undefined   1.078597e+09  1.613349e+09  2.147454e+09    3562.0    4405.393599   \n",
       "\n",
       "            ... usd_pledged_real              usd_goal_real                 \\\n",
       "            ...              75%          max         count           mean   \n",
       "state       ...                                                              \n",
       "canceled    ...         906.5350   1076751.05       38779.0   75579.415376   \n",
       "failed      ...         663.0000    757352.94      197719.0   63174.742222   \n",
       "live        ...        1798.0000    724423.80        2799.0   62535.280915   \n",
       "successful  ...       13232.0750  20338986.27      133956.0    9532.853357   \n",
       "suspended   ...        1354.9750   4005111.42        1846.0  175208.010265   \n",
       "undefined   ...        3931.4975     14997.93        3562.0    4103.022038   \n",
       "\n",
       "                                                                                \n",
       "                     std    min        25%        50%        75%           max  \n",
       "state                                                                           \n",
       "canceled    1.281389e+06   0.01  3290.0900  10000.000  30000.000  1.000000e+08  \n",
       "failed      1.435683e+06   0.15  2500.0000   7500.000  20000.000  1.663614e+08  \n",
       "live        1.875468e+06   1.00  2052.6800   6547.090  18505.490  9.900000e+07  \n",
       "successful  2.796144e+04   0.01  1301.9150   3837.740  10000.000  2.015609e+06  \n",
       "suspended   3.444548e+06   0.58  1000.0000   5000.000  20000.000  1.000000e+08  \n",
       "undefined   2.792085e+03  85.28  2238.5975   3530.425   5038.165  7.735747e+04  \n",
       "\n",
       "[6 rows x 56 columns]"
      ]
     },
     "execution_count": 86,
     "metadata": {},
     "output_type": "execute_result"
    }
   ],
   "source": [
    "#menampilkan info statistik deksriptif \n",
    "df.groupby('state').describe()"
   ]
  },
  {
   "cell_type": "markdown",
   "id": "f7d46816",
   "metadata": {},
   "source": [
    "## Data Cleansing"
   ]
  },
  {
   "cell_type": "markdown",
   "id": "d4daf15e",
   "metadata": {},
   "source": [
    "Dalam Case Notebook ini, fokus membandingkan projek yang sukses pada 2 main_category dengan nilai pada sd_pledged real.\\\n",
    "Untuk mengukur central tendency, perhitungan usd_pledged_real memasukkan semua main_category"
   ]
  },
  {
   "cell_type": "code",
   "execution_count": 87,
   "id": "17b94e56",
   "metadata": {
    "scrolled": false
   },
   "outputs": [
    {
     "data": {
      "text/html": [
       "<div>\n",
       "<style scoped>\n",
       "    .dataframe tbody tr th:only-of-type {\n",
       "        vertical-align: middle;\n",
       "    }\n",
       "\n",
       "    .dataframe tbody tr th {\n",
       "        vertical-align: top;\n",
       "    }\n",
       "\n",
       "    .dataframe thead th {\n",
       "        text-align: right;\n",
       "    }\n",
       "</style>\n",
       "<table border=\"1\" class=\"dataframe\">\n",
       "  <thead>\n",
       "    <tr style=\"text-align: right;\">\n",
       "      <th></th>\n",
       "      <th>ID</th>\n",
       "      <th>name</th>\n",
       "      <th>category</th>\n",
       "      <th>main_category</th>\n",
       "      <th>currency</th>\n",
       "      <th>deadline</th>\n",
       "      <th>goal</th>\n",
       "      <th>launched</th>\n",
       "      <th>pledged</th>\n",
       "      <th>state</th>\n",
       "      <th>backers</th>\n",
       "      <th>country</th>\n",
       "      <th>usd pledged</th>\n",
       "      <th>usd_pledged_real</th>\n",
       "      <th>usd_goal_real</th>\n",
       "    </tr>\n",
       "  </thead>\n",
       "  <tbody>\n",
       "    <tr>\n",
       "      <th>166851</th>\n",
       "      <td>1848699072</td>\n",
       "      <td>NaN</td>\n",
       "      <td>Narrative Film</td>\n",
       "      <td>Film &amp; Video</td>\n",
       "      <td>USD</td>\n",
       "      <td>2012-02-29</td>\n",
       "      <td>200000.0</td>\n",
       "      <td>2012-01-01 12:35:31</td>\n",
       "      <td>100.0</td>\n",
       "      <td>failed</td>\n",
       "      <td>1</td>\n",
       "      <td>US</td>\n",
       "      <td>100.00</td>\n",
       "      <td>100.00</td>\n",
       "      <td>200000.00</td>\n",
       "    </tr>\n",
       "    <tr>\n",
       "      <th>307234</th>\n",
       "      <td>634871725</td>\n",
       "      <td>NaN</td>\n",
       "      <td>Video Games</td>\n",
       "      <td>Games</td>\n",
       "      <td>GBP</td>\n",
       "      <td>2013-01-06</td>\n",
       "      <td>2000.0</td>\n",
       "      <td>2012-12-19 23:57:48</td>\n",
       "      <td>196.0</td>\n",
       "      <td>failed</td>\n",
       "      <td>12</td>\n",
       "      <td>GB</td>\n",
       "      <td>317.73</td>\n",
       "      <td>316.05</td>\n",
       "      <td>3224.97</td>\n",
       "    </tr>\n",
       "    <tr>\n",
       "      <th>309991</th>\n",
       "      <td>648853978</td>\n",
       "      <td>NaN</td>\n",
       "      <td>Product Design</td>\n",
       "      <td>Design</td>\n",
       "      <td>USD</td>\n",
       "      <td>2016-07-18</td>\n",
       "      <td>2500.0</td>\n",
       "      <td>2016-06-18 05:01:47</td>\n",
       "      <td>0.0</td>\n",
       "      <td>suspended</td>\n",
       "      <td>0</td>\n",
       "      <td>US</td>\n",
       "      <td>0.00</td>\n",
       "      <td>0.00</td>\n",
       "      <td>2500.00</td>\n",
       "    </tr>\n",
       "    <tr>\n",
       "      <th>338931</th>\n",
       "      <td>796533179</td>\n",
       "      <td>NaN</td>\n",
       "      <td>Painting</td>\n",
       "      <td>Art</td>\n",
       "      <td>USD</td>\n",
       "      <td>2011-12-05</td>\n",
       "      <td>35000.0</td>\n",
       "      <td>2011-11-06 23:55:55</td>\n",
       "      <td>220.0</td>\n",
       "      <td>failed</td>\n",
       "      <td>5</td>\n",
       "      <td>US</td>\n",
       "      <td>220.00</td>\n",
       "      <td>220.00</td>\n",
       "      <td>35000.00</td>\n",
       "    </tr>\n",
       "  </tbody>\n",
       "</table>\n",
       "</div>"
      ],
      "text/plain": [
       "                ID name        category main_category currency    deadline  \\\n",
       "166851  1848699072  NaN  Narrative Film  Film & Video      USD  2012-02-29   \n",
       "307234   634871725  NaN     Video Games         Games      GBP  2013-01-06   \n",
       "309991   648853978  NaN  Product Design        Design      USD  2016-07-18   \n",
       "338931   796533179  NaN        Painting           Art      USD  2011-12-05   \n",
       "\n",
       "            goal             launched  pledged      state  backers country  \\\n",
       "166851  200000.0  2012-01-01 12:35:31    100.0     failed        1      US   \n",
       "307234    2000.0  2012-12-19 23:57:48    196.0     failed       12      GB   \n",
       "309991    2500.0  2016-06-18 05:01:47      0.0  suspended        0      US   \n",
       "338931   35000.0  2011-11-06 23:55:55    220.0     failed        5      US   \n",
       "\n",
       "        usd pledged  usd_pledged_real  usd_goal_real  \n",
       "166851       100.00            100.00      200000.00  \n",
       "307234       317.73            316.05        3224.97  \n",
       "309991         0.00              0.00        2500.00  \n",
       "338931       220.00            220.00       35000.00  "
      ]
     },
     "execution_count": 87,
     "metadata": {},
     "output_type": "execute_result"
    }
   ],
   "source": [
    "#setelah didapat ada index nama yang kosong pada query sebelumnya, akan dilakukan pengecekan ulang.\n",
    "df[df['name'].isna()]"
   ]
  },
  {
   "cell_type": "code",
   "execution_count": 88,
   "id": "18fea770",
   "metadata": {},
   "outputs": [],
   "source": [
    "#kemudian 4 index tersebut di drop pada df yang sama\n",
    "df.drop(df[df['name'].isna()].index, inplace=True)"
   ]
  },
  {
   "cell_type": "code",
   "execution_count": 89,
   "id": "135d9ddc",
   "metadata": {},
   "outputs": [
    {
     "data": {
      "text/html": [
       "<div>\n",
       "<style scoped>\n",
       "    .dataframe tbody tr th:only-of-type {\n",
       "        vertical-align: middle;\n",
       "    }\n",
       "\n",
       "    .dataframe tbody tr th {\n",
       "        vertical-align: top;\n",
       "    }\n",
       "\n",
       "    .dataframe thead th {\n",
       "        text-align: right;\n",
       "    }\n",
       "</style>\n",
       "<table border=\"1\" class=\"dataframe\">\n",
       "  <thead>\n",
       "    <tr style=\"text-align: right;\">\n",
       "      <th></th>\n",
       "      <th>ID</th>\n",
       "      <th>name</th>\n",
       "      <th>category</th>\n",
       "      <th>main_category</th>\n",
       "      <th>currency</th>\n",
       "      <th>deadline</th>\n",
       "      <th>goal</th>\n",
       "      <th>launched</th>\n",
       "      <th>pledged</th>\n",
       "      <th>state</th>\n",
       "      <th>backers</th>\n",
       "      <th>country</th>\n",
       "      <th>usd pledged</th>\n",
       "      <th>usd_pledged_real</th>\n",
       "      <th>usd_goal_real</th>\n",
       "    </tr>\n",
       "  </thead>\n",
       "  <tbody>\n",
       "  </tbody>\n",
       "</table>\n",
       "</div>"
      ],
      "text/plain": [
       "Empty DataFrame\n",
       "Columns: [ID, name, category, main_category, currency, deadline, goal, launched, pledged, state, backers, country, usd pledged, usd_pledged_real, usd_goal_real]\n",
       "Index: []"
      ]
     },
     "execution_count": 89,
     "metadata": {},
     "output_type": "execute_result"
    }
   ],
   "source": [
    "#pengecekan ulang apakah sudah berhasil terhapus apa belum\n",
    "df[df['name'].isna()]"
   ]
  },
  {
   "cell_type": "code",
   "execution_count": 90,
   "id": "9343177d",
   "metadata": {},
   "outputs": [
    {
     "data": {
      "text/plain": [
       "244701"
      ]
     },
     "execution_count": 90,
     "metadata": {},
     "output_type": "execute_result"
    }
   ],
   "source": [
    "#pengecekan jumlah index yang tidak sukses, yang kemudian akan di exclude di df2\n",
    "df[(df['state'] == 'successful') == False].shape[0]"
   ]
  },
  {
   "cell_type": "code",
   "execution_count": 91,
   "id": "c89d2686",
   "metadata": {},
   "outputs": [],
   "source": [
    "#memindahkan data yang digunakan ke df2\n",
    "df2 = df.drop(df[(df['state'] == 'successful') == False].index)"
   ]
  },
  {
   "cell_type": "code",
   "execution_count": 92,
   "id": "82417f2c",
   "metadata": {},
   "outputs": [],
   "source": [
    "#melakukan drop berbagai kolom yang tidak digunakan\n",
    "to_drop = ['ID','category', 'state', 'currency', 'deadline','goal',\n",
    "            'launched','pledged', 'country', 'backers','usd pledged', 'usd_goal_real']\n",
    "\n",
    "\n",
    "df2.drop(to_drop, axis=1, inplace=True)"
   ]
  },
  {
   "cell_type": "code",
   "execution_count": 93,
   "id": "5aa1d2d1",
   "metadata": {},
   "outputs": [
    {
     "data": {
      "text/plain": [
       "main_category\n",
       "Art              6971.894850\n",
       "Comics          11385.660235\n",
       "Crafts           5629.696889\n",
       "Dance            5194.016121\n",
       "Design          62858.524147\n",
       "Fashion         20286.555534\n",
       "Film & Video    13951.872429\n",
       "Food            17349.390516\n",
       "Games           54228.755136\n",
       "Journalism      10344.950316\n",
       "Music            7338.132395\n",
       "Photography     10111.690306\n",
       "Publishing       9436.910726\n",
       "Technology      93085.762218\n",
       "Theater          5973.134904\n",
       "Name: usd_pledged_real, dtype: float64"
      ]
     },
     "execution_count": 93,
     "metadata": {},
     "output_type": "execute_result"
    }
   ],
   "source": [
    "#menampilkan mean usd_pledged_real pada setiap main_category\n",
    "df2.groupby('main_category')['usd_pledged_real'].mean()"
   ]
  },
  {
   "cell_type": "code",
   "execution_count": 94,
   "id": "ae31f03b",
   "metadata": {},
   "outputs": [
    {
     "data": {
      "text/plain": [
       "main_category\n",
       "Art              33621.791990\n",
       "Comics           32370.823714\n",
       "Crafts           14975.392246\n",
       "Dance             6621.864866\n",
       "Design          359087.262447\n",
       "Fashion          57724.185925\n",
       "Film & Video     66624.369579\n",
       "Food             60771.046745\n",
       "Games           279199.045246\n",
       "Journalism       19341.659647\n",
       "Music            17969.707902\n",
       "Photography      33475.460024\n",
       "Publishing       25375.652585\n",
       "Technology      266480.114135\n",
       "Theater          12739.644747\n",
       "Name: usd_pledged_real, dtype: float64"
      ]
     },
     "execution_count": 94,
     "metadata": {},
     "output_type": "execute_result"
    }
   ],
   "source": [
    "df2.groupby('main_category')['usd_pledged_real'].std()"
   ]
  },
  {
   "cell_type": "code",
   "execution_count": 95,
   "id": "c92d407f",
   "metadata": {},
   "outputs": [
    {
     "data": {
      "text/plain": [
       "(133956, 3)"
      ]
     },
     "execution_count": 95,
     "metadata": {},
     "output_type": "execute_result"
    }
   ],
   "source": [
    "#menampilkan jumlah index dan column di df2\n",
    "df2.shape"
   ]
  },
  {
   "cell_type": "code",
   "execution_count": 96,
   "id": "2607d4b1",
   "metadata": {},
   "outputs": [
    {
     "data": {
      "text/plain": [
       "name                 object\n",
       "main_category        object\n",
       "usd_pledged_real    float64\n",
       "dtype: object"
      ]
     },
     "execution_count": 96,
     "metadata": {},
     "output_type": "execute_result"
    }
   ],
   "source": [
    "df2.dtypes"
   ]
  },
  {
   "cell_type": "code",
   "execution_count": 97,
   "id": "04bc866c",
   "metadata": {},
   "outputs": [
    {
     "data": {
      "text/html": [
       "<div>\n",
       "<style scoped>\n",
       "    .dataframe tbody tr th:only-of-type {\n",
       "        vertical-align: middle;\n",
       "    }\n",
       "\n",
       "    .dataframe tbody tr th {\n",
       "        vertical-align: top;\n",
       "    }\n",
       "\n",
       "    .dataframe thead th {\n",
       "        text-align: right;\n",
       "    }\n",
       "</style>\n",
       "<table border=\"1\" class=\"dataframe\">\n",
       "  <thead>\n",
       "    <tr style=\"text-align: right;\">\n",
       "      <th></th>\n",
       "      <th>name</th>\n",
       "      <th>main_category</th>\n",
       "      <th>usd_pledged_real</th>\n",
       "    </tr>\n",
       "  </thead>\n",
       "  <tbody>\n",
       "    <tr>\n",
       "      <th>5</th>\n",
       "      <td>Monarch Espresso Bar</td>\n",
       "      <td>Food</td>\n",
       "      <td>52375.00</td>\n",
       "    </tr>\n",
       "    <tr>\n",
       "      <th>6</th>\n",
       "      <td>Support Solar Roasted Coffee &amp; Green Energy!  ...</td>\n",
       "      <td>Food</td>\n",
       "      <td>1205.00</td>\n",
       "    </tr>\n",
       "    <tr>\n",
       "      <th>11</th>\n",
       "      <td>Lisa Lim New CD!</td>\n",
       "      <td>Music</td>\n",
       "      <td>12700.00</td>\n",
       "    </tr>\n",
       "    <tr>\n",
       "      <th>14</th>\n",
       "      <td>Tombstone: Old West tabletop game and miniatur...</td>\n",
       "      <td>Games</td>\n",
       "      <td>121857.33</td>\n",
       "    </tr>\n",
       "    <tr>\n",
       "      <th>18</th>\n",
       "      <td>Mike Corey's Darkness &amp; Light Album</td>\n",
       "      <td>Music</td>\n",
       "      <td>250.00</td>\n",
       "    </tr>\n",
       "  </tbody>\n",
       "</table>\n",
       "</div>"
      ],
      "text/plain": [
       "                                                 name main_category  \\\n",
       "5                                Monarch Espresso Bar          Food   \n",
       "6   Support Solar Roasted Coffee & Green Energy!  ...          Food   \n",
       "11                                   Lisa Lim New CD!         Music   \n",
       "14  Tombstone: Old West tabletop game and miniatur...         Games   \n",
       "18                Mike Corey's Darkness & Light Album         Music   \n",
       "\n",
       "    usd_pledged_real  \n",
       "5           52375.00  \n",
       "6            1205.00  \n",
       "11          12700.00  \n",
       "14         121857.33  \n",
       "18            250.00  "
      ]
     },
     "execution_count": 97,
     "metadata": {},
     "output_type": "execute_result"
    }
   ],
   "source": [
    "#menampilkan data yang digunakan untuk proses selanjutnya\n",
    "df2.head()"
   ]
  },
  {
   "cell_type": "markdown",
   "id": "bc904fea",
   "metadata": {},
   "source": [
    "## Measure of Central Tendency"
   ]
  },
  {
   "cell_type": "code",
   "execution_count": 98,
   "id": "fb38bab4",
   "metadata": {},
   "outputs": [
    {
     "name": "stdout",
     "output_type": "stream",
     "text": [
      "Min:0.79\n",
      "Mode:1000.0\n",
      "Median:5107.25\n",
      "Mean:22670.795231195676\n",
      "Max:20338986.27\n"
     ]
    }
   ],
   "source": [
    "print('Min:' + str(df2['usd_pledged_real'].min()))\n",
    "print('Mode:' + str(df2['usd_pledged_real'].mode()[0]))\n",
    "print('Median:' + str(df2['usd_pledged_real'].median()))\n",
    "print('Mean:' + str(df2['usd_pledged_real'].mean()))\n",
    "print('Max:' + str(df2['usd_pledged_real'].max()))"
   ]
  },
  {
   "cell_type": "markdown",
   "id": "1c7bf5cf",
   "metadata": {},
   "source": [
    "## Measure of Variance"
   ]
  },
  {
   "cell_type": "code",
   "execution_count": 99,
   "id": "9bd82134",
   "metadata": {},
   "outputs": [
    {
     "name": "stdout",
     "output_type": "stream",
     "text": [
      "Std Deviation:151090.3233521527\n",
      "Range:20338985.48\n",
      "Variance:22828285810.658066\n"
     ]
    }
   ],
   "source": [
    "print('Std Deviation:' + str(df2['usd_pledged_real'].std()))\n",
    "print('Range:' + str((df2['usd_pledged_real'].max()) - (df2['usd_pledged_real'].min())))\n",
    "print('Variance:' + str(df2['usd_pledged_real'].var()))"
   ]
  },
  {
   "cell_type": "markdown",
   "id": "e7f7d0d1",
   "metadata": {},
   "source": [
    "## Hypothesis Testing"
   ]
  },
  {
   "cell_type": "markdown",
   "id": "97ef3166",
   "metadata": {},
   "source": [
    "Karena membandingkan antara dua main category, maka akan dilakukan two-sample t test"
   ]
  },
  {
   "cell_type": "markdown",
   "id": "50a05773",
   "metadata": {},
   "source": [
    "h0:μMusic-μDance=0\\\n",
    "ha:μMusic-μDance≠0"
   ]
  },
  {
   "cell_type": "code",
   "execution_count": 100,
   "id": "b2465db0",
   "metadata": {},
   "outputs": [
    {
     "name": "stdout",
     "output_type": "stream",
     "text": [
      "music sample mean:9970.259037821688\n",
      "dance sample mean:5204.735030656946\n"
     ]
    }
   ],
   "source": [
    "np.random.seed(200)\n",
    "music = np.random.normal(7338.132395, 17969.707902, 100)\n",
    "dance = np.random.normal(5194.016121, 6621.864866, 100)\n",
    "print(\"music sample mean:\" + str(music.mean()))\n",
    "print(\"dance sample mean:\" + str(dance.mean()))"
   ]
  },
  {
   "cell_type": "code",
   "execution_count": 101,
   "id": "5fa72f4c",
   "metadata": {},
   "outputs": [
    {
     "name": "stdout",
     "output_type": "stream",
     "text": [
      "t-statistic:-2.576592304417014\n",
      "p-value:0.005727\n"
     ]
    }
   ],
   "source": [
    "# Paired (related) test\n",
    "t,p = stats.ttest_rel(dance, music)\n",
    "# ttest_rel is 2-tailed, so half the resulting p-value to get a 1-tailed p-value\n",
    "p1 = '%f' % (p/2)\n",
    "print(\"t-statistic:\" + str(t))\n",
    "print(\"p-value:\" + str(p1))\n",
    "pop = np.random.normal(music.mean(), music.std(), 100000)"
   ]
  },
  {
   "cell_type": "markdown",
   "id": "efc6cee2",
   "metadata": {},
   "source": [
    "## Confidence Interval"
   ]
  },
  {
   "cell_type": "markdown",
   "id": "521ed2ea",
   "metadata": {},
   "source": [
    "Menghitung 90%Confidence interval, alpha=0.1"
   ]
  },
  {
   "cell_type": "code",
   "execution_count": 102,
   "id": "3f6546c5",
   "metadata": {
    "scrolled": true
   },
   "outputs": [
    {
     "name": "stdout",
     "output_type": "stream",
     "text": [
      "(-20568.544885140655, 40509.062960784024)\n"
     ]
    }
   ],
   "source": [
    "ci = stats.norm.interval(0.90, music.mean(), music.std())\n",
    "print(ci)"
   ]
  },
  {
   "cell_type": "code",
   "execution_count": 103,
   "id": "30ae7321",
   "metadata": {
    "scrolled": true
   },
   "outputs": [
    {
     "data": {
      "image/png": "[encoded data removed]",
      "text/plain": [
       "<Figure size 432x288 with 1 Axes>"
      ]
     },
     "metadata": {
      "needs_background": "light"
     },
     "output_type": "display_data"
    }
   ],
   "source": [
    "plt.hist(pop, bins=100)\n",
    "# show the hypothesized population mean\n",
    "plt.axvline(pop.mean(), color='yellow', linestyle='dashed', linewidth=2)\n",
    "# show the right-tail confidence interval threshold - 5% of propbability is under the curve to the right of this.\n",
    "plt.axvline(ci[1], color='red', linestyle='dashed', linewidth=2)\n",
    "# show the t-statistic - the p-value is the area under the curve to the right of this\n",
    "plt.axvline(pop.mean() + t*pop.std(), color='magenta', linestyle='dashed', linewidth=2)\n",
    "plt.show()"
   ]
  },
  {
   "cell_type": "markdown",
   "id": "d0d0a5ee",
   "metadata": {},
   "source": [
    "Hasil Intepretasi\\\n",
    "P-value dibawah α, artinya harus reject the null hypotesis dan mengambil kesimpulan main category Music greater than dance.\\\n",
    "Accept Ha"
   ]
  },
  {
   "cell_type": "markdown",
   "id": "633d2d61",
   "metadata": {},
   "source": [
    "## Pengambilan Keputusan"
   ]
  },
  {
   "cell_type": "markdown",
   "id": "b4408b9a",
   "metadata": {},
   "source": [
    "-Setelah uji hipotesis, saya memberikan rekomendasi kepada influencer tersebut untuk membuat project Music\n"
   ]
  }
 ],
 "metadata": {
  "kernelspec": {
   "display_name": "Python 3",
   "language": "python",
   "name": "python3"
  },
  "language_info": {
   "codemirror_mode": {
    "name": "ipython",
    "version": 3
   },
   "file_extension": ".py",
   "mimetype": "text/x-python",
   "name": "python",
   "nbconvert_exporter": "python",
   "pygments_lexer": "ipython3",
   "version": "3.8.8"
  }
 },
 "nbformat": 4,
 "nbformat_minor": 5
}
