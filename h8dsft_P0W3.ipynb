{
 "cells": [
  {
   "cell_type": "markdown",
   "metadata": {
    "toc": true
   },
   "source": [
    "<h1>Table of Contents<span class=\"tocSkip\"></span></h1>\n",
    "<div class=\"toc\"><ul class=\"toc-item\"><li><span><a href=\"#Introduction\" data-toc-modified-id=\"Introduction-1\"><span class=\"toc-item-num\">1&nbsp;&nbsp;</span>Introduction</a></span><ul class=\"toc-item\"><li><span><a href=\"#Dataset-Description\" data-toc-modified-id=\"Dataset-Description-1.1\"><span class=\"toc-item-num\">1.1&nbsp;&nbsp;</span>Dataset Description</a></span></li><li><span><a href=\"#Objective\" data-toc-modified-id=\"Objective-1.2\"><span class=\"toc-item-num\">1.2&nbsp;&nbsp;</span>Objective</a></span></li></ul></li><li><span><a href=\"#Import-Library\" data-toc-modified-id=\"Import-Library-2\"><span class=\"toc-item-num\">2&nbsp;&nbsp;</span>Import Library</a></span></li><li><span><a href=\"#Data-Loading\" data-toc-modified-id=\"Data-Loading-3\"><span class=\"toc-item-num\">3&nbsp;&nbsp;</span>Data Loading</a></span><ul class=\"toc-item\"><li><span><a href=\"#Dataset-Exploration\" data-toc-modified-id=\"Dataset-Exploration-3.1\"><span class=\"toc-item-num\">3.1&nbsp;&nbsp;</span>Dataset Exploration</a></span></li></ul></li><li><span><a href=\"#Data-Cleaning\" data-toc-modified-id=\"Data-Cleaning-4\"><span class=\"toc-item-num\">4&nbsp;&nbsp;</span>Data Cleaning</a></span><ul class=\"toc-item\"><li><span><a href=\"#Handling-Missing-Values\" data-toc-modified-id=\"Handling-Missing-Values-4.1\"><span class=\"toc-item-num\">4.1&nbsp;&nbsp;</span>Handling Missing Values</a></span><ul class=\"toc-item\"><li><span><a href=\"#&quot;name&quot;-Column\" data-toc-modified-id=\"&quot;name&quot;-Column-4.1.1\"><span class=\"toc-item-num\">4.1.1&nbsp;&nbsp;</span>\"name\" Column</a></span></li><li><span><a href=\"#&quot;usd-pleged&quot;-Column\" data-toc-modified-id=\"&quot;usd-pleged&quot;-Column-4.1.2\"><span class=\"toc-item-num\">4.1.2&nbsp;&nbsp;</span>\"usd pleged\" Column</a></span></li></ul></li><li><span><a href=\"#Check-for-Duplicate-Data\" data-toc-modified-id=\"Check-for-Duplicate-Data-4.2\"><span class=\"toc-item-num\">4.2&nbsp;&nbsp;</span>Check for Duplicate Data</a></span></li><li><span><a href=\"#Rename-Columns\" data-toc-modified-id=\"Rename-Columns-4.3\"><span class=\"toc-item-num\">4.3&nbsp;&nbsp;</span>Rename Columns</a></span></li><li><span><a href=\"#Handling-Invalid-Value\" data-toc-modified-id=\"Handling-Invalid-Value-4.4\"><span class=\"toc-item-num\">4.4&nbsp;&nbsp;</span>Handling Invalid Value</a></span></li><li><span><a href=\"#Drop-Columns\" data-toc-modified-id=\"Drop-Columns-4.5\"><span class=\"toc-item-num\">4.5&nbsp;&nbsp;</span>Drop Columns</a></span></li><li><span><a href=\"#Convert-Dtype\" data-toc-modified-id=\"Convert-Dtype-4.6\"><span class=\"toc-item-num\">4.6&nbsp;&nbsp;</span>Convert Dtype</a></span></li></ul></li><li><span><a href=\"#Data-Exploration\" data-toc-modified-id=\"Data-Exploration-5\"><span class=\"toc-item-num\">5&nbsp;&nbsp;</span>Data Exploration</a></span></li><li><span><a href=\"#Measure-of-Central-Tendency\" data-toc-modified-id=\"Measure-of-Central-Tendency-6\"><span class=\"toc-item-num\">6&nbsp;&nbsp;</span>Measure of Central Tendency</a></span><ul class=\"toc-item\"><li><span><a href=\"#Mean-&amp;-Median\" data-toc-modified-id=\"Mean-&amp;-Median-6.1\"><span class=\"toc-item-num\">6.1&nbsp;&nbsp;</span>Mean &amp; Median</a></span></li><li><span><a href=\"#Mode\" data-toc-modified-id=\"Mode-6.2\"><span class=\"toc-item-num\">6.2&nbsp;&nbsp;</span>Mode</a></span></li></ul></li><li><span><a href=\"#Measure-of-Variance\" data-toc-modified-id=\"Measure-of-Variance-7\"><span class=\"toc-item-num\">7&nbsp;&nbsp;</span>Measure of Variance</a></span><ul class=\"toc-item\"><li><ul class=\"toc-item\"><li><span><a href=\"#Range\" data-toc-modified-id=\"Range-7.0.1\"><span class=\"toc-item-num\">7.0.1&nbsp;&nbsp;</span>Range</a></span></li><li><span><a href=\"#Quartiles\" data-toc-modified-id=\"Quartiles-7.0.2\"><span class=\"toc-item-num\">7.0.2&nbsp;&nbsp;</span>Quartiles</a></span></li><li><span><a href=\"#Outliers\" data-toc-modified-id=\"Outliers-7.0.3\"><span class=\"toc-item-num\">7.0.3&nbsp;&nbsp;</span>Outliers</a></span></li><li><span><a href=\"#Variance-&amp;-Standard-Deviation\" data-toc-modified-id=\"Variance-&amp;-Standard-Deviation-7.0.4\"><span class=\"toc-item-num\">7.0.4&nbsp;&nbsp;</span>Variance &amp; Standard Deviation</a></span></li></ul></li></ul></li><li><span><a href=\"#Hyphothesis-Testing\" data-toc-modified-id=\"Hyphothesis-Testing-8\"><span class=\"toc-item-num\">8&nbsp;&nbsp;</span>Hyphothesis Testing</a></span><ul class=\"toc-item\"><li><span><a href=\"#Preparing-Data-for-Testing\" data-toc-modified-id=\"Preparing-Data-for-Testing-8.1\"><span class=\"toc-item-num\">8.1&nbsp;&nbsp;</span>Preparing Data for Testing</a></span></li><li><span><a href=\"#Hypothesis-Test\" data-toc-modified-id=\"Hypothesis-Test-8.2\"><span class=\"toc-item-num\">8.2&nbsp;&nbsp;</span>Hypothesis Test</a></span></li><li><span><a href=\"#Confidence-Interval\" data-toc-modified-id=\"Confidence-Interval-8.3\"><span class=\"toc-item-num\">8.3&nbsp;&nbsp;</span>Confidence Interval</a></span></li><li><span><a href=\"#Sanity-Check\" data-toc-modified-id=\"Sanity-Check-8.4\"><span class=\"toc-item-num\">8.4&nbsp;&nbsp;</span>Sanity Check</a></span></li></ul></li><li><span><a href=\"#Conclusion\" data-toc-modified-id=\"Conclusion-9\"><span class=\"toc-item-num\">9&nbsp;&nbsp;</span>Conclusion</a></span></li></ul></div>"
   ]
  },
  {
   "cell_type": "markdown",
   "metadata": {},
   "source": [
    "# Introduction"
   ]
  },
  {
   "cell_type": "markdown",
   "metadata": {},
   "source": [
    "Graded Challenge 3 Assignment by **[Fadilah Nur Imani](https://github.com/imfdlh)**.\n",
    "<br>\n",
    "**Class/Batch:** FTDS/001."
   ]
  },
  {
   "cell_type": "markdown",
   "metadata": {
    "ExecuteTime": {
     "end_time": "2021-07-22T06:56:09.363689Z",
     "start_time": "2021-07-22T06:56:09.360278Z"
    }
   },
   "source": [
    "## Dataset Description"
   ]
  },
  {
   "cell_type": "markdown",
   "metadata": {},
   "source": [
    "Data are collected from Kickstarter Platform.\n",
    "\n",
    "Columns are self explanatory except:\n",
    "\n",
    "- usd_pledged: conversion in US dollars of the pledged column (conversion done by kickstarter).\n",
    "\n",
    "- usd pledge real: conversion in US dollars of the pledged column (conversion from Fixer.io API).\n",
    "\n",
    "- usd goal real: conversion in US dollars of the goal column (conversion from Fixer.io API).\n",
    "\n",
    "usd conversion (usdpledgedreal and usdgoalreal columns) were generated from convert ks pledges to usd script done by tonyplaysguitar\n",
    "\n",
    "Source: <a href=\"https://www.kaggle.com/kemical/kickstarter-projects?select=ks-projects-201801.csv\"> Kickstarter Projects - Kaggle</a>"
   ]
  },
  {
   "cell_type": "markdown",
   "metadata": {
    "ExecuteTime": {
     "end_time": "2021-07-21T15:20:20.509412Z",
     "start_time": "2021-07-21T15:20:20.506423Z"
    }
   },
   "source": [
    "## Objective"
   ]
  },
  {
   "cell_type": "markdown",
   "metadata": {
    "ExecuteTime": {
     "end_time": "2021-07-22T13:35:38.199230Z",
     "start_time": "2021-07-22T13:35:37.944912Z"
    }
   },
   "source": [
    "- This analysis will be focused on samples that comes from the USA or country = \"US\" and the successful projects.\n",
    "- Based on the previous condition, we will do a hypothesis testing on which of the two main categories of the projects that have the great amount of pledged is higher and whether it's statistically significant or not."
   ]
  },
  {
   "cell_type": "markdown",
   "metadata": {},
   "source": [
    "# Import Library"
   ]
  },
  {
   "cell_type": "code",
   "execution_count": 1,
   "metadata": {
    "ExecuteTime": {
     "end_time": "2021-07-22T19:56:42.903994Z",
     "start_time": "2021-07-22T19:56:41.364851Z"
    }
   },
   "outputs": [],
   "source": [
    "import pandas as pd\n",
    "import numpy as np\n",
    "from scipy import stats\n",
    "import matplotlib.pyplot as plt\n",
    "plt.style.use(\"fivethirtyeight\")"
   ]
  },
  {
   "cell_type": "markdown",
   "metadata": {},
   "source": [
    "# Data Loading"
   ]
  },
  {
   "cell_type": "code",
   "execution_count": 2,
   "metadata": {
    "ExecuteTime": {
     "end_time": "2021-07-22T19:56:44.571668Z",
     "start_time": "2021-07-22T19:56:42.906987Z"
    },
    "scrolled": true
   },
   "outputs": [
    {
     "name": "stdout",
     "output_type": "stream",
     "text": [
      "(378661, 15)\n"
     ]
    },
    {
     "data": {
      "text/html": [
       "<div>\n",
       "<style scoped>\n",
       "    .dataframe tbody tr th:only-of-type {\n",
       "        vertical-align: middle;\n",
       "    }\n",
       "\n",
       "    .dataframe tbody tr th {\n",
       "        vertical-align: top;\n",
       "    }\n",
       "\n",
       "    .dataframe thead th {\n",
       "        text-align: right;\n",
       "    }\n",
       "</style>\n",
       "<table border=\"1\" class=\"dataframe\">\n",
       "  <thead>\n",
       "    <tr style=\"text-align: right;\">\n",
       "      <th></th>\n",
       "      <th>ID</th>\n",
       "      <th>name</th>\n",
       "      <th>category</th>\n",
       "      <th>main_category</th>\n",
       "      <th>currency</th>\n",
       "      <th>deadline</th>\n",
       "      <th>goal</th>\n",
       "      <th>launched</th>\n",
       "      <th>pledged</th>\n",
       "      <th>state</th>\n",
       "      <th>backers</th>\n",
       "      <th>country</th>\n",
       "      <th>usd pledged</th>\n",
       "      <th>usd_pledged_real</th>\n",
       "      <th>usd_goal_real</th>\n",
       "    </tr>\n",
       "  </thead>\n",
       "  <tbody>\n",
       "    <tr>\n",
       "      <th>0</th>\n",
       "      <td>1000002330</td>\n",
       "      <td>The Songs of Adelaide &amp; Abullah</td>\n",
       "      <td>Poetry</td>\n",
       "      <td>Publishing</td>\n",
       "      <td>GBP</td>\n",
       "      <td>2015-10-09</td>\n",
       "      <td>1000.0</td>\n",
       "      <td>2015-08-11 12:12:28</td>\n",
       "      <td>0.0</td>\n",
       "      <td>failed</td>\n",
       "      <td>0</td>\n",
       "      <td>GB</td>\n",
       "      <td>0.0</td>\n",
       "      <td>0.0</td>\n",
       "      <td>1533.95</td>\n",
       "    </tr>\n",
       "  </tbody>\n",
       "</table>\n",
       "</div>"
      ],
      "text/plain": [
       "           ID                             name category main_category  \\\n",
       "0  1000002330  The Songs of Adelaide & Abullah   Poetry    Publishing   \n",
       "\n",
       "  currency    deadline    goal             launched  pledged   state  backers  \\\n",
       "0      GBP  2015-10-09  1000.0  2015-08-11 12:12:28      0.0  failed        0   \n",
       "\n",
       "  country  usd pledged  usd_pledged_real  usd_goal_real  \n",
       "0      GB          0.0               0.0        1533.95  "
      ]
     },
     "execution_count": 2,
     "metadata": {},
     "output_type": "execute_result"
    }
   ],
   "source": [
    "data = pd.read_csv(\"data/ks-projects-201801.csv\")\n",
    "print(data.shape)\n",
    "data.head(1)"
   ]
  },
  {
   "cell_type": "markdown",
   "metadata": {
    "ExecuteTime": {
     "end_time": "2021-07-20T18:24:51.822128Z",
     "start_time": "2021-07-20T18:24:51.819138Z"
    }
   },
   "source": [
    "## Dataset Exploration"
   ]
  },
  {
   "cell_type": "code",
   "execution_count": 3,
   "metadata": {
    "ExecuteTime": {
     "end_time": "2021-07-22T19:56:44.775671Z",
     "start_time": "2021-07-22T19:56:44.574661Z"
    }
   },
   "outputs": [
    {
     "name": "stdout",
     "output_type": "stream",
     "text": [
      "<class 'pandas.core.frame.DataFrame'>\n",
      "RangeIndex: 378661 entries, 0 to 378660\n",
      "Data columns (total 15 columns):\n",
      " #   Column            Non-Null Count   Dtype  \n",
      "---  ------            --------------   -----  \n",
      " 0   ID                378661 non-null  int64  \n",
      " 1   name              378657 non-null  object \n",
      " 2   category          378661 non-null  object \n",
      " 3   main_category     378661 non-null  object \n",
      " 4   currency          378661 non-null  object \n",
      " 5   deadline          378661 non-null  object \n",
      " 6   goal              378661 non-null  float64\n",
      " 7   launched          378661 non-null  object \n",
      " 8   pledged           378661 non-null  float64\n",
      " 9   state             378661 non-null  object \n",
      " 10  backers           378661 non-null  int64  \n",
      " 11  country           378661 non-null  object \n",
      " 12  usd pledged       374864 non-null  float64\n",
      " 13  usd_pledged_real  378661 non-null  float64\n",
      " 14  usd_goal_real     378661 non-null  float64\n",
      "dtypes: float64(5), int64(2), object(8)\n",
      "memory usage: 43.3+ MB\n"
     ]
    }
   ],
   "source": [
    "data.info()"
   ]
  },
  {
   "cell_type": "code",
   "execution_count": 4,
   "metadata": {
    "ExecuteTime": {
     "end_time": "2021-07-22T19:56:44.957693Z",
     "start_time": "2021-07-22T19:56:44.777666Z"
    }
   },
   "outputs": [
    {
     "data": {
      "text/html": [
       "<div>\n",
       "<style scoped>\n",
       "    .dataframe tbody tr th:only-of-type {\n",
       "        vertical-align: middle;\n",
       "    }\n",
       "\n",
       "    .dataframe tbody tr th {\n",
       "        vertical-align: top;\n",
       "    }\n",
       "\n",
       "    .dataframe thead th {\n",
       "        text-align: right;\n",
       "    }\n",
       "</style>\n",
       "<table border=\"1\" class=\"dataframe\">\n",
       "  <thead>\n",
       "    <tr style=\"text-align: right;\">\n",
       "      <th></th>\n",
       "      <th>count</th>\n",
       "      <th>mean</th>\n",
       "      <th>std</th>\n",
       "      <th>min</th>\n",
       "      <th>25%</th>\n",
       "      <th>50%</th>\n",
       "      <th>75%</th>\n",
       "      <th>max</th>\n",
       "    </tr>\n",
       "  </thead>\n",
       "  <tbody>\n",
       "    <tr>\n",
       "      <th>ID</th>\n",
       "      <td>378661.0</td>\n",
       "      <td>1.074731e+09</td>\n",
       "      <td>6.190862e+08</td>\n",
       "      <td>5971.00</td>\n",
       "      <td>5.382635e+08</td>\n",
       "      <td>1.075276e+09</td>\n",
       "      <td>1.610149e+09</td>\n",
       "      <td>2.147476e+09</td>\n",
       "    </tr>\n",
       "    <tr>\n",
       "      <th>goal</th>\n",
       "      <td>378661.0</td>\n",
       "      <td>4.908079e+04</td>\n",
       "      <td>1.183391e+06</td>\n",
       "      <td>0.01</td>\n",
       "      <td>2.000000e+03</td>\n",
       "      <td>5.200000e+03</td>\n",
       "      <td>1.600000e+04</td>\n",
       "      <td>1.000000e+08</td>\n",
       "    </tr>\n",
       "    <tr>\n",
       "      <th>pledged</th>\n",
       "      <td>378661.0</td>\n",
       "      <td>9.682979e+03</td>\n",
       "      <td>9.563601e+04</td>\n",
       "      <td>0.00</td>\n",
       "      <td>3.000000e+01</td>\n",
       "      <td>6.200000e+02</td>\n",
       "      <td>4.076000e+03</td>\n",
       "      <td>2.033899e+07</td>\n",
       "    </tr>\n",
       "    <tr>\n",
       "      <th>backers</th>\n",
       "      <td>378661.0</td>\n",
       "      <td>1.056175e+02</td>\n",
       "      <td>9.071850e+02</td>\n",
       "      <td>0.00</td>\n",
       "      <td>2.000000e+00</td>\n",
       "      <td>1.200000e+01</td>\n",
       "      <td>5.600000e+01</td>\n",
       "      <td>2.193820e+05</td>\n",
       "    </tr>\n",
       "    <tr>\n",
       "      <th>usd pledged</th>\n",
       "      <td>374864.0</td>\n",
       "      <td>7.036729e+03</td>\n",
       "      <td>7.863975e+04</td>\n",
       "      <td>0.00</td>\n",
       "      <td>1.698000e+01</td>\n",
       "      <td>3.947200e+02</td>\n",
       "      <td>3.034090e+03</td>\n",
       "      <td>2.033899e+07</td>\n",
       "    </tr>\n",
       "    <tr>\n",
       "      <th>usd_pledged_real</th>\n",
       "      <td>378661.0</td>\n",
       "      <td>9.058924e+03</td>\n",
       "      <td>9.097334e+04</td>\n",
       "      <td>0.00</td>\n",
       "      <td>3.100000e+01</td>\n",
       "      <td>6.243300e+02</td>\n",
       "      <td>4.050000e+03</td>\n",
       "      <td>2.033899e+07</td>\n",
       "    </tr>\n",
       "    <tr>\n",
       "      <th>usd_goal_real</th>\n",
       "      <td>378661.0</td>\n",
       "      <td>4.545440e+04</td>\n",
       "      <td>1.152950e+06</td>\n",
       "      <td>0.01</td>\n",
       "      <td>2.000000e+03</td>\n",
       "      <td>5.500000e+03</td>\n",
       "      <td>1.550000e+04</td>\n",
       "      <td>1.663614e+08</td>\n",
       "    </tr>\n",
       "  </tbody>\n",
       "</table>\n",
       "</div>"
      ],
      "text/plain": [
       "                     count          mean           std      min           25%  \\\n",
       "ID                378661.0  1.074731e+09  6.190862e+08  5971.00  5.382635e+08   \n",
       "goal              378661.0  4.908079e+04  1.183391e+06     0.01  2.000000e+03   \n",
       "pledged           378661.0  9.682979e+03  9.563601e+04     0.00  3.000000e+01   \n",
       "backers           378661.0  1.056175e+02  9.071850e+02     0.00  2.000000e+00   \n",
       "usd pledged       374864.0  7.036729e+03  7.863975e+04     0.00  1.698000e+01   \n",
       "usd_pledged_real  378661.0  9.058924e+03  9.097334e+04     0.00  3.100000e+01   \n",
       "usd_goal_real     378661.0  4.545440e+04  1.152950e+06     0.01  2.000000e+03   \n",
       "\n",
       "                           50%           75%           max  \n",
       "ID                1.075276e+09  1.610149e+09  2.147476e+09  \n",
       "goal              5.200000e+03  1.600000e+04  1.000000e+08  \n",
       "pledged           6.200000e+02  4.076000e+03  2.033899e+07  \n",
       "backers           1.200000e+01  5.600000e+01  2.193820e+05  \n",
       "usd pledged       3.947200e+02  3.034090e+03  2.033899e+07  \n",
       "usd_pledged_real  6.243300e+02  4.050000e+03  2.033899e+07  \n",
       "usd_goal_real     5.500000e+03  1.550000e+04  1.663614e+08  "
      ]
     },
     "execution_count": 4,
     "metadata": {},
     "output_type": "execute_result"
    }
   ],
   "source": [
    "data.select_dtypes(\"number\").describe().T"
   ]
  },
  {
   "cell_type": "code",
   "execution_count": 5,
   "metadata": {
    "ExecuteTime": {
     "end_time": "2021-07-22T19:56:46.203254Z",
     "start_time": "2021-07-22T19:56:44.959688Z"
    }
   },
   "outputs": [
    {
     "data": {
      "text/html": [
       "<div>\n",
       "<style scoped>\n",
       "    .dataframe tbody tr th:only-of-type {\n",
       "        vertical-align: middle;\n",
       "    }\n",
       "\n",
       "    .dataframe tbody tr th {\n",
       "        vertical-align: top;\n",
       "    }\n",
       "\n",
       "    .dataframe thead th {\n",
       "        text-align: right;\n",
       "    }\n",
       "</style>\n",
       "<table border=\"1\" class=\"dataframe\">\n",
       "  <thead>\n",
       "    <tr style=\"text-align: right;\">\n",
       "      <th></th>\n",
       "      <th>count</th>\n",
       "      <th>unique</th>\n",
       "      <th>top</th>\n",
       "      <th>freq</th>\n",
       "    </tr>\n",
       "  </thead>\n",
       "  <tbody>\n",
       "    <tr>\n",
       "      <th>name</th>\n",
       "      <td>378657</td>\n",
       "      <td>375764</td>\n",
       "      <td>New EP/Music Development</td>\n",
       "      <td>41</td>\n",
       "    </tr>\n",
       "    <tr>\n",
       "      <th>category</th>\n",
       "      <td>378661</td>\n",
       "      <td>159</td>\n",
       "      <td>Product Design</td>\n",
       "      <td>22314</td>\n",
       "    </tr>\n",
       "    <tr>\n",
       "      <th>main_category</th>\n",
       "      <td>378661</td>\n",
       "      <td>15</td>\n",
       "      <td>Film &amp; Video</td>\n",
       "      <td>63585</td>\n",
       "    </tr>\n",
       "    <tr>\n",
       "      <th>currency</th>\n",
       "      <td>378661</td>\n",
       "      <td>14</td>\n",
       "      <td>USD</td>\n",
       "      <td>295365</td>\n",
       "    </tr>\n",
       "    <tr>\n",
       "      <th>deadline</th>\n",
       "      <td>378661</td>\n",
       "      <td>3164</td>\n",
       "      <td>2014-08-08</td>\n",
       "      <td>705</td>\n",
       "    </tr>\n",
       "    <tr>\n",
       "      <th>launched</th>\n",
       "      <td>378661</td>\n",
       "      <td>378089</td>\n",
       "      <td>1970-01-01 01:00:00</td>\n",
       "      <td>7</td>\n",
       "    </tr>\n",
       "    <tr>\n",
       "      <th>state</th>\n",
       "      <td>378661</td>\n",
       "      <td>6</td>\n",
       "      <td>failed</td>\n",
       "      <td>197719</td>\n",
       "    </tr>\n",
       "    <tr>\n",
       "      <th>country</th>\n",
       "      <td>378661</td>\n",
       "      <td>23</td>\n",
       "      <td>US</td>\n",
       "      <td>292627</td>\n",
       "    </tr>\n",
       "  </tbody>\n",
       "</table>\n",
       "</div>"
      ],
      "text/plain": [
       "                count  unique                       top    freq\n",
       "name           378657  375764  New EP/Music Development      41\n",
       "category       378661     159            Product Design   22314\n",
       "main_category  378661      15              Film & Video   63585\n",
       "currency       378661      14                       USD  295365\n",
       "deadline       378661    3164                2014-08-08     705\n",
       "launched       378661  378089       1970-01-01 01:00:00       7\n",
       "state          378661       6                    failed  197719\n",
       "country        378661      23                        US  292627"
      ]
     },
     "execution_count": 5,
     "metadata": {},
     "output_type": "execute_result"
    }
   ],
   "source": [
    "data.select_dtypes(object).describe().T"
   ]
  },
  {
   "cell_type": "markdown",
   "metadata": {
    "ExecuteTime": {
     "end_time": "2021-07-19T16:30:02.939549Z",
     "start_time": "2021-07-19T16:30:02.935558Z"
    }
   },
   "source": [
    "# Data Cleaning"
   ]
  },
  {
   "cell_type": "markdown",
   "metadata": {},
   "source": [
    "Check if data contains missing value."
   ]
  },
  {
   "cell_type": "code",
   "execution_count": 6,
   "metadata": {
    "ExecuteTime": {
     "end_time": "2021-07-22T19:56:46.330386Z",
     "start_time": "2021-07-22T19:56:46.205282Z"
    }
   },
   "outputs": [
    {
     "data": {
      "text/plain": [
       "ID                     0\n",
       "name                   4\n",
       "category               0\n",
       "main_category          0\n",
       "currency               0\n",
       "deadline               0\n",
       "goal                   0\n",
       "launched               0\n",
       "pledged                0\n",
       "state                  0\n",
       "backers                0\n",
       "country                0\n",
       "usd pledged         3797\n",
       "usd_pledged_real       0\n",
       "usd_goal_real          0\n",
       "dtype: int64"
      ]
     },
     "execution_count": 6,
     "metadata": {},
     "output_type": "execute_result"
    }
   ],
   "source": [
    "data.isnull().sum()"
   ]
  },
  {
   "cell_type": "markdown",
   "metadata": {
    "ExecuteTime": {
     "end_time": "2021-07-21T14:56:38.205861Z",
     "start_time": "2021-07-21T14:56:38.201876Z"
    }
   },
   "source": [
    "## Handling Missing Values"
   ]
  },
  {
   "cell_type": "markdown",
   "metadata": {
    "ExecuteTime": {
     "end_time": "2021-07-21T15:14:17.590382Z",
     "start_time": "2021-07-21T15:14:17.586367Z"
    }
   },
   "source": [
    "### \"name\" Column"
   ]
  },
  {
   "cell_type": "code",
   "execution_count": 7,
   "metadata": {
    "ExecuteTime": {
     "end_time": "2021-07-22T19:56:46.365263Z",
     "start_time": "2021-07-22T19:56:46.332351Z"
    }
   },
   "outputs": [
    {
     "data": {
      "text/html": [
       "<div>\n",
       "<style scoped>\n",
       "    .dataframe tbody tr th:only-of-type {\n",
       "        vertical-align: middle;\n",
       "    }\n",
       "\n",
       "    .dataframe tbody tr th {\n",
       "        vertical-align: top;\n",
       "    }\n",
       "\n",
       "    .dataframe thead th {\n",
       "        text-align: right;\n",
       "    }\n",
       "</style>\n",
       "<table border=\"1\" class=\"dataframe\">\n",
       "  <thead>\n",
       "    <tr style=\"text-align: right;\">\n",
       "      <th></th>\n",
       "      <th>ID</th>\n",
       "      <th>name</th>\n",
       "      <th>category</th>\n",
       "      <th>main_category</th>\n",
       "      <th>currency</th>\n",
       "      <th>deadline</th>\n",
       "      <th>goal</th>\n",
       "      <th>launched</th>\n",
       "      <th>pledged</th>\n",
       "      <th>state</th>\n",
       "      <th>backers</th>\n",
       "      <th>country</th>\n",
       "      <th>usd pledged</th>\n",
       "      <th>usd_pledged_real</th>\n",
       "      <th>usd_goal_real</th>\n",
       "    </tr>\n",
       "  </thead>\n",
       "  <tbody>\n",
       "    <tr>\n",
       "      <th>166851</th>\n",
       "      <td>1848699072</td>\n",
       "      <td>NaN</td>\n",
       "      <td>Narrative Film</td>\n",
       "      <td>Film &amp; Video</td>\n",
       "      <td>USD</td>\n",
       "      <td>2012-02-29</td>\n",
       "      <td>200000.0</td>\n",
       "      <td>2012-01-01 12:35:31</td>\n",
       "      <td>100.0</td>\n",
       "      <td>failed</td>\n",
       "      <td>1</td>\n",
       "      <td>US</td>\n",
       "      <td>100.00</td>\n",
       "      <td>100.00</td>\n",
       "      <td>200000.00</td>\n",
       "    </tr>\n",
       "    <tr>\n",
       "      <th>307234</th>\n",
       "      <td>634871725</td>\n",
       "      <td>NaN</td>\n",
       "      <td>Video Games</td>\n",
       "      <td>Games</td>\n",
       "      <td>GBP</td>\n",
       "      <td>2013-01-06</td>\n",
       "      <td>2000.0</td>\n",
       "      <td>2012-12-19 23:57:48</td>\n",
       "      <td>196.0</td>\n",
       "      <td>failed</td>\n",
       "      <td>12</td>\n",
       "      <td>GB</td>\n",
       "      <td>317.73</td>\n",
       "      <td>316.05</td>\n",
       "      <td>3224.97</td>\n",
       "    </tr>\n",
       "    <tr>\n",
       "      <th>309991</th>\n",
       "      <td>648853978</td>\n",
       "      <td>NaN</td>\n",
       "      <td>Product Design</td>\n",
       "      <td>Design</td>\n",
       "      <td>USD</td>\n",
       "      <td>2016-07-18</td>\n",
       "      <td>2500.0</td>\n",
       "      <td>2016-06-18 05:01:47</td>\n",
       "      <td>0.0</td>\n",
       "      <td>suspended</td>\n",
       "      <td>0</td>\n",
       "      <td>US</td>\n",
       "      <td>0.00</td>\n",
       "      <td>0.00</td>\n",
       "      <td>2500.00</td>\n",
       "    </tr>\n",
       "    <tr>\n",
       "      <th>338931</th>\n",
       "      <td>796533179</td>\n",
       "      <td>NaN</td>\n",
       "      <td>Painting</td>\n",
       "      <td>Art</td>\n",
       "      <td>USD</td>\n",
       "      <td>2011-12-05</td>\n",
       "      <td>35000.0</td>\n",
       "      <td>2011-11-06 23:55:55</td>\n",
       "      <td>220.0</td>\n",
       "      <td>failed</td>\n",
       "      <td>5</td>\n",
       "      <td>US</td>\n",
       "      <td>220.00</td>\n",
       "      <td>220.00</td>\n",
       "      <td>35000.00</td>\n",
       "    </tr>\n",
       "  </tbody>\n",
       "</table>\n",
       "</div>"
      ],
      "text/plain": [
       "                ID name        category main_category currency    deadline  \\\n",
       "166851  1848699072  NaN  Narrative Film  Film & Video      USD  2012-02-29   \n",
       "307234   634871725  NaN     Video Games         Games      GBP  2013-01-06   \n",
       "309991   648853978  NaN  Product Design        Design      USD  2016-07-18   \n",
       "338931   796533179  NaN        Painting           Art      USD  2011-12-05   \n",
       "\n",
       "            goal             launched  pledged      state  backers country  \\\n",
       "166851  200000.0  2012-01-01 12:35:31    100.0     failed        1      US   \n",
       "307234    2000.0  2012-12-19 23:57:48    196.0     failed       12      GB   \n",
       "309991    2500.0  2016-06-18 05:01:47      0.0  suspended        0      US   \n",
       "338931   35000.0  2011-11-06 23:55:55    220.0     failed        5      US   \n",
       "\n",
       "        usd pledged  usd_pledged_real  usd_goal_real  \n",
       "166851       100.00            100.00      200000.00  \n",
       "307234       317.73            316.05        3224.97  \n",
       "309991         0.00              0.00        2500.00  \n",
       "338931       220.00            220.00       35000.00  "
      ]
     },
     "execution_count": 7,
     "metadata": {},
     "output_type": "execute_result"
    }
   ],
   "source": [
    "data[data[\"name\"].isnull()]"
   ]
  },
  {
   "cell_type": "markdown",
   "metadata": {
    "ExecuteTime": {
     "end_time": "2021-07-21T14:59:39.981039Z",
     "start_time": "2021-07-21T14:59:39.975055Z"
    }
   },
   "source": [
    "Since the \"name\" column is not affecting the analysis process, but each row can still be a part of the observation because it doesn't have missing value on the other columns, there are two appropriate approaches to handle them:\n",
    "1. Fill in with mode\n",
    "2. Treat them as a new category.\n",
    "\n",
    "As for this column, i will create the missing value as new category \"unknown\"."
   ]
  },
  {
   "cell_type": "code",
   "execution_count": 8,
   "metadata": {
    "ExecuteTime": {
     "end_time": "2021-07-22T19:56:46.391873Z",
     "start_time": "2021-07-22T19:56:46.367845Z"
    }
   },
   "outputs": [],
   "source": [
    "data[\"name\"].fillna(\"Unknown\", inplace = True)"
   ]
  },
  {
   "cell_type": "code",
   "execution_count": 9,
   "metadata": {
    "ExecuteTime": {
     "end_time": "2021-07-22T19:56:46.420714Z",
     "start_time": "2021-07-22T19:56:46.394775Z"
    }
   },
   "outputs": [
    {
     "data": {
      "text/plain": [
       "False"
      ]
     },
     "execution_count": 9,
     "metadata": {},
     "output_type": "execute_result"
    }
   ],
   "source": [
    "data[\"name\"].isnull().any()"
   ]
  },
  {
   "cell_type": "markdown",
   "metadata": {
    "ExecuteTime": {
     "end_time": "2021-07-21T15:14:46.140295Z",
     "start_time": "2021-07-21T15:14:46.136272Z"
    }
   },
   "source": [
    "### \"usd pleged\" Column"
   ]
  },
  {
   "cell_type": "markdown",
   "metadata": {},
   "source": [
    "usd_pledged: conversion in US dollars of the pledged column (conversion done by kickstarter).\n",
    "\n",
    "usd pledge real: conversion in US dollars of the pledged column (conversion from Fixer.io API)."
   ]
  },
  {
   "cell_type": "markdown",
   "metadata": {
    "ExecuteTime": {
     "end_time": "2021-07-22T06:49:31.917428Z",
     "start_time": "2021-07-22T06:49:31.910447Z"
    }
   },
   "source": [
    "As for usd pledged, because it's similar and represented in usd_pledged_real column, we will dropt the column."
   ]
  },
  {
   "cell_type": "code",
   "execution_count": 10,
   "metadata": {
    "ExecuteTime": {
     "end_time": "2021-07-22T19:56:46.446647Z",
     "start_time": "2021-07-22T19:56:46.422710Z"
    }
   },
   "outputs": [
    {
     "data": {
      "text/html": [
       "<div>\n",
       "<style scoped>\n",
       "    .dataframe tbody tr th:only-of-type {\n",
       "        vertical-align: middle;\n",
       "    }\n",
       "\n",
       "    .dataframe tbody tr th {\n",
       "        vertical-align: top;\n",
       "    }\n",
       "\n",
       "    .dataframe thead th {\n",
       "        text-align: right;\n",
       "    }\n",
       "</style>\n",
       "<table border=\"1\" class=\"dataframe\">\n",
       "  <thead>\n",
       "    <tr style=\"text-align: right;\">\n",
       "      <th></th>\n",
       "      <th>ID</th>\n",
       "      <th>name</th>\n",
       "      <th>category</th>\n",
       "      <th>main_category</th>\n",
       "      <th>currency</th>\n",
       "      <th>deadline</th>\n",
       "      <th>goal</th>\n",
       "      <th>launched</th>\n",
       "      <th>pledged</th>\n",
       "      <th>state</th>\n",
       "      <th>backers</th>\n",
       "      <th>country</th>\n",
       "      <th>usd pledged</th>\n",
       "      <th>usd_pledged_real</th>\n",
       "      <th>usd_goal_real</th>\n",
       "    </tr>\n",
       "  </thead>\n",
       "  <tbody>\n",
       "    <tr>\n",
       "      <th>169</th>\n",
       "      <td>1000694855</td>\n",
       "      <td>STREETFIGHTERZ WHEELIE MURICA</td>\n",
       "      <td>Film &amp; Video</td>\n",
       "      <td>Film &amp; Video</td>\n",
       "      <td>USD</td>\n",
       "      <td>2014-09-20</td>\n",
       "      <td>6500.0</td>\n",
       "      <td>2014-08-06 21:28:36</td>\n",
       "      <td>555.0</td>\n",
       "      <td>undefined</td>\n",
       "      <td>0</td>\n",
       "      <td>N,0\"</td>\n",
       "      <td>NaN</td>\n",
       "      <td>555.00</td>\n",
       "      <td>6500.00</td>\n",
       "    </tr>\n",
       "    <tr>\n",
       "      <th>328</th>\n",
       "      <td>100149523</td>\n",
       "      <td>Duncan Woods - Chameleon EP</td>\n",
       "      <td>Music</td>\n",
       "      <td>Music</td>\n",
       "      <td>AUD</td>\n",
       "      <td>2015-08-25</td>\n",
       "      <td>4500.0</td>\n",
       "      <td>2015-08-04 12:05:17</td>\n",
       "      <td>4767.0</td>\n",
       "      <td>undefined</td>\n",
       "      <td>0</td>\n",
       "      <td>N,0\"</td>\n",
       "      <td>NaN</td>\n",
       "      <td>3402.08</td>\n",
       "      <td>3211.53</td>\n",
       "    </tr>\n",
       "    <tr>\n",
       "      <th>632</th>\n",
       "      <td>1003023003</td>\n",
       "      <td>The Making of Ashley Kelley's Debut Album</td>\n",
       "      <td>Music</td>\n",
       "      <td>Music</td>\n",
       "      <td>USD</td>\n",
       "      <td>2015-04-09</td>\n",
       "      <td>3500.0</td>\n",
       "      <td>2015-03-10 20:06:13</td>\n",
       "      <td>3576.0</td>\n",
       "      <td>undefined</td>\n",
       "      <td>0</td>\n",
       "      <td>N,0\"</td>\n",
       "      <td>NaN</td>\n",
       "      <td>3576.00</td>\n",
       "      <td>3500.00</td>\n",
       "    </tr>\n",
       "  </tbody>\n",
       "</table>\n",
       "</div>"
      ],
      "text/plain": [
       "             ID                                       name      category  \\\n",
       "169  1000694855              STREETFIGHTERZ WHEELIE MURICA  Film & Video   \n",
       "328   100149523                Duncan Woods - Chameleon EP         Music   \n",
       "632  1003023003  The Making of Ashley Kelley's Debut Album         Music   \n",
       "\n",
       "    main_category currency    deadline    goal             launched  pledged  \\\n",
       "169  Film & Video      USD  2014-09-20  6500.0  2014-08-06 21:28:36    555.0   \n",
       "328         Music      AUD  2015-08-25  4500.0  2015-08-04 12:05:17   4767.0   \n",
       "632         Music      USD  2015-04-09  3500.0  2015-03-10 20:06:13   3576.0   \n",
       "\n",
       "         state  backers country  usd pledged  usd_pledged_real  usd_goal_real  \n",
       "169  undefined        0    N,0\"          NaN            555.00        6500.00  \n",
       "328  undefined        0    N,0\"          NaN           3402.08        3211.53  \n",
       "632  undefined        0    N,0\"          NaN           3576.00        3500.00  "
      ]
     },
     "execution_count": 10,
     "metadata": {},
     "output_type": "execute_result"
    }
   ],
   "source": [
    "data[data[\"usd pledged\"].isnull()].head(3)"
   ]
  },
  {
   "cell_type": "code",
   "execution_count": 11,
   "metadata": {
    "ExecuteTime": {
     "end_time": "2021-07-22T19:56:46.498507Z",
     "start_time": "2021-07-22T19:56:46.448641Z"
    }
   },
   "outputs": [],
   "source": [
    "data.drop(columns = [\"usd pledged\"], inplace = True)"
   ]
  },
  {
   "cell_type": "code",
   "execution_count": 12,
   "metadata": {
    "ExecuteTime": {
     "end_time": "2021-07-22T19:56:46.670369Z",
     "start_time": "2021-07-22T19:56:46.501499Z"
    }
   },
   "outputs": [
    {
     "data": {
      "text/plain": [
       "ID                  False\n",
       "name                False\n",
       "category            False\n",
       "main_category       False\n",
       "currency            False\n",
       "deadline            False\n",
       "goal                False\n",
       "launched            False\n",
       "pledged             False\n",
       "state               False\n",
       "backers             False\n",
       "country             False\n",
       "usd_pledged_real    False\n",
       "usd_goal_real       False\n",
       "dtype: bool"
      ]
     },
     "execution_count": 12,
     "metadata": {},
     "output_type": "execute_result"
    }
   ],
   "source": [
    "data.isnull().any()"
   ]
  },
  {
   "cell_type": "markdown",
   "metadata": {
    "ExecuteTime": {
     "end_time": "2021-07-21T15:15:17.276633Z",
     "start_time": "2021-07-21T15:15:17.261097Z"
    }
   },
   "source": [
    "## Check for Duplicate Data"
   ]
  },
  {
   "cell_type": "markdown",
   "metadata": {},
   "source": [
    "Check if data contains duplicate rows."
   ]
  },
  {
   "cell_type": "code",
   "execution_count": 13,
   "metadata": {
    "ExecuteTime": {
     "end_time": "2021-07-22T19:56:46.697571Z",
     "start_time": "2021-07-22T19:56:46.672364Z"
    }
   },
   "outputs": [
    {
     "data": {
      "text/plain": [
       "False"
      ]
     },
     "execution_count": 13,
     "metadata": {},
     "output_type": "execute_result"
    }
   ],
   "source": [
    "data[\"ID\"].duplicated().any()"
   ]
  },
  {
   "cell_type": "code",
   "execution_count": 14,
   "metadata": {
    "ExecuteTime": {
     "end_time": "2021-07-22T19:56:47.298643Z",
     "start_time": "2021-07-22T19:56:46.699555Z"
    }
   },
   "outputs": [
    {
     "data": {
      "text/plain": [
       "False"
      ]
     },
     "execution_count": 14,
     "metadata": {},
     "output_type": "execute_result"
    }
   ],
   "source": [
    "data.duplicated().any()"
   ]
  },
  {
   "cell_type": "markdown",
   "metadata": {
    "ExecuteTime": {
     "end_time": "2021-07-22T07:01:01.877336Z",
     "start_time": "2021-07-22T07:01:01.873345Z"
    }
   },
   "source": [
    "## Rename Columns"
   ]
  },
  {
   "cell_type": "markdown",
   "metadata": {},
   "source": [
    "Steps:\n",
    "- set the name into lowercase form."
   ]
  },
  {
   "cell_type": "code",
   "execution_count": 15,
   "metadata": {
    "ExecuteTime": {
     "end_time": "2021-07-22T19:56:47.305635Z",
     "start_time": "2021-07-22T19:56:47.300616Z"
    }
   },
   "outputs": [
    {
     "name": "stdout",
     "output_type": "stream",
     "text": [
      "['ID', 'name', 'category', 'main_category', 'currency', 'deadline', 'goal', 'launched', 'pledged', 'state', 'backers', 'country', 'usd_pledged_real', 'usd_goal_real']\n"
     ]
    }
   ],
   "source": [
    "print(list(data.columns))"
   ]
  },
  {
   "cell_type": "code",
   "execution_count": 16,
   "metadata": {
    "ExecuteTime": {
     "end_time": "2021-07-22T19:56:47.316574Z",
     "start_time": "2021-07-22T19:56:47.307597Z"
    }
   },
   "outputs": [],
   "source": [
    "data.columns = data.columns.str.lower()"
   ]
  },
  {
   "cell_type": "code",
   "execution_count": 17,
   "metadata": {
    "ExecuteTime": {
     "end_time": "2021-07-22T19:56:47.323556Z",
     "start_time": "2021-07-22T19:56:47.318568Z"
    }
   },
   "outputs": [
    {
     "name": "stdout",
     "output_type": "stream",
     "text": [
      "['id', 'name', 'category', 'main_category', 'currency', 'deadline', 'goal', 'launched', 'pledged', 'state', 'backers', 'country', 'usd_pledged_real', 'usd_goal_real']\n"
     ]
    }
   ],
   "source": [
    "print(list(data.columns))"
   ]
  },
  {
   "cell_type": "markdown",
   "metadata": {
    "ExecuteTime": {
     "end_time": "2021-07-22T13:10:14.320163Z",
     "start_time": "2021-07-22T13:10:14.316174Z"
    }
   },
   "source": [
    "## Handling Invalid Value"
   ]
  },
  {
   "cell_type": "code",
   "execution_count": 18,
   "metadata": {
    "ExecuteTime": {
     "end_time": "2021-07-22T19:56:47.367438Z",
     "start_time": "2021-07-22T19:56:47.325549Z"
    }
   },
   "outputs": [
    {
     "data": {
      "text/plain": [
       "US      292627\n",
       "GB       33672\n",
       "CA       14756\n",
       "AU        7839\n",
       "DE        4171\n",
       "N,0\"      3797\n",
       "FR        2939\n",
       "IT        2878\n",
       "NL        2868\n",
       "ES        2276\n",
       "SE        1757\n",
       "MX        1752\n",
       "NZ        1447\n",
       "DK        1113\n",
       "IE         811\n",
       "CH         761\n",
       "NO         708\n",
       "HK         618\n",
       "BE         617\n",
       "AT         597\n",
       "SG         555\n",
       "LU          62\n",
       "JP          40\n",
       "Name: country, dtype: int64"
      ]
     },
     "execution_count": 18,
     "metadata": {},
     "output_type": "execute_result"
    }
   ],
   "source": [
    "data[\"country\"].value_counts()"
   ]
  },
  {
   "cell_type": "code",
   "execution_count": 19,
   "metadata": {
    "ExecuteTime": {
     "end_time": "2021-07-22T19:56:47.432017Z",
     "start_time": "2021-07-22T19:56:47.369433Z"
    }
   },
   "outputs": [
    {
     "data": {
      "text/html": [
       "<div>\n",
       "<style scoped>\n",
       "    .dataframe tbody tr th:only-of-type {\n",
       "        vertical-align: middle;\n",
       "    }\n",
       "\n",
       "    .dataframe tbody tr th {\n",
       "        vertical-align: top;\n",
       "    }\n",
       "\n",
       "    .dataframe thead th {\n",
       "        text-align: right;\n",
       "    }\n",
       "</style>\n",
       "<table border=\"1\" class=\"dataframe\">\n",
       "  <thead>\n",
       "    <tr style=\"text-align: right;\">\n",
       "      <th></th>\n",
       "      <th>id</th>\n",
       "      <th>name</th>\n",
       "      <th>category</th>\n",
       "      <th>main_category</th>\n",
       "      <th>currency</th>\n",
       "      <th>deadline</th>\n",
       "      <th>goal</th>\n",
       "      <th>launched</th>\n",
       "      <th>pledged</th>\n",
       "      <th>state</th>\n",
       "      <th>backers</th>\n",
       "      <th>country</th>\n",
       "      <th>usd_pledged_real</th>\n",
       "      <th>usd_goal_real</th>\n",
       "    </tr>\n",
       "  </thead>\n",
       "  <tbody>\n",
       "    <tr>\n",
       "      <th>169</th>\n",
       "      <td>1000694855</td>\n",
       "      <td>STREETFIGHTERZ WHEELIE MURICA</td>\n",
       "      <td>Film &amp; Video</td>\n",
       "      <td>Film &amp; Video</td>\n",
       "      <td>USD</td>\n",
       "      <td>2014-09-20</td>\n",
       "      <td>6500.0</td>\n",
       "      <td>2014-08-06 21:28:36</td>\n",
       "      <td>555.00</td>\n",
       "      <td>undefined</td>\n",
       "      <td>0</td>\n",
       "      <td>N,0\"</td>\n",
       "      <td>555.00</td>\n",
       "      <td>6500.00</td>\n",
       "    </tr>\n",
       "    <tr>\n",
       "      <th>328</th>\n",
       "      <td>100149523</td>\n",
       "      <td>Duncan Woods - Chameleon EP</td>\n",
       "      <td>Music</td>\n",
       "      <td>Music</td>\n",
       "      <td>AUD</td>\n",
       "      <td>2015-08-25</td>\n",
       "      <td>4500.0</td>\n",
       "      <td>2015-08-04 12:05:17</td>\n",
       "      <td>4767.00</td>\n",
       "      <td>undefined</td>\n",
       "      <td>0</td>\n",
       "      <td>N,0\"</td>\n",
       "      <td>3402.08</td>\n",
       "      <td>3211.53</td>\n",
       "    </tr>\n",
       "    <tr>\n",
       "      <th>632</th>\n",
       "      <td>1003023003</td>\n",
       "      <td>The Making of Ashley Kelley's Debut Album</td>\n",
       "      <td>Music</td>\n",
       "      <td>Music</td>\n",
       "      <td>USD</td>\n",
       "      <td>2015-04-09</td>\n",
       "      <td>3500.0</td>\n",
       "      <td>2015-03-10 20:06:13</td>\n",
       "      <td>3576.00</td>\n",
       "      <td>undefined</td>\n",
       "      <td>0</td>\n",
       "      <td>N,0\"</td>\n",
       "      <td>3576.00</td>\n",
       "      <td>3500.00</td>\n",
       "    </tr>\n",
       "    <tr>\n",
       "      <th>647</th>\n",
       "      <td>1003130892</td>\n",
       "      <td>Butter Side Down Debut Album</td>\n",
       "      <td>Music</td>\n",
       "      <td>Music</td>\n",
       "      <td>USD</td>\n",
       "      <td>2015-11-26</td>\n",
       "      <td>6000.0</td>\n",
       "      <td>2015-11-02 22:09:19</td>\n",
       "      <td>7007.80</td>\n",
       "      <td>undefined</td>\n",
       "      <td>0</td>\n",
       "      <td>N,0\"</td>\n",
       "      <td>7007.80</td>\n",
       "      <td>6000.00</td>\n",
       "    </tr>\n",
       "    <tr>\n",
       "      <th>749</th>\n",
       "      <td>1003629045</td>\n",
       "      <td>Chase Goehring debut EP</td>\n",
       "      <td>Music</td>\n",
       "      <td>Music</td>\n",
       "      <td>USD</td>\n",
       "      <td>2016-03-21</td>\n",
       "      <td>3000.0</td>\n",
       "      <td>2016-02-23 03:09:49</td>\n",
       "      <td>3660.38</td>\n",
       "      <td>undefined</td>\n",
       "      <td>0</td>\n",
       "      <td>N,0\"</td>\n",
       "      <td>3660.38</td>\n",
       "      <td>3000.00</td>\n",
       "    </tr>\n",
       "    <tr>\n",
       "      <th>...</th>\n",
       "      <td>...</td>\n",
       "      <td>...</td>\n",
       "      <td>...</td>\n",
       "      <td>...</td>\n",
       "      <td>...</td>\n",
       "      <td>...</td>\n",
       "      <td>...</td>\n",
       "      <td>...</td>\n",
       "      <td>...</td>\n",
       "      <td>...</td>\n",
       "      <td>...</td>\n",
       "      <td>...</td>\n",
       "      <td>...</td>\n",
       "      <td>...</td>\n",
       "    </tr>\n",
       "    <tr>\n",
       "      <th>378233</th>\n",
       "      <td>997971307</td>\n",
       "      <td>EQUUS International Film Festival®, all-equine...</td>\n",
       "      <td>Film &amp; Video</td>\n",
       "      <td>Film &amp; Video</td>\n",
       "      <td>USD</td>\n",
       "      <td>2015-02-03</td>\n",
       "      <td>7500.0</td>\n",
       "      <td>2014-12-05 04:19:14</td>\n",
       "      <td>10.00</td>\n",
       "      <td>undefined</td>\n",
       "      <td>0</td>\n",
       "      <td>N,0\"</td>\n",
       "      <td>10.00</td>\n",
       "      <td>7500.00</td>\n",
       "    </tr>\n",
       "    <tr>\n",
       "      <th>378303</th>\n",
       "      <td>998319149</td>\n",
       "      <td>Emily 2050 - Short Film</td>\n",
       "      <td>Film &amp; Video</td>\n",
       "      <td>Film &amp; Video</td>\n",
       "      <td>CAD</td>\n",
       "      <td>2014-05-23</td>\n",
       "      <td>3000.0</td>\n",
       "      <td>2014-04-08 00:30:09</td>\n",
       "      <td>3102.00</td>\n",
       "      <td>undefined</td>\n",
       "      <td>0</td>\n",
       "      <td>N,0\"</td>\n",
       "      <td>2845.61</td>\n",
       "      <td>2752.04</td>\n",
       "    </tr>\n",
       "    <tr>\n",
       "      <th>378434</th>\n",
       "      <td>9988744</td>\n",
       "      <td>Matthew Stephens Music</td>\n",
       "      <td>Music</td>\n",
       "      <td>Music</td>\n",
       "      <td>USD</td>\n",
       "      <td>2016-02-05</td>\n",
       "      <td>5000.0</td>\n",
       "      <td>2016-01-06 21:59:23</td>\n",
       "      <td>235.00</td>\n",
       "      <td>undefined</td>\n",
       "      <td>0</td>\n",
       "      <td>N,0\"</td>\n",
       "      <td>235.00</td>\n",
       "      <td>5000.00</td>\n",
       "    </tr>\n",
       "    <tr>\n",
       "      <th>378585</th>\n",
       "      <td>999610349</td>\n",
       "      <td>Lady Vendredi: Afrofuturist concept 12 inch EP</td>\n",
       "      <td>Music</td>\n",
       "      <td>Music</td>\n",
       "      <td>GBP</td>\n",
       "      <td>2015-10-19</td>\n",
       "      <td>2000.0</td>\n",
       "      <td>2015-09-21 22:33:18</td>\n",
       "      <td>2125.00</td>\n",
       "      <td>undefined</td>\n",
       "      <td>0</td>\n",
       "      <td>N,0\"</td>\n",
       "      <td>3273.36</td>\n",
       "      <td>3080.81</td>\n",
       "    </tr>\n",
       "    <tr>\n",
       "      <th>378588</th>\n",
       "      <td>999621278</td>\n",
       "      <td>Jeune auteur a besoin de vous!</td>\n",
       "      <td>Publishing</td>\n",
       "      <td>Publishing</td>\n",
       "      <td>EUR</td>\n",
       "      <td>2015-11-20</td>\n",
       "      <td>1600.0</td>\n",
       "      <td>2015-10-21 21:28:13</td>\n",
       "      <td>0.00</td>\n",
       "      <td>undefined</td>\n",
       "      <td>0</td>\n",
       "      <td>N,0\"</td>\n",
       "      <td>0.00</td>\n",
       "      <td>1710.08</td>\n",
       "    </tr>\n",
       "  </tbody>\n",
       "</table>\n",
       "<p>3797 rows × 14 columns</p>\n",
       "</div>"
      ],
      "text/plain": [
       "                id                                               name  \\\n",
       "169     1000694855                      STREETFIGHTERZ WHEELIE MURICA   \n",
       "328      100149523                        Duncan Woods - Chameleon EP   \n",
       "632     1003023003          The Making of Ashley Kelley's Debut Album   \n",
       "647     1003130892                       Butter Side Down Debut Album   \n",
       "749     1003629045                            Chase Goehring debut EP   \n",
       "...            ...                                                ...   \n",
       "378233   997971307  EQUUS International Film Festival®, all-equine...   \n",
       "378303   998319149                            Emily 2050 - Short Film   \n",
       "378434     9988744                             Matthew Stephens Music   \n",
       "378585   999610349     Lady Vendredi: Afrofuturist concept 12 inch EP   \n",
       "378588   999621278                     Jeune auteur a besoin de vous!   \n",
       "\n",
       "            category main_category currency    deadline    goal  \\\n",
       "169     Film & Video  Film & Video      USD  2014-09-20  6500.0   \n",
       "328            Music         Music      AUD  2015-08-25  4500.0   \n",
       "632            Music         Music      USD  2015-04-09  3500.0   \n",
       "647            Music         Music      USD  2015-11-26  6000.0   \n",
       "749            Music         Music      USD  2016-03-21  3000.0   \n",
       "...              ...           ...      ...         ...     ...   \n",
       "378233  Film & Video  Film & Video      USD  2015-02-03  7500.0   \n",
       "378303  Film & Video  Film & Video      CAD  2014-05-23  3000.0   \n",
       "378434         Music         Music      USD  2016-02-05  5000.0   \n",
       "378585         Music         Music      GBP  2015-10-19  2000.0   \n",
       "378588    Publishing    Publishing      EUR  2015-11-20  1600.0   \n",
       "\n",
       "                   launched  pledged      state  backers country  \\\n",
       "169     2014-08-06 21:28:36   555.00  undefined        0    N,0\"   \n",
       "328     2015-08-04 12:05:17  4767.00  undefined        0    N,0\"   \n",
       "632     2015-03-10 20:06:13  3576.00  undefined        0    N,0\"   \n",
       "647     2015-11-02 22:09:19  7007.80  undefined        0    N,0\"   \n",
       "749     2016-02-23 03:09:49  3660.38  undefined        0    N,0\"   \n",
       "...                     ...      ...        ...      ...     ...   \n",
       "378233  2014-12-05 04:19:14    10.00  undefined        0    N,0\"   \n",
       "378303  2014-04-08 00:30:09  3102.00  undefined        0    N,0\"   \n",
       "378434  2016-01-06 21:59:23   235.00  undefined        0    N,0\"   \n",
       "378585  2015-09-21 22:33:18  2125.00  undefined        0    N,0\"   \n",
       "378588  2015-10-21 21:28:13     0.00  undefined        0    N,0\"   \n",
       "\n",
       "        usd_pledged_real  usd_goal_real  \n",
       "169               555.00        6500.00  \n",
       "328              3402.08        3211.53  \n",
       "632              3576.00        3500.00  \n",
       "647              7007.80        6000.00  \n",
       "749              3660.38        3000.00  \n",
       "...                  ...            ...  \n",
       "378233             10.00        7500.00  \n",
       "378303           2845.61        2752.04  \n",
       "378434            235.00        5000.00  \n",
       "378585           3273.36        3080.81  \n",
       "378588              0.00        1710.08  \n",
       "\n",
       "[3797 rows x 14 columns]"
      ]
     },
     "execution_count": 19,
     "metadata": {},
     "output_type": "execute_result"
    }
   ],
   "source": [
    "data[data[\"country\"] == 'N,0\"']"
   ]
  },
  {
   "cell_type": "code",
   "execution_count": 20,
   "metadata": {
    "ExecuteTime": {
     "end_time": "2021-07-22T19:56:47.469982Z",
     "start_time": "2021-07-22T19:56:47.433981Z"
    }
   },
   "outputs": [],
   "source": [
    "data[\"country\"] = np.where(data[\"country\"] == 'N,0\"', 'Unknown', data[\"country\"])"
   ]
  },
  {
   "cell_type": "code",
   "execution_count": 21,
   "metadata": {
    "ExecuteTime": {
     "end_time": "2021-07-22T19:56:47.534856Z",
     "start_time": "2021-07-22T19:56:47.471977Z"
    }
   },
   "outputs": [
    {
     "data": {
      "text/plain": [
       "US         292627\n",
       "GB          33672\n",
       "CA          14756\n",
       "AU           7839\n",
       "DE           4171\n",
       "Unknown      3797\n",
       "FR           2939\n",
       "IT           2878\n",
       "NL           2868\n",
       "ES           2276\n",
       "SE           1757\n",
       "MX           1752\n",
       "NZ           1447\n",
       "DK           1113\n",
       "IE            811\n",
       "CH            761\n",
       "NO            708\n",
       "HK            618\n",
       "BE            617\n",
       "AT            597\n",
       "SG            555\n",
       "LU             62\n",
       "JP             40\n",
       "Name: country, dtype: int64"
      ]
     },
     "execution_count": 21,
     "metadata": {},
     "output_type": "execute_result"
    }
   ],
   "source": [
    "data[\"country\"].value_counts()"
   ]
  },
  {
   "cell_type": "markdown",
   "metadata": {
    "ExecuteTime": {
     "end_time": "2021-07-22T13:46:06.335183Z",
     "start_time": "2021-07-22T13:46:06.331194Z"
    }
   },
   "source": [
    "## Drop Columns"
   ]
  },
  {
   "cell_type": "markdown",
   "metadata": {},
   "source": [
    "This analysis will be focused on sample that come from USA or country = \"US\". Therefore, we won't used the US conversion of the currency columns."
   ]
  },
  {
   "cell_type": "code",
   "execution_count": 22,
   "metadata": {
    "ExecuteTime": {
     "end_time": "2021-07-22T19:56:47.551481Z",
     "start_time": "2021-07-22T19:56:47.536529Z"
    }
   },
   "outputs": [
    {
     "data": {
      "text/html": [
       "<div>\n",
       "<style scoped>\n",
       "    .dataframe tbody tr th:only-of-type {\n",
       "        vertical-align: middle;\n",
       "    }\n",
       "\n",
       "    .dataframe tbody tr th {\n",
       "        vertical-align: top;\n",
       "    }\n",
       "\n",
       "    .dataframe thead th {\n",
       "        text-align: right;\n",
       "    }\n",
       "</style>\n",
       "<table border=\"1\" class=\"dataframe\">\n",
       "  <thead>\n",
       "    <tr style=\"text-align: right;\">\n",
       "      <th></th>\n",
       "      <th>id</th>\n",
       "      <th>name</th>\n",
       "      <th>category</th>\n",
       "      <th>main_category</th>\n",
       "      <th>currency</th>\n",
       "      <th>deadline</th>\n",
       "      <th>goal</th>\n",
       "      <th>launched</th>\n",
       "      <th>pledged</th>\n",
       "      <th>state</th>\n",
       "      <th>backers</th>\n",
       "      <th>country</th>\n",
       "      <th>usd_pledged_real</th>\n",
       "      <th>usd_goal_real</th>\n",
       "    </tr>\n",
       "  </thead>\n",
       "  <tbody>\n",
       "    <tr>\n",
       "      <th>0</th>\n",
       "      <td>1000002330</td>\n",
       "      <td>The Songs of Adelaide &amp; Abullah</td>\n",
       "      <td>Poetry</td>\n",
       "      <td>Publishing</td>\n",
       "      <td>GBP</td>\n",
       "      <td>2015-10-09</td>\n",
       "      <td>1000.0</td>\n",
       "      <td>2015-08-11 12:12:28</td>\n",
       "      <td>0.0</td>\n",
       "      <td>failed</td>\n",
       "      <td>0</td>\n",
       "      <td>GB</td>\n",
       "      <td>0.0</td>\n",
       "      <td>1533.95</td>\n",
       "    </tr>\n",
       "  </tbody>\n",
       "</table>\n",
       "</div>"
      ],
      "text/plain": [
       "           id                             name category main_category  \\\n",
       "0  1000002330  The Songs of Adelaide & Abullah   Poetry    Publishing   \n",
       "\n",
       "  currency    deadline    goal             launched  pledged   state  backers  \\\n",
       "0      GBP  2015-10-09  1000.0  2015-08-11 12:12:28      0.0  failed        0   \n",
       "\n",
       "  country  usd_pledged_real  usd_goal_real  \n",
       "0      GB               0.0        1533.95  "
      ]
     },
     "execution_count": 22,
     "metadata": {},
     "output_type": "execute_result"
    }
   ],
   "source": [
    "data.head(1)"
   ]
  },
  {
   "cell_type": "code",
   "execution_count": 23,
   "metadata": {
    "ExecuteTime": {
     "end_time": "2021-07-22T19:56:47.601348Z",
     "start_time": "2021-07-22T19:56:47.557466Z"
    }
   },
   "outputs": [],
   "source": [
    "data.drop(columns = [\"usd_pledged_real\", \"usd_goal_real\", \"currency\"], inplace = True)"
   ]
  },
  {
   "cell_type": "code",
   "execution_count": 24,
   "metadata": {
    "ExecuteTime": {
     "end_time": "2021-07-22T19:56:47.620128Z",
     "start_time": "2021-07-22T19:56:47.604340Z"
    }
   },
   "outputs": [
    {
     "data": {
      "text/html": [
       "<div>\n",
       "<style scoped>\n",
       "    .dataframe tbody tr th:only-of-type {\n",
       "        vertical-align: middle;\n",
       "    }\n",
       "\n",
       "    .dataframe tbody tr th {\n",
       "        vertical-align: top;\n",
       "    }\n",
       "\n",
       "    .dataframe thead th {\n",
       "        text-align: right;\n",
       "    }\n",
       "</style>\n",
       "<table border=\"1\" class=\"dataframe\">\n",
       "  <thead>\n",
       "    <tr style=\"text-align: right;\">\n",
       "      <th></th>\n",
       "      <th>id</th>\n",
       "      <th>name</th>\n",
       "      <th>category</th>\n",
       "      <th>main_category</th>\n",
       "      <th>deadline</th>\n",
       "      <th>goal</th>\n",
       "      <th>launched</th>\n",
       "      <th>pledged</th>\n",
       "      <th>state</th>\n",
       "      <th>backers</th>\n",
       "      <th>country</th>\n",
       "    </tr>\n",
       "  </thead>\n",
       "  <tbody>\n",
       "    <tr>\n",
       "      <th>0</th>\n",
       "      <td>1000002330</td>\n",
       "      <td>The Songs of Adelaide &amp; Abullah</td>\n",
       "      <td>Poetry</td>\n",
       "      <td>Publishing</td>\n",
       "      <td>2015-10-09</td>\n",
       "      <td>1000.0</td>\n",
       "      <td>2015-08-11 12:12:28</td>\n",
       "      <td>0.0</td>\n",
       "      <td>failed</td>\n",
       "      <td>0</td>\n",
       "      <td>GB</td>\n",
       "    </tr>\n",
       "  </tbody>\n",
       "</table>\n",
       "</div>"
      ],
      "text/plain": [
       "           id                             name category main_category  \\\n",
       "0  1000002330  The Songs of Adelaide & Abullah   Poetry    Publishing   \n",
       "\n",
       "     deadline    goal             launched  pledged   state  backers country  \n",
       "0  2015-10-09  1000.0  2015-08-11 12:12:28      0.0  failed        0      GB  "
      ]
     },
     "execution_count": 24,
     "metadata": {},
     "output_type": "execute_result"
    }
   ],
   "source": [
    "data.head(1)"
   ]
  },
  {
   "cell_type": "markdown",
   "metadata": {
    "ExecuteTime": {
     "end_time": "2021-07-22T14:26:11.724124Z",
     "start_time": "2021-07-22T14:26:11.720135Z"
    }
   },
   "source": [
    "## Convert Dtype"
   ]
  },
  {
   "cell_type": "code",
   "execution_count": 25,
   "metadata": {
    "ExecuteTime": {
     "end_time": "2021-07-22T19:56:47.798023Z",
     "start_time": "2021-07-22T19:56:47.624119Z"
    }
   },
   "outputs": [
    {
     "name": "stdout",
     "output_type": "stream",
     "text": [
      "<class 'pandas.core.frame.DataFrame'>\n",
      "RangeIndex: 378661 entries, 0 to 378660\n",
      "Data columns (total 11 columns):\n",
      " #   Column         Non-Null Count   Dtype  \n",
      "---  ------         --------------   -----  \n",
      " 0   id             378661 non-null  int64  \n",
      " 1   name           378661 non-null  object \n",
      " 2   category       378661 non-null  object \n",
      " 3   main_category  378661 non-null  object \n",
      " 4   deadline       378661 non-null  object \n",
      " 5   goal           378661 non-null  float64\n",
      " 6   launched       378661 non-null  object \n",
      " 7   pledged        378661 non-null  float64\n",
      " 8   state          378661 non-null  object \n",
      " 9   backers        378661 non-null  int64  \n",
      " 10  country        378661 non-null  object \n",
      "dtypes: float64(2), int64(2), object(7)\n",
      "memory usage: 31.8+ MB\n"
     ]
    }
   ],
   "source": [
    "data.info()"
   ]
  },
  {
   "cell_type": "code",
   "execution_count": 26,
   "metadata": {
    "ExecuteTime": {
     "end_time": "2021-07-22T19:56:48.325829Z",
     "start_time": "2021-07-22T19:56:47.800018Z"
    }
   },
   "outputs": [],
   "source": [
    "data[\"deadline\"] = pd.to_datetime(data[\"deadline\"])\n",
    "data[\"launched\"] = pd.to_datetime(data[\"launched\"])"
   ]
  },
  {
   "cell_type": "code",
   "execution_count": 27,
   "metadata": {
    "ExecuteTime": {
     "end_time": "2021-07-22T19:56:48.435507Z",
     "start_time": "2021-07-22T19:56:48.327736Z"
    }
   },
   "outputs": [
    {
     "name": "stdout",
     "output_type": "stream",
     "text": [
      "<class 'pandas.core.frame.DataFrame'>\n",
      "RangeIndex: 378661 entries, 0 to 378660\n",
      "Data columns (total 11 columns):\n",
      " #   Column         Non-Null Count   Dtype         \n",
      "---  ------         --------------   -----         \n",
      " 0   id             378661 non-null  int64         \n",
      " 1   name           378661 non-null  object        \n",
      " 2   category       378661 non-null  object        \n",
      " 3   main_category  378661 non-null  object        \n",
      " 4   deadline       378661 non-null  datetime64[ns]\n",
      " 5   goal           378661 non-null  float64       \n",
      " 6   launched       378661 non-null  datetime64[ns]\n",
      " 7   pledged        378661 non-null  float64       \n",
      " 8   state          378661 non-null  object        \n",
      " 9   backers        378661 non-null  int64         \n",
      " 10  country        378661 non-null  object        \n",
      "dtypes: datetime64[ns](2), float64(2), int64(2), object(5)\n",
      "memory usage: 31.8+ MB\n"
     ]
    }
   ],
   "source": [
    "data.info()"
   ]
  },
  {
   "cell_type": "markdown",
   "metadata": {
    "ExecuteTime": {
     "end_time": "2021-07-19T16:30:14.609505Z",
     "start_time": "2021-07-19T16:30:14.606480Z"
    }
   },
   "source": [
    "# Data Exploration"
   ]
  },
  {
   "cell_type": "markdown",
   "metadata": {},
   "source": [
    "This analysis will be focused on sample that come from USA or country = \"US\"."
   ]
  },
  {
   "cell_type": "code",
   "execution_count": 28,
   "metadata": {
    "ExecuteTime": {
     "end_time": "2021-07-22T19:56:48.581648Z",
     "start_time": "2021-07-22T19:56:48.437500Z"
    }
   },
   "outputs": [
    {
     "name": "stdout",
     "output_type": "stream",
     "text": [
      "(292627, 10)\n"
     ]
    },
    {
     "data": {
      "text/html": [
       "<div>\n",
       "<style scoped>\n",
       "    .dataframe tbody tr th:only-of-type {\n",
       "        vertical-align: middle;\n",
       "    }\n",
       "\n",
       "    .dataframe tbody tr th {\n",
       "        vertical-align: top;\n",
       "    }\n",
       "\n",
       "    .dataframe thead th {\n",
       "        text-align: right;\n",
       "    }\n",
       "</style>\n",
       "<table border=\"1\" class=\"dataframe\">\n",
       "  <thead>\n",
       "    <tr style=\"text-align: right;\">\n",
       "      <th></th>\n",
       "      <th>id</th>\n",
       "      <th>name</th>\n",
       "      <th>category</th>\n",
       "      <th>main_category</th>\n",
       "      <th>deadline</th>\n",
       "      <th>goal</th>\n",
       "      <th>launched</th>\n",
       "      <th>pledged</th>\n",
       "      <th>state</th>\n",
       "      <th>backers</th>\n",
       "    </tr>\n",
       "  </thead>\n",
       "  <tbody>\n",
       "    <tr>\n",
       "      <th>0</th>\n",
       "      <td>1000003930</td>\n",
       "      <td>Greeting From Earth: ZGAC Arts Capsule For ET</td>\n",
       "      <td>Narrative Film</td>\n",
       "      <td>Film &amp; Video</td>\n",
       "      <td>2017-11-01</td>\n",
       "      <td>30000.0</td>\n",
       "      <td>2017-09-02 04:43:57</td>\n",
       "      <td>2421.0</td>\n",
       "      <td>failed</td>\n",
       "      <td>15</td>\n",
       "    </tr>\n",
       "    <tr>\n",
       "      <th>1</th>\n",
       "      <td>1000004038</td>\n",
       "      <td>Where is Hank?</td>\n",
       "      <td>Narrative Film</td>\n",
       "      <td>Film &amp; Video</td>\n",
       "      <td>2013-02-26</td>\n",
       "      <td>45000.0</td>\n",
       "      <td>2013-01-12 00:20:50</td>\n",
       "      <td>220.0</td>\n",
       "      <td>failed</td>\n",
       "      <td>3</td>\n",
       "    </tr>\n",
       "    <tr>\n",
       "      <th>2</th>\n",
       "      <td>1000007540</td>\n",
       "      <td>ToshiCapital Rekordz Needs Help to Complete Album</td>\n",
       "      <td>Music</td>\n",
       "      <td>Music</td>\n",
       "      <td>2012-04-16</td>\n",
       "      <td>5000.0</td>\n",
       "      <td>2012-03-17 03:24:11</td>\n",
       "      <td>1.0</td>\n",
       "      <td>failed</td>\n",
       "      <td>1</td>\n",
       "    </tr>\n",
       "    <tr>\n",
       "      <th>3</th>\n",
       "      <td>1000011046</td>\n",
       "      <td>Community Film Project: The Art of Neighborhoo...</td>\n",
       "      <td>Film &amp; Video</td>\n",
       "      <td>Film &amp; Video</td>\n",
       "      <td>2015-08-29</td>\n",
       "      <td>19500.0</td>\n",
       "      <td>2015-07-04 08:35:03</td>\n",
       "      <td>1283.0</td>\n",
       "      <td>canceled</td>\n",
       "      <td>14</td>\n",
       "    </tr>\n",
       "    <tr>\n",
       "      <th>4</th>\n",
       "      <td>1000014025</td>\n",
       "      <td>Monarch Espresso Bar</td>\n",
       "      <td>Restaurants</td>\n",
       "      <td>Food</td>\n",
       "      <td>2016-04-01</td>\n",
       "      <td>50000.0</td>\n",
       "      <td>2016-02-26 13:38:27</td>\n",
       "      <td>52375.0</td>\n",
       "      <td>successful</td>\n",
       "      <td>224</td>\n",
       "    </tr>\n",
       "  </tbody>\n",
       "</table>\n",
       "</div>"
      ],
      "text/plain": [
       "           id                                               name  \\\n",
       "0  1000003930      Greeting From Earth: ZGAC Arts Capsule For ET   \n",
       "1  1000004038                                     Where is Hank?   \n",
       "2  1000007540  ToshiCapital Rekordz Needs Help to Complete Album   \n",
       "3  1000011046  Community Film Project: The Art of Neighborhoo...   \n",
       "4  1000014025                               Monarch Espresso Bar   \n",
       "\n",
       "         category main_category   deadline     goal            launched  \\\n",
       "0  Narrative Film  Film & Video 2017-11-01  30000.0 2017-09-02 04:43:57   \n",
       "1  Narrative Film  Film & Video 2013-02-26  45000.0 2013-01-12 00:20:50   \n",
       "2           Music         Music 2012-04-16   5000.0 2012-03-17 03:24:11   \n",
       "3    Film & Video  Film & Video 2015-08-29  19500.0 2015-07-04 08:35:03   \n",
       "4     Restaurants          Food 2016-04-01  50000.0 2016-02-26 13:38:27   \n",
       "\n",
       "   pledged       state  backers  \n",
       "0   2421.0      failed       15  \n",
       "1    220.0      failed        3  \n",
       "2      1.0      failed        1  \n",
       "3   1283.0    canceled       14  \n",
       "4  52375.0  successful      224  "
      ]
     },
     "execution_count": 28,
     "metadata": {},
     "output_type": "execute_result"
    }
   ],
   "source": [
    "# using query to select only US country\n",
    "usa = data[data[\"country\"] == \"US\"].reset_index(drop = True).drop(columns = [\"country\"])\n",
    "print(usa.shape)\n",
    "usa.head()"
   ]
  },
  {
   "cell_type": "code",
   "execution_count": 29,
   "metadata": {
    "ExecuteTime": {
     "end_time": "2021-07-22T19:56:48.699369Z",
     "start_time": "2021-07-22T19:56:48.583642Z"
    }
   },
   "outputs": [
    {
     "data": {
      "text/html": [
       "<div>\n",
       "<style scoped>\n",
       "    .dataframe tbody tr th:only-of-type {\n",
       "        vertical-align: middle;\n",
       "    }\n",
       "\n",
       "    .dataframe tbody tr th {\n",
       "        vertical-align: top;\n",
       "    }\n",
       "\n",
       "    .dataframe thead tr th {\n",
       "        text-align: left;\n",
       "    }\n",
       "\n",
       "    .dataframe thead tr:last-of-type th {\n",
       "        text-align: right;\n",
       "    }\n",
       "</style>\n",
       "<table border=\"1\" class=\"dataframe\">\n",
       "  <thead>\n",
       "    <tr>\n",
       "      <th></th>\n",
       "      <th>id</th>\n",
       "      <th colspan=\"4\" halign=\"left\">pledged</th>\n",
       "      <th colspan=\"4\" halign=\"left\">goal</th>\n",
       "      <th colspan=\"4\" halign=\"left\">backers</th>\n",
       "    </tr>\n",
       "    <tr>\n",
       "      <th></th>\n",
       "      <th>count</th>\n",
       "      <th>min</th>\n",
       "      <th>max</th>\n",
       "      <th>median</th>\n",
       "      <th>mean</th>\n",
       "      <th>min</th>\n",
       "      <th>max</th>\n",
       "      <th>median</th>\n",
       "      <th>mean</th>\n",
       "      <th>min</th>\n",
       "      <th>max</th>\n",
       "      <th>median</th>\n",
       "      <th>mean</th>\n",
       "    </tr>\n",
       "    <tr>\n",
       "      <th>main_category</th>\n",
       "      <th></th>\n",
       "      <th></th>\n",
       "      <th></th>\n",
       "      <th></th>\n",
       "      <th></th>\n",
       "      <th></th>\n",
       "      <th></th>\n",
       "      <th></th>\n",
       "      <th></th>\n",
       "      <th></th>\n",
       "      <th></th>\n",
       "      <th></th>\n",
       "      <th></th>\n",
       "    </tr>\n",
       "  </thead>\n",
       "  <tbody>\n",
       "    <tr>\n",
       "      <th>Art</th>\n",
       "      <td>22311</td>\n",
       "      <td>0.0</td>\n",
       "      <td>1924018.00</td>\n",
       "      <td>518.000</td>\n",
       "      <td>3306.613835</td>\n",
       "      <td>0.01</td>\n",
       "      <td>100000000.0</td>\n",
       "      <td>3000.0</td>\n",
       "      <td>32925.693900</td>\n",
       "      <td>0</td>\n",
       "      <td>22834</td>\n",
       "      <td>11</td>\n",
       "      <td>43.028999</td>\n",
       "    </tr>\n",
       "    <tr>\n",
       "      <th>Comics</th>\n",
       "      <td>8910</td>\n",
       "      <td>0.0</td>\n",
       "      <td>1254120.08</td>\n",
       "      <td>1540.000</td>\n",
       "      <td>7072.704378</td>\n",
       "      <td>1.00</td>\n",
       "      <td>100000000.0</td>\n",
       "      <td>3600.0</td>\n",
       "      <td>22111.481514</td>\n",
       "      <td>0</td>\n",
       "      <td>14952</td>\n",
       "      <td>40</td>\n",
       "      <td>141.334119</td>\n",
       "    </tr>\n",
       "    <tr>\n",
       "      <th>Crafts</th>\n",
       "      <td>6648</td>\n",
       "      <td>0.0</td>\n",
       "      <td>454717.53</td>\n",
       "      <td>100.000</td>\n",
       "      <td>1720.494546</td>\n",
       "      <td>1.00</td>\n",
       "      <td>10000000.0</td>\n",
       "      <td>2479.0</td>\n",
       "      <td>10689.841682</td>\n",
       "      <td>0</td>\n",
       "      <td>12705</td>\n",
       "      <td>4</td>\n",
       "      <td>29.869886</td>\n",
       "    </tr>\n",
       "    <tr>\n",
       "      <th>Dance</th>\n",
       "      <td>3228</td>\n",
       "      <td>0.0</td>\n",
       "      <td>146075.97</td>\n",
       "      <td>2110.005</td>\n",
       "      <td>3695.297280</td>\n",
       "      <td>5.00</td>\n",
       "      <td>2000000.0</td>\n",
       "      <td>3500.0</td>\n",
       "      <td>9345.089622</td>\n",
       "      <td>0</td>\n",
       "      <td>4133</td>\n",
       "      <td>30</td>\n",
       "      <td>45.671314</td>\n",
       "    </tr>\n",
       "    <tr>\n",
       "      <th>Design</th>\n",
       "      <td>21690</td>\n",
       "      <td>0.0</td>\n",
       "      <td>20338986.27</td>\n",
       "      <td>1953.000</td>\n",
       "      <td>26732.962466</td>\n",
       "      <td>1.00</td>\n",
       "      <td>100000000.0</td>\n",
       "      <td>10000.0</td>\n",
       "      <td>44079.063067</td>\n",
       "      <td>0</td>\n",
       "      <td>154926</td>\n",
       "      <td>30</td>\n",
       "      <td>269.816598</td>\n",
       "    </tr>\n",
       "    <tr>\n",
       "      <th>Fashion</th>\n",
       "      <td>16584</td>\n",
       "      <td>0.0</td>\n",
       "      <td>1851033.00</td>\n",
       "      <td>230.000</td>\n",
       "      <td>6079.896657</td>\n",
       "      <td>1.00</td>\n",
       "      <td>100000000.0</td>\n",
       "      <td>5300.0</td>\n",
       "      <td>22524.952777</td>\n",
       "      <td>0</td>\n",
       "      <td>15129</td>\n",
       "      <td>5</td>\n",
       "      <td>67.794561</td>\n",
       "    </tr>\n",
       "    <tr>\n",
       "      <th>Film &amp; Video</th>\n",
       "      <td>51922</td>\n",
       "      <td>0.0</td>\n",
       "      <td>5764229.38</td>\n",
       "      <td>875.000</td>\n",
       "      <td>6659.951323</td>\n",
       "      <td>0.15</td>\n",
       "      <td>100000000.0</td>\n",
       "      <td>7500.0</td>\n",
       "      <td>80393.303565</td>\n",
       "      <td>0</td>\n",
       "      <td>91585</td>\n",
       "      <td>13</td>\n",
       "      <td>70.861658</td>\n",
       "    </tr>\n",
       "    <tr>\n",
       "      <th>Food</th>\n",
       "      <td>19941</td>\n",
       "      <td>0.0</td>\n",
       "      <td>1927217.00</td>\n",
       "      <td>361.000</td>\n",
       "      <td>5648.474497</td>\n",
       "      <td>1.00</td>\n",
       "      <td>25000000.0</td>\n",
       "      <td>10000.0</td>\n",
       "      <td>36526.483657</td>\n",
       "      <td>0</td>\n",
       "      <td>13116</td>\n",
       "      <td>7</td>\n",
       "      <td>59.306504</td>\n",
       "    </tr>\n",
       "    <tr>\n",
       "      <th>Games</th>\n",
       "      <td>24636</td>\n",
       "      <td>0.0</td>\n",
       "      <td>12393139.69</td>\n",
       "      <td>1628.000</td>\n",
       "      <td>24947.336634</td>\n",
       "      <td>1.00</td>\n",
       "      <td>100000000.0</td>\n",
       "      <td>9000.0</td>\n",
       "      <td>49400.623648</td>\n",
       "      <td>0</td>\n",
       "      <td>219382</td>\n",
       "      <td>36</td>\n",
       "      <td>375.685988</td>\n",
       "    </tr>\n",
       "    <tr>\n",
       "      <th>Journalism</th>\n",
       "      <td>3540</td>\n",
       "      <td>0.0</td>\n",
       "      <td>194635.65</td>\n",
       "      <td>69.000</td>\n",
       "      <td>2815.561096</td>\n",
       "      <td>1.00</td>\n",
       "      <td>100000000.0</td>\n",
       "      <td>5000.0</td>\n",
       "      <td>102191.030305</td>\n",
       "      <td>0</td>\n",
       "      <td>3136</td>\n",
       "      <td>3</td>\n",
       "      <td>40.248870</td>\n",
       "    </tr>\n",
       "    <tr>\n",
       "      <th>Music</th>\n",
       "      <td>43238</td>\n",
       "      <td>0.0</td>\n",
       "      <td>1363037.00</td>\n",
       "      <td>1110.000</td>\n",
       "      <td>4087.055214</td>\n",
       "      <td>1.00</td>\n",
       "      <td>50000000.0</td>\n",
       "      <td>4000.0</td>\n",
       "      <td>15831.124693</td>\n",
       "      <td>0</td>\n",
       "      <td>24883</td>\n",
       "      <td>20</td>\n",
       "      <td>56.888061</td>\n",
       "    </tr>\n",
       "    <tr>\n",
       "      <th>Photography</th>\n",
       "      <td>7988</td>\n",
       "      <td>0.0</td>\n",
       "      <td>793266.77</td>\n",
       "      <td>280.000</td>\n",
       "      <td>3662.672882</td>\n",
       "      <td>1.00</td>\n",
       "      <td>10000000.0</td>\n",
       "      <td>4000.0</td>\n",
       "      <td>12742.446358</td>\n",
       "      <td>0</td>\n",
       "      <td>5582</td>\n",
       "      <td>6</td>\n",
       "      <td>40.139459</td>\n",
       "    </tr>\n",
       "    <tr>\n",
       "      <th>Publishing</th>\n",
       "      <td>31726</td>\n",
       "      <td>0.0</td>\n",
       "      <td>866193.50</td>\n",
       "      <td>300.000</td>\n",
       "      <td>3361.632477</td>\n",
       "      <td>0.01</td>\n",
       "      <td>100000000.0</td>\n",
       "      <td>5000.0</td>\n",
       "      <td>26743.173264</td>\n",
       "      <td>0</td>\n",
       "      <td>21808</td>\n",
       "      <td>7</td>\n",
       "      <td>56.247400</td>\n",
       "    </tr>\n",
       "    <tr>\n",
       "      <th>Technology</th>\n",
       "      <td>21556</td>\n",
       "      <td>0.0</td>\n",
       "      <td>6225354.98</td>\n",
       "      <td>445.000</td>\n",
       "      <td>25789.472505</td>\n",
       "      <td>1.00</td>\n",
       "      <td>100000000.0</td>\n",
       "      <td>20000.0</td>\n",
       "      <td>100281.630275</td>\n",
       "      <td>0</td>\n",
       "      <td>105857</td>\n",
       "      <td>8</td>\n",
       "      <td>198.787669</td>\n",
       "    </tr>\n",
       "    <tr>\n",
       "      <th>Theater</th>\n",
       "      <td>8709</td>\n",
       "      <td>0.0</td>\n",
       "      <td>318120.34</td>\n",
       "      <td>1689.000</td>\n",
       "      <td>4293.059484</td>\n",
       "      <td>1.00</td>\n",
       "      <td>40000000.0</td>\n",
       "      <td>3500.0</td>\n",
       "      <td>28198.256242</td>\n",
       "      <td>0</td>\n",
       "      <td>3722</td>\n",
       "      <td>26</td>\n",
       "      <td>50.315421</td>\n",
       "    </tr>\n",
       "  </tbody>\n",
       "</table>\n",
       "</div>"
      ],
      "text/plain": [
       "                  id pledged                                       goal  \\\n",
       "               count     min          max    median          mean   min   \n",
       "main_category                                                             \n",
       "Art            22311     0.0   1924018.00   518.000   3306.613835  0.01   \n",
       "Comics          8910     0.0   1254120.08  1540.000   7072.704378  1.00   \n",
       "Crafts          6648     0.0    454717.53   100.000   1720.494546  1.00   \n",
       "Dance           3228     0.0    146075.97  2110.005   3695.297280  5.00   \n",
       "Design         21690     0.0  20338986.27  1953.000  26732.962466  1.00   \n",
       "Fashion        16584     0.0   1851033.00   230.000   6079.896657  1.00   \n",
       "Film & Video   51922     0.0   5764229.38   875.000   6659.951323  0.15   \n",
       "Food           19941     0.0   1927217.00   361.000   5648.474497  1.00   \n",
       "Games          24636     0.0  12393139.69  1628.000  24947.336634  1.00   \n",
       "Journalism      3540     0.0    194635.65    69.000   2815.561096  1.00   \n",
       "Music          43238     0.0   1363037.00  1110.000   4087.055214  1.00   \n",
       "Photography     7988     0.0    793266.77   280.000   3662.672882  1.00   \n",
       "Publishing     31726     0.0    866193.50   300.000   3361.632477  0.01   \n",
       "Technology     21556     0.0   6225354.98   445.000  25789.472505  1.00   \n",
       "Theater         8709     0.0    318120.34  1689.000   4293.059484  1.00   \n",
       "\n",
       "                                                   backers                 \\\n",
       "                       max   median           mean     min     max median   \n",
       "main_category                                                               \n",
       "Art            100000000.0   3000.0   32925.693900       0   22834     11   \n",
       "Comics         100000000.0   3600.0   22111.481514       0   14952     40   \n",
       "Crafts          10000000.0   2479.0   10689.841682       0   12705      4   \n",
       "Dance            2000000.0   3500.0    9345.089622       0    4133     30   \n",
       "Design         100000000.0  10000.0   44079.063067       0  154926     30   \n",
       "Fashion        100000000.0   5300.0   22524.952777       0   15129      5   \n",
       "Film & Video   100000000.0   7500.0   80393.303565       0   91585     13   \n",
       "Food            25000000.0  10000.0   36526.483657       0   13116      7   \n",
       "Games          100000000.0   9000.0   49400.623648       0  219382     36   \n",
       "Journalism     100000000.0   5000.0  102191.030305       0    3136      3   \n",
       "Music           50000000.0   4000.0   15831.124693       0   24883     20   \n",
       "Photography     10000000.0   4000.0   12742.446358       0    5582      6   \n",
       "Publishing     100000000.0   5000.0   26743.173264       0   21808      7   \n",
       "Technology     100000000.0  20000.0  100281.630275       0  105857      8   \n",
       "Theater         40000000.0   3500.0   28198.256242       0    3722     26   \n",
       "\n",
       "                           \n",
       "                     mean  \n",
       "main_category              \n",
       "Art             43.028999  \n",
       "Comics         141.334119  \n",
       "Crafts          29.869886  \n",
       "Dance           45.671314  \n",
       "Design         269.816598  \n",
       "Fashion         67.794561  \n",
       "Film & Video    70.861658  \n",
       "Food            59.306504  \n",
       "Games          375.685988  \n",
       "Journalism      40.248870  \n",
       "Music           56.888061  \n",
       "Photography     40.139459  \n",
       "Publishing      56.247400  \n",
       "Technology     198.787669  \n",
       "Theater         50.315421  "
      ]
     },
     "execution_count": 29,
     "metadata": {},
     "output_type": "execute_result"
    }
   ],
   "source": [
    "# using group by to check data aggregate\n",
    "usa.groupby([\"main_category\"]).agg({\n",
    "    \"id\" : \"count\",\n",
    "    \"pledged\" : [\"min\", \"max\", \"median\", \"mean\"],\n",
    "    \"goal\" : [\"min\", \"max\", \"median\", \"mean\"],\n",
    "    \"backers\" : [\"min\", \"max\", \"median\", \"mean\"]\n",
    "})"
   ]
  },
  {
   "cell_type": "code",
   "execution_count": 30,
   "metadata": {
    "ExecuteTime": {
     "end_time": "2021-07-22T19:56:48.728754Z",
     "start_time": "2021-07-22T19:56:48.701363Z"
    }
   },
   "outputs": [
    {
     "data": {
      "text/plain": [
       "array(['failed', 'canceled', 'successful', 'live', 'suspended'],\n",
       "      dtype=object)"
      ]
     },
     "execution_count": 30,
     "metadata": {},
     "output_type": "execute_result"
    }
   ],
   "source": [
    "usa[\"state\"].unique()"
   ]
  },
  {
   "cell_type": "markdown",
   "metadata": {
    "ExecuteTime": {
     "end_time": "2021-07-22T14:09:00.641801Z",
     "start_time": "2021-07-22T14:09:00.636814Z"
    }
   },
   "source": [
    "We will focus more on projects that is already successful."
   ]
  },
  {
   "cell_type": "code",
   "execution_count": 31,
   "metadata": {
    "ExecuteTime": {
     "end_time": "2021-07-22T19:56:48.826470Z",
     "start_time": "2021-07-22T19:56:48.729728Z"
    }
   },
   "outputs": [
    {
     "data": {
      "text/html": [
       "<div>\n",
       "<style scoped>\n",
       "    .dataframe tbody tr th:only-of-type {\n",
       "        vertical-align: middle;\n",
       "    }\n",
       "\n",
       "    .dataframe tbody tr th {\n",
       "        vertical-align: top;\n",
       "    }\n",
       "\n",
       "    .dataframe thead th {\n",
       "        text-align: right;\n",
       "    }\n",
       "</style>\n",
       "<table border=\"1\" class=\"dataframe\">\n",
       "  <thead>\n",
       "    <tr style=\"text-align: right;\">\n",
       "      <th></th>\n",
       "      <th>main_category</th>\n",
       "      <th>total_count</th>\n",
       "    </tr>\n",
       "  </thead>\n",
       "  <tbody>\n",
       "    <tr>\n",
       "      <th>0</th>\n",
       "      <td>Art</td>\n",
       "      <td>22311</td>\n",
       "    </tr>\n",
       "    <tr>\n",
       "      <th>1</th>\n",
       "      <td>Comics</td>\n",
       "      <td>8910</td>\n",
       "    </tr>\n",
       "    <tr>\n",
       "      <th>2</th>\n",
       "      <td>Crafts</td>\n",
       "      <td>6648</td>\n",
       "    </tr>\n",
       "    <tr>\n",
       "      <th>3</th>\n",
       "      <td>Dance</td>\n",
       "      <td>3228</td>\n",
       "    </tr>\n",
       "    <tr>\n",
       "      <th>4</th>\n",
       "      <td>Design</td>\n",
       "      <td>21690</td>\n",
       "    </tr>\n",
       "    <tr>\n",
       "      <th>5</th>\n",
       "      <td>Fashion</td>\n",
       "      <td>16584</td>\n",
       "    </tr>\n",
       "    <tr>\n",
       "      <th>6</th>\n",
       "      <td>Film &amp; Video</td>\n",
       "      <td>51922</td>\n",
       "    </tr>\n",
       "    <tr>\n",
       "      <th>7</th>\n",
       "      <td>Food</td>\n",
       "      <td>19941</td>\n",
       "    </tr>\n",
       "    <tr>\n",
       "      <th>8</th>\n",
       "      <td>Games</td>\n",
       "      <td>24636</td>\n",
       "    </tr>\n",
       "    <tr>\n",
       "      <th>9</th>\n",
       "      <td>Journalism</td>\n",
       "      <td>3540</td>\n",
       "    </tr>\n",
       "    <tr>\n",
       "      <th>10</th>\n",
       "      <td>Music</td>\n",
       "      <td>43238</td>\n",
       "    </tr>\n",
       "    <tr>\n",
       "      <th>11</th>\n",
       "      <td>Photography</td>\n",
       "      <td>7988</td>\n",
       "    </tr>\n",
       "    <tr>\n",
       "      <th>12</th>\n",
       "      <td>Publishing</td>\n",
       "      <td>31726</td>\n",
       "    </tr>\n",
       "    <tr>\n",
       "      <th>13</th>\n",
       "      <td>Technology</td>\n",
       "      <td>21556</td>\n",
       "    </tr>\n",
       "    <tr>\n",
       "      <th>14</th>\n",
       "      <td>Theater</td>\n",
       "      <td>8709</td>\n",
       "    </tr>\n",
       "  </tbody>\n",
       "</table>\n",
       "</div>"
      ],
      "text/plain": [
       "   main_category  total_count\n",
       "0            Art        22311\n",
       "1         Comics         8910\n",
       "2         Crafts         6648\n",
       "3          Dance         3228\n",
       "4         Design        21690\n",
       "5        Fashion        16584\n",
       "6   Film & Video        51922\n",
       "7           Food        19941\n",
       "8          Games        24636\n",
       "9     Journalism         3540\n",
       "10         Music        43238\n",
       "11   Photography         7988\n",
       "12    Publishing        31726\n",
       "13    Technology        21556\n",
       "14       Theater         8709"
      ]
     },
     "execution_count": 31,
     "metadata": {},
     "output_type": "execute_result"
    }
   ],
   "source": [
    "total_count = usa.groupby([\"main_category\"]).count()[[\"id\"]].reset_index()\n",
    "total_count.columns = [\"main_category\", \"total_count\"]\n",
    "total_count"
   ]
  },
  {
   "cell_type": "code",
   "execution_count": 32,
   "metadata": {
    "ExecuteTime": {
     "end_time": "2021-07-22T19:56:48.883514Z",
     "start_time": "2021-07-22T19:56:48.828465Z"
    }
   },
   "outputs": [],
   "source": [
    "# using query to select\n",
    "successful = usa[usa[\"state\"] == \"successful\"].groupby([\"main_category\"]).agg({\n",
    "   \"pledged\" : \"mean\",  \"backers\" : \"mean\", \"goal\" : \"mean\", \"id\" : \"count\"\n",
    "}).reset_index()\n",
    "successful.columns = [\"main_category\", \"pledged_mean\", \"backers_mean\", \"goal_mean\", \"successful_count\"]"
   ]
  },
  {
   "cell_type": "code",
   "execution_count": 33,
   "metadata": {
    "ExecuteTime": {
     "end_time": "2021-07-22T19:56:48.892482Z",
     "start_time": "2021-07-22T19:56:48.884503Z"
    }
   },
   "outputs": [],
   "source": [
    "successful = successful.merge(\n",
    "    total_count,\n",
    "    on = \"main_category\",\n",
    "    how = \"inner\"\n",
    ")\n",
    "\n",
    "successful[\"success_ratio\"] = successful[\"successful_count\"]/successful[\"total_count\"]"
   ]
  },
  {
   "cell_type": "code",
   "execution_count": 34,
   "metadata": {
    "ExecuteTime": {
     "end_time": "2021-07-22T19:56:48.910792Z",
     "start_time": "2021-07-22T19:56:48.894476Z"
    },
    "scrolled": false
   },
   "outputs": [
    {
     "data": {
      "text/html": [
       "<div>\n",
       "<style scoped>\n",
       "    .dataframe tbody tr th:only-of-type {\n",
       "        vertical-align: middle;\n",
       "    }\n",
       "\n",
       "    .dataframe tbody tr th {\n",
       "        vertical-align: top;\n",
       "    }\n",
       "\n",
       "    .dataframe thead th {\n",
       "        text-align: right;\n",
       "    }\n",
       "</style>\n",
       "<table border=\"1\" class=\"dataframe\">\n",
       "  <thead>\n",
       "    <tr style=\"text-align: right;\">\n",
       "      <th></th>\n",
       "      <th>main_category</th>\n",
       "      <th>pledged_mean</th>\n",
       "      <th>backers_mean</th>\n",
       "      <th>goal_mean</th>\n",
       "      <th>successful_count</th>\n",
       "      <th>total_count</th>\n",
       "      <th>success_ratio</th>\n",
       "    </tr>\n",
       "  </thead>\n",
       "  <tbody>\n",
       "    <tr>\n",
       "      <th>0</th>\n",
       "      <td>Art</td>\n",
       "      <td>6919.099444</td>\n",
       "      <td>88.849832</td>\n",
       "      <td>4522.808137</td>\n",
       "      <td>9496</td>\n",
       "      <td>22311</td>\n",
       "      <td>0.425620</td>\n",
       "    </tr>\n",
       "    <tr>\n",
       "      <th>1</th>\n",
       "      <td>Comics</td>\n",
       "      <td>12193.533041</td>\n",
       "      <td>243.015975</td>\n",
       "      <td>5639.630081</td>\n",
       "      <td>4820</td>\n",
       "      <td>8910</td>\n",
       "      <td>0.540965</td>\n",
       "    </tr>\n",
       "    <tr>\n",
       "      <th>2</th>\n",
       "      <td>Crafts</td>\n",
       "      <td>5850.091774</td>\n",
       "      <td>101.456707</td>\n",
       "      <td>2989.250000</td>\n",
       "      <td>1640</td>\n",
       "      <td>6648</td>\n",
       "      <td>0.246691</td>\n",
       "    </tr>\n",
       "    <tr>\n",
       "      <th>3</th>\n",
       "      <td>Dance</td>\n",
       "      <td>5365.263123</td>\n",
       "      <td>65.253352</td>\n",
       "      <td>4745.958865</td>\n",
       "      <td>2088</td>\n",
       "      <td>3228</td>\n",
       "      <td>0.646840</td>\n",
       "    </tr>\n",
       "    <tr>\n",
       "      <th>4</th>\n",
       "      <td>Design</td>\n",
       "      <td>68928.169091</td>\n",
       "      <td>687.133967</td>\n",
       "      <td>16008.036128</td>\n",
       "      <td>7681</td>\n",
       "      <td>21690</td>\n",
       "      <td>0.354126</td>\n",
       "    </tr>\n",
       "    <tr>\n",
       "      <th>5</th>\n",
       "      <td>Fashion</td>\n",
       "      <td>21631.635915</td>\n",
       "      <td>239.918204</td>\n",
       "      <td>9165.043083</td>\n",
       "      <td>4120</td>\n",
       "      <td>16584</td>\n",
       "      <td>0.248432</td>\n",
       "    </tr>\n",
       "    <tr>\n",
       "      <th>6</th>\n",
       "      <td>Film &amp; Video</td>\n",
       "      <td>14865.630768</td>\n",
       "      <td>160.312102</td>\n",
       "      <td>11871.892956</td>\n",
       "      <td>19782</td>\n",
       "      <td>51922</td>\n",
       "      <td>0.380995</td>\n",
       "    </tr>\n",
       "    <tr>\n",
       "      <th>7</th>\n",
       "      <td>Food</td>\n",
       "      <td>17847.168305</td>\n",
       "      <td>184.177009</td>\n",
       "      <td>11811.511067</td>\n",
       "      <td>5350</td>\n",
       "      <td>19941</td>\n",
       "      <td>0.268291</td>\n",
       "    </tr>\n",
       "    <tr>\n",
       "      <th>8</th>\n",
       "      <td>Games</td>\n",
       "      <td>60753.195484</td>\n",
       "      <td>900.091385</td>\n",
       "      <td>16002.603142</td>\n",
       "      <td>9356</td>\n",
       "      <td>24636</td>\n",
       "      <td>0.379769</td>\n",
       "    </tr>\n",
       "    <tr>\n",
       "      <th>9</th>\n",
       "      <td>Journalism</td>\n",
       "      <td>10390.669712</td>\n",
       "      <td>149.977444</td>\n",
       "      <td>8226.529361</td>\n",
       "      <td>798</td>\n",
       "      <td>3540</td>\n",
       "      <td>0.225424</td>\n",
       "    </tr>\n",
       "    <tr>\n",
       "      <th>10</th>\n",
       "      <td>Music</td>\n",
       "      <td>7481.140029</td>\n",
       "      <td>103.885349</td>\n",
       "      <td>5840.722933</td>\n",
       "      <td>21718</td>\n",
       "      <td>43238</td>\n",
       "      <td>0.502290</td>\n",
       "    </tr>\n",
       "    <tr>\n",
       "      <th>11</th>\n",
       "      <td>Photography</td>\n",
       "      <td>9979.337033</td>\n",
       "      <td>105.583628</td>\n",
       "      <td>6426.163089</td>\n",
       "      <td>2541</td>\n",
       "      <td>7988</td>\n",
       "      <td>0.318102</td>\n",
       "    </tr>\n",
       "    <tr>\n",
       "      <th>12</th>\n",
       "      <td>Publishing</td>\n",
       "      <td>9333.075867</td>\n",
       "      <td>157.395785</td>\n",
       "      <td>5804.175093</td>\n",
       "      <td>9965</td>\n",
       "      <td>31726</td>\n",
       "      <td>0.314096</td>\n",
       "    </tr>\n",
       "    <tr>\n",
       "      <th>13</th>\n",
       "      <td>Technology</td>\n",
       "      <td>104317.680129</td>\n",
       "      <td>796.367986</td>\n",
       "      <td>27457.027878</td>\n",
       "      <td>4723</td>\n",
       "      <td>21556</td>\n",
       "      <td>0.219104</td>\n",
       "    </tr>\n",
       "    <tr>\n",
       "      <th>14</th>\n",
       "      <td>Theater</td>\n",
       "      <td>6422.144200</td>\n",
       "      <td>75.542042</td>\n",
       "      <td>5562.834110</td>\n",
       "      <td>5221</td>\n",
       "      <td>8709</td>\n",
       "      <td>0.599495</td>\n",
       "    </tr>\n",
       "  </tbody>\n",
       "</table>\n",
       "</div>"
      ],
      "text/plain": [
       "   main_category   pledged_mean  backers_mean     goal_mean  successful_count  \\\n",
       "0            Art    6919.099444     88.849832   4522.808137              9496   \n",
       "1         Comics   12193.533041    243.015975   5639.630081              4820   \n",
       "2         Crafts    5850.091774    101.456707   2989.250000              1640   \n",
       "3          Dance    5365.263123     65.253352   4745.958865              2088   \n",
       "4         Design   68928.169091    687.133967  16008.036128              7681   \n",
       "5        Fashion   21631.635915    239.918204   9165.043083              4120   \n",
       "6   Film & Video   14865.630768    160.312102  11871.892956             19782   \n",
       "7           Food   17847.168305    184.177009  11811.511067              5350   \n",
       "8          Games   60753.195484    900.091385  16002.603142              9356   \n",
       "9     Journalism   10390.669712    149.977444   8226.529361               798   \n",
       "10         Music    7481.140029    103.885349   5840.722933             21718   \n",
       "11   Photography    9979.337033    105.583628   6426.163089              2541   \n",
       "12    Publishing    9333.075867    157.395785   5804.175093              9965   \n",
       "13    Technology  104317.680129    796.367986  27457.027878              4723   \n",
       "14       Theater    6422.144200     75.542042   5562.834110              5221   \n",
       "\n",
       "    total_count  success_ratio  \n",
       "0         22311       0.425620  \n",
       "1          8910       0.540965  \n",
       "2          6648       0.246691  \n",
       "3          3228       0.646840  \n",
       "4         21690       0.354126  \n",
       "5         16584       0.248432  \n",
       "6         51922       0.380995  \n",
       "7         19941       0.268291  \n",
       "8         24636       0.379769  \n",
       "9          3540       0.225424  \n",
       "10        43238       0.502290  \n",
       "11         7988       0.318102  \n",
       "12        31726       0.314096  \n",
       "13        21556       0.219104  \n",
       "14         8709       0.599495  "
      ]
     },
     "execution_count": 34,
     "metadata": {},
     "output_type": "execute_result"
    }
   ],
   "source": [
    "successful"
   ]
  },
  {
   "cell_type": "code",
   "execution_count": 35,
   "metadata": {
    "ExecuteTime": {
     "end_time": "2021-07-22T19:56:48.929534Z",
     "start_time": "2021-07-22T19:56:48.912786Z"
    }
   },
   "outputs": [
    {
     "name": "stdout",
     "output_type": "stream",
     "text": [
      "Highest mean of pledged: Technology\n",
      "Highest mean of backers: Games\n",
      "Highest mean of goal: Technology\n",
      "Highest count of successful projects: Music\n",
      "Highest success ratio: Dance\n"
     ]
    }
   ],
   "source": [
    "print(\"Highest mean of pledged:\", successful[successful[\"pledged_mean\"] == successful[\"pledged_mean\"].max()][\"main_category\"].reset_index(drop = True)[0])\n",
    "print(\"Highest mean of backers:\", successful[successful[\"backers_mean\"] == successful[\"backers_mean\"].max()][\"main_category\"].reset_index(drop = True)[0])\n",
    "print(\"Highest mean of goal:\", successful[successful[\"goal_mean\"] == successful[\"goal_mean\"].max()][\"main_category\"].reset_index(drop = True)[0])\n",
    "print(\"Highest count of successful projects:\", successful[successful[\"successful_count\"] == successful[\"successful_count\"].max()][\"main_category\"].reset_index(drop = True)[0])\n",
    "print(\"Highest success ratio:\", successful[successful[\"success_ratio\"] == successful[\"success_ratio\"].max()][\"main_category\"].reset_index(drop = True)[0])"
   ]
  },
  {
   "cell_type": "markdown",
   "metadata": {
    "ExecuteTime": {
     "end_time": "2021-07-22T14:09:55.739811Z",
     "start_time": "2021-07-22T14:09:55.735791Z"
    }
   },
   "source": [
    "- Technology has the highest mean of pledged gathered in USD.\n",
    "- Games has the highest mean of backers which means this category is generally popular among others main category.\n",
    "- Technology has the highest mean of goal in USD, which means this type of project generally needs many financial supports to succeed.\n",
    "- Music is the category with the most number of successful projects.\n",
    "- Dance has the most success ratio."
   ]
  },
  {
   "cell_type": "markdown",
   "metadata": {
    "ExecuteTime": {
     "end_time": "2021-07-19T16:30:29.909926Z",
     "start_time": "2021-07-19T16:30:29.906933Z"
    }
   },
   "source": [
    "# Measure of Central Tendency"
   ]
  },
  {
   "cell_type": "markdown",
   "metadata": {},
   "source": [
    "- Mean\n",
    "- Median\n",
    "- Mode"
   ]
  },
  {
   "cell_type": "markdown",
   "metadata": {
    "ExecuteTime": {
     "end_time": "2021-07-22T14:22:45.302776Z",
     "start_time": "2021-07-22T14:22:45.298787Z"
    }
   },
   "source": [
    "## Mean & Median"
   ]
  },
  {
   "cell_type": "code",
   "execution_count": 36,
   "metadata": {
    "ExecuteTime": {
     "end_time": "2021-07-22T19:56:48.964441Z",
     "start_time": "2021-07-22T19:56:48.931528Z"
    }
   },
   "outputs": [
    {
     "name": "stdout",
     "output_type": "stream",
     "text": [
      "Column Name                   Mean                          Median\n",
      "--------------------------------------------------------------------------------\n",
      "goal                          44034.969705358664            5250.0\n",
      "pledged                       9670.19304951369              725.0\n",
      "backers                       113.07861543876676            14.0\n"
     ]
    }
   ],
   "source": [
    "print(\"{} \\t{} \\t{}\".format(\"Column Name\", \"Mean\", \"Median\").expandtabs(30))\n",
    "print(\"-\"*80)\n",
    "for col in usa.select_dtypes(\"number\").drop(columns = \"id\"):\n",
    "    print(\"{} \\t{} \\t{}\".format(col, usa[col].mean(), usa[col].median()).expandtabs(30))"
   ]
  },
  {
   "cell_type": "markdown",
   "metadata": {
    "ExecuteTime": {
     "end_time": "2021-07-22T14:22:56.250994Z",
     "start_time": "2021-07-22T14:22:56.247004Z"
    }
   },
   "source": [
    "## Mode"
   ]
  },
  {
   "cell_type": "code",
   "execution_count": 37,
   "metadata": {
    "ExecuteTime": {
     "end_time": "2021-07-22T19:56:49.017901Z",
     "start_time": "2021-07-22T19:56:48.966435Z"
    }
   },
   "outputs": [
    {
     "name": "stdout",
     "output_type": "stream",
     "text": [
      "Column Name                   Mode\n",
      "--------------------------------------------------\n",
      "goal                          0    5000.0\n",
      "dtype: float64\n",
      "pledged                       0    0.0\n",
      "dtype: float64\n",
      "backers                       0    0\n",
      "dtype: int64\n"
     ]
    }
   ],
   "source": [
    "# for numerical column\n",
    "print(\"{} \\t{}\".format(\"Column Name\", \"Mode\").expandtabs(30))\n",
    "print(\"-\"*50)\n",
    "for col in usa.select_dtypes(\"number\").drop(columns = \"id\"):\n",
    "    print(\"{} \\t{}\".format(col, usa[col].mode()).expandtabs(30))"
   ]
  },
  {
   "cell_type": "code",
   "execution_count": 38,
   "metadata": {
    "ExecuteTime": {
     "end_time": "2021-07-22T19:56:49.253521Z",
     "start_time": "2021-07-22T19:56:49.018898Z"
    }
   },
   "outputs": [
    {
     "name": "stdout",
     "output_type": "stream",
     "text": [
      "Column Name                   Mode\n",
      "--------------------------------------------------\n",
      "name                          0    New EP/Music Development\n",
      "dtype: object\n",
      "category                      0    Product Design\n",
      "dtype: object\n",
      "main_category                 0    Film & Video\n",
      "dtype: object\n",
      "deadline                      0   2014-08-08\n",
      "dtype: datetime64[ns]\n",
      "launched                      0   1970-01-01 01:00:00\n",
      "dtype: datetime64[ns]\n",
      "state                         0    failed\n",
      "dtype: object\n"
     ]
    }
   ],
   "source": [
    "# for categorical column\n",
    "print(\"{} \\t{}\".format(\"Column Name\", \"Mode\").expandtabs(30))\n",
    "print(\"-\"*50)\n",
    "for col in usa.select_dtypes([\"object\", \"datetime\"]):\n",
    "    print(\"{} \\t{}\".format(col, usa[col].mode()).expandtabs(30))"
   ]
  },
  {
   "cell_type": "markdown",
   "metadata": {
    "ExecuteTime": {
     "end_time": "2021-07-19T16:30:40.535848Z",
     "start_time": "2021-07-19T16:30:40.531857Z"
    }
   },
   "source": [
    "# Measure of Variance"
   ]
  },
  {
   "cell_type": "markdown",
   "metadata": {},
   "source": [
    "- Range\n",
    "- Percentiles & Quartiles\n",
    "- Outliers\n",
    "- Variance & Standard Deviation\n",
    "- Z Score"
   ]
  },
  {
   "cell_type": "markdown",
   "metadata": {
    "ExecuteTime": {
     "end_time": "2021-07-18T20:15:07.977283Z",
     "start_time": "2021-07-18T20:15:07.974293Z"
    }
   },
   "source": [
    "### Range"
   ]
  },
  {
   "cell_type": "code",
   "execution_count": 39,
   "metadata": {
    "ExecuteTime": {
     "end_time": "2021-07-22T19:56:49.278561Z",
     "start_time": "2021-07-22T19:56:49.254520Z"
    }
   },
   "outputs": [
    {
     "name": "stdout",
     "output_type": "stream",
     "text": [
      "Column Name                   Range\n",
      "--------------------------------------------------\n",
      "goal                          99999999.99\n",
      "pledged                       20338986.27\n",
      "backers                       219382\n"
     ]
    }
   ],
   "source": [
    "print(\"{} \\t{}\".format(\"Column Name\", \"Range\").expandtabs(30))\n",
    "print(\"-\"*50)\n",
    "for col in usa.select_dtypes(\"number\").drop(columns = [\"id\"]):\n",
    "    print(\"{} \\t{}\".format(col, usa[col].max()-data[col].min()).expandtabs(30))"
   ]
  },
  {
   "cell_type": "markdown",
   "metadata": {
    "ExecuteTime": {
     "end_time": "2021-07-18T20:15:14.426827Z",
     "start_time": "2021-07-18T20:15:14.423803Z"
    }
   },
   "source": [
    "### Quartiles"
   ]
  },
  {
   "cell_type": "code",
   "execution_count": 40,
   "metadata": {
    "ExecuteTime": {
     "end_time": "2021-07-22T19:56:49.361740Z",
     "start_time": "2021-07-22T19:56:49.280554Z"
    }
   },
   "outputs": [
    {
     "name": "stdout",
     "output_type": "stream",
     "text": [
      "Column Name    Q1             Q2             Q3\n",
      "-------------------------------------------------------\n",
      "goal           2000.0         5250.0         15000.0\n",
      "pledged        41.0           725.0          4370.0\n",
      "backers        2.0            14.0           60.0\n"
     ]
    }
   ],
   "source": [
    "print(\"{} \\t{} \\t{} \\t{}\".format(\"Column Name\", \"Q1\", \"Q2\", \"Q3\").expandtabs(15))\n",
    "print(\"-\"*55)\n",
    "for col in usa.select_dtypes(\"number\").drop(columns = [\"id\"]):\n",
    "    print(\"{} \\t{} \\t{} \\t{}\".format(col, usa[col].quantile(0.25), usa[col].quantile(0.5), usa[col].quantile(0.75)).expandtabs(15))"
   ]
  },
  {
   "cell_type": "markdown",
   "metadata": {
    "ExecuteTime": {
     "end_time": "2021-07-18T20:15:22.527892Z",
     "start_time": "2021-07-18T20:15:22.523871Z"
    }
   },
   "source": [
    "### Outliers"
   ]
  },
  {
   "cell_type": "code",
   "execution_count": 41,
   "metadata": {
    "ExecuteTime": {
     "end_time": "2021-07-22T19:56:49.947552Z",
     "start_time": "2021-07-22T19:56:49.363733Z"
    }
   },
   "outputs": [
    {
     "data": {
      "image/png": "[encoded data removed]",
      "text/plain": [
       "<Figure size 1080x504 with 3 Axes>"
      ]
     },
     "metadata": {},
     "output_type": "display_data"
    }
   ],
   "source": [
    "num_cols = list(usa.select_dtypes(\"number\").drop(columns = [\"id\"]).columns)\n",
    "plt.figure(figsize = (15, 7))\n",
    "for i in range(len(num_cols)):\n",
    "    plt.subplot(1, 3, i + 1)\n",
    "    usa[num_cols[i]].plot(kind = \"box\")\n",
    "    # remove scientific formatting\n",
    "    plt.ticklabel_format(useOffset = False, style = 'plain', axis = 'y')\n",
    "    plt.title(num_cols[i].title())\n",
    "plt.show()"
   ]
  },
  {
   "cell_type": "markdown",
   "metadata": {
    "ExecuteTime": {
     "end_time": "2021-07-22T16:43:24.587518Z",
     "start_time": "2021-07-22T16:43:24.571388Z"
    }
   },
   "source": [
    "All of the numerical columns has outliers on the right side."
   ]
  },
  {
   "cell_type": "markdown",
   "metadata": {
    "ExecuteTime": {
     "end_time": "2021-07-18T20:15:34.302136Z",
     "start_time": "2021-07-18T20:15:34.299142Z"
    }
   },
   "source": [
    "### Variance & Standard Deviation"
   ]
  },
  {
   "cell_type": "code",
   "execution_count": 42,
   "metadata": {
    "ExecuteTime": {
     "end_time": "2021-07-22T19:56:49.973516Z",
     "start_time": "2021-07-22T19:56:49.949547Z"
    }
   },
   "outputs": [
    {
     "name": "stdout",
     "output_type": "stream",
     "text": [
      "Column Name                   Variance                      Standard Deviation\n",
      "--------------------------------------------------------------------------------\n",
      "goal                          1228488436994.8774            1108371.9759155216\n",
      "pledged                       9866334012.454746             99329.421685897\n",
      "backers                       971650.6221048508             985.7234004044192\n"
     ]
    }
   ],
   "source": [
    "print(\"{} \\t{} \\t{}\".format(\"Column Name\", \"Variance\", \"Standard Deviation\").expandtabs(30))\n",
    "print(\"-\"*80)\n",
    "for col in usa.select_dtypes(\"number\").drop(columns = [\"id\"]):\n",
    "    print(\"{} \\t{} \\t{}\".format(col, usa[col].var(), usa[col].std()).expandtabs(30))"
   ]
  },
  {
   "cell_type": "markdown",
   "metadata": {
    "ExecuteTime": {
     "end_time": "2021-07-19T16:30:59.284920Z",
     "start_time": "2021-07-19T16:30:59.280930Z"
    }
   },
   "source": [
    "# Hyphothesis Testing"
   ]
  },
  {
   "cell_type": "code",
   "execution_count": 43,
   "metadata": {
    "ExecuteTime": {
     "end_time": "2021-07-22T19:56:49.989440Z",
     "start_time": "2021-07-22T19:56:49.975478Z"
    }
   },
   "outputs": [
    {
     "data": {
      "text/html": [
       "<div>\n",
       "<style scoped>\n",
       "    .dataframe tbody tr th:only-of-type {\n",
       "        vertical-align: middle;\n",
       "    }\n",
       "\n",
       "    .dataframe tbody tr th {\n",
       "        vertical-align: top;\n",
       "    }\n",
       "\n",
       "    .dataframe thead th {\n",
       "        text-align: right;\n",
       "    }\n",
       "</style>\n",
       "<table border=\"1\" class=\"dataframe\">\n",
       "  <thead>\n",
       "    <tr style=\"text-align: right;\">\n",
       "      <th></th>\n",
       "      <th>main_category</th>\n",
       "      <th>pledged_mean</th>\n",
       "      <th>backers_mean</th>\n",
       "      <th>goal_mean</th>\n",
       "      <th>successful_count</th>\n",
       "      <th>total_count</th>\n",
       "      <th>success_ratio</th>\n",
       "    </tr>\n",
       "  </thead>\n",
       "  <tbody>\n",
       "    <tr>\n",
       "      <th>13</th>\n",
       "      <td>Technology</td>\n",
       "      <td>104317.680129</td>\n",
       "      <td>796.367986</td>\n",
       "      <td>27457.027878</td>\n",
       "      <td>4723</td>\n",
       "      <td>21556</td>\n",
       "      <td>0.219104</td>\n",
       "    </tr>\n",
       "    <tr>\n",
       "      <th>4</th>\n",
       "      <td>Design</td>\n",
       "      <td>68928.169091</td>\n",
       "      <td>687.133967</td>\n",
       "      <td>16008.036128</td>\n",
       "      <td>7681</td>\n",
       "      <td>21690</td>\n",
       "      <td>0.354126</td>\n",
       "    </tr>\n",
       "    <tr>\n",
       "      <th>8</th>\n",
       "      <td>Games</td>\n",
       "      <td>60753.195484</td>\n",
       "      <td>900.091385</td>\n",
       "      <td>16002.603142</td>\n",
       "      <td>9356</td>\n",
       "      <td>24636</td>\n",
       "      <td>0.379769</td>\n",
       "    </tr>\n",
       "    <tr>\n",
       "      <th>5</th>\n",
       "      <td>Fashion</td>\n",
       "      <td>21631.635915</td>\n",
       "      <td>239.918204</td>\n",
       "      <td>9165.043083</td>\n",
       "      <td>4120</td>\n",
       "      <td>16584</td>\n",
       "      <td>0.248432</td>\n",
       "    </tr>\n",
       "    <tr>\n",
       "      <th>7</th>\n",
       "      <td>Food</td>\n",
       "      <td>17847.168305</td>\n",
       "      <td>184.177009</td>\n",
       "      <td>11811.511067</td>\n",
       "      <td>5350</td>\n",
       "      <td>19941</td>\n",
       "      <td>0.268291</td>\n",
       "    </tr>\n",
       "    <tr>\n",
       "      <th>6</th>\n",
       "      <td>Film &amp; Video</td>\n",
       "      <td>14865.630768</td>\n",
       "      <td>160.312102</td>\n",
       "      <td>11871.892956</td>\n",
       "      <td>19782</td>\n",
       "      <td>51922</td>\n",
       "      <td>0.380995</td>\n",
       "    </tr>\n",
       "    <tr>\n",
       "      <th>1</th>\n",
       "      <td>Comics</td>\n",
       "      <td>12193.533041</td>\n",
       "      <td>243.015975</td>\n",
       "      <td>5639.630081</td>\n",
       "      <td>4820</td>\n",
       "      <td>8910</td>\n",
       "      <td>0.540965</td>\n",
       "    </tr>\n",
       "    <tr>\n",
       "      <th>9</th>\n",
       "      <td>Journalism</td>\n",
       "      <td>10390.669712</td>\n",
       "      <td>149.977444</td>\n",
       "      <td>8226.529361</td>\n",
       "      <td>798</td>\n",
       "      <td>3540</td>\n",
       "      <td>0.225424</td>\n",
       "    </tr>\n",
       "    <tr>\n",
       "      <th>11</th>\n",
       "      <td>Photography</td>\n",
       "      <td>9979.337033</td>\n",
       "      <td>105.583628</td>\n",
       "      <td>6426.163089</td>\n",
       "      <td>2541</td>\n",
       "      <td>7988</td>\n",
       "      <td>0.318102</td>\n",
       "    </tr>\n",
       "    <tr>\n",
       "      <th>12</th>\n",
       "      <td>Publishing</td>\n",
       "      <td>9333.075867</td>\n",
       "      <td>157.395785</td>\n",
       "      <td>5804.175093</td>\n",
       "      <td>9965</td>\n",
       "      <td>31726</td>\n",
       "      <td>0.314096</td>\n",
       "    </tr>\n",
       "    <tr>\n",
       "      <th>10</th>\n",
       "      <td>Music</td>\n",
       "      <td>7481.140029</td>\n",
       "      <td>103.885349</td>\n",
       "      <td>5840.722933</td>\n",
       "      <td>21718</td>\n",
       "      <td>43238</td>\n",
       "      <td>0.502290</td>\n",
       "    </tr>\n",
       "    <tr>\n",
       "      <th>0</th>\n",
       "      <td>Art</td>\n",
       "      <td>6919.099444</td>\n",
       "      <td>88.849832</td>\n",
       "      <td>4522.808137</td>\n",
       "      <td>9496</td>\n",
       "      <td>22311</td>\n",
       "      <td>0.425620</td>\n",
       "    </tr>\n",
       "    <tr>\n",
       "      <th>14</th>\n",
       "      <td>Theater</td>\n",
       "      <td>6422.144200</td>\n",
       "      <td>75.542042</td>\n",
       "      <td>5562.834110</td>\n",
       "      <td>5221</td>\n",
       "      <td>8709</td>\n",
       "      <td>0.599495</td>\n",
       "    </tr>\n",
       "    <tr>\n",
       "      <th>2</th>\n",
       "      <td>Crafts</td>\n",
       "      <td>5850.091774</td>\n",
       "      <td>101.456707</td>\n",
       "      <td>2989.250000</td>\n",
       "      <td>1640</td>\n",
       "      <td>6648</td>\n",
       "      <td>0.246691</td>\n",
       "    </tr>\n",
       "    <tr>\n",
       "      <th>3</th>\n",
       "      <td>Dance</td>\n",
       "      <td>5365.263123</td>\n",
       "      <td>65.253352</td>\n",
       "      <td>4745.958865</td>\n",
       "      <td>2088</td>\n",
       "      <td>3228</td>\n",
       "      <td>0.646840</td>\n",
       "    </tr>\n",
       "  </tbody>\n",
       "</table>\n",
       "</div>"
      ],
      "text/plain": [
       "   main_category   pledged_mean  backers_mean     goal_mean  successful_count  \\\n",
       "13    Technology  104317.680129    796.367986  27457.027878              4723   \n",
       "4         Design   68928.169091    687.133967  16008.036128              7681   \n",
       "8          Games   60753.195484    900.091385  16002.603142              9356   \n",
       "5        Fashion   21631.635915    239.918204   9165.043083              4120   \n",
       "7           Food   17847.168305    184.177009  11811.511067              5350   \n",
       "6   Film & Video   14865.630768    160.312102  11871.892956             19782   \n",
       "1         Comics   12193.533041    243.015975   5639.630081              4820   \n",
       "9     Journalism   10390.669712    149.977444   8226.529361               798   \n",
       "11   Photography    9979.337033    105.583628   6426.163089              2541   \n",
       "12    Publishing    9333.075867    157.395785   5804.175093              9965   \n",
       "10         Music    7481.140029    103.885349   5840.722933             21718   \n",
       "0            Art    6919.099444     88.849832   4522.808137              9496   \n",
       "14       Theater    6422.144200     75.542042   5562.834110              5221   \n",
       "2         Crafts    5850.091774    101.456707   2989.250000              1640   \n",
       "3          Dance    5365.263123     65.253352   4745.958865              2088   \n",
       "\n",
       "    total_count  success_ratio  \n",
       "13        21556       0.219104  \n",
       "4         21690       0.354126  \n",
       "8         24636       0.379769  \n",
       "5         16584       0.248432  \n",
       "7         19941       0.268291  \n",
       "6         51922       0.380995  \n",
       "1          8910       0.540965  \n",
       "9          3540       0.225424  \n",
       "11         7988       0.318102  \n",
       "12        31726       0.314096  \n",
       "10        43238       0.502290  \n",
       "0         22311       0.425620  \n",
       "14         8709       0.599495  \n",
       "2          6648       0.246691  \n",
       "3          3228       0.646840  "
      ]
     },
     "execution_count": 43,
     "metadata": {},
     "output_type": "execute_result"
    }
   ],
   "source": [
    "successful.sort_values(\"pledged_mean\", ascending = False)"
   ]
  },
  {
   "cell_type": "markdown",
   "metadata": {
    "ExecuteTime": {
     "end_time": "2021-07-22T18:26:06.183046Z",
     "start_time": "2021-07-22T18:26:06.167696Z"
    }
   },
   "source": [
    "We can see that Design and Games has similar mean of pledged, but Design is higher than Games. We want to make sure this is not due to random chance."
   ]
  },
  {
   "cell_type": "markdown",
   "metadata": {},
   "source": [
    "- H0: (μ2 > μ1) $\\rightarrow$ Out of the successful projects in USA, Design projects population mean pledged is greater than Games projects (status quo).\n",
    "- H1: (μ2 ≤ μ1) $\\rightarrow$ Out of the successful projects in USA, Design projects population mean pledged is not greater than Games projects."
   ]
  },
  {
   "cell_type": "markdown",
   "metadata": {
    "ExecuteTime": {
     "end_time": "2021-07-22T18:28:17.725771Z",
     "start_time": "2021-07-22T18:28:17.717786Z"
    }
   },
   "source": [
    "## Preparing Data for Testing"
   ]
  },
  {
   "cell_type": "code",
   "execution_count": 44,
   "metadata": {
    "ExecuteTime": {
     "end_time": "2021-07-22T19:56:50.046761Z",
     "start_time": "2021-07-22T19:56:49.991436Z"
    }
   },
   "outputs": [
    {
     "data": {
      "text/plain": [
       "(7681,)"
      ]
     },
     "execution_count": 44,
     "metadata": {},
     "output_type": "execute_result"
    }
   ],
   "source": [
    "design = usa[(usa[\"main_category\"] == \"Design\") & (usa[\"state\"] == \"successful\")][\"pledged\"].reset_index(drop = True)\n",
    "design.shape"
   ]
  },
  {
   "cell_type": "code",
   "execution_count": 45,
   "metadata": {
    "ExecuteTime": {
     "end_time": "2021-07-22T19:56:50.092958Z",
     "start_time": "2021-07-22T19:56:50.048708Z"
    }
   },
   "outputs": [
    {
     "data": {
      "text/plain": [
       "(9356,)"
      ]
     },
     "execution_count": 45,
     "metadata": {},
     "output_type": "execute_result"
    }
   ],
   "source": [
    "games = usa[(usa[\"main_category\"] == \"Games\") & (usa[\"state\"] == \"successful\")][\"pledged\"].reset_index(drop = True)\n",
    "games.shape"
   ]
  },
  {
   "cell_type": "markdown",
   "metadata": {
    "ExecuteTime": {
     "end_time": "2021-07-22T16:55:56.775472Z",
     "start_time": "2021-07-22T16:55:56.764650Z"
    }
   },
   "source": [
    "## Hypothesis Test"
   ]
  },
  {
   "cell_type": "code",
   "execution_count": 46,
   "metadata": {
    "ExecuteTime": {
     "end_time": "2021-07-22T19:56:50.099910Z",
     "start_time": "2021-07-22T19:56:50.094922Z"
    }
   },
   "outputs": [],
   "source": [
    "t, p = stats.ttest_ind(design, games)"
   ]
  },
  {
   "cell_type": "code",
   "execution_count": 47,
   "metadata": {
    "ExecuteTime": {
     "end_time": "2021-07-22T19:56:50.105893Z",
     "start_time": "2021-07-22T19:56:50.101904Z"
    }
   },
   "outputs": [],
   "source": [
    "p1 = p/2"
   ]
  },
  {
   "cell_type": "code",
   "execution_count": 48,
   "metadata": {
    "ExecuteTime": {
     "end_time": "2021-07-22T19:56:50.112874Z",
     "start_time": "2021-07-22T19:56:50.107886Z"
    }
   },
   "outputs": [
    {
     "name": "stdout",
     "output_type": "stream",
     "text": [
      "t-statistics:  1.490326469672062\n",
      "p-value:  0.06807846526055222\n"
     ]
    }
   ],
   "source": [
    "print(\"t-statistics: \", t)\n",
    "print(\"p-value: \", p1)"
   ]
  },
  {
   "cell_type": "code",
   "execution_count": 49,
   "metadata": {
    "ExecuteTime": {
     "end_time": "2021-07-22T19:56:50.124874Z",
     "start_time": "2021-07-22T19:56:50.114869Z"
    }
   },
   "outputs": [],
   "source": [
    "pop = np.random.normal(games.mean(), games.std(), 100000)"
   ]
  },
  {
   "cell_type": "markdown",
   "metadata": {
    "ExecuteTime": {
     "end_time": "2021-07-22T16:54:27.843264Z",
     "start_time": "2021-07-22T16:54:27.835350Z"
    }
   },
   "source": [
    "## Confidence Interval"
   ]
  },
  {
   "cell_type": "code",
   "execution_count": 50,
   "metadata": {
    "ExecuteTime": {
     "end_time": "2021-07-22T19:56:50.132652Z",
     "start_time": "2021-07-22T19:56:50.126676Z"
    }
   },
   "outputs": [],
   "source": [
    "ci = stats.norm.interval(0.90, design.mean(), design.std())"
   ]
  },
  {
   "cell_type": "code",
   "execution_count": 51,
   "metadata": {
    "ExecuteTime": {
     "end_time": "2021-07-22T19:56:50.413773Z",
     "start_time": "2021-07-22T19:56:50.134647Z"
    }
   },
   "outputs": [
    {
     "data": {
      "image/png": "[encoded data removed]",
      "text/plain": [
       "<Figure size 432x288 with 1 Axes>"
      ]
     },
     "metadata": {},
     "output_type": "display_data"
    },
    {
     "name": "stdout",
     "output_type": "stream",
     "text": [
      "Confidence Interval: 735532.4899362879\n"
     ]
    }
   ],
   "source": [
    "plt.hist(pop, bins = 100)\n",
    "plt.axvline(pop.mean(), color = \"y\", linestyle = \"--\", linewidth = 2)\n",
    "plt.axvline(ci[1], color = \"r\", linestyle = \"--\", linewidth = 2)\n",
    "plt.axvline(pop.mean() + t * pop.std(), color = \"m\", linestyle = \"--\", linewidth = 2)\n",
    "\n",
    "plt.show()\n",
    "print(\"Confidence Interval:\", ci[1])"
   ]
  },
  {
   "cell_type": "code",
   "execution_count": 52,
   "metadata": {
    "ExecuteTime": {
     "end_time": "2021-07-22T19:56:50.421513Z",
     "start_time": "2021-07-22T19:56:50.415735Z"
    }
   },
   "outputs": [
    {
     "name": "stdout",
     "output_type": "stream",
     "text": [
      "Can't reject H0, we can't accept H1 because of the insufficient evidence.\n"
     ]
    }
   ],
   "source": [
    "if p1 <= 0.05:\n",
    "    print(\"Safe to reject H0, we can accept H1 because of the sufficient evidence.\")\n",
    "elif p1 > 0.05:\n",
    "    print(\"Can't reject H0, we can't accept H1 because of the insufficient evidence.\")"
   ]
  },
  {
   "cell_type": "markdown",
   "metadata": {
    "ExecuteTime": {
     "end_time": "2021-07-22T19:35:15.695567Z",
     "start_time": "2021-07-22T19:35:15.691573Z"
    }
   },
   "source": [
    "Therefore, we accept:\n",
    "\n",
    "H0: (μ2 > μ1)  →  Out of the successful projects in USA, Design projects population mean pledged is greater than Games projects (status quo)."
   ]
  },
  {
   "cell_type": "markdown",
   "metadata": {
    "ExecuteTime": {
     "end_time": "2021-07-22T19:50:15.356715Z",
     "start_time": "2021-07-22T19:50:15.352708Z"
    }
   },
   "source": [
    "## Sanity Check"
   ]
  },
  {
   "cell_type": "code",
   "execution_count": 53,
   "metadata": {
    "ExecuteTime": {
     "end_time": "2021-07-22T19:56:50.434478Z",
     "start_time": "2021-07-22T19:56:50.423508Z"
    }
   },
   "outputs": [
    {
     "name": "stdout",
     "output_type": "stream",
     "text": [
      "Design pledged mean:  68928.16909126416\n",
      "Games pledged mean:  60753.19548418115\n"
     ]
    }
   ],
   "source": [
    "print(\"Design pledged mean: \", design.mean())\n",
    "print(\"Games pledged mean: \", games.mean())"
   ]
  },
  {
   "cell_type": "markdown",
   "metadata": {
    "ExecuteTime": {
     "end_time": "2021-07-22T19:52:19.430878Z",
     "start_time": "2021-07-22T19:52:19.424895Z"
    }
   },
   "source": [
    "We can see that Design pledged mean is indeed greater than Games mean."
   ]
  },
  {
   "cell_type": "markdown",
   "metadata": {
    "ExecuteTime": {
     "end_time": "2021-07-19T16:31:08.234215Z",
     "start_time": "2021-07-19T16:31:08.231191Z"
    }
   },
   "source": [
    "# Conclusion"
   ]
  },
  {
   "cell_type": "markdown",
   "metadata": {
    "ExecuteTime": {
     "end_time": "2021-07-22T19:39:13.743813Z",
     "start_time": "2021-07-22T19:39:13.737836Z"
    }
   },
   "source": [
    "We have stated that this analysis will be focus on USA country and projects that has successful state. Based on our analysis, we can conclude:"
   ]
  },
  {
   "cell_type": "markdown",
   "metadata": {
    "ExecuteTime": {
     "end_time": "2021-07-22T19:35:52.497175Z",
     "start_time": "2021-07-22T19:35:52.490837Z"
    }
   },
   "source": [
    "**Analysis**:\n",
    "- All of our numerical column has extremely higher value on right side.\n",
    "- Technology has the highest mean of pledged gathered in USD.\n",
    "- Games has the highest mean of backers which means this category is generally popular among others main category.\n",
    "- Technology has the highest mean of goal in USD, which means this type of project generally needs many financial supports to succeed.\n",
    "- Music is the category with the most number of successful projects.\n",
    "- Dance has the most success ratio.\n",
    "- Design and Games has similar looking pledged mean.\n",
    "\n",
    "**Hypothesis Testing**:\n",
    "- Based on the hypothesis testing of two independent samples, we accept H0: (μ2 > μ1)  →  Out of the successful projects in USA, Design projects population mean pledged is greater than Games projects (status quo)."
   ]
  }
 ],
 "metadata": {
  "kernelspec": {
   "display_name": "Python 3",
   "language": "python",
   "name": "python3"
  },
  "language_info": {
   "codemirror_mode": {
    "name": "ipython",
    "version": 3
   },
   "file_extension": ".py",
   "mimetype": "text/x-python",
   "name": "python",
   "nbconvert_exporter": "python",
   "pygments_lexer": "ipython3",
   "version": "3.8.5"
  },
  "nbTranslate": {
   "displayLangs": [
    "en"
   ],
   "hotkey": "alt-t",
   "langInMainMenu": true,
   "sourceLang": "en",
   "targetLang": "fr",
   "useGoogleTranslate": true
  },
  "toc": {
   "base_numbering": 1,
   "nav_menu": {},
   "number_sections": true,
   "sideBar": true,
   "skip_h1_title": false,
   "title_cell": "Table of Contents",
   "title_sidebar": "Contents",
   "toc_cell": true,
   "toc_position": {
    "height": "calc(100% - 180px)",
    "left": "10px",
    "top": "150px",
    "width": "227px"
   },
   "toc_section_display": true,
   "toc_window_display": true
  }
 },
 "nbformat": 4,
 "nbformat_minor": 4
}
